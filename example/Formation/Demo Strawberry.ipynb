{
 "cells": [
  {
   "cell_type": "markdown",
   "metadata": {},
   "source": [
    "# 1. Import module requirement\n",
    "\n",
    "## 1.1 Import standard Python modules"
   ]
  },
  {
   "cell_type": "code",
   "execution_count": 27,
   "metadata": {},
   "outputs": [],
   "source": [
    "from collections import OrderedDict, defaultdict\n",
    "import pandas as pd"
   ]
  },
  {
   "cell_type": "markdown",
   "metadata": {},
   "source": [
    "## 1.2 Import openalea packages\n"
   ]
  },
  {
   "cell_type": "code",
   "execution_count": 2,
   "metadata": {},
   "outputs": [
    {
     "name": "stdout",
     "output_type": "stream",
     "text": [
      "NOT using graph editor observer No module named grapheditor\n"
     ]
    }
   ],
   "source": [
    "from openalea.deploy.shared_data import shared_data\n",
    "from openalea.mtg import *\n",
    "from openalea.mtg.algo import orders\n",
    "from openalea.mtg import stat\n",
    "import openalea.plantgl.all as pgl"
   ]
  },
  {
   "cell_type": "code",
   "execution_count": 3,
   "metadata": {},
   "outputs": [],
   "source": [
    "from openalea.core import path\n",
    "from openalea.mtg import *\n",
    "from openalea.deploy.shared_data import shared_data\n",
    "import glob"
   ]
  },
  {
   "cell_type": "markdown",
   "metadata": {},
   "source": [
    "## 1.3 Import strawberry modules"
   ]
  },
  {
   "cell_type": "code",
   "execution_count": 4,
   "metadata": {},
   "outputs": [],
   "source": [
    "import openalea.strawberry\n",
    "\n",
    "# rename Rules_production to geometry\n",
    "from openalea.strawberry import Rules_production\n",
    "# Replace Visualisation by visualisation \n",
    "from openalea.strawberry import Visualization, visualisation2d\n",
    "from openalea.strawberry import analysis\n",
    "\n",
    "# TODO: Move functions into ???\n",
    "#from openalea.strawberry import variables"
   ]
  },
  {
   "cell_type": "markdown",
   "metadata": {},
   "source": [
    "# 2. Import data and read MTG in files"
   ]
  },
  {
   "cell_type": "markdown",
   "metadata": {},
   "source": [
    "## 2.1 Import data"
   ]
  },
  {
   "cell_type": "code",
   "execution_count": 5,
   "metadata": {},
   "outputs": [
    {
     "name": "stdout",
     "output_type": "stream",
     "text": [
      "{u'Sicile_New': Path(u'/Users/pradal/miniconda2/envs/strawberry/lib/python2.7/site-packages/OpenAlea.Strawberry-1.0.0-py2.7.egg/share/data/Sicile_New.mtg'), u'Nils_New': Path(u'/Users/pradal/miniconda2/envs/strawberry/lib/python2.7/site-packages/OpenAlea.Strawberry-1.0.0-py2.7.egg/share/data/Nils_New.mtg')}\n",
      "{u'Gariguette_NEW': Path(u'/Users/pradal/miniconda2/envs/strawberry/lib/python2.7/site-packages/OpenAlea.Strawberry-1.0.0-py2.7.egg/share/data/Gariguette_NEW.mtg'), u'Darselect_New': Path(u'/Users/pradal/miniconda2/envs/strawberry/lib/python2.7/site-packages/OpenAlea.Strawberry-1.0.0-py2.7.egg/share/data/Darselect_New.mtg'), u'Clery_New': Path(u'/Users/pradal/miniconda2/envs/strawberry/lib/python2.7/site-packages/OpenAlea.Strawberry-1.0.0-py2.7.egg/share/data/Clery_New.mtg'), u'Capriss_New': Path(u'/Users/pradal/miniconda2/envs/strawberry/lib/python2.7/site-packages/OpenAlea.Strawberry-1.0.0-py2.7.egg/share/data/Capriss_New.mtg'), u'Cir107_NEW': Path(u'/Users/pradal/miniconda2/envs/strawberry/lib/python2.7/site-packages/OpenAlea.Strawberry-1.0.0-py2.7.egg/share/data/Cir107_NEW.mtg'), u'Ciflorette_New': Path(u'/Users/pradal/miniconda2/envs/strawberry/lib/python2.7/site-packages/OpenAlea.Strawberry-1.0.0-py2.7.egg/share/data/Ciflorette_New.mtg')}\n"
     ]
    }
   ],
   "source": [
    "%gui qt4\n",
    "\n",
    "files = shared_data(openalea.strawberry).glob('*.mtg')\n",
    "#print files\n",
    "\n",
    "genotypes = dict((f.namebase, f) for f in files)\n",
    "#print(genotypes.keys())\n",
    "\n",
    "DIPLOIDS = ['Sicile_New','Nils_New']\n",
    "OCTOPLOIDS = ['Gariguette_NEW','Darselect_New','Clery_New','Capriss_New','Cir107_NEW','Ciflorette_New']\n",
    "\n",
    "diploids = dict((k,f) for k,f in genotypes.items() if k in DIPLOIDS)\n",
    "print(diploids)\n",
    "\n",
    "octoploids = dict((k,f) for k,f in genotypes.items() if k in OCTOPLOIDS)\n",
    "print(octoploids)"
   ]
  },
  {
   "cell_type": "markdown",
   "metadata": {},
   "source": [
    "## 2.2 Load one octoploid and one diploid  genotype \n",
    "\n",
    "A set of strawberry plant architecture has been measured and is stored in an MTG."
   ]
  },
  {
   "cell_type": "markdown",
   "metadata": {},
   "source": [
    "- We select on octoploid and/or one diploid genotype for architectural analysis."
   ]
  },
  {
   "cell_type": "code",
   "execution_count": 6,
   "metadata": {},
   "outputs": [
    {
     "name": "stdout",
     "output_type": "stream",
     "text": [
      "replace all the date format by -\n",
      "('Diploid  : ', 'MTG : nb_vertices=4181, nb_scales=4')\n",
      "replace all the date format by -\n",
      "('Octoploid  : ', 'MTG : nb_vertices=6438, nb_scales=4')\n"
     ]
    }
   ],
   "source": [
    "#OCTOPLOIDS = ['Gariguette_NEW','Darselect_New','Clery_New','Capriss_New''Cir107_NEW','Ciflorette_New']\n",
    "#DIPLOIDS = ['Sicile_New','Nils_New.mtg']\n",
    "\n",
    "di_genotype = 'Sicile_New'\n",
    "oct_genotype = 'Ciflorette_New'\n",
    "\n",
    "gdi = MTG(diploids[di_genotype])\n",
    "print('Diploid  : ', str(gdi))\n",
    "\n",
    "goct = MTG(octoploids[oct_genotype])\n",
    "print('Octoploid  : ', str(goct))"
   ]
  },
  {
   "cell_type": "markdown",
   "metadata": {},
   "source": [
    "* Check number of plant present in MTG"
   ]
  },
  {
   "cell_type": "code",
   "execution_count": 7,
   "metadata": {},
   "outputs": [
    {
     "name": "stdout",
     "output_type": "stream",
     "text": [
      "118\n",
      "54\n"
     ]
    }
   ],
   "source": [
    "# Diploid\n",
    "nb_plants = gdi.nb_vertices(scale=1)\n",
    "print(nb_plants)\n",
    "\n",
    "# Octoploid\n",
    "nb_plants = goct.nb_vertices(scale=1)\n",
    "print(nb_plants)"
   ]
  },
  {
   "cell_type": "markdown",
   "metadata": {},
   "source": [
    "## 2.3 Load whole octoploids or diploids in one big MTG\n",
    "\n",
    "A set of strawberry plant architecture has been measured and is stored in an MTG."
   ]
  },
  {
   "cell_type": "markdown",
   "metadata": {},
   "source": [
    "- We select whole octoploids genotype for architectural analysis."
   ]
  },
  {
   "cell_type": "code",
   "execution_count": 8,
   "metadata": {},
   "outputs": [
    {
     "name": "stdout",
     "output_type": "stream",
     "text": [
      "replace all the date format by -\n",
      "replace all the date format by -\n",
      "replace all the date format by -\n",
      "replace all the date format by -\n",
      "replace all the date format by -\n",
      "replace all the date format by -\n",
      "set(['Ciflorette', 'Darselect', 'Gariguette', 'Capriss', 'Clery', 'Cir107'])\n"
     ]
    }
   ],
   "source": [
    "big_mtg = MTG()\n",
    "for fn in OCTOPLOIDS:\n",
    "    big_mtg = algo.union(big_mtg,MTG(octoploids[fn]))\n",
    "\n",
    "g_octo = big_mtg\n",
    "    \n",
    "genotypes = set(g_octo.property(\"Genotype\").values())\n",
    "print genotypes"
   ]
  },
  {
   "cell_type": "markdown",
   "metadata": {},
   "source": [
    "- We select whole diploids genotype for architectural analysis."
   ]
  },
  {
   "cell_type": "code",
   "execution_count": 9,
   "metadata": {},
   "outputs": [
    {
     "name": "stdout",
     "output_type": "stream",
     "text": [
      "replace all the date format by -\n",
      "replace all the date format by -\n",
      "set(['Nils', 'Sicile'])\n"
     ]
    }
   ],
   "source": [
    "big_mtg = MTG()\n",
    "# Add missing properties\n",
    "for fn in DIPLOIDS:\n",
    "    big_mtg = algo.union(big_mtg,MTG(diploids[fn]))\n",
    "\n",
    "big_mtg.properties()['FLWRNUMBER']={}\n",
    "big_mtg.properties()['FLWRNUMBER_OPEN']={}\n",
    "\n",
    "g_diplo = big_mtg\n",
    "    \n",
    "genotypes = set(g_diplo.property(\"Genotype\").values())\n",
    "print genotypes"
   ]
  },
  {
   "cell_type": "markdown",
   "metadata": {},
   "source": [
    "# 3. Strawberry Visualisation"
   ]
  },
  {
   "cell_type": "markdown",
   "metadata": {},
   "source": [
    "## 3.1 3D-Visualisation"
   ]
  },
  {
   "cell_type": "markdown",
   "metadata": {},
   "source": [
    "### 3.1.1 Choose 3D visualization with:\n",
    "    - one genotype (goct or gdi)\n",
    "    - all genotype (big_mtg)"
   ]
  },
  {
   "cell_type": "code",
   "execution_count": 10,
   "metadata": {},
   "outputs": [],
   "source": [
    "g=gdi\n",
    "g=g_octo\n",
    "g=g_diplo\n",
    "\n",
    "g=goct\n"
   ]
  },
  {
   "cell_type": "markdown",
   "metadata": {},
   "source": [
    "### 3.1.2 lunch 3D visualisation"
   ]
  },
  {
   "cell_type": "code",
   "execution_count": 11,
   "metadata": {},
   "outputs": [
    {
     "name": "stderr",
     "output_type": "stream",
     "text": [
      "/Users/pradal/miniconda2/envs/strawberry/lib/python2.7/site-packages/OpenAlea.Strawberry-1.0.0-py2.7.egg/openalea/strawberry/Rules_production.py:64: Warning: Invalid Color value 8 in setColor (maximum is 6)\n",
      "  t.setColor(6+order)\n",
      "/Users/pradal/miniconda2/envs/strawberry/lib/python2.7/site-packages/OpenAlea.Strawberry-1.0.0-py2.7.egg/openalea/strawberry/Rules_production.py:64: Warning: Invalid Color value 7 in setColor (maximum is 6)\n",
      "  t.setColor(6+order)\n",
      "/Users/pradal/miniconda2/envs/strawberry/lib/python2.7/site-packages/OpenAlea.Strawberry-1.0.0-py2.7.egg/openalea/strawberry/Rules_production.py:112: Warning: Invalid Color value 10 in setColor (maximum is 6)\n",
      "  t.setColor(8+order)\n",
      "/Users/pradal/miniconda2/envs/strawberry/lib/python2.7/site-packages/OpenAlea.Strawberry-1.0.0-py2.7.egg/openalea/strawberry/Rules_production.py:112: Warning: Invalid Color value 9 in setColor (maximum is 6)\n",
      "  t.setColor(8+order)\n",
      "/Users/pradal/miniconda2/envs/strawberry/lib/python2.7/site-packages/OpenAlea.Strawberry-1.0.0-py2.7.egg/openalea/strawberry/Rules_production.py:112: Warning: Invalid Color value 8 in setColor (maximum is 6)\n",
      "  t.setColor(8+order)\n",
      "/Users/pradal/miniconda2/envs/strawberry/lib/python2.7/site-packages/OpenAlea.Strawberry-1.0.0-py2.7.egg/openalea/strawberry/Rules_production.py:64: Warning: Invalid Color value 9 in setColor (maximum is 6)\n",
      "  t.setColor(6+order)\n",
      "/Users/pradal/miniconda2/envs/strawberry/lib/python2.7/site-packages/OpenAlea.Strawberry-1.0.0-py2.7.egg/openalea/strawberry/Rules_production.py:112: Warning: Invalid Color value 11 in setColor (maximum is 6)\n",
      "  t.setColor(8+order)\n",
      "/Users/pradal/miniconda2/envs/strawberry/lib/python2.7/site-packages/OpenAlea.Strawberry-1.0.0-py2.7.egg/openalea/strawberry/Rules_production.py:64: Warning: Invalid Color value 10 in setColor (maximum is 6)\n",
      "  t.setColor(6+order)\n",
      "/Users/pradal/miniconda2/envs/strawberry/lib/python2.7/site-packages/OpenAlea.Strawberry-1.0.0-py2.7.egg/openalea/strawberry/Rules_production.py:112: Warning: Invalid Color value 12 in setColor (maximum is 6)\n",
      "  t.setColor(8+order)\n",
      "/Users/pradal/miniconda2/envs/strawberry/lib/python2.7/site-packages/OpenAlea.Strawberry-1.0.0-py2.7.egg/openalea/strawberry/Rules_production.py:127: Warning: Invalid Color value 7 in setColor (maximum is 6)\n",
      "  t.setColor(2+order)\n",
      "/Users/pradal/miniconda2/envs/strawberry/lib/python2.7/site-packages/OpenAlea.Strawberry-1.0.0-py2.7.egg/openalea/strawberry/Rules_production.py:64: Warning: Invalid Color value 11 in setColor (maximum is 6)\n",
      "  t.setColor(6+order)\n",
      "/Users/pradal/miniconda2/envs/strawberry/lib/python2.7/site-packages/OpenAlea.Strawberry-1.0.0-py2.7.egg/openalea/strawberry/Rules_production.py:151: Warning: Invalid Color value 7 in setColor (maximum is 6)\n",
      "  t.setColor(2+order)\n",
      "/Users/pradal/miniconda2/envs/strawberry/lib/python2.7/site-packages/OpenAlea.Strawberry-1.0.0-py2.7.egg/openalea/strawberry/Rules_production.py:151: Warning: Invalid Color value 8 in setColor (maximum is 6)\n",
      "  t.setColor(2+order)\n",
      "/Users/pradal/miniconda2/envs/strawberry/lib/python2.7/site-packages/OpenAlea.Strawberry-1.0.0-py2.7.egg/openalea/strawberry/Rules_production.py:38: Warning: Invalid Color value 7 in setColor (maximum is 6)\n",
      "  t.setColor(2+order)\n",
      "/Users/pradal/miniconda2/envs/strawberry/lib/python2.7/site-packages/OpenAlea.Strawberry-1.0.0-py2.7.egg/openalea/strawberry/Rules_production.py:64: Warning: Invalid Color value 12 in setColor (maximum is 6)\n",
      "  t.setColor(6+order)\n",
      "/Users/pradal/miniconda2/envs/strawberry/lib/python2.7/site-packages/OpenAlea.Strawberry-1.0.0-py2.7.egg/openalea/strawberry/Rules_production.py:127: Warning: Invalid Color value 8 in setColor (maximum is 6)\n",
      "  t.setColor(2+order)\n",
      "/Users/pradal/miniconda2/envs/strawberry/lib/python2.7/site-packages/OpenAlea.Strawberry-1.0.0-py2.7.egg/openalea/strawberry/Rules_production.py:94: Warning: Invalid Color value 7 in setColor (maximum is 6)\n",
      "  t.setColor(2+order)\n",
      "/Users/pradal/miniconda2/envs/strawberry/lib/python2.7/site-packages/OpenAlea.Strawberry-1.0.0-py2.7.egg/openalea/strawberry/Rules_production.py:112: Warning: Invalid Color value 13 in setColor (maximum is 6)\n",
      "  t.setColor(8+order)\n"
     ]
    }
   ],
   "source": [
    "g.properties()['order'] = orders(g)\n",
    "Rules_production.color_code(g)\n",
    "scene = Visualization.visualise_plants(g)\n",
    "\n",
    "pgl.Viewer.display(scene)"
   ]
  },
  {
   "cell_type": "markdown",
   "metadata": {},
   "source": [
    "## 3.2 2D-Visualisation"
   ]
  },
  {
   "cell_type": "markdown",
   "metadata": {},
   "source": [
    "# TODO\n",
    "- **Analysis plant scale**\n",
    "    - Analysis.plant_variable\n",
    "    - Analysis.plant_df\n",
    "    - Analysis.median_individuals(df)\n",
    "\n",
    "\n",
    "- **Visualisation function: **\n",
    "    - rules productions for 2D visualisation\n",
    "    - rules production. color  for 2 visualisation\n",
    "    - Visualisation.visualise_plants2D with vid issue from median_individal(df)\n"
   ]
  },
  {
   "cell_type": "code",
   "execution_count": 12,
   "metadata": {},
   "outputs": [
    {
     "name": "stdout",
     "output_type": "stream",
     "text": [
      "v:62, length:1\n"
     ]
    }
   ],
   "source": [
    "visualisation2d.plot2d(g, g.vertices(scale=1)[:5],dist= [2]*5)\n",
    "    "
   ]
  },
  {
   "cell_type": "markdown",
   "metadata": {},
   "source": [
    "# 4. Strawberry analysis"
   ]
  },
  {
   "cell_type": "markdown",
   "metadata": {},
   "source": [
    "## 4.1 Function to run the notebook on diploid or octoploid (only for one genotype)"
   ]
  },
  {
   "cell_type": "code",
   "execution_count": 13,
   "metadata": {},
   "outputs": [],
   "source": [
    "# Run the notebook on Diploid or Octoploid\n",
    "\n",
    "#Choose false to read octoploid (and true to diploid)\n",
    "IS_DIPLOID = False\n",
    "\n",
    "if IS_DIPLOID:\n",
    "    g = gdi\n",
    "else:\n",
    "    g = goct\n",
    "\n",
    "# Dictionnary to convert propertie names in order to run old version script\n",
    "convert = dict(Stade='Stade', \n",
    "               Fleurs_ouverte='FLWRNUMBER_OPEN',\n",
    "               Fleurs_avorte='FLWRNUMBER_ABORTED',\n",
    "               Fleurs_total='FLWRNUMBER',\n",
    "               date='Sample_date',\n",
    "               Plante='Plant_ID',\n",
    "              )\n",
    "\n",
    "#if not IS_DIPLOID:\n",
    "#    g.properties()['Sample_date'] = g.property('Architecture_date')\n",
    "\n",
    "# specific date of diploid data\n",
    "def dates_diploid():\n",
    "    l = '11-05-2016', '17-05-2016', '01-06-2016', '20-06-2016'\n",
    "    return dict(zip(l, range(1, len(l)+1)))\n",
    "\n",
    "#specific date for octoploide date\n",
    "def dates_octoploid():\n",
    "    d = {'10-12-2014':1,'07-01-2015':2,'15-02-2015':3,'02-03-2015':4,'03-04-2015':5,'27-05-2015':6,'04-12-2014':1,'13-02-2015':3,\n",
    "         '30-03-2015':5,'08-01-2015':2,'11-02-2015':3,'04-03-2015':4,'02-04-2015':5,'20-05-2015':6,'09-01-2015':2,'06-03-2015':4,\n",
    "         '12-02-2015':3,'19-05-2015':6}\n",
    "    return d\n",
    "\n",
    "def dates():\n",
    "    if IS_DIPLOID:\n",
    "        return dates_diploid()\n",
    "    else: \n",
    "        return dates_octoploid()\n",
    "\n"
   ]
  },
  {
   "cell_type": "code",
   "execution_count": 15,
   "metadata": {},
   "outputs": [],
   "source": [
    "from openalea.strawberry import variables, analysis"
   ]
  },
  {
   "cell_type": "code",
   "execution_count": 36,
   "metadata": {},
   "outputs": [
    {
     "name": "stderr",
     "output_type": "stream",
     "text": [
      "-c:8: FutureWarning: by argument to sort_index is deprecated, please use .sort_values(by=...)\n"
     ]
    },
    {
     "name": "stdout",
     "output_type": "stream",
     "text": [
      "4    2014-12-04\n",
      "9    2015-01-07\n",
      "26   2015-02-13\n",
      "31   2015-03-02\n",
      "42   2015-03-30\n",
      "53   2015-05-27\n",
      "Name: date, dtype: datetime64[ns]\n",
      "v:2442, length:1\n",
      "v:2461, length:1\n",
      "v:2540, length:1\n",
      "v:3114, length:1\n",
      "v:3168, length:1\n",
      "v:4595, length:1\n",
      "v:4604, length:1\n",
      "v:4631, length:1\n",
      "v:4672, length:1\n",
      "v:6298, length:1\n",
      "v:6352, length:1\n",
      "[235, 590, 2438, 3104, 4588, 6279]\n"
     ]
    },
    {
     "data": {
      "text/html": [
       "<div>\n",
       "<style scoped>\n",
       "    .dataframe tbody tr th:only-of-type {\n",
       "        vertical-align: middle;\n",
       "    }\n",
       "\n",
       "    .dataframe tbody tr th {\n",
       "        vertical-align: top;\n",
       "    }\n",
       "\n",
       "    .dataframe thead th {\n",
       "        text-align: right;\n",
       "    }\n",
       "</style>\n",
       "<table border=\"1\" class=\"dataframe\">\n",
       "  <thead>\n",
       "    <tr style=\"text-align: right;\">\n",
       "      <th></th>\n",
       "      <th>Genotype</th>\n",
       "      <th>date</th>\n",
       "      <th>plant</th>\n",
       "      <th>nb_total_leaves</th>\n",
       "      <th>nb_total_flowers</th>\n",
       "      <th>stolons</th>\n",
       "      <th>order_max</th>\n",
       "      <th>nb_ramifications</th>\n",
       "      <th>vid</th>\n",
       "    </tr>\n",
       "  </thead>\n",
       "  <tbody>\n",
       "    <tr>\n",
       "      <th>4</th>\n",
       "      <td>Ciflorette</td>\n",
       "      <td>2014-12-04</td>\n",
       "      <td>5</td>\n",
       "      <td>9</td>\n",
       "      <td>0</td>\n",
       "      <td>2</td>\n",
       "      <td>0</td>\n",
       "      <td>0</td>\n",
       "      <td>235</td>\n",
       "    </tr>\n",
       "    <tr>\n",
       "      <th>9</th>\n",
       "      <td>Ciflorette</td>\n",
       "      <td>2015-01-07</td>\n",
       "      <td>1</td>\n",
       "      <td>10</td>\n",
       "      <td>10</td>\n",
       "      <td>2</td>\n",
       "      <td>0</td>\n",
       "      <td>0</td>\n",
       "      <td>590</td>\n",
       "    </tr>\n",
       "    <tr>\n",
       "      <th>26</th>\n",
       "      <td>Ciflorette</td>\n",
       "      <td>2015-02-13</td>\n",
       "      <td>9</td>\n",
       "      <td>28</td>\n",
       "      <td>39</td>\n",
       "      <td>1</td>\n",
       "      <td>2</td>\n",
       "      <td>3</td>\n",
       "      <td>2438</td>\n",
       "    </tr>\n",
       "    <tr>\n",
       "      <th>31</th>\n",
       "      <td>Ciflorette</td>\n",
       "      <td>2015-03-02</td>\n",
       "      <td>5</td>\n",
       "      <td>24</td>\n",
       "      <td>25</td>\n",
       "      <td>2</td>\n",
       "      <td>2</td>\n",
       "      <td>2</td>\n",
       "      <td>3104</td>\n",
       "    </tr>\n",
       "    <tr>\n",
       "      <th>42</th>\n",
       "      <td>Ciflorette</td>\n",
       "      <td>2015-03-30</td>\n",
       "      <td>7</td>\n",
       "      <td>27</td>\n",
       "      <td>39</td>\n",
       "      <td>1</td>\n",
       "      <td>2</td>\n",
       "      <td>4</td>\n",
       "      <td>4588</td>\n",
       "    </tr>\n",
       "    <tr>\n",
       "      <th>53</th>\n",
       "      <td>Ciflorette</td>\n",
       "      <td>2015-05-27</td>\n",
       "      <td>9</td>\n",
       "      <td>39</td>\n",
       "      <td>62</td>\n",
       "      <td>7</td>\n",
       "      <td>4</td>\n",
       "      <td>2</td>\n",
       "      <td>6279</td>\n",
       "    </tr>\n",
       "  </tbody>\n",
       "</table>\n",
       "</div>"
      ],
      "text/plain": [
       "      Genotype       date  plant  nb_total_leaves  nb_total_flowers  stolons  \\\n",
       "4   Ciflorette 2014-12-04      5                9                 0        2   \n",
       "9   Ciflorette 2015-01-07      1               10                10        2   \n",
       "26  Ciflorette 2015-02-13      9               28                39        1   \n",
       "31  Ciflorette 2015-03-02      5               24                25        2   \n",
       "42  Ciflorette 2015-03-30      7               27                39        1   \n",
       "53  Ciflorette 2015-05-27      9               39                62        7   \n",
       "\n",
       "    order_max  nb_ramifications   vid  \n",
       "4           0                 0   235  \n",
       "9           0                 0   590  \n",
       "26          2                 3  2438  \n",
       "31          2                 2  3104  \n",
       "42          2                 4  4588  \n",
       "53          4                 2  6279  "
      ]
     },
     "execution_count": 36,
     "metadata": {},
     "output_type": "execute_result"
    }
   ],
   "source": [
    "#variables.convert\n",
    "#g.property_names()\n",
    "#g_octo.property('Sample_date')\n",
    "df = variables.extract_at_plant_scale(g)\n",
    "df.date = pd.to_datetime(df.date, dayfirst=True)\n",
    "df_individuals = analysis.median_individuals(df)\n",
    "\n",
    "df_individuals = df_individuals.sort_index(by='date')\n",
    "print(df_individuals.date)\n",
    "pids = list(df_individuals.vid)\n",
    "n = len(pids)\n",
    "visualisation2d.plot2d(g, pids, dist=[5]*n)\n",
    "print(pids)\n",
    "df_individuals"
   ]
  },
  {
   "cell_type": "markdown",
   "metadata": {},
   "source": [
    "## 4.2 Data sequence extractions"
   ]
  },
  {
   "cell_type": "markdown",
   "metadata": {},
   "source": [
    "### 4.2.1 Module scale"
   ]
  },
  {
   "cell_type": "markdown",
   "metadata": {},
   "source": [
    "* **Index:**\n",
    "    - real Order (Index) for recouvrant extraction\n",
    "    - Apparent Order for non recouvrant extraction\n",
    "\n",
    "* **Variables:**\n",
    "    - nb_visible_leaves : count F label in components\n",
    "    - nb_foliar_primordia: count f si le module commence par F\n",
    "    - nb_total_leaves: sum(F+f) du module\n",
    "    - Stolon Numbers: count s label in components and attach at the order -1 \n",
    "    - nb_open_flowers: g.property('Fleurs_ouverte') at scale 3\n",
    "    - nb_aborted_flowers: g.property('Fleurs_avorte') at scale 3\n",
    "    - nb_total_flowers : g.property('Fleurs_total') at scale 3\n",
    "    - No_vegetative_bud: count bt if g.property(Stade) == none or 17 or 18 or 19\n",
    "    - No_iniated_bud: count bt if g.property(Stade) == A\n",
    "    - No_Floral_bud: count ht\n",
    "    - No_Inflorescence: count HT\n",
    " \n",
    " \n",
    "* **Variable qualitative:**\n",
    "    - type of crown\n",
    "        - label == T (1) : principal crown\n",
    "        - parent(component_roots()[0]) : if successor() == F : branch_crown (3)\n",
    "        - elif in (HT, ht, bt) extension crown (2)\n",
    "    - inflorescence_type:\n",
    "        - vegetative (1): label==bt g.property(Stade)== none or 17 or 18 or 19\n",
    "        - initiated (2): label== bt if g.property(Stade) == A\n",
    "        - floral (3): label== ht or HT\n",
    "\n",
    "\n",
    "* **General Variables:**\n",
    "    - Genotype: g.property('Genotype') at scale 1\n",
    "    - Date: g.property('date') at scale 1\n",
    "    - Plante Number: g.property('plante') at scale 1"
   ]
  },
  {
   "cell_type": "code",
   "execution_count": null,
   "metadata": {},
   "outputs": [],
   "source": []
  },
  {
   "cell_type": "markdown",
   "metadata": {},
   "source": [
    "### 4.2.2 Node scale"
   ]
  },
  {
   "cell_type": "code",
   "execution_count": null,
   "metadata": {},
   "outputs": [],
   "source": []
  }
 ],
 "metadata": {
  "kernelspec": {
   "display_name": "IPython (Python 2)",
   "language": "python",
   "name": "python2"
  },
  "language_info": {
   "codemirror_mode": {
    "name": "ipython",
    "version": 2
   },
   "file_extension": ".py",
   "mimetype": "text/x-python",
   "name": "python",
   "nbconvert_exporter": "python",
   "pygments_lexer": "ipython2",
   "version": "2.7.14"
  }
 },
 "nbformat": 4,
 "nbformat_minor": 2
}
