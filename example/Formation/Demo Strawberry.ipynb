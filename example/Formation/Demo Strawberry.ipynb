{
 "cells": [
  {
   "cell_type": "markdown",
   "metadata": {},
   "source": [
    "# 1. Import module requirement\n",
    "\n",
    "## 1.1 Import standard Python modules"
   ]
  },
  {
   "cell_type": "code",
   "execution_count": null,
   "metadata": {},
   "outputs": [],
   "source": [
    "from collections import OrderedDict, defaultdict\n",
    "import pandas as pd"
   ]
  },
  {
   "cell_type": "markdown",
   "metadata": {},
   "source": [
    "## 1.2 Import openalea packages\n"
   ]
  },
  {
   "cell_type": "code",
   "execution_count": null,
   "metadata": {},
   "outputs": [],
   "source": [
    "from openalea.deploy.shared_data import shared_data\n",
    "from openalea.mtg import *\n",
    "from openalea.mtg.algo import orders\n",
    "from openalea.mtg import stat\n",
    "import openalea.plantgl.all as pgl"
   ]
  },
  {
   "cell_type": "code",
   "execution_count": null,
   "metadata": {},
   "outputs": [],
   "source": [
    "from openalea.core import path\n",
    "from openalea.mtg import *\n",
    "from openalea.deploy.shared_data import shared_data\n",
    "import glob"
   ]
  },
  {
   "cell_type": "markdown",
   "metadata": {},
   "source": [
    "## 1.3 Import strawberry modules"
   ]
  },
  {
   "cell_type": "code",
   "execution_count": null,
   "metadata": {},
   "outputs": [],
   "source": [
    "import openalea.strawberry\n",
    "\n",
    "from openalea.strawberry import Rules_production\n",
    "from openalea.strawberry import Visualization, visualisation2d\n",
    "from openalea.strawberry import analysis, variables"
   ]
  },
  {
   "cell_type": "markdown",
   "metadata": {},
   "source": [
    "# 2. Import data and read MTG in files"
   ]
  },
  {
   "cell_type": "markdown",
   "metadata": {},
   "source": [
    "## 2.1 Import data"
   ]
  },
  {
   "cell_type": "markdown",
   "metadata": {},
   "source": [
    "La cellule ci dessous sert à changer les données. Il est donc necessaire de lui dire quelles sont les données que l'on veut importer"
   ]
  },
  {
   "cell_type": "code",
   "execution_count": null,
   "metadata": {},
   "outputs": [],
   "source": [
    "%gui qt4\n",
    "\n",
    "files = shared_data(openalea.strawberry).glob('*.mtg')\n",
    "# print files\n",
    "\n",
    "genotypes = dict((f.namebase, f) for f in files)\n",
    "#print(genotypes.keys())\n",
    "\n",
    "DIPLOIDS = ['Sicile','Nils']\n",
    "OCTOPLOIDS = ['Gariguette','Darselect','Clery','Capriss','Cir107','Ciflorette']\n",
    "\n",
    "diploids = dict((k,f) for k,f in genotypes.items() if k in DIPLOIDS)\n",
    "# print(diploids)\n",
    "\n",
    "octoploids = dict((k,f) for k,f in genotypes.items() if k in OCTOPLOIDS)\n",
    "print(octoploids)"
   ]
  },
  {
   "cell_type": "markdown",
   "metadata": {},
   "source": [
    "## 2.2 Load one octoploid and one diploid  genotype \n",
    "\n",
    "A set of strawberry plant architecture has been measured and is stored in an MTG."
   ]
  },
  {
   "cell_type": "markdown",
   "metadata": {},
   "source": [
    "- We select on octoploid and/or one diploid genotype for architectural analysis.\n",
    "\n",
    "\n",
    "Pour cela replacer mettre le nom de la variété voulue oct_genotype= 'nomvariete' attention les guillemets sont importante"
   ]
  },
  {
   "cell_type": "code",
   "execution_count": null,
   "metadata": {},
   "outputs": [],
   "source": [
    "#OCTOPLOIDS = ['Gariguette_NEW','Darselect_New','Clery_New','Capriss_New''Cir107_NEW','Ciflorette_New']\n",
    "#DIPLOIDS = ['Sicile_New','Nils_New.mtg']\n",
    "\n",
    "di_genotype = 'Sicile'\n",
    "oct_genotype = 'Gariguette'\n",
    "\n",
    "# gdi = MTG(diploids[di_genotype])\n",
    "# print('Diploid  : ', str(gdi))\n",
    "\n",
    "goct = MTG(octoploids[oct_genotype])\n",
    "print('Octoploid  : ', str(goct))"
   ]
  },
  {
   "cell_type": "markdown",
   "metadata": {},
   "source": [
    "* Check number of plant present in MTG"
   ]
  },
  {
   "cell_type": "code",
   "execution_count": null,
   "metadata": {},
   "outputs": [],
   "source": [
    "# Diploid\n",
    "#nb_plants = gdi.nb_vertices(scale=1)\n",
    "#print(nb_plants)\n",
    "\n",
    "# Octoploid\n",
    "nb_plants = goct.nb_vertices(scale=1)\n",
    "print(nb_plants)"
   ]
  },
  {
   "cell_type": "markdown",
   "metadata": {},
   "source": [
    "## 2.3 Load whole octoploids or diploids in one big MTG\n",
    "\n",
    "A set of strawberry plant architecture has been measured and is stored in an MTG."
   ]
  },
  {
   "cell_type": "markdown",
   "metadata": {},
   "source": [
    "- We select whole octoploids genotype for architectural analysis."
   ]
  },
  {
   "cell_type": "code",
   "execution_count": null,
   "metadata": {},
   "outputs": [],
   "source": [
    "big_mtg = MTG()\n",
    "for fn in OCTOPLOIDS:\n",
    "    big_mtg = algo.union(big_mtg,MTG(octoploids[fn]))\n",
    "\n",
    "g_octo = big_mtg\n",
    "    \n",
    "genotypes = set(g_octo.property(\"Genotype\").values())\n",
    "print genotypes"
   ]
  },
  {
   "cell_type": "markdown",
   "metadata": {},
   "source": [
    "- We select whole diploids genotype for architectural analysis."
   ]
  },
  {
   "cell_type": "code",
   "execution_count": null,
   "metadata": {},
   "outputs": [],
   "source": [
    "big_mtg = MTG()\n",
    "# Add missing properties\n",
    "for fn in DIPLOIDS:\n",
    "    big_mtg = algo.union(big_mtg,MTG(diploids[fn]))\n",
    "\n",
    "big_mtg.properties()['FLWRNUMBER']={}\n",
    "big_mtg.properties()['FLWRNUMBER_OPEN']={}\n",
    "\n",
    "g_diplo = big_mtg\n",
    "    \n",
    "genotypes = set(g_diplo.property(\"Genotype\").values())\n",
    "print genotypes"
   ]
  },
  {
   "cell_type": "markdown",
   "metadata": {},
   "source": [
    "# 3. Strawberry Visualisation"
   ]
  },
  {
   "cell_type": "markdown",
   "metadata": {},
   "source": [
    "## 3.1. Select MTG data for visualisation\n",
    "\n",
    "- one genotype (goct or gdi)\n",
    "- all genotypes (g_diplo or g_octo)"
   ]
  },
  {
   "cell_type": "code",
   "execution_count": null,
   "metadata": {},
   "outputs": [],
   "source": [
    "g=g_octo"
   ]
  },
  {
   "cell_type": "markdown",
   "metadata": {},
   "source": [
    "## 3.2.  Launch 3D-visualisation"
   ]
  },
  {
   "cell_type": "markdown",
   "metadata": {},
   "source": [
    "## TODO: Generale faire un argument qui me permet d'entre le nombre de plant par modalité et le nombre de modalité,\n",
    "le bute étant de définir sur la grille le nombre de colone (modalité et ligne plant par modalité"
   ]
  },
  {
   "cell_type": "code",
   "execution_count": null,
   "metadata": {},
   "outputs": [],
   "source": [
    "g.properties()['order'] = orders(g)\n",
    "Rules_production.color_code(g)\n",
    "scene = Visualization.visualise_plants(g)\n",
    "\n",
    "pgl.Viewer.display(scene)"
   ]
  },
  {
   "cell_type": "markdown",
   "metadata": {},
   "source": [
    "## 3.3.  Launch 2D-Visualisation\n",
    "\n",
    "* 2D Visualization of one or a set of plants\n",
    "\n",
    "Pour visualisation 2D:\n",
    "* visualisation2d.plot2d(g, g.vertices(scale=1)[:x],dist= [y]*z) (cf ci dessous)\n",
    "\n",
    "* arguments de la foncion:\n",
    "  - [:x]  x= il sagit du nombre de plante que l'on veut représenter\n",
    "  - dist= [y] x= espacement entre deux plante\n",
    "  - z = nombre de plante visualisé"
   ]
  },
  {
   "cell_type": "markdown",
   "metadata": {},
   "source": [
    "## TODO: Probleme avec la fonction on ne peut pas visualiser l'ensemble des plant"
   ]
  },
  {
   "cell_type": "code",
   "execution_count": null,
   "metadata": {},
   "outputs": [],
   "source": [
    "visualisation2d.plot2d(g, g.vertices(scale=1)[:40],dist= [10]*40) "
   ]
  },
  {
   "cell_type": "markdown",
   "metadata": {},
   "source": [
    "# 4. Strawberry analysis"
   ]
  },
  {
   "cell_type": "markdown",
   "metadata": {},
   "source": [
    "## 4.1 Function to run the notebook on diploid or octoploid (only for one genotype)"
   ]
  },
  {
   "cell_type": "code",
   "execution_count": null,
   "metadata": {},
   "outputs": [],
   "source": [
    "# Run the notebook on Diploid or Octoploid\n",
    "\n",
    "# Dictionnary to convert propertie names in order to run old version script\n",
    "convert = dict(Stade='Stade', \n",
    "               Fleurs_ouverte='FLWRNUMBER_OPEN',\n",
    "               Fleurs_avorte='FLWRNUMBER_ABORTED',\n",
    "               Fleurs_total='FLWRNUMBER',\n",
    "               date='Sample_date',\n",
    "               Plante='Plant_ID',\n",
    "              )"
   ]
  },
  {
   "cell_type": "markdown",
   "metadata": {},
   "source": [
    "## 4.2 Extraction of data in dataframe"
   ]
  },
  {
   "cell_type": "markdown",
   "metadata": {},
   "source": [
    "### 4.2.1 Extraction on plant scale\n",
    "\n",
    "* Extraction of the most central individuals, variables (plant_variables) used;\n",
    "    * Plant\n",
    "    * Genotype\n",
    "    * date\n",
    "    * nb_total_leaves\n",
    "    * nb_total_flowers\n",
    "    * stolons\n",
    "    * order_max\n",
    "    * nb_ramification"
   ]
  },
  {
   "cell_type": "markdown",
   "metadata": {},
   "source": [
    "##### TODO: Colone modalité qui permettrais de différencié les lots. \n",
    "Faire également dans la fonction calcul de l'individu central intégré une modulation par rapport à la modalité"
   ]
  },
  {
   "cell_type": "code",
   "execution_count": null,
   "metadata": {
    "scrolled": true
   },
   "outputs": [],
   "source": [
    "# extraction of data at plant scale\n",
    "df = variables.extract_at_plant_scale(g)\n",
    "df.date = pd.to_datetime(df.date, dayfirst=True)\n",
    "\n",
    "\n",
    "\n",
    "#Data of the central plants\n",
    "df_individuals = analysis.median_individuals(df)\n",
    "df_individuals = df_individuals.sort_values(by=['Genotype','date'])\n",
    "\n",
    "df_individuals\n"
   ]
  },
  {
   "cell_type": "markdown",
   "metadata": {},
   "source": [
    "* 2D visualisation of the most central individuals"
   ]
  },
  {
   "cell_type": "code",
   "execution_count": null,
   "metadata": {},
   "outputs": [],
   "source": [
    "# selection of vid of median individuals\n",
    "pids = list(df_individuals.vid)\n",
    "n = len(pids)\n",
    "\n",
    "# Plot 2D- visualisation of the most central plant\n",
    "visualisation2d.plot2d(g, pids, dist=[5]*n)\n"
   ]
  },
  {
   "cell_type": "markdown",
   "metadata": {},
   "source": [
    "### 4.2.2 Data extraction on module scale"
   ]
  },
  {
   "cell_type": "markdown",
   "metadata": {},
   "source": [
    "**Variables used (module_variables):**\n",
    "- nb_visible_leaves # Nombre de feuille developpe\n",
    "- nb_foliar_primordia #Nombre de primordia foliaire\n",
    "- nb_total_leaves #Nombre total de feuille\n",
    "- nb_open_flowers #Nombre de fleurs ouverte\n",
    "- nb_aborted_flowers #Nombre de fleurs avorté\n",
    "- nb_total_flowers #Nombre total de Fleurs\n",
    "- nb_vegetative_buds\n",
    "- nb_initiated_buds\n",
    "- nb_floral_buds\n",
    "- nb_stolons\n",
    "- type_of_crown # Type de crowns (Primary Crown:1, Branch crown:2 extension crown:3)\n",
    "- Crown_status"
   ]
  },
  {
   "cell_type": "code",
   "execution_count": null,
   "metadata": {},
   "outputs": [],
   "source": [
    "# extraction of data at plant scale\n",
    "df = variables.extract_at_module_scale(g)\n",
    "df"
   ]
  },
  {
   "cell_type": "markdown",
   "metadata": {},
   "source": [
    "## 4.3 Data sequence extractions"
   ]
  },
  {
   "cell_type": "markdown",
   "metadata": {},
   "source": [
    "### 4.3.1 Module scale"
   ]
  },
  {
   "cell_type": "markdown",
   "metadata": {},
   "source": [
    "* **Index:**\n",
    "    - real Order (Index) for recouvrant extraction\n",
    "    - Apparent Order for non recouvrant extraction\n",
    "\n",
    "* **Variables:**\n",
    "    - nb_visible_leaves : count F label in components\n",
    "    - nb_foliar_primordia: count f si le module commence par F\n",
    "    - nb_total_leaves: sum(F+f) du module\n",
    "    - Stolon Numbers: count s label in components and attach at the order -1 \n",
    "    - nb_open_flowers: g.property('Fleurs_ouverte') at scale 3\n",
    "    - nb_aborted_flowers: g.property('Fleurs_avorte') at scale 3\n",
    "    - nb_total_flowers : g.property('Fleurs_total') at scale 3\n",
    "    - No_vegetative_bud: count bt if g.property(Stade) == none or 17 or 18 or 19\n",
    "    - No_iniated_bud: count bt if g.property(Stade) == A\n",
    "    - No_Floral_bud: count ht\n",
    "    - No_Inflorescence: count HT\n",
    " \n",
    " \n",
    "* **Variable qualitative:**\n",
    "    - type of crown\n",
    "        - label == T (1) : principal crown\n",
    "        - parent(component_roots()[0]) : if successor() == F : branch_crown (3)\n",
    "        - elif in (HT, ht, bt) extension crown (2)\n",
    "    - inflorescence_type:\n",
    "        - vegetative (1): label==bt g.property(Stade)== none or 17 or 18 or 19\n",
    "        - initiated (2): label== bt if g.property(Stade) == A\n",
    "        - floral (3): label== ht or HT\n",
    "\n",
    "\n",
    "* **General Variables:**\n",
    "    - Genotype: g.property('Genotype') at scale 1\n",
    "    - Date: g.property('date') at scale 1\n",
    "    - Plante Number: g.property('plante') at scale 1"
   ]
  },
  {
   "cell_type": "code",
   "execution_count": null,
   "metadata": {},
   "outputs": [],
   "source": [
    "# Run the notebook on Diploid or Octoploid\n",
    "IS_DIPLOID = False\n",
    "\n",
    "if IS_DIPLOID:\n",
    "    g = g_diplo\n",
    "else:\n",
    "    g = g_octo\n",
    "\n",
    "\n",
    "\n",
    "print(g.property_names())\n",
    "convert = dict(Stade='Stade', \n",
    "               Fleurs_ouverte='FLWRNUMBER_OPEN',\n",
    "               Fleurs_avorte='FLWRNUMBER_ABORTED',\n",
    "               Fleurs_total='FLWRNUMBER',\n",
    "               date='Sample_date',\n",
    "               Plante='Plant_ID',\n",
    "              )\n",
    "\n",
    "# if not IS_DIPLOID:\n",
    "#     g.properties()['Sample_date'] = g.property('Architecture_date')\n",
    "\n",
    "def dates_diploid():\n",
    "    l = '11-05-2016', '17-05-2016', '01-06-2016', '20-06-2016'\n",
    "    return dict(zip(l, range(1, len(l)+1)))\n",
    "\n",
    "def dates_octoploid():\n",
    "    d = {'10-12-2014':1,'07-01-2015':2,'15-02-2015':3,'02-03-2015':4,'03-04-2015':5,'27-05-2015':6,'04-12-2014':1,'13-02-2015':3,\n",
    "         '30-03-2015':5,'08-01-2015':2,'11-02-2015':3,'04-03-2015':4,'02-04-2015':5,'20-05-2015':6,'09-01-2015':2,'06-03-2015':4,\n",
    "         '12-02-2015':3,'19-05-2015':6}\n",
    "    return d\n",
    "\n",
    "def dates():\n",
    "    if IS_DIPLOID:\n",
    "        return dates_diploid()\n",
    "    else: \n",
    "        return dates_octoploid()\n",
    "\n",
    "\n",
    "def property(g, name):\n",
    "    \"\"\" We can change the name of the MTG properties without changing the code\"\"\"\n",
    "    return g.property(convert.get(name, name))\n",
    "    "
   ]
  },
  {
   "cell_type": "code",
   "execution_count": null,
   "metadata": {},
   "outputs": [],
   "source": [
    "# apparent_module: all module which contains a visible leaf F\n",
    "def visible_modules(g=g):\n",
    "    return [v for v in g.vertices_iter(scale=2) if g.label(g.component_roots_iter(v).next()) == 'F']"
   ]
  },
  {
   "cell_type": "code",
   "execution_count": null,
   "metadata": {},
   "outputs": [],
   "source": [
    "# add property in MTG, apparant module (True) or not\n",
    "modules = visible_modules()\n",
    "_visible = {}\n",
    "for m in modules:\n",
    "    _visible[m] = True\n",
    "g.properties()['visible'] = _visible"
   ]
  },
  {
   "cell_type": "code",
   "execution_count": null,
   "metadata": {},
   "outputs": [],
   "source": [
    "\"\"\"Index\n",
    "\n",
    "TODO: Replace dict by functions with specific traversal.\n",
    "\n",
    "\"\"\"\n",
    "#order scale 2: order at module scale\n",
    "orders = algo.orders(g, scale=2)\n",
    "\n",
    "\"\"\"Variable quantitative\"\"\"\n",
    "#function which count all F\n",
    "def nb_visible_leaves(vid, g=g):\n",
    "    return sum(1 for cid in g.components(vid) if g.label(cid)=='F')\n",
    "\n",
    "#function which count all f\n",
    "def nb_foliar_primordia(vid, g=g):\n",
    "    return sum(1 for cid in g.components(vid) if g.label(cid)=='f')\n",
    "\n",
    "#function which count all f+F\n",
    "def nb_total_leaves(vid, g=g):\n",
    "    return sum(1 for cid in g.components(vid) if g.label(cid) in ('f', 'F'))\n",
    "\n",
    "\"\"\" nb_stolon\"\"\"\n",
    "#function count stolon\n",
    "def nb_stolons(v, g=g):\n",
    "    def nb_stolon(vid, g=g):\n",
    "        return sum(1 for cid in g.components(vid) if g.label(cid)=='s') \n",
    "    return sum(nb_stolon(ch) for ch in g.children(v))\n",
    "\n",
    "#function return number of open flower\n",
    "def nb_open_flowers(vid, g=g):\n",
    "    flowers = property(g, 'Fleurs_ouverte')\n",
    "    return sum( flowers.get(cid,0) for cid in g.components(vid) if g.label(cid) in ('ht', 'HT'))\n",
    "\n",
    "# function return number of aborted flower\n",
    "def nb_aborted_flowers(vid, g=g):\n",
    "    flowers = property(g, 'Fleurs_aborted')\n",
    "    return sum( flowers.get(cid,0) for cid in g.components(vid) if g.label(cid) in ('ht', 'HT'))\n",
    "\n",
    "# function return number of total flower\n",
    "def nb_total_flowers(vid, g=g):\n",
    "    flowers = property(g, 'Fleurs_total')\n",
    "    return sum( flowers.get(cid,0) for cid in g.components(vid) if g.label(cid) in ('ht', 'HT'))\n",
    "\n",
    "\n",
    "\"\"\"Return the No vegetative bud\n",
    "    \n",
    "Algorithm:\n",
    "if labet is bt then stage is 17,18,19 or None\n",
    "count number of bt and attach at the parent order\n",
    "    \"\"\"\n",
    "# function return number of vegetative buds\n",
    "def nb_vegetative_buds(vid, g=g):\n",
    "    stages= property(g, 'Stade')\n",
    "\n",
    "    def nb_vegetative(v):\n",
    "        cid = g.component_roots(v)[0]\n",
    "        \n",
    "        return sum(1 for cid in g.components(v) if g.label(cid)=='bt' and stages.get(cid) in (None,'17','18','19'))\n",
    "    \n",
    "    return sum(nb_vegetative(ch) for ch in g.children(vid))\n",
    "\n",
    " \n",
    "\"\"\" Return the No initiated bud\"\"\"\n",
    "\n",
    "def nb_initiated_buds(vid, g=g):\n",
    "    \n",
    "    stages= property(g, 'Stade')\n",
    "    \n",
    "    def nb_init(v):\n",
    "        return sum(1 for cid in g.components(v) if (g.label(cid)=='bt') and (stages.get(cid)=='A'))\n",
    "\n",
    "    return sum(nb_init(ch) for ch in g.children(vid))\n",
    "\n",
    "\n",
    "\"\"\" Return the No Floral bud\"\"\"\n",
    "def nb_floral_buds (vid, g=g):\n",
    "    visibles = property(g, 'visible')\n",
    "    def nb_floral(v):\n",
    "        return sum(1 for cid in g.components(v) if g.label(cid)==\"ht\" )\n",
    "    return sum(nb_floral(ch) for ch in g.children(vid) if ch not in visibles)\n",
    "\n",
    "\n",
    "\"\"\" Qualitative variables\"\"\"\n",
    "def type_of_crown(vid, g=g):\n",
    "    \"\"\" Returns the type of crown.\n",
    "    \n",
    "    Definition of type of crown (1, 2, 3):\n",
    "     - principal crown (1): label == T \n",
    "     - branch_crown (3)\n",
    "         parent(component_roots()[0]) : if successor() == F  \n",
    "     - extension_crown (2): contains(HT, ht, bt) \n",
    "     - error (4)\n",
    "     \n",
    "    \"\"\"\n",
    "    if g.label(vid) == 'T':\n",
    "        return 1\n",
    "    else:\n",
    "        cid = g.component_roots_iter(vid).next()\n",
    "        pid = g.parent(cid)\n",
    "        sid = g.Successor(pid)\n",
    "        #print sid\n",
    "        if g.label(sid) in ('F', 'f'):\n",
    "            return 3\n",
    "        elif g.label(sid) in ('bt', 'ht', 'HT'):\n",
    "            return 2\n",
    "        else:\n",
    "            # ERROR !!!\n",
    "            print g[cid], g[g.complex_at_scale(cid, scale=1)]\n",
    "            return 4\n",
    "            \n",
    "def Crown_status(vid, g=g):\n",
    "    \"\"\" Returns the type of inflorescence\n",
    "    \n",
    "    :Algorithms:\n",
    "    if label is bt then\n",
    "        - if stage is 17, 18, 19 or None, => vegetative (1)\n",
    "        - if stage is A => initiated (2)\n",
    "        - if stage is other => non defined (pourri, avorté, coupé) (-1)\n",
    "     - Terminal vegetative bud (1): label==bt g.property(Stade)== none or 17 or 18 or 19\n",
    "     - Terminal initiated bud (2): label== bt if g.property(Stade) == A\n",
    "     - Terminal Floral bud (3): label==ht\n",
    "     - Inflorescence Terminal (4): label== HT\n",
    "     - runner (5): label = s\n",
    "     \n",
    "    \"\"\"\n",
    "    stages = property(g,'Stade')\n",
    "    # select s, ht, HT et bt\n",
    "    for cid in g.components(vid):\n",
    "        if g.label(cid) in ('s', 'ht', 'HT', 'bt'):\n",
    "            label = g.label(cid)\n",
    "            if label == 'ht':\n",
    "                return 3\n",
    "            elif label == 'HT':\n",
    "                return 4\n",
    "            elif label == 'bt':\n",
    "                stage = stages.get(cid)\n",
    "                if stage == 'A':\n",
    "                    return 2\n",
    "                elif stage in (None, '17', '18', '19'):\n",
    "                    return 1\n",
    "            elif label == 's':\n",
    "                return 5\n",
    "            return -1\n",
    "\n",
    "def nb_inflorescence (Vid, g):\n",
    "    return sum(1 for cid in g.components(Vid) if g.label(cid)=='HT')\n",
    "    \n",
    "def genotype(vid, g=g):\n",
    "    d = {'Capriss':4, 'Ciflorette':2, 'Cir107':6, 'Clery':3, 'Darselect':5, 'Gariguette':1,\n",
    "         'Nils': 1, }\n",
    "    \n",
    "    cpx = g.complex_at_scale(vid, scale=1)\n",
    "    _genotype = property(g, 'Genotype')[cpx]\n",
    "    return d[_genotype]\n",
    "\n",
    "def plant(vid, g=g):\n",
    "    \n",
    "    cpx = g.complex_at_scale(vid, scale=1)\n",
    "    return property(g, 'Plante')[cpx]\n",
    "\n",
    "def date(vid, g=g):\n",
    "    d = dates()\n",
    "    cpx = g.complex_at_scale(vid, scale=1)\n",
    "    _date = property(g, 'date')[cpx]\n",
    "    return(d[_date])"
   ]
  },
  {
   "cell_type": "code",
   "execution_count": null,
   "metadata": {},
   "outputs": [],
   "source": [
    "# Extract sequences\n",
    "\n",
    "#seqs = stat.extract_extremities(g, scale=2)\n",
    "#seqs = stat.extract_axes(g, scale=2)\n",
    "def is_extremities(g, v):\n",
    "    visibles = property(g, 'visible')\n",
    "    ext = [c for c in g.children(v) if c in visibles and not is_axis_root(g, c)]\n",
    "    return True if not ext else False\n",
    "\n",
    "def extract_extremities(g, modules):\n",
    "    \"\"\" Extract sequences that connect from leaves modules to the root ones of each plant. \"\"\"\n",
    "    leaves = [m for m in modules if is_extremities(g, m)]\n",
    "    seqs = [list(reversed([vid for vid in algo.ancestors(g,lid)])) for lid in leaves]\n",
    "    return seqs\n",
    "\n",
    "def is_axis_root(g, vid):\n",
    "    cid = g.component_roots_iter(vid).next()\n",
    "    pid = g.parent(cid)\n",
    "    sid = g.Successor(pid)\n",
    "    if g.label(sid) not in ('bt', 'ht', 'HT'):\n",
    "        return True\n",
    "    else:\n",
    "        return False\n",
    "    \n",
    "\n",
    "def apparent_axis(g, vid):\n",
    "    visibles = property(g, 'visible')\n",
    "    v = vid\n",
    "    while v is not None:\n",
    "        yield v\n",
    "        vtx = v; v = None\n",
    "        for vid in g.children(vtx):\n",
    "            if (vid in visibles) and (not is_axis_root(g, vid)):\n",
    "                v = vid\n",
    "            \n",
    "def extract_apparent_axes(g, modules):\n",
    "    # Extract all the vertices with edge_type == '+'\n",
    "    vids = [m for m in modules if is_axis_root(g, m)]\n",
    "    \n",
    "    seqs = [ list(apparent_axis(g, vid)) for vid in vids]\n",
    "    return seqs\n"
   ]
  },
  {
   "cell_type": "code",
   "execution_count": null,
   "metadata": {},
   "outputs": [],
   "source": [
    "seqs1 = extract_apparent_axes(g, modules)\n",
    "seqs2= extract_extremities(g,modules)\n",
    "seqs = seqs1\n",
    "len (seqs)"
   ]
  },
  {
   "cell_type": "code",
   "execution_count": null,
   "metadata": {},
   "outputs": [],
   "source": [
    "# Index: order\n",
    "VertexIdentifiers = [['-'.join(str(orders[j]) for j in seq[0:i+1]) for i, vid in enumerate(seq)] for seq in seqs]\n",
    "\n",
    "# Variables\n",
    "variable = OrderedDict()\n",
    "variable['nb_visible_leaves'] = nb_visible_leaves # Nombre de feuille developpe\n",
    "variable['nb_foliar_primordia'] = nb_foliar_primordia #Nombre de primordia foliaire\n",
    "variable['nb_total_leaves'] = nb_total_leaves #Nombre total de feuille\n",
    "variable['nb_open_flowers'] = nb_open_flowers #Nombre de fleurs ouverte\n",
    "variable['nb_aborted_flowers'] = nb_aborted_flowers #Nombre de fleurs avorté\n",
    "variable['nb_total_flowers'] = nb_total_flowers #Nombre total de Fleurs\n",
    "variable['vegetative_bud'] = nb_vegetative_buds\n",
    "variable['Initiated_bud']= nb_initiated_buds\n",
    "variable['floral_bud']= nb_floral_buds\n",
    "variable['stolons']= nb_stolons\n",
    "variable['type_of_crown'] = type_of_crown # Type de crowns (Primary Crown:1, Branch crown:2 extension crown:3)\n",
    "variable['Crown_status'] = Crown_status # Status du coeurs (\"vegeatatif:1, Iniated: 2, Floral: 3)\n",
    "\n",
    "\n",
    "variable['genotype'] = genotype # TODO\n",
    "variable['date'] = date # TODO\n",
    "variable['plant'] = plant"
   ]
  },
  {
   "cell_type": "code",
   "execution_count": null,
   "metadata": {},
   "outputs": [],
   "source": [
    "variable_names = variable.keys()\n",
    "print variable_names\n",
    "\n",
    "final_seqs = [[[f(vid) for f in variable.values()] for vid in seq] for seq in seqs]"
   ]
  },
  {
   "cell_type": "code",
   "execution_count": null,
   "metadata": {},
   "outputs": [],
   "source": [
    "final_seqs"
   ]
  },
  {
   "cell_type": "code",
   "execution_count": null,
   "metadata": {},
   "outputs": [],
   "source": [
    "sequence_txt = analysis.write_sequences(final_seqs, variable_names, VertexIdentifiers)"
   ]
  },
  {
   "cell_type": "code",
   "execution_count": null,
   "metadata": {},
   "outputs": [],
   "source": [
    "print sequence_txt"
   ]
  },
  {
   "cell_type": "code",
   "execution_count": null,
   "metadata": {},
   "outputs": [],
   "source": [
    "f = open('c:/Users/mlabadie/Documents/GitHub/strawberry/Rscript/strawberry_archi_module_nonoverlaping_path.seq', 'w') #seq1\n",
    "f.write(sequence_txt)\n",
    "f.close()"
   ]
  },
  {
   "cell_type": "markdown",
   "metadata": {},
   "source": [
    "### 4.3.2 At Phytomer scale"
   ]
  },
  {
   "cell_type": "markdown",
   "metadata": {},
   "source": [
    "#### 1. Index\n",
    "Index is node on apparent trunk axis  \n",
    "VARIABLE 1: INT  # module order starting at 0  \n",
    "\n",
    "#### 2. Qualitative variable\n",
    "VARIABLE 2: INT  \n",
    "\n",
    "- types of axillary production \n",
    "    - -1: missing bud; \n",
    "    - 1: stolon; \n",
    "    - 2: vegetative bud (stages 17, 18, 19); \n",
    "    - 3: initiated bud (stage A); \n",
    "    - 4: rotten, dry or aborted bud; \n",
    "    - 5: floral bud; \n",
    "    - 6: branch crown; \n",
    "    - 7: inflorescence  \n",
    " \n",
    "On each nodes identify the type of ramification:\n",
    "ramif-type: \n",
    "\n",
    "- if is invisible modules==F take form of:   \n",
    "    - stolon (s): 1, \n",
    "    - vegetative bud(bt, at stage None, 17,18,19):2,\n",
    "    - initiated bud, (bt, at stage A):3, \n",
    "    - floral bud(ht):4 \n",
    "     \n",
    "- if is visible module==T:  \n",
    "    - branch crown (complex ramification):5\n",
    "\n",
    "#### 3. Global variables\n",
    "\n",
    "- VARIABLE 3: INT  # genotype (1: Gariguette; 2: Ciflorette; 3: Clery; 4: Capriss; 5:Darselect; 6: Cir107)\n",
    "- VARIABLE 4: INT  # date (1: mid-December; 2: early January; 3: mid-February; 4: early March; 5: early April; 6: end May/early June)\n",
    "- VARIABLE 5: INT  # plant index\n",
    "\n",
    "\n",
    "#### 4. Quantitative variable\n",
    "\n",
    "if branch crown(5):\n",
    "- on principal path:\n",
    "    - No. modules\n",
    "    - No. developed leaves (F)\n",
    "    - No. primordia leaves (f)\n",
    "    - No. total leaves (f+F)\n",
    "    - No. open flower, g.property(\"open_flower\")\n",
    "    - No. aborded flower, g.property(\"aborded_flower\")\n",
    "    - No. total flower, g.property(\"total flower\")\n",
    "    \n",
    "- on whole branch crown:\n",
    "    - No. branch crown carried sum(No. visible modules if modules is_axis_root==T )  \n",
    "    - No. extension crown carried sum(No. visible module if modules is_axis_root==F) \n",
    "    - No. total modules carried \n",
    "        - sum(No.visible modules) \n",
    "    - No. developed leaves carried \n",
    "        - sum(for vid in g if g.label==\"F\" and if visible module==T) \n",
    "    - No. primordia leaves carried sum(f, if visible module==T)\n",
    "    - No. total leaves carried sum(F+f, if visible module==T)\n",
    "    - No. vegetative buds carried sum(bt at stage None, 17,18,19 if visible modules ==F) \n",
    "    - No. initiated buds carried sum(bt at stage A if visible modules == F) \n",
    "    - No. floral buds carried sum(ht if visible modules==F)\n",
    "    - No. Inflorescence carried sum(HT if visible module==T)\n",
    "    - No. open flowers carried sum(g.property(\"open_flowers\"), if visible modules==T)\n",
    "    - No. aborded flowers carried sum(g.property(\"aborded_flower\"if visible module==T)\n",
    "    - No. total flowers carried sum(g.property(\"total_total flowers\" if visible module==T)\n",
    "    - No. stolon carried sum(s, if visible module ==F)\n",
    " "
   ]
  },
  {
   "cell_type": "code",
   "execution_count": null,
   "metadata": {},
   "outputs": [],
   "source": [
    "from itertools import chain\n",
    "from openalea.mtg import algo, traversal"
   ]
  },
  {
   "cell_type": "code",
   "execution_count": null,
   "metadata": {},
   "outputs": [],
   "source": [
    "# Extract tall the modules of each plant at scale 2\n",
    "#roots = modules\n",
    "# assert set(g.label(r) for r in roots) == set(['T']) \n",
    "\n",
    "trunks = [ list(chain(*[(v for v in algo.axis(g,m, scale=3) if g.label(v) in ('F', 'f')) for m in axis])) for axis in extract_apparent_axes(g, modules)]\n",
    "# print trunk\n",
    "\n",
    "# define the apparent order on the MTG\n",
    "vertex_ids = [[str(rank) for rank, v in enumerate(trunk)] for trunk in trunks]\n",
    "\n",
    "ranks = dict()\n",
    "roots3 = g.component_roots_at_scale(g.root, scale=3)\n",
    "for r in roots3:\n",
    "    for v in traversal.pre_order2(g, r):\n",
    "        ranks[v] = 0 if g.parent(v) is None else ranks[g.parent(v)]+1\n",
    "        \n",
    "vertex_ids = [[ranks[v] for v in trunk] for trunk in trunks]\n",
    "\n",
    "# extract a sequence of F for each module\n",
    "#print vertex_ids"
   ]
  },
  {
   "cell_type": "code",
   "execution_count": null,
   "metadata": {},
   "outputs": [],
   "source": [
    "orders3 = algo.orders(g, scale=3)\n",
    "\n",
    "def branching(g, v):\n",
    "    sid = g.Successor(v)\n",
    "    if g.label(sid) in ('bt', 'ht', 'HT'):\n",
    "        return None\n",
    "    \n",
    "    kids = [c for c in g.children(v) if g.edge_type(c) =='+' and g.label(c) == 'F' ]\n",
    "    if not kids:\n",
    "        return None\n",
    "    \n",
    "    return kids[0]\n",
    "\n",
    "def branching_type(vid, g=g):\n",
    "    \"\"\" Returns the type of branching\n",
    "    \n",
    "    :Algorithms:\n",
    "    \n",
    "    if module is visible:\n",
    "        - branch crown (complex ramification):6\n",
    "        - inflorescence : 7\n",
    "\n",
    "    if module is invisible:\n",
    "        - stolon (s): 1,\n",
    "        - vegetative bud(bt, at stage None, 17,18,19):2,\n",
    "        - initiated bud, (bt, at stage A):3,\n",
    "        - aborted or roten or dried bud: 4\n",
    "        - floral bud(ht):5\n",
    "\n",
    "     \n",
    "    \"\"\"\n",
    "\n",
    "    cpx = g.complex(vid)\n",
    "    nxid = g.node(cpx) \n",
    "    if nxid.visible:\n",
    "        if g.label(vid) == 'HT':\n",
    "            return 7\n",
    "        else:\n",
    "            return 6\n",
    "    \n",
    "    # select s, ht, et bt\n",
    "    for cid in nxid.components():\n",
    "        label = cid.label\n",
    "        if label in ('s', 'ht', 'bt'):\n",
    "            if label == 's':\n",
    "                return 1\n",
    "            elif label == 'bt':\n",
    "                stage = cid.Stade\n",
    "                if stage in (None, '17', '18', '19'):\n",
    "                    return 2\n",
    "                elif stage == 'A':\n",
    "                    return 3\n",
    "                elif stage in ('pourri', 'aborted', 'dried'):\n",
    "                    return 4\n",
    "            elif label  == 'ht':\n",
    "                return 5\n",
    "    else:\n",
    "        print 'ERROR: ', cpx, nxid.complex().Genotype, nxid.properties()\n",
    "\n",
    "#[[branching(g, v) for v in trunk] for trunk in trunks]\n",
    "\n",
    "# Extract on a vertex the tree of modules\n",
    "def module_tree(v, g):\n",
    "    visibles = g.property('visible')\n",
    "    cpx = g.complex(v)\n",
    "    return [m for m in traversal.pre_order2(g, cpx) if m in visibles]"
   ]
  },
  {
   "cell_type": "code",
   "execution_count": null,
   "metadata": {},
   "outputs": [],
   "source": [
    "def module_axis(v, g=g):\n",
    "    cpx = g.complex(v)\n",
    "    return list(apparent_axis(g, cpx))\n",
    "\n",
    "def nb_modules_axis(v, g=g):\n",
    "    return len(module_axis(v, g=g))\n",
    "\n",
    "def nb_visible_leaves_axis(v, g=g):\n",
    "    return sum(nb_visible_leaves(m, g) for m in module_axis(v, g=g))\n",
    "\n",
    "def nb_foliar_primordia_axis(v, g=g):\n",
    "    return sum(nb_foliar_primordia(m, g) for m in module_axis(v, g=g))\n",
    "\n",
    "def nb_total_leaves_axis(v, g=g):\n",
    "    return sum(nb_total_leaves(m, g) for m in module_axis(v, g=g))\n",
    "\n",
    "def nb_open_flowers_axis(v, g=g):\n",
    "    return sum(nb_open_flowers(m, g) for m in module_axis(v, g=g))\n",
    "\n",
    "def nb_aborted_flowers_axis(v, g=g):\n",
    "    return sum(nb_aborted_flowers(m, g) for m in module_axis(v, g=g))\n",
    "\n",
    "def nb_total_flowers_axis(v, g=g):\n",
    "    return sum(nb_total_flowers(m, g) for m in module_axis(v, g=g))\n",
    "\n",
    "def nb_vegetative_buds_axis(v, g=g):\n",
    "    return sum(nb_vegetative_buds(m, g) for m in module_axis(v, g=g))\n",
    "\n",
    "def nb_initiated_buds_axis(v, g=g):\n",
    "    return sum(nb_initiated_buds(m, g) for m in module_axis(v, g=g))\n",
    "\n",
    "def nb_floral_buds_axis(v, g=g):\n",
    "    return sum(nb_floral_buds(m, g) for m in module_axis(v, g=g))\n",
    "\n",
    "def nb_stolons_axis(v, g=g):\n",
    "    return sum(nb_stolons(m, g) for m in module_axis(v, g=g))\n",
    "\n",
    "\n",
    "####################################################\n",
    "def nb_total_module_tree(v, g=g):\n",
    "    return len(module_tree(v, g))\n",
    "\n",
    "def nb_branching_tree(v, g=g):\n",
    "    return sum(1 for m in module_tree(v, g) if is_axis_root(g, m))\n",
    "\n",
    "def nb_extension_tree(v,g=g):\n",
    "    return sum(1 for m in module_tree(v,g) if not is_axis_root(g, m))\n",
    "\n",
    "def nb_visible_leaves_tree(v, g=g):\n",
    "    return sum(nb_visible_leaves(m,g) for m in module_tree(v, g))\n",
    "\n",
    "def nb_primordia_leaves_trees(v, g=g):\n",
    "    return sum(nb_foliar_primordia(m,g) for m in module_tree(v, g))\n",
    "\n",
    "def nb_total_leaves_trees(v, g=g):\n",
    "    return sum(nb_total_leaves(m, g) for m in module_tree(v, g))\n",
    "\n",
    "def nb_vegetative_buds_tree(v, g=g):\n",
    "    return sum(nb_vegetative_buds(m, g) for m in module_tree(v, g))\n",
    "\n",
    "def nb_initiated_buds_tree(v, g=g):\n",
    "    return sum(nb_initiated_buds(m, g) for m in module_tree(v, g))\n",
    "\n",
    "def nb_floral_buds_tree(v, g=g):\n",
    "    return sum(nb_floral_buds(m, g) for m in module_tree(v, g))\n",
    "\n",
    "def nb_inflorescences_tree(v, g=g):\n",
    "    return sum(nb_inflorescences(m, g) for m in module_tree(v, g))\n",
    "\n",
    "def nb_open_flowers_tree(v, g=g):\n",
    "    return sum(nb_open_flowers(m, g) for m in module_tree(v, g))\n",
    "\n",
    "def nb_aborted_flowers_tree(v , g=g):\n",
    "    return sum(nb_aborted_flowers(m, g=g) for m in module_tree(v, g))\n",
    "\n",
    "def nb_total_flowers_tree(v, g=g):\n",
    "    return sum(nb_total_flowers(m, g=g) for m in module_tree(v, g))\n",
    "\n",
    "def nb_stolon_tree(v, g=g):\n",
    "    return sum(nb_stolons(m, g) for m in module_tree(v, g))\n",
    "\n",
    "def nb_inflorescences_tree(v, g=g):\n",
    "    return sum(nb_inflorescence (m, g) for m in module_tree(v, g))\n",
    "\n",
    "##################################################\n",
    "def genotype_axis(v, g=g):\n",
    "    return genotype(g.complex(v), g)\n",
    "def date_axis(v, g=g):\n",
    "    return date(g.complex(v), g) #Correction my_date en date\n",
    "def plant_axis(v, g=g):\n",
    "    return plant(g.complex(v), g)\n",
    "# test\n",
    "#trunk = trunks[1]\n",
    "#[nb_stolon_tree(branching(g, v)) for v in trunk if branching(g, v)]"
   ]
  },
  {
   "cell_type": "code",
   "execution_count": null,
   "metadata": {},
   "outputs": [],
   "source": [
    "# Variables\n",
    "variables = OrderedDict()\n",
    "\n",
    "# on principal ramification path\n",
    "#variables[\"branching_type\"]= branching_type\n",
    "variables['nb_module_axis'] = nb_modules_axis\n",
    "variables['nb_visible_leaves_axis'] = nb_visible_leaves_axis # Nombre de feuille developpe\n",
    "variables['nb_foliar_primordia_axis'] = nb_foliar_primordia_axis #Nombre de primordia foliaire\n",
    "variables['nb_total_leaves_axis'] = nb_total_leaves_axis #Nombre total de feuille\n",
    "variables['nb_vegetative_buds_axis']= nb_vegetative_buds_axis # nombre de vegetative bud \n",
    "variables['nb_initiated_buds_axis']= nb_initiated_buds_axis # nombre of initiated buds\n",
    "variables['nb_floral_buds_axis']= nb_floral_buds_axis #nb of floral buds\n",
    "variables['nb_open_flowers_axis'] = nb_open_flowers_axis #Nombre de fleurs ouverte\n",
    "variables['nb_aborted_flowers_axis'] = nb_aborted_flowers_axis #Nombre de fleurs avorté\n",
    "variables['nb_total_flowers_axis'] = nb_total_flowers_axis #Nombre total de Fleurs\n",
    "variables['nb_stolons_axis'] = nb_stolons_axis\n",
    "\n",
    "#on whole ramification \n",
    "variables[\"nb_branch_crown_tree\"]= nb_branching_tree # sum(No. visible modules if modules is_axis_root )\n",
    "variables[\"nb_extenstion_crown_tree\"]= nb_extension_tree # sum(No. visible module if modules nit is_axis_root)\n",
    "variables[\"nb_total module_tree\"]= nb_total_module_tree # sum(visible modules)\n",
    "variables[\"nb_visible_leaves_tree\"]= nb_visible_leaves_tree # sum(F, if visible module==T)\n",
    "variables[\"nb_primordia_leaves_trees\"]=nb_primordia_leaves_trees #sum(f, if visible module==T)\n",
    "variables[\"nb_total_leaves_trees\"]=nb_total_leaves_trees #sum(F & f , if visible module==T)\n",
    "variables[\"nb_vegetative_buds_tree\"]= nb_vegetative_buds_tree# sum(bt if stages in (None,'17','18','19') and visible module==F)\n",
    "variables[\"nb_initiated_buds_tree\"]= nb_initiated_buds_tree# sum(bt if stages=='A' and visible module==F)\n",
    "variables[\"nb_floral_buds_tree\"]= nb_floral_buds_tree# sum(ht if visible module==F)\n",
    "variables[\"nb_inflorescence_tree\"]= nb_inflorescences_tree# sum(HT if visible module==T)\n",
    "variables[\"nb_open_flowers_tree\"]= nb_open_flowers_tree# sum(g.property('Fleurs_ouverte') if visible module==T)\n",
    "variables[\"nb_aborted_flowers_tree\"]= nb_aborted_flowers_tree# sum(g.property('Fleurs_aborted') if visible module==T)\n",
    "variables[\"nb_total_flowers_tree\"]= nb_total_flowers_tree# sum(g.property('Fleurs_total') if visible module==T)\n",
    "variables[\"nb_stolon_tree\"]= nb_stolon_tree# sum(s if visible modules ==F)\n",
    "\n",
    "# add supplemental variables\n",
    "#variables No. Inflorescence\n",
    "#variables No. Inflorescence crown bearing by ramification\n",
    "#variables No Vegetative crown bearing by ramification\n",
    "#variables sum initiated crown bearing by ramification\n",
    "#variable sum floral crown bearing by ramification\n",
    "\n",
    "#Global variable\n",
    "global_variables = OrderedDict()\n",
    "global_variables['genotype'] = genotype_axis # TODO\n",
    "global_variables['date'] = date_axis # TODO\n",
    "global_variables['plant'] = plant_axis\n",
    "\n",
    "# Extract variables fo Inflorescences\n",
    "inflo_variables = OrderedDict()\n",
    "inflo_variables['nb_total_flowers_axis'] = nb_total_flowers \n",
    "inflo_variables['nb_open_flowers_axis'] = nb_open_flowers #Nombre de fleurs ouverte\n",
    "inflo_variables['nb_aborted_flowers_axis'] = nb_aborted_flowers #Nombre de fleurs avorté\n"
   ]
  },
  {
   "cell_type": "code",
   "execution_count": null,
   "metadata": {},
   "outputs": [],
   "source": [
    "final_seqs = []\n",
    "# add if not ramif:\n",
    "def is_inflo(g, vid):\n",
    "    return True if g.label(vid) =='HT' else False\n",
    "\n",
    "def filter_hamp_branch_crown(g, vid):\n",
    "    \"\"\"Extract first ramification node or inflo. \"\"\"\n",
    "    inflo = [c for c in g.children(vid) if is_inflo(g, c)]\n",
    "    if inflo:\n",
    "        return inflo[0]\n",
    "    \n",
    "    ramif = [c for c in g.children(vid) if (g.edge_type(c) =='+')]\n",
    "    if not ramif:\n",
    "        return None\n",
    "    if len(ramif) > 1: \n",
    "        print vid, genotype(vid), 'line ', g.node(vid)._line, len(ramif)\n",
    "    return ramif[0]\n",
    "\n",
    "\n",
    "for trunk in trunks:\n",
    "    seq = []\n",
    "    for vid in trunk:\n",
    "        vars = [orders3[vid]]\n",
    "        # Extract the next vertex that is the root of a sub-tree\n",
    "        bid = filter_hamp_branch_crown(g, vid)\n",
    "        if bid is None:\n",
    "            vars.append(-1)\n",
    "        else:\n",
    "            vars.append(branching_type(bid, g))\n",
    "\n",
    "        inflo = is_inflo(g, bid) \n",
    "        branch_id = branching(g, vid)\n",
    "        vars.extend([f(vid) for f in global_variables.values()])\n",
    "        \n",
    "        \"\"\"\n",
    "        for name in variables:\n",
    "            if inflo and name in inflo_variables:\n",
    "\n",
    "                f = inflo_variables[name]\n",
    "                vars.append(f(g.complex(bid)))\n",
    "                print 'INFLO ', f(g.complex(bid))\n",
    "            elif branch_id is not None: \n",
    "                f = variables[name]\n",
    "                vars.append(f(branch_id))\n",
    "            else:\n",
    "                vars.append(0)\n",
    "        \"\"\"\n",
    "            #vars.extend([f(branching(g, vid)) if branching(g, vid) is not None elif inflo_variables[name] if is_inflo(g, vid) else 0 for f in variables.values()])\n",
    "        seq.append(vars)\n",
    "    final_seqs.append(seq)\n",
    "\n",
    "#[[f(branching(g, vid)) if branching(g, vid) is not None else -1 for f in variables.values()] for vid in trunk] for trunk in trunks]\n",
    "final_seqs                          "
   ]
  },
  {
   "cell_type": "code",
   "execution_count": null,
   "metadata": {},
   "outputs": [],
   "source": [
    "variables\n",
    "variable_names = ['order', 'branching_type']+global_variables.keys() #+inflo_variables.keys()+variables.keys()\n",
    "variable_names"
   ]
  },
  {
   "cell_type": "code",
   "execution_count": null,
   "metadata": {},
   "outputs": [],
   "source": [
    "sequence_txt = analysis.write_sequences(final_seqs, variable_names, vertex_ids)\n",
    "print sequence_txt"
   ]
  },
  {
   "cell_type": "code",
   "execution_count": null,
   "metadata": {},
   "outputs": [],
   "source": [
    "f = open('strawberry_archi_node_trunk_path.seq', 'w') #seq\n",
    "f.write(sequence_txt)\n",
    "f.close()"
   ]
  },
  {
   "cell_type": "code",
   "execution_count": null,
   "metadata": {},
   "outputs": [],
   "source": []
  }
 ],
 "metadata": {
  "kernelspec": {
   "display_name": "IPython (Python 2)",
   "language": "python",
   "name": "python2"
  },
  "language_info": {
   "codemirror_mode": {
    "name": "ipython",
    "version": 2
   },
   "file_extension": ".py",
   "mimetype": "text/x-python",
   "name": "python",
   "nbconvert_exporter": "python",
   "pygments_lexer": "ipython2",
   "version": "2.7.14"
  }
 },
 "nbformat": 4,
 "nbformat_minor": 2
}
