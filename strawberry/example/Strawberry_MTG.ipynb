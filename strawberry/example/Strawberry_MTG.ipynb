{
 "metadata": {
  "name": "",
  "signature": "sha256:0c523b04f387fb0e8df0c6885dc5121cfea177cb060531fab4748b3b59d107ac"
 },
 "nbformat": 3,
 "nbformat_minor": 0,
 "worksheets": [
  {
   "cells": [
    {
     "cell_type": "markdown",
     "metadata": {},
     "source": [
      "# Convert Strawberry Data to MTG"
     ]
    },
    {
     "cell_type": "markdown",
     "metadata": {},
     "source": [
      "**Authors** : Marc Labadie, Christophe Pradal"
     ]
    },
    {
     "cell_type": "code",
     "collapsed": false,
     "input": [
      "from openalea.deploy.shared_data import shared_data\n",
      "import strawberry\n",
      "from strawberry.reader import Reader, strawberry2mtg \n",
      "from openalea.mtg import MTG, fat_mtg"
     ],
     "language": "python",
     "metadata": {},
     "outputs": [],
     "prompt_number": 8
    },
    {
     "cell_type": "code",
     "collapsed": false,
     "input": [
      "files = shared_data(strawberry).glob('*.csv')\n",
      "fn = files[0]\n",
      "print shared_data(strawberry)"
     ],
     "language": "python",
     "metadata": {},
     "outputs": [
      {
       "output_type": "stream",
       "stream": "stdout",
       "text": [
        "z:\\g1\\marc-labadie\\python\\strawberry\\share\\data\n"
       ]
      }
     ],
     "prompt_number": 9
    },
    {
     "cell_type": "markdown",
     "metadata": {},
     "source": [
      "Reading the file and create an MTG"
     ]
    },
    {
     "cell_type": "code",
     "collapsed": false,
     "input": [
      "g = MTG()"
     ],
     "language": "python",
     "metadata": {},
     "outputs": [],
     "prompt_number": 10
    },
    {
     "cell_type": "code",
     "collapsed": false,
     "input": [
      "class Reader(object):\n",
      "    sep = ';'\n",
      "    \n",
      "    labels = {'C' : (2, 'Crown'), \n",
      "              'F' : (3, 'Phytomer'), \n",
      "              's' : (2, 'Runner'), \n",
      "              'b': (),\n",
      "              'BT' : (3, 'TerminalBud'),\n",
      "              'HT' : (3, 'Inflorescence'),\n",
      "             }\n",
      "    \n",
      "    def __init__(self, filename):\n",
      "        self.fn = filename\n",
      "        self.props = [] # property names in a specific order\n",
      "        self.types = []\n",
      "        self.line_no = -1\n",
      "        self.prop_no = -1\n",
      "\n",
      "    \n",
      "    def read(self):\n",
      "        f = open(self.fn)\n",
      "        content = f.read()\n",
      "        f.close()\n",
      "        self.content = [line.strip() for line in content.split('\\n')]\n",
      "\n",
      "        \n",
      "    def header(self):\n",
      "        \"\"\" Read the properties \"\"\"\n",
      "        \n",
      "        sep = self.sep\n",
      "        line_no = 0\n",
      "        for l in self.content:\n",
      "            line = [item.strip() for item in l.split(sep)]\n",
      "            if line[0].startswith('Axis_') and  line[1].startswith('Axis_'):\n",
      "                print '\\t'.join(line)\n",
      "                break\n",
      "            line_no += 1\n",
      "            \n",
      "        self.line_no = line_no\n",
      "        self.prop_no = self.line_no\n",
      "        \n",
      "        self.props = [item.strip() for item in self.content[line_no].split(';')]\n",
      "        \n",
      "        # Rename\n",
      "        props = []\n",
      "        com_rank = 0\n",
      "        for i, prop in enumerate(self.props):\n",
      "            if prop.startswith('Axe_'):\n",
      "                prop = prop.replace('Axe_', 'Axis_')\n",
      "            if prop.lower().startswith('com'):\n",
      "                com_rank += 1\n",
      "                prop = prop.lower()[:3]+'_'+str(com_rank)\n",
      "                prop = prop.capitalize()\n",
      "            props.append(prop)\n",
      "        self.props = props\n",
      "        \n",
      "        self.prop_index = sum(1 for p in self.props if p.startswith('Axis_'))-1\n",
      "        self.props = self.props[self.prop_index:]\n",
      "\n",
      "    def __update_axis(self, first):\n",
      "        n = len(self._axis_vid) \n",
      "        if n == first:\n",
      "            self._axis_vid.append(self._vid)\n",
      "        elif n == first+1:\n",
      "            self._axis_vid[first] = self._vid\n",
      "        else:\n",
      "            print \"ERROR\", first, n, self._axis_vid\n",
      "\n",
      "    def read_line(self):\n",
      "        \"\"\"\n",
      "        Read one line\n",
      "        \"\"\"\n",
      "\n",
      "        g = self.g\n",
      "        self.line_no += 1\n",
      "        n = len(self.content)\n",
      "        if self.line_no >= n:\n",
      "            return\n",
      "        \n",
      "        l = self.content[self.line_no]\n",
      "        line = [item.strip() for item in l.split(self.sep)]\n",
      "        if not line:\n",
      "            return\n",
      "        \n",
      "        code = line[:self.prop_index]\n",
      "        props = line[self.prop_index:]\n",
      "        \n",
      "        # TODO : convert properties to their own type\n",
      "        current_props = dict(zip(self.props, props))\n",
      "        \n",
      "        if not filter(None, code):\n",
      "            return\n",
      "        \n",
      "        first = 0\n",
      "        for item in code:\n",
      "            if not item:\n",
      "                first += 1\n",
      "            else:\n",
      "                break\n",
      "        \n",
      "        if first >= self.prop_index:\n",
      "            return\n",
      "    \n",
      "        \n",
      "        label = code[first]\n",
      "        info = self.labels.get(label, None)\n",
      "        \n",
      "        if info is None:\n",
      "            raise 'Line %d: Label %s is not managed'%(self.line_no, label)\n",
      "        elif not info:\n",
      "            pass\n",
      "        else:\n",
      "            scale, label = self.labels[label]\n",
      "            \n",
      "        prev_scale = self._scale\n",
      "        prev_order = self._order\n",
      "        \n",
      "        cur_order = first\n",
      "        \n",
      "        if cur_order == prev_order:\n",
      "            if scale == prev_scale:\n",
      "                pid = self._axis_vid[cur_order]\n",
      "                self._vid = g.add_child(pid, label=label, edge_type='<', **current_props)\n",
      "                self.__update_axis(first)\n",
      "            else: \n",
      "                # TODO\n",
      "                #pid = self._axis_vid[cur_order-1]\n",
      "                pass\n",
      "        elif cur_order > prev_order:\n",
      "            if scale == prev_scale:\n",
      "                pid = self._axis_vid[prev_order]\n",
      "                self._vid = g.add_child(pid, label=label, edge_type='+', **current_props)\n",
      "                self.__update_axis(first)\n",
      "            else: \n",
      "                # TODO\n",
      "                #pid = self._axis_vid[cur_order-1]\n",
      "                pass\n",
      "        else:\n",
      "            pid = self._axis_vid[cur_order]\n",
      "            self._vid = g.add_child(pid, label=label, edge_type='<', **current_props)\n",
      "            self._axis_vid[cur_order] = self._vid\n",
      "            if len(self._axis_vid) > cur_order:\n",
      "                del self._axis_vid[cur_order+1:]\n",
      "            \n",
      "        self._order = cur_order\n",
      "        \n",
      "    def build_mtg(self):\n",
      "        \"\"\" Build an MTG structure from data.\n",
      "        \n",
      "        The MTG is composed of 3 scales: Plant, Crown, Phytomer\n",
      "        \n",
      "        \"\"\"\n",
      "        self._axis_vid = []\n",
      "        \n",
      "        self.g = MTG()\n",
      "        g = self.g\n",
      "        \n",
      "        # build 2 elements: P plante and C crown\n",
      "        #self._vid = plant_id = g.add_component(g.root, label='Plant')\n",
      "        # add crown\n",
      "        #self._vid = g.add_component(self._vid, label='Crown')\n",
      "        self._order = 0\n",
      "        self._scale = 3\n",
      "        self._vid = g.add_component(g.root, label='Phytomer')\n",
      "        self._axis_vid.append(self._vid) \n",
      "        print self._vid\n",
      "        \n",
      "        nb_lines = len(self.content) - self.prop_no\n",
      "        for i in range(nb_lines):\n",
      "            self.read_line()\n",
      "        \n",
      "        self.g = fat_mtg(g)\n",
      "        \n",
      "    def parse(self):\n",
      "        \"\"\" Read the file and build the MTG \"\"\"\n",
      "        self.read()\n",
      "        self.header()\n",
      "        self.build_mtg()\n",
      "        return self.g\n",
      "\n"
     ],
     "language": "python",
     "metadata": {},
     "outputs": [],
     "prompt_number": 15
    },
    {
     "cell_type": "code",
     "collapsed": false,
     "input": [
      "#%pdb on\n",
      "reader = Reader(fn)\n",
      "g = reader.parse()\n"
     ],
     "language": "python",
     "metadata": {},
     "outputs": [
      {
       "output_type": "stream",
       "stream": "stdout",
       "text": [
        "Axis_1\tAxis_2\tAxe_3\tAxis_4\tAxis_5\tAxis_6\tleaf_area\tleaf_perimeter\tLobe_C_H\tLobe_C_L\tLobe_G_H\tLobe_G_L\tLeaf_area_algo\tCom.\tharvest_fruit\tfruit_aborded\tTotal_ruit\tcom.\t\t\t\t\t\n",
        "1\n",
        "ERROR 3 1 [46]\n"
       ]
      },
      {
       "ename": "IndexError",
       "evalue": "list index out of range",
       "output_type": "pyerr",
       "traceback": [
        "\u001b[1;31m---------------------------------------------------------------------------\u001b[0m\n\u001b[1;31mIndexError\u001b[0m                                Traceback (most recent call last)",
        "\u001b[1;32m<ipython-input-16-560c4ff7ec70>\u001b[0m in \u001b[0;36m<module>\u001b[1;34m()\u001b[0m\n\u001b[0;32m      1\u001b[0m \u001b[1;31m#%pdb on\u001b[0m\u001b[1;33m\u001b[0m\u001b[1;33m\u001b[0m\u001b[0m\n\u001b[0;32m      2\u001b[0m \u001b[0mreader\u001b[0m \u001b[1;33m=\u001b[0m \u001b[0mReader\u001b[0m\u001b[1;33m(\u001b[0m\u001b[0mfn\u001b[0m\u001b[1;33m)\u001b[0m\u001b[1;33m\u001b[0m\u001b[0m\n\u001b[1;32m----> 3\u001b[1;33m \u001b[0mg\u001b[0m \u001b[1;33m=\u001b[0m \u001b[0mreader\u001b[0m\u001b[1;33m.\u001b[0m\u001b[0mparse\u001b[0m\u001b[1;33m(\u001b[0m\u001b[1;33m)\u001b[0m\u001b[1;33m\u001b[0m\u001b[0m\n\u001b[0m",
        "\u001b[1;32m<ipython-input-15-c62e063ed9b8>\u001b[0m in \u001b[0;36mparse\u001b[1;34m(self)\u001b[0m\n\u001b[0;32m    176\u001b[0m         \u001b[0mself\u001b[0m\u001b[1;33m.\u001b[0m\u001b[0mread\u001b[0m\u001b[1;33m(\u001b[0m\u001b[1;33m)\u001b[0m\u001b[1;33m\u001b[0m\u001b[0m\n\u001b[0;32m    177\u001b[0m         \u001b[0mself\u001b[0m\u001b[1;33m.\u001b[0m\u001b[0mheader\u001b[0m\u001b[1;33m(\u001b[0m\u001b[1;33m)\u001b[0m\u001b[1;33m\u001b[0m\u001b[0m\n\u001b[1;32m--> 178\u001b[1;33m         \u001b[0mself\u001b[0m\u001b[1;33m.\u001b[0m\u001b[0mbuild_mtg\u001b[0m\u001b[1;33m(\u001b[0m\u001b[1;33m)\u001b[0m\u001b[1;33m\u001b[0m\u001b[0m\n\u001b[0m\u001b[0;32m    179\u001b[0m         \u001b[1;32mreturn\u001b[0m \u001b[0mself\u001b[0m\u001b[1;33m.\u001b[0m\u001b[0mg\u001b[0m\u001b[1;33m\u001b[0m\u001b[0m\n\u001b[0;32m    180\u001b[0m \u001b[1;33m\u001b[0m\u001b[0m\n",
        "\u001b[1;32m<ipython-input-15-c62e063ed9b8>\u001b[0m in \u001b[0;36mbuild_mtg\u001b[1;34m(self)\u001b[0m\n\u001b[0;32m    168\u001b[0m         \u001b[0mnb_lines\u001b[0m \u001b[1;33m=\u001b[0m \u001b[0mlen\u001b[0m\u001b[1;33m(\u001b[0m\u001b[0mself\u001b[0m\u001b[1;33m.\u001b[0m\u001b[0mcontent\u001b[0m\u001b[1;33m)\u001b[0m \u001b[1;33m-\u001b[0m \u001b[0mself\u001b[0m\u001b[1;33m.\u001b[0m\u001b[0mprop_no\u001b[0m\u001b[1;33m\u001b[0m\u001b[0m\n\u001b[0;32m    169\u001b[0m         \u001b[1;32mfor\u001b[0m \u001b[0mi\u001b[0m \u001b[1;32min\u001b[0m \u001b[0mrange\u001b[0m\u001b[1;33m(\u001b[0m\u001b[0mnb_lines\u001b[0m\u001b[1;33m)\u001b[0m\u001b[1;33m:\u001b[0m\u001b[1;33m\u001b[0m\u001b[0m\n\u001b[1;32m--> 170\u001b[1;33m             \u001b[0mself\u001b[0m\u001b[1;33m.\u001b[0m\u001b[0mread_line\u001b[0m\u001b[1;33m(\u001b[0m\u001b[1;33m)\u001b[0m\u001b[1;33m\u001b[0m\u001b[0m\n\u001b[0m\u001b[0;32m    171\u001b[0m \u001b[1;33m\u001b[0m\u001b[0m\n\u001b[0;32m    172\u001b[0m         \u001b[0mself\u001b[0m\u001b[1;33m.\u001b[0m\u001b[0mg\u001b[0m \u001b[1;33m=\u001b[0m \u001b[0mfat_mtg\u001b[0m\u001b[1;33m(\u001b[0m\u001b[0mg\u001b[0m\u001b[1;33m)\u001b[0m\u001b[1;33m\u001b[0m\u001b[0m\n",
        "\u001b[1;32m<ipython-input-15-c62e063ed9b8>\u001b[0m in \u001b[0;36mread_line\u001b[1;34m(self)\u001b[0m\n\u001b[0;32m    137\u001b[0m                 \u001b[1;32mpass\u001b[0m\u001b[1;33m\u001b[0m\u001b[0m\n\u001b[0;32m    138\u001b[0m         \u001b[1;32melse\u001b[0m\u001b[1;33m:\u001b[0m\u001b[1;33m\u001b[0m\u001b[0m\n\u001b[1;32m--> 139\u001b[1;33m             \u001b[0mpid\u001b[0m \u001b[1;33m=\u001b[0m \u001b[0mself\u001b[0m\u001b[1;33m.\u001b[0m\u001b[0m_axis_vid\u001b[0m\u001b[1;33m[\u001b[0m\u001b[0mcur_order\u001b[0m\u001b[1;33m]\u001b[0m\u001b[1;33m\u001b[0m\u001b[0m\n\u001b[0m\u001b[0;32m    140\u001b[0m             \u001b[0mself\u001b[0m\u001b[1;33m.\u001b[0m\u001b[0m_vid\u001b[0m \u001b[1;33m=\u001b[0m \u001b[0mg\u001b[0m\u001b[1;33m.\u001b[0m\u001b[0madd_child\u001b[0m\u001b[1;33m(\u001b[0m\u001b[0mpid\u001b[0m\u001b[1;33m,\u001b[0m \u001b[0mlabel\u001b[0m\u001b[1;33m=\u001b[0m\u001b[0mlabel\u001b[0m\u001b[1;33m,\u001b[0m \u001b[0medge_type\u001b[0m\u001b[1;33m=\u001b[0m\u001b[1;34m'<'\u001b[0m\u001b[1;33m,\u001b[0m \u001b[1;33m**\u001b[0m\u001b[0mcurrent_props\u001b[0m\u001b[1;33m)\u001b[0m\u001b[1;33m\u001b[0m\u001b[0m\n\u001b[0;32m    141\u001b[0m             \u001b[0mself\u001b[0m\u001b[1;33m.\u001b[0m\u001b[0m_axis_vid\u001b[0m\u001b[1;33m[\u001b[0m\u001b[0mcur_order\u001b[0m\u001b[1;33m]\u001b[0m \u001b[1;33m=\u001b[0m \u001b[0mself\u001b[0m\u001b[1;33m.\u001b[0m\u001b[0m_vid\u001b[0m\u001b[1;33m\u001b[0m\u001b[0m\n",
        "\u001b[1;31mIndexError\u001b[0m: list index out of range"
       ]
      }
     ],
     "prompt_number": 16
    },
    {
     "cell_type": "code",
     "collapsed": false,
     "input": [
      "g.display()\n",
      "print fn"
     ],
     "language": "python",
     "metadata": {},
     "outputs": [
      {
       "output_type": "stream",
       "stream": "stdout",
       "text": [
        "MTG : nb_vertices=1, nb_scales=1\n",
        "\n",
        "z:\\g1\\marc-labadie\\python\\strawberry\\share\\data\\Cir107_1_4.csv\n"
       ]
      }
     ],
     "prompt_number": 17
    },
    {
     "cell_type": "code",
     "collapsed": false,
     "input": [
      "gs = [strawberry2mtg(fn) for fn in files]"
     ],
     "language": "python",
     "metadata": {},
     "outputs": [
      {
       "output_type": "stream",
       "stream": "stdout",
       "text": [
        "Axis_1\tAxis_2\tAxe_3\tAxis_4\tAxis_5\tleaf_area\tleaf_perimeter\tLobe_C_H\tLobe_C_L\tLobe_G_H\tLobe_G_L\tLeaf_area_algo\tCom.\tharvest_fruit\tfruit_aborded\tTotal_ruit\tcom.\t\t\t\t\t\n",
        "Axis_1\tAxis_2\tAxe_3\tAxis_4\tAxis_5\tleaf_area\tleaf_perimeter\tLobe_C_H\tLobe_C_L\tLobe_G_H\tLobe_G_L\tLeaf_area_algo\tCom.\tharvest_fruit\tfruit_aborded\tTotal_ruit\tcom.\n",
        "Axis_1\tAxis_2\tAxe_3\tAxis_4\tAxis_5\tAxis_6\tAxis_7\tAxis_8\tleaf_area\tleaf_perimeter\tLobe_C_H\tLobe_C_L\tLobe_G_H\tLobe_G_L\tLeaf_area_algo\tCom.\tharvest_fruit\tfruit_aborded\tTotal_ruit\tcom.\t\t\t\t\t\n",
        "Axis_1\tAxis_2\tAxe_3\tAxis_4\tAxis_5\tAxis_6\tleaf_area\tleaf_perimeter\tLobe_C_H\tLobe_C_L\tLobe_G_H\tLobe_G_L\tLeaf_area_algo\tCom.\tharvest_fruit\tfruit_aborded\tTotal_ruit\tcom.\t\t\t\t\t\n",
        "ERROR 3 1 [45]\n"
       ]
      },
      {
       "ename": "IndexError",
       "evalue": "list index out of range",
       "output_type": "pyerr",
       "traceback": [
        "\u001b[1;31m---------------------------------------------------------------------------\u001b[0m\n\u001b[1;31mIndexError\u001b[0m                                Traceback (most recent call last)",
        "\u001b[1;32m<ipython-input-18-afe84ad61ded>\u001b[0m in \u001b[0;36m<module>\u001b[1;34m()\u001b[0m\n\u001b[1;32m----> 1\u001b[1;33m \u001b[0mgs\u001b[0m \u001b[1;33m=\u001b[0m \u001b[1;33m[\u001b[0m\u001b[0mstrawberry2mtg\u001b[0m\u001b[1;33m(\u001b[0m\u001b[0mfn\u001b[0m\u001b[1;33m)\u001b[0m \u001b[1;32mfor\u001b[0m \u001b[0mfn\u001b[0m \u001b[1;32min\u001b[0m \u001b[0mfiles\u001b[0m\u001b[1;33m]\u001b[0m\u001b[1;33m\u001b[0m\u001b[0m\n\u001b[0m",
        "\u001b[1;32mz:\\g1\\marc-labadie\\python\\strawberry\\src\\strawberry\\reader.pyc\u001b[0m in \u001b[0;36mstrawberry2mtg\u001b[1;34m(fn)\u001b[0m\n\u001b[0;32m    220\u001b[0m     \u001b[1;34m\"\"\" csv to MTG converter \"\"\"\u001b[0m\u001b[1;33m\u001b[0m\u001b[0m\n\u001b[0;32m    221\u001b[0m     \u001b[0mreader\u001b[0m \u001b[1;33m=\u001b[0m \u001b[0mReader\u001b[0m\u001b[1;33m(\u001b[0m\u001b[0mfn\u001b[0m\u001b[1;33m)\u001b[0m\u001b[1;33m\u001b[0m\u001b[0m\n\u001b[1;32m--> 222\u001b[1;33m     \u001b[0mg\u001b[0m \u001b[1;33m=\u001b[0m \u001b[0mreader\u001b[0m\u001b[1;33m.\u001b[0m\u001b[0mparse\u001b[0m\u001b[1;33m(\u001b[0m\u001b[1;33m)\u001b[0m\u001b[1;33m\u001b[0m\u001b[0m\n\u001b[0m\u001b[0;32m    223\u001b[0m     \u001b[1;32mreturn\u001b[0m \u001b[0mg\u001b[0m\u001b[1;33m\u001b[0m\u001b[0m\n",
        "\u001b[1;32mz:\\g1\\marc-labadie\\python\\strawberry\\src\\strawberry\\reader.pyc\u001b[0m in \u001b[0;36mparse\u001b[1;34m(self)\u001b[0m\n\u001b[0;32m    210\u001b[0m         \u001b[0mself\u001b[0m\u001b[1;33m.\u001b[0m\u001b[0mread\u001b[0m\u001b[1;33m(\u001b[0m\u001b[1;33m)\u001b[0m\u001b[1;33m\u001b[0m\u001b[0m\n\u001b[0;32m    211\u001b[0m         \u001b[0mself\u001b[0m\u001b[1;33m.\u001b[0m\u001b[0mheader\u001b[0m\u001b[1;33m(\u001b[0m\u001b[1;33m)\u001b[0m\u001b[1;33m\u001b[0m\u001b[0m\n\u001b[1;32m--> 212\u001b[1;33m         \u001b[0mself\u001b[0m\u001b[1;33m.\u001b[0m\u001b[0mbuild_mtg\u001b[0m\u001b[1;33m(\u001b[0m\u001b[1;33m)\u001b[0m\u001b[1;33m\u001b[0m\u001b[0m\n\u001b[0m\u001b[0;32m    213\u001b[0m         \u001b[1;32mreturn\u001b[0m \u001b[0mself\u001b[0m\u001b[1;33m.\u001b[0m\u001b[0mg\u001b[0m\u001b[1;33m\u001b[0m\u001b[0m\n\u001b[0;32m    214\u001b[0m \u001b[1;33m\u001b[0m\u001b[0m\n",
        "\u001b[1;32mz:\\g1\\marc-labadie\\python\\strawberry\\src\\strawberry\\reader.pyc\u001b[0m in \u001b[0;36mbuild_mtg\u001b[1;34m(self)\u001b[0m\n\u001b[0;32m    202\u001b[0m         \u001b[1;32mfor\u001b[0m \u001b[0mi\u001b[0m \u001b[1;32min\u001b[0m \u001b[0mrange\u001b[0m\u001b[1;33m(\u001b[0m\u001b[0mnb_lines\u001b[0m\u001b[1;33m)\u001b[0m\u001b[1;33m:\u001b[0m\u001b[1;33m\u001b[0m\u001b[0m\n\u001b[0;32m    203\u001b[0m             \u001b[1;31m#print self._vid\u001b[0m\u001b[1;33m\u001b[0m\u001b[1;33m\u001b[0m\u001b[0m\n\u001b[1;32m--> 204\u001b[1;33m             \u001b[0mself\u001b[0m\u001b[1;33m.\u001b[0m\u001b[0mread_line\u001b[0m\u001b[1;33m(\u001b[0m\u001b[1;33m)\u001b[0m\u001b[1;33m\u001b[0m\u001b[0m\n\u001b[0m\u001b[0;32m    205\u001b[0m \u001b[1;33m\u001b[0m\u001b[0m\n\u001b[0;32m    206\u001b[0m         \u001b[0mself\u001b[0m\u001b[1;33m.\u001b[0m\u001b[0mg\u001b[0m \u001b[1;33m=\u001b[0m \u001b[0mfat_mtg\u001b[0m\u001b[1;33m(\u001b[0m\u001b[0mg\u001b[0m\u001b[1;33m)\u001b[0m\u001b[1;33m\u001b[0m\u001b[0m\n",
        "\u001b[1;32mz:\\g1\\marc-labadie\\python\\strawberry\\src\\strawberry\\reader.pyc\u001b[0m in \u001b[0;36mread_line\u001b[1;34m(self)\u001b[0m\n\u001b[0;32m    171\u001b[0m                 \u001b[1;32mpass\u001b[0m\u001b[1;33m\u001b[0m\u001b[0m\n\u001b[0;32m    172\u001b[0m         \u001b[1;32melse\u001b[0m\u001b[1;33m:\u001b[0m\u001b[1;33m\u001b[0m\u001b[0m\n\u001b[1;32m--> 173\u001b[1;33m             \u001b[0mpid\u001b[0m \u001b[1;33m=\u001b[0m \u001b[0mself\u001b[0m\u001b[1;33m.\u001b[0m\u001b[0m_axis_vid\u001b[0m\u001b[1;33m[\u001b[0m\u001b[0mcur_order\u001b[0m\u001b[1;33m]\u001b[0m\u001b[1;33m\u001b[0m\u001b[0m\n\u001b[0m\u001b[0;32m    174\u001b[0m             \u001b[0mself\u001b[0m\u001b[1;33m.\u001b[0m\u001b[0m_vid\u001b[0m \u001b[1;33m=\u001b[0m \u001b[0mg\u001b[0m\u001b[1;33m.\u001b[0m\u001b[0madd_child\u001b[0m\u001b[1;33m(\u001b[0m\u001b[0mpid\u001b[0m\u001b[1;33m,\u001b[0m \u001b[0mlabel\u001b[0m\u001b[1;33m=\u001b[0m\u001b[0mlabel\u001b[0m\u001b[1;33m,\u001b[0m \u001b[0medge_type\u001b[0m\u001b[1;33m=\u001b[0m\u001b[1;34m'<'\u001b[0m\u001b[1;33m,\u001b[0m \u001b[1;33m**\u001b[0m\u001b[0mcurrent_props\u001b[0m\u001b[1;33m)\u001b[0m\u001b[1;33m\u001b[0m\u001b[0m\n\u001b[0;32m    175\u001b[0m             \u001b[0mself\u001b[0m\u001b[1;33m.\u001b[0m\u001b[0m_axis_vid\u001b[0m\u001b[1;33m[\u001b[0m\u001b[0mcur_order\u001b[0m\u001b[1;33m]\u001b[0m \u001b[1;33m=\u001b[0m \u001b[0mself\u001b[0m\u001b[1;33m.\u001b[0m\u001b[0m_vid\u001b[0m\u001b[1;33m\u001b[0m\u001b[0m\n",
        "\u001b[1;31mIndexError\u001b[0m: list index out of range"
       ]
      }
     ],
     "prompt_number": 18
    },
    {
     "cell_type": "code",
     "collapsed": false,
     "input": [
      "def compute_pyllochrone(g, dt = 10.):\n",
      "    max_scale = g.max_scale()\n",
      "    return g"
     ],
     "language": "python",
     "metadata": {},
     "outputs": [],
     "prompt_number": 8
    },
    {
     "cell_type": "code",
     "collapsed": false,
     "input": [
      "from openalea.mtg import traversal\n",
      "from openalea.mtg.plantframe import turtle\n",
      "from openalea.plantgl.all import *\n",
      "%gui qt\n",
      "\n",
      "g = gs[0]\n",
      "g.component_roots_at_scale(g.root, scale=1)"
     ],
     "language": "python",
     "metadata": {},
     "outputs": [
      {
       "metadata": {},
       "output_type": "pyout",
       "prompt_number": 9,
       "text": [
        "[1]"
       ]
      }
     ],
     "prompt_number": 9
    },
    {
     "cell_type": "code",
     "collapsed": false,
     "input": [
      "def visitor(g, v, turtle):\n",
      "    \"\"\" Function that draw geometry for a given vertex. \"\"\"\n",
      "    if g.edge_type(v) == '+':\n",
      "        turtle.down()\n",
      "    label = g.label(v)\n",
      "    print label\n",
      "    turtle.setId(v)\n",
      "    if label == 'Phytomer':\n",
      "        # set color\n",
      "        len_petiole = 1.\n",
      "        turtle.F(0.1)\n",
      "        turtle.push()\n",
      "        turtle.down()\n",
      "        turtle.F(len_petiole)\n",
      "        turtle.circle(1)\n",
      "        turtle.pop()\n",
      "    elif label == 'TerminalBud':\n",
      "        sphere = Sphere(radius=0.2)\n",
      "        turtle.customGeometry(sphere)\n",
      "        pass\n",
      "    turtle.rollL()\n",
      "\n",
      "scene = turtle.traverse_with_turtle(g, 1, visitor=visitor)"
     ],
     "language": "python",
     "metadata": {},
     "outputs": [
      {
       "output_type": "stream",
       "stream": "stdout",
       "text": [
        "Phytomer\n",
        "Phytomer\n",
        "Phytomer\n",
        "Phytomer\n",
        "Phytomer\n",
        "Phytomer\n",
        "Phytomer\n",
        "Phytomer\n",
        "Phytomer\n",
        "Phytomer\n",
        "Phytomer\n",
        "Phytomer\n",
        "Phytomer\n",
        "Phytomer\n",
        "Phytomer\n",
        "Phytomer\n",
        "Phytomer\n",
        "Phytomer\n",
        "Phytomer\n",
        "TerminalBud\n",
        "Inflorescence\n",
        "Inflorescence\n",
        "Phytomer\n",
        "Phytomer\n",
        "Phytomer\n",
        "Phytomer\n",
        "Phytomer\n",
        "Phytomer\n",
        "Phytomer\n",
        "Phytomer\n",
        "Phytomer\n",
        "Phytomer\n",
        "Phytomer\n",
        "Phytomer\n",
        "Phytomer\n",
        "Phytomer\n",
        "Phytomer\n",
        "Phytomer\n",
        "Phytomer\n",
        "TerminalBud\n",
        "Inflorescence\n",
        "Phytomer\n",
        "Phytomer\n",
        "Phytomer\n",
        "Phytomer\n",
        "Phytomer\n",
        "Phytomer\n",
        "Phytomer\n",
        "Phytomer\n",
        "Phytomer\n",
        "Phytomer\n",
        "Phytomer\n",
        "Phytomer\n",
        "Phytomer\n",
        "TerminalBud\n",
        "Inflorescence\n",
        "Inflorescence\n",
        "Phytomer\n",
        "Phytomer\n",
        "Phytomer\n",
        "Inflorescence\n"
       ]
      }
     ],
     "prompt_number": 10
    },
    {
     "cell_type": "code",
     "collapsed": false,
     "input": [
      "Viewer.display(scene)"
     ],
     "language": "python",
     "metadata": {},
     "outputs": [],
     "prompt_number": 11
    },
    {
     "cell_type": "code",
     "collapsed": false,
     "input": [
      "t = PglTurtle()\n"
     ],
     "language": "python",
     "metadata": {},
     "outputs": [],
     "prompt_number": 11
    },
    {
     "cell_type": "code",
     "collapsed": false,
     "input": [],
     "language": "python",
     "metadata": {},
     "outputs": []
    }
   ],
   "metadata": {}
  }
 ]
}