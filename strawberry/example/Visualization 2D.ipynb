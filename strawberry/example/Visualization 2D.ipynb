{
 "metadata": {
  "name": "",
  "signature": "sha256:93835f609d15a6a3c272f2061d3eac80ee95144ed4a7fccb6e9524623e0ca5f5"
 },
 "nbformat": 3,
 "nbformat_minor": 0,
 "worksheets": [
  {
   "cells": [
    {
     "cell_type": "markdown",
     "metadata": {},
     "source": [
      "#Shematic visualization of strowberry plant"
     ]
    },
    {
     "cell_type": "markdown",
     "metadata": {},
     "source": [
      "##Production rules\n",
      "    1- A Trifoliate Leaf (Phytomer)\n",
      "He's composed of internod followed a petiole and 3 foliar dics\n",
      "\n",
      "    2-Buds, sphere with little radius which color differ according to status\n",
      "        -A Vegetative Bud (green)\n",
      "        -A initiated Bud (orange)\n",
      "        -A Floral bud (red)\n",
      "    3-A stolon\n",
      "    4-TerminalBuds, sphere with importante status which color differ according to status \n",
      "        -A Terminal Vegetative Buds (green) \n",
      "        -A Terminal Initated buds (orange)\n",
      "        -A Terminal Floral buds (red)\n",
      "    5- An Inflorescence\n",
      "\n"
     ]
    },
    {
     "cell_type": "code",
     "collapsed": false,
     "input": [
      "from openalea.core import path\n",
      "from openalea.plantgl.all import *\n",
      "from openalea.mtg import *\n",
      "from openalea.deploy.shared_data import shared_data\n",
      "from math import radians\n",
      "import strawberry\n",
      "%gui qt"
     ],
     "language": "python",
     "metadata": {},
     "outputs": [],
     "prompt_number": 1
    },
    {
     "cell_type": "code",
     "collapsed": false,
     "input": [
      "#files = shared_data(\n",
      "files = shared_data(strawberry,share_path=\"share\\\\data\\\\TopModel\").glob('*.mtg')\n",
      "g= MTG(files[1])\n",
      "files[1]"
     ],
     "language": "python",
     "metadata": {},
     "outputs": [
      {
       "metadata": {},
       "output_type": "pyout",
       "prompt_number": 2,
       "text": [
        "path(u'z:\\\\g1\\\\marc-labadie\\\\python\\\\strawberry\\\\share\\\\data\\\\TopModel\\\\Reine des Vall\\xe9es.mtg')"
       ]
      }
     ],
     "prompt_number": 2
    },
    {
     "cell_type": "markdown",
     "metadata": {},
     "source": [
      "### 0- Colors"
     ]
    },
    {
     "cell_type": "code",
     "collapsed": false,
     "input": [
      "shoot_color=Material(\"green\",Color3(0,255,0))\n",
      "vegbud_color=Material(\"green\",Color3(0,40,0))\n",
      "initbud_color = Material(\"orange\",Color3(255,128,0))\n",
      "floral_color= Material(\"red\",Color3(255,0,0))"
     ],
     "language": "python",
     "metadata": {},
     "outputs": [],
     "prompt_number": 4
    },
    {
     "cell_type": "markdown",
     "metadata": {},
     "source": [
      "### 1-Leaves"
     ]
    },
    {
     "cell_type": "markdown",
     "metadata": {},
     "source": [
      "###1.1 Unifoliate leaf"
     ]
    },
    {
     "cell_type": "markdown",
     "metadata": {},
     "source": [
      "###1.2 Trifoliate leaf"
     ]
    },
    {
     "cell_type": "code",
     "collapsed": false,
     "input": [
      "def leaf():\n",
      "    cyl = Cylinder(0.01,0.5)\n",
      "    cyl2 =  AxisRotated(axis=(0,1,0), angle= radians(60.), geometry= cyl)\n",
      "    cyl3 = Translated(0,0,0.5,cyl2)\n",
      "    cl4= Group(cyl,cyl3)\n",
      "\n",
      "    disc= Disc()\n",
      "    disc = Translated((-.5,0,0), disc)\n",
      "    disc= AxisRotated(axis=(0,1,0), angle= radians(90.), geometry= disc)\n",
      "\n",
      "    d1 = AxisRotated(axis=(1,0,0), angle=-radians(60.), geometry=disc)\n",
      "    d2 = AxisRotated(axis=(1,0,0), angle=-radians(-60.), geometry=disc)\n",
      "    d3 = AxisRotated(axis=(1,0,0), angle=0., geometry=disc)\n",
      "    d1= Translated(0,0,1.6,d1)\n",
      "    d3= Translated(0,0,1,d3)\n",
      "    d2= Translated(0,0,1.6,d2)\n",
      "    d1=Scaled((0.01,0.3,0.15), d1)\n",
      "    d2=Scaled((0.01,0.3,0.15), d2)\n",
      "    d3=Scaled((0.01,0.15,0.3), d3)\n",
      "\n",
      "    leaflet= Group(d1,d2,d3)\n",
      "    leaflet = AxisRotated(axis=(0,1,0),angle=radians(0),geometry=leaflet)\n",
      "    leaflet = AxisRotated(axis=(1,0,0),angle=radians(60),geometry=leaflet)\n",
      "    leaflet = AxisRotated(axis=(0,0,1),angle=radians(90),geometry=leaflet)\n",
      "\n",
      "    leaflet = Translated((0.2,0,0.60),leaflet)\n",
      "    shape=Group(cl4,leaflet)\n",
      "    #leafs= [Shape(cl4,shoot_color),Shape(leaflet,shoot_color)]\n",
      "    #return Scene(leafs)\n",
      "    return(shape)\n",
      "\n",
      "Viewer.display(leaf())\n"
     ],
     "language": "python",
     "metadata": {},
     "outputs": [],
     "prompt_number": 5
    },
    {
     "cell_type": "markdown",
     "metadata": {},
     "source": [
      "### 2-Buds object"
     ]
    },
    {
     "cell_type": "code",
     "collapsed": false,
     "input": [
      "# vegetative buds\n",
      "\n",
      "def vegetative_bud():\n",
      "    sphere = Sphere(.04) \n",
      "    vegbud = [Shape(sphere,vegbud_color)]\n",
      "    return Scene(vegbud)\n",
      "\n",
      "Viewer.display(vegetative_bud())"
     ],
     "language": "python",
     "metadata": {},
     "outputs": [],
     "prompt_number": 6
    },
    {
     "cell_type": "code",
     "collapsed": false,
     "input": [
      "# Initiated buds\n",
      "def initiated_bud():\n",
      "    sphere = Sphere(.04) \n",
      "    initbud = [Shape(sphere,initbud_color)]\n",
      "    #return Scene(initbud)\n",
      "    return sphere\n",
      "Viewer.display(initiated_bud())"
     ],
     "language": "python",
     "metadata": {},
     "outputs": [],
     "prompt_number": 7
    },
    {
     "cell_type": "code",
     "collapsed": false,
     "input": [
      "# Floral buds \n",
      "def floral_bud():\n",
      "    sphere = Sphere(.04) \n",
      "    flobud= [Shape(sphere,floral_color)]\n",
      "    return Scene(flobud)\n",
      "Viewer.display(floral_bud())"
     ],
     "language": "python",
     "metadata": {},
     "outputs": [],
     "prompt_number": 8
    },
    {
     "cell_type": "markdown",
     "metadata": {},
     "source": [
      "### 3- Stolon"
     ]
    },
    {
     "cell_type": "code",
     "collapsed": false,
     "input": [
      "\n",
      "def stolon():\n",
      "    cyl = Cylinder(0.01,0.5)\n",
      "    cyl2 = Cylinder(0.01,0.2)\n",
      "    cyl3 = Cylinder(0.01,0.2)\n",
      "    cyl = AxisRotated(axis=(0,1,0), angle= radians(30.), geometry= cyl)\n",
      "    cyl2 = AxisRotated(axis=(0,1,0), angle= -radians(120.), geometry= cyl2)\n",
      "    cyl3 = AxisRotated(axis=(0,1,0), angle= -radians(180.), geometry= cyl3)\n",
      "    cyl2= Translated((0.26,0,0.45),cyl2)\n",
      "    cyl3= Translated((0.26,0,0.45),cyl3)\n",
      "    sto= Group([cyl,cyl2,cyl3])\n",
      "    stol = [Shape(sto,shoot_color)]                   \n",
      "    return sto\n",
      "\n",
      "Viewer.display(stolon())  "
     ],
     "language": "python",
     "metadata": {},
     "outputs": [],
     "prompt_number": 9
    },
    {
     "cell_type": "markdown",
     "metadata": {},
     "source": [
      "### 4-TerminalBuds object"
     ]
    },
    {
     "cell_type": "code",
     "collapsed": false,
     "input": [
      "# Terminal vegetative buds\n",
      "\n",
      "def terminal_vegetative_bud():\n",
      "    sphere = Sphere(.1)\n",
      "    sphere_color= Material(\"green\",Color3(0,40,0))\n",
      "    sphere= Translated((0,0,0.5),sphere)\n",
      "    cyl= Cylinder(0.01,0.5)\n",
      "    cyl_color= Material(\"green\",Color3(0,255,0))\n",
      "    shape = Group([sphere,cyl])\n",
      "    tvegbud= [Shape(cyl,shoot_color),Shape(sphere,vegbud_color)]\n",
      "    return Scene(tvegbud)\n",
      "\n",
      "Viewer.display(terminal_vegetative_bud())"
     ],
     "language": "python",
     "metadata": {},
     "outputs": [],
     "prompt_number": 10
    },
    {
     "cell_type": "code",
     "collapsed": false,
     "input": [
      "# Terminal Initiated buds\n",
      "def terminal_initated_bud():\n",
      "    sphere = Sphere(.1)\n",
      "    sphere= Translated((0,0,0.5),sphere)\n",
      "    cyl= Cylinder(0.01,0.5)\n",
      "    shape = Group([sphere,cyl])\n",
      "    terminalbud_color= [Shape(cyl,shoot_color),Shape(sphere,initbud_color)]\n",
      "    return Scene(terminalbud_color)\n",
      "Viewer.display(terminal_initated_bud())"
     ],
     "language": "python",
     "metadata": {},
     "outputs": [],
     "prompt_number": 22
    },
    {
     "cell_type": "code",
     "collapsed": false,
     "input": [
      "# Terminal Floral buds \n",
      "def terminal_floral_bud():\n",
      "    sphere = Sphere(.1)\n",
      "    sphere= Translated((0,0,0.5),sphere)\n",
      "    cyl= Cylinder(0.01,0.5)\n",
      "    cyl_color= Material(\"green\",Color3(0,255,0))\n",
      "    shape = Group([sphere,cyl])\n",
      "    return shape\n",
      "    #tflobud= [Shape(cyl,shoot_color),Shape(sphere,floral_color)]\n",
      "    #return Scene(tflobud)\n",
      "Viewer.display(terminal_floral_bud())"
     ],
     "language": "python",
     "metadata": {},
     "outputs": [],
     "prompt_number": 24
    },
    {
     "cell_type": "markdown",
     "metadata": {},
     "source": [
      "### 5-Inflorescence "
     ]
    },
    {
     "cell_type": "code",
     "collapsed": false,
     "input": [
      "def Inflorescence():\n",
      "    box = Box(.1,0.1,0.15)\n",
      "    box_axis = AxisRotated(axis=(0,1,0), angle =45.,geometry=box)\n",
      "    box2 = Translated(.5,0,.8,box_axis)\n",
      "\n",
      "    cyl = Cylinder(.01,0.5)\n",
      "    cyl2 =  AxisRotated(axis=(0,1,0), angle= 45., geometry= cyl)\n",
      "    cyl3 = Translated(0,0,0.5,cyl2)\n",
      "\n",
      "    shape= Group([cyl,cyl3,box2])\n",
      "    Inflorescence= [Shape(cyl,shoot_color),Shape(cyl3,shoot_color),Shape(box2,floral_color)]\n",
      "    return shape\n",
      "    \n",
      "\n",
      "Viewer.display(Inflorescence())"
     ],
     "language": "python",
     "metadata": {},
     "outputs": [],
     "prompt_number": 12
    },
    {
     "cell_type": "code",
     "collapsed": false,
     "input": [
      "initbud=[initiated_bud()]\n",
      "initbud= Translated(0,0,0,initbud[0])"
     ],
     "language": "python",
     "metadata": {},
     "outputs": [],
     "prompt_number": 13
    },
    {
     "cell_type": "code",
     "collapsed": false,
     "input": [
      "leaves=[leaf() for i in range(3)]\n",
      "leaves= [Translated(0,0,0,leaves[0]),Translated(0,0,0.5,leaves[1]),Translated(0,0,1,leaves[2])]\n",
      "leaves= [AxisRotated(axis=(0,0,1),angle=0,geometry=leaves[0]),AxisRotated(axis=(0,0,1),angle=radians(180),geometry=leaves[1]),\n",
      "         AxisRotated(axis=(0,0,1),angle=0,geometry=leaves[2])]\n",
      "\n",
      "initbud=[initiated_bud()]\n",
      "initbud= [Translated(.04,0,0.56,initbud[0])]\n",
      "\n",
      "sto= [stolon()]\n",
      "sto=[Translated(0,0,1,sto[0])]\n",
      "sto= [AxisRotated(axis=(0,0,1),angle=radians(180),geometry=sto[0])]\n",
      "\n",
      "inflo=[Inflorescence()]\n",
      "inflo=[Translated(0,0,1.5,inflo[0])]\n",
      "inflo=[AxisRotated(axis=(0,0,1),angle=radians(180),geometry=inflo[0])]\n",
      "\n",
      "shape= [Group(leaves[0],leaves[1],leaves[2],initbud[0],sto[0]),inflo[0]]\n",
      "scene= Scene(shape)\n",
      "Viewer.display(scene)"
     ],
     "language": "python",
     "metadata": {},
     "outputs": [],
     "prompt_number": 14
    },
    {
     "cell_type": "markdown",
     "metadata": {},
     "source": [
      "# Try to draw a full MTG\n",
      "\n",
      "## Let's go guy, no worry...\n",
      "\n",
      "### TODO: \n",
      "- Add visible on MTG\n",
      "- Move all the functions into a module"
     ]
    },
    {
     "cell_type": "code",
     "collapsed": false,
     "input": [
      "# imports\n",
      "from openalea.mtg import *\n",
      "from openalea.mtg.turtle import *\n",
      "from math import radians"
     ],
     "language": "python",
     "metadata": {},
     "outputs": [],
     "prompt_number": 25
    },
    {
     "cell_type": "code",
     "collapsed": false,
     "input": [
      "def drawable(g):\n",
      "    drawables = {}\n",
      "    max_scale = 3\n",
      "    vids = g.component_roots_at_scale_iter(g.root, scale=max_scale)\n",
      "    for root in vids:\n",
      "        for v in traversal.pre_order2(g,root):\n",
      "            pid = g.parent(v)\n",
      "                \n",
      "            if pid is not None and drawables[pid] is False:\n",
      "                drawables[v] = False\n",
      "            else:\n",
      "                if g.edge_type(v) == '+' and g.label(pid) =='f':\n",
      "                    drawables[v] = False\n",
      "                else:\n",
      "                    drawables[v] = True\n",
      "    g.properties()['drawable'] = drawables\n",
      "drawable(g)\n",
      "                    \n",
      "                    "
     ],
     "language": "python",
     "metadata": {},
     "outputs": [],
     "prompt_number": 26
    },
    {
     "cell_type": "code",
     "collapsed": false,
     "input": [
      "# Function for color entities\n",
      "def color_code(g):\n",
      "    shoot_green = (0,255,0)\n",
      "    vegetative = (0,128,0)\n",
      "    initiated= (125,125,0)\n",
      "    floral= (255,0,0)\n",
      "    \n",
      "    labels = g.property('label')\n",
      "    for v in g.vertices(scale=g.max_scale()):\n",
      "        nid = g.node(v)\n",
      "        if nid.label == 'F':\n",
      "            foliar_type= nid.Foliar_type\n",
      "            if nid.Foliar_type =='Cotyledon':\n",
      "                nid.color=(0,0,255)\n",
      "            elif nid.Foliar_type=='Unifoliate':\n",
      "                nid.color=(125,125,125)\n",
      "            else:\n",
      "                nid.color = shoot_green\n",
      "        elif nid.label == 's':\n",
      "            nid.color = shoot_green\n",
      "        elif nid.label == 'bt':\n",
      "            stade = nid.Stade\n",
      "            if stade is None:\n",
      "                nid.color = vegetative\n",
      "            elif stade in ('17', '18', '19'):\n",
      "                nid.color=vegetative\n",
      "            elif stade == 'A':\n",
      "                nid.color = initiated\n",
      "            elif stade in 'BCDEFGH':\n",
      "                nid.color = floral\n",
      "        elif nid.label == 'ht':\n",
      "            stade = nid.Stade\n",
      "            if stade is None:\n",
      "                nid.color = vegetative\n",
      "            elif stade in ('17', '18', '19'):\n",
      "                nid.color= vegetative\n",
      "            elif stade == 'A':\n",
      "                nid.color = initiated\n",
      "            elif stade in 'BCDEFGH':\n",
      "                nid.color = floral\n",
      "            else:\n",
      "                nid.color = (153, 102, 51)\n",
      "        elif nid.label == 'HT':\n",
      "            stade = nid.Stade\n",
      "            if stade is None:\n",
      "                nid.color = vegetative\n",
      "            elif stade in ('17', '18', '19'):\n",
      "                nid.color= vegetative\n",
      "            else:\n",
      "                nid.color = floral"
     ],
     "language": "python",
     "metadata": {},
     "outputs": [],
     "prompt_number": 27
    },
    {
     "cell_type": "code",
     "collapsed": false,
     "input": [
      "def get_functions(label):\n",
      "    if label == 'F':\n",
      "        return leaf\n",
      "    \n",
      "def is_visible(g, v):\n",
      "    if g.edge_type(v) == '+' and g.label(v) == 'F':\n",
      "        return True\n",
      "    else: \n",
      "        return False"
     ],
     "language": "python",
     "metadata": {},
     "outputs": [],
     "prompt_number": 28
    },
    {
     "cell_type": "code",
     "collapsed": false,
     "input": [
      "def my_visitor(g, v, turtle, time=0):\n",
      "    turtle.setWidth(0.01)\n",
      "    nid = g.node(v)\n",
      "    label = g.label(v)\n",
      "    draw_it = nid.drawable\n",
      "    \n",
      "    if label in ('F','f'):\n",
      "        turtle.rollL(180.)\n",
      "    turtle.setId(v)\n",
      "    \n",
      "    advance = 0.5\n",
      "    \n",
      "    if not draw_it:\n",
      "        pass\n",
      "    elif label == 'F':\n",
      "        if is_visible(g, v):\n",
      "            turtle.down(90)\n",
      "            turtle.F(1.5)\n",
      "            turtle.down(-90)\n",
      "        custom = leaf()\n",
      "        t.customGeometry(custom)\n",
      "        t.f(advance)\n",
      "    elif label == 'f':\n",
      "        pass\n",
      "    elif label == 's':\n",
      "        custom = stolon()\n",
      "        t.customGeometry(custom)\n",
      "    elif label == 'ht':\n",
      "        # TODO: Do not draw elements \n",
      "        custom = terminal_floral_bud()\n",
      "        t.customGeometry(custom)\n",
      "    elif label == 'HT':\n",
      "        custom = Inflorescence()\n",
      "        t.customGeometry(custom)\n",
      "        t.f(advance)\n",
      "    elif label == 'bt':\n",
      "        custom = initiated_bud()\n",
      "        t.down(30.)\n",
      "        t.f(0.05)\n",
      "        t.customGeometry(custom)\n",
      "            "
     ],
     "language": "python",
     "metadata": {},
     "outputs": [],
     "prompt_number": 29
    },
    {
     "cell_type": "code",
     "collapsed": false,
     "input": [
      "max_scale=3\n",
      "roots = [v for v in g.component_roots_at_scale(0, scale=max_scale)]\n",
      "len(roots)"
     ],
     "language": "python",
     "metadata": {},
     "outputs": [
      {
       "metadata": {},
       "output_type": "pyout",
       "prompt_number": 30,
       "text": [
        "10"
       ]
      }
     ],
     "prompt_number": 30
    },
    {
     "cell_type": "code",
     "collapsed": false,
     "input": [
      "max_scale = g.max_scale()\n",
      "color_code(g)\n",
      "for plant in range(0, 10):\n",
      "    t = PglTurtle()\n",
      "    vid = roots[plant]\n",
      "    scene = turtle.traverse_with_turtle(g, vid, visitor=my_visitor, turtle=t, gc=False)\n",
      "    Viewer.display(scene)\n",
      "    cid = g.node(vid).complex_at_scale(scale=1)\n",
      "    string = \" Plant = %d, Genotype = %s, date = %s \"%(cid.Plante, cid.Genotype, cid.Sample_date)\n",
      "    Viewer.waitSelection(string)"
     ],
     "language": "python",
     "metadata": {},
     "outputs": [],
     "prompt_number": 33
    },
    {
     "cell_type": "code",
     "collapsed": false,
     "input": [
      "cid = g.node(vid).complex_at_scale(scale=1)\n",
      "cid.Genotype\n",
      "g[6279]"
     ],
     "language": "python",
     "metadata": {},
     "outputs": [
      {
       "metadata": {},
       "output_type": "pyout",
       "prompt_number": 75,
       "text": [
        "{'complex': None, 'index': 6279, 'parent': None, 'scale': None, 'vid': 6279}"
       ]
      }
     ],
     "prompt_number": 75
    }
   ],
   "metadata": {}
  }
 ]
}