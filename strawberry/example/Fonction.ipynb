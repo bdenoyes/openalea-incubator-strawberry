{
 "metadata": {
  "name": "",
  "signature": "sha256:da0ccbdb7cae3c7472d994d065f8c9394ed15e9a81f9be293c453e7439c6ab1e"
 },
 "nbformat": 3,
 "nbformat_minor": 0,
 "worksheets": [
  {
   "cells": [
    {
     "cell_type": "code",
     "collapsed": false,
     "input": [
      "from openalea.core import path\n",
      "from openalea.mtg import *\n",
      "from openalea.mtg.algo import orders\n",
      "from openalea.deploy.shared_data import shared_data\n",
      "import strawberry\n",
      "import glob\n",
      "import openalea.plantgl.all as pgl"
     ],
     "language": "python",
     "metadata": {},
     "outputs": [],
     "prompt_number": 1
    },
    {
     "cell_type": "code",
     "collapsed": false,
     "input": [
      "% gui qt\n",
      "files = shared_data(strawberry).glob('*.mtg')\n",
      "files"
     ],
     "language": "python",
     "metadata": {},
     "outputs": [
      {
       "metadata": {},
       "output_type": "pyout",
       "prompt_number": 2,
       "text": [
        "[path(u'/Users/pradal/devlp/alinea/strawberry/share/data/Capriss.mtg'),\n",
        " path(u'/Users/pradal/devlp/alinea/strawberry/share/data/Ciflorette.mtg'),\n",
        " path(u'/Users/pradal/devlp/alinea/strawberry/share/data/Cir107.mtg'),\n",
        " path(u'/Users/pradal/devlp/alinea/strawberry/share/data/Clery.mtg'),\n",
        " path(u'/Users/pradal/devlp/alinea/strawberry/share/data/Darselect.mtg'),\n",
        " path(u'/Users/pradal/devlp/alinea/strawberry/share/data/Gariguette.mtg')]"
       ]
      }
     ],
     "prompt_number": 2
    },
    {
     "cell_type": "code",
     "collapsed": false,
     "input": [
      "g=MTG(files[0])"
     ],
     "language": "python",
     "metadata": {},
     "outputs": [
      {
       "output_type": "stream",
       "stream": "stdout",
       "text": [
        "replace all the date format by -\n"
       ]
      }
     ],
     "prompt_number": 3
    },
    {
     "cell_type": "code",
     "collapsed": false,
     "input": [
      "from strawberry import Rules_production\n",
      "from strawberry import Visualization\n",
      "reload(Rules_production)"
     ],
     "language": "python",
     "metadata": {},
     "outputs": [
      {
       "metadata": {},
       "output_type": "pyout",
       "prompt_number": 3,
       "text": [
        "<module 'strawberry.Rules_production' from '/Users/pradal/devlp/alinea/strawberry/src/strawberry/Rules_production.pyc'>"
       ]
      }
     ],
     "prompt_number": 3
    },
    {
     "cell_type": "code",
     "collapsed": false,
     "input": [
      "g=MTG(files[5]) \n",
      "g.properties()['order'] = orders(g)\n",
      "Rules_production.color_code(g)\n",
      "scene = Visualization.visualise_plants(g)\n",
      "pgl.Viewer.display(scene)"
     ],
     "language": "python",
     "metadata": {},
     "outputs": [
      {
       "output_type": "stream",
       "stream": "stderr",
       "text": [
        "/Users/pradal/devlp/alinea/strawberry/src/strawberry/Rules_production.py:70: Warning: Invalid Color value 7 in setColor (maximum is 6)\n",
        "  t.setColor(6+order)\n",
        "/Users/pradal/devlp/alinea/strawberry/src/strawberry/Rules_production.py:118: Warning: Invalid Color value 9 in setColor (maximum is 6)\n",
        "  t.setColor(8+order)\n",
        "/Users/pradal/devlp/alinea/strawberry/src/strawberry/Rules_production.py:118: Warning: Invalid Color value 8 in setColor (maximum is 6)\n",
        "  t.setColor(8+order)\n",
        "/Users/pradal/devlp/alinea/strawberry/src/strawberry/Rules_production.py:70: Warning: Invalid Color value 8 in setColor (maximum is 6)\n",
        "  t.setColor(6+order)\n",
        "/Users/pradal/devlp/alinea/strawberry/src/strawberry/Rules_production.py:118: Warning: Invalid Color value 10 in setColor (maximum is 6)\n",
        "  t.setColor(8+order)\n"
       ]
      },
      {
       "output_type": "stream",
       "stream": "stderr",
       "text": [
        "/Users/pradal/devlp/alinea/strawberry/src/strawberry/Rules_production.py:70: Warning: Invalid Color value 9 in setColor (maximum is 6)\n",
        "  t.setColor(6+order)\n",
        "/Users/pradal/devlp/alinea/strawberry/src/strawberry/Rules_production.py:118: Warning: Invalid Color value 11 in setColor (maximum is 6)\n",
        "  t.setColor(8+order)\n"
       ]
      },
      {
       "output_type": "stream",
       "stream": "stderr",
       "text": [
        "/Users/pradal/devlp/alinea/strawberry/src/strawberry/Rules_production.py:70: Warning: Invalid Color value 10 in setColor (maximum is 6)\n",
        "  t.setColor(6+order)\n",
        "/Users/pradal/devlp/alinea/strawberry/src/strawberry/Rules_production.py:133: Warning: Invalid Color value 7 in setColor (maximum is 6)\n",
        "  t.setColor(2+order)\n"
       ]
      },
      {
       "output_type": "stream",
       "stream": "stderr",
       "text": [
        "/Users/pradal/devlp/alinea/strawberry/src/strawberry/Rules_production.py:118: Warning: Invalid Color value 12 in setColor (maximum is 6)\n",
        "  t.setColor(8+order)\n",
        "/Users/pradal/devlp/alinea/strawberry/src/strawberry/Rules_production.py:157: Warning: Invalid Color value 7 in setColor (maximum is 6)\n",
        "  t.setColor(2+order)\n"
       ]
      },
      {
       "output_type": "stream",
       "stream": "stderr",
       "text": [
        "/Users/pradal/devlp/alinea/strawberry/src/strawberry/Rules_production.py:70: Warning: Invalid Color value 11 in setColor (maximum is 6)\n",
        "  t.setColor(6+order)\n",
        "/Users/pradal/devlp/alinea/strawberry/src/strawberry/Rules_production.py:44: Warning: Invalid Color value 7 in setColor (maximum is 6)\n",
        "  t.setColor(2+order)\n"
       ]
      },
      {
       "output_type": "stream",
       "stream": "stdout",
       "text": [
        "replace all the date format by -\n"
       ]
      },
      {
       "output_type": "stream",
       "stream": "stderr",
       "text": [
        "/Users/pradal/devlp/alinea/strawberry/src/strawberry/Rules_production.py:157: Warning: Invalid Color value 8 in setColor (maximum is 6)\n",
        "  t.setColor(2+order)\n",
        "/Users/pradal/devlp/alinea/strawberry/src/strawberry/Rules_production.py:70: Warning: Invalid Color value 12 in setColor (maximum is 6)\n",
        "  t.setColor(6+order)\n",
        "/Users/pradal/devlp/alinea/strawberry/src/strawberry/Rules_production.py:157: Warning: Invalid Color value 9 in setColor (maximum is 6)\n",
        "  t.setColor(2+order)\n",
        "/Users/pradal/devlp/alinea/strawberry/src/strawberry/Rules_production.py:133: Warning: Invalid Color value 8 in setColor (maximum is 6)\n",
        "  t.setColor(2+order)\n",
        "/Users/pradal/devlp/alinea/strawberry/src/strawberry/Rules_production.py:100: Warning: Invalid Color value 7 in setColor (maximum is 6)\n",
        "  t.setColor(2+order)\n"
       ]
      }
     ],
     "prompt_number": 5
    },
    {
     "cell_type": "markdown",
     "metadata": {},
     "source": [
      "def visualization_strawberry_plant(Genotype,Date,Plante): Permet de visualiser un plant en l'appelant par son g\u00e9notype, son num\u00e9ros de plante et son age"
     ]
    },
    {
     "cell_type": "code",
     "collapsed": false,
     "input": [
      "big_mtg = MTG()\n",
      "for fn in files:\n",
      "    big_mtg = algo.union(big_mtg, MTG(fn))\n",
      "g = big_mtg\n",
      "#Parent=g.vertices(scale=1)\n",
      "Genotype= g.property(\"Genotype\")\n",
      "\n",
      "genotypes = set(g.property(\"Genotype\").itervalues())\n",
      "print genotypes\n",
      "\n",
      "# Filter Genotype, Date, Plante\n",
      "def visualization_strawberry_plant(Genotype,Date,Plante, g=g): \n",
      "    \"\"\"ENG: Permet de visualiser un plant en l'appelant par son g\u00e9notype, son num\u00e9ros de plante et son age\"\"\"\n",
      "    genotypes = g.property(\"Genotype\")"
     ],
     "language": "python",
     "metadata": {},
     "outputs": [
      {
       "output_type": "stream",
       "stream": "stdout",
       "text": [
        "replace all the date format by -\n",
        "replace all the date format by -"
       ]
      },
      {
       "output_type": "stream",
       "stream": "stdout",
       "text": [
        "\n",
        "replace all the date format by -"
       ]
      },
      {
       "output_type": "stream",
       "stream": "stdout",
       "text": [
        "\n",
        "replace all the date format by -"
       ]
      },
      {
       "output_type": "stream",
       "stream": "stdout",
       "text": [
        "\n",
        "replace all the date format by -"
       ]
      },
      {
       "output_type": "stream",
       "stream": "stdout",
       "text": [
        "\n",
        "replace all the date format by -"
       ]
      },
      {
       "output_type": "stream",
       "stream": "stdout",
       "text": [
        "\n",
        "set(['Ciflorette', 'Darselect', 'Gariguette', 'Capriss', 'Clery', 'Cir107'])"
       ]
      },
      {
       "output_type": "stream",
       "stream": "stdout",
       "text": [
        "\n"
       ]
      }
     ],
     "prompt_number": 5
    },
    {
     "cell_type": "code",
     "collapsed": false,
     "input": [
      "%pdb off\n",
      "from strawberry import analysis\n",
      "\n",
      "g.properties()['order'] = orders(g)\n",
      "Rules_production.color_code(g)\n",
      "df = analysis.to_dataframe(g, g.vertices(scale=1))\n",
      "vid = int(df[df.Genotype=='Capriss'][df.Plante==4][df.date=='07-01-2015'].vid)\n",
      "Visualization.visualise_plants(g, [vid], positions=[(0,0,0)])"
     ],
     "language": "python",
     "metadata": {},
     "outputs": [
      {
       "output_type": "stream",
       "stream": "stdout",
       "text": [
        "Automatic pdb calling has been turned OFF\n"
       ]
      },
      {
       "output_type": "stream",
       "stream": "stderr",
       "text": [
        "-c:7: UserWarning: Boolean Series key will be reindexed to match DataFrame index.\n",
        "/Users/pradal/devlp/alinea/strawberry/src/strawberry/Rules_production.py:70: Warning: Invalid Color value 7 in setColor (maximum is 6)\n",
        "  t.setColor(6+order)\n",
        "/Users/pradal/devlp/alinea/strawberry/src/strawberry/Rules_production.py:118: Warning: Invalid Color value 9 in setColor (maximum is 6)\n",
        "  t.setColor(8+order)\n",
        "/Users/pradal/devlp/alinea/strawberry/src/strawberry/Rules_production.py:70: Warning: Invalid Color value 8 in setColor (maximum is 6)\n",
        "  t.setColor(6+order)\n",
        "/Users/pradal/devlp/alinea/strawberry/src/strawberry/Rules_production.py:118: Warning: Invalid Color value 10 in setColor (maximum is 6)\n",
        "  t.setColor(8+order)\n",
        "/Users/pradal/devlp/alinea/strawberry/src/strawberry/Rules_production.py:70: Warning: Invalid Color value 9 in setColor (maximum is 6)\n",
        "  t.setColor(6+order)\n"
       ]
      },
      {
       "metadata": {},
       "output_type": "pyout",
       "prompt_number": 6,
       "text": [
        "<openalea.plantgl.scenegraph._pglsg.Scene at 0x119f8fcb0>"
       ]
      }
     ],
     "prompt_number": 6
    },
    {
     "cell_type": "code",
     "collapsed": false,
     "input": [
      "vids = list(df[df.Genotype=='Clery'][df.Plante==3].vid.values)\n",
      "n = len(vids)\n",
      "print n\n",
      "\n",
      "n_cols = 1\n",
      "n_rows = n/n_cols +1\n",
      "\n",
      "dx = 2\n",
      "dy = 4\n",
      "y0 = -n_rows*dx /2.\n",
      "x0 = -n_cols*dy/2.\n",
      "positions = [(x0+i*dx, y0+j*dy, 0) for i in range(n_cols) for j in range(n_rows)][:n]\n",
      "scene = Visualization.visualise_plants(g, vids, positions)\n",
      "pgl.Viewer.display(scene)"
     ],
     "language": "python",
     "metadata": {},
     "outputs": [
      {
       "output_type": "stream",
       "stream": "stdout",
       "text": [
        "6\n"
       ]
      }
     ],
     "prompt_number": 23
    },
    {
     "cell_type": "code",
     "collapsed": false,
     "input": [
      "import pandas as pd\n",
      "sel=pd.read_csv('selection.csv', sep='\\t', skiprows=0, index_col=None)\n",
      "del sel['dist']\n",
      "sel.Genotype = sel.Genotype.str.strip() \n",
      "sel = sel[sel.Genotype.str.strip()=='Capriss']\n",
      "for l in sel.values:\n",
      "    print l\n",
      "    geno, plante, date = l\n",
      "    vid = df[df.Genotype==geno][df.Plante==plante][df.date==date]\n",
      "    print vid"
     ],
     "language": "python",
     "metadata": {},
     "outputs": [
      {
       "output_type": "stream",
       "stream": "stdout",
       "text": [
        "['Capriss' 4 '10-12-2014 ']\n",
        "Empty DataFrame\n",
        "Columns: [Genotype, Plante, _line, complex, date, diam_mm, index, label, order, parent, scale, vid]\n",
        "Index: []\n",
        "['Capriss' 7 '07-01-2015 ']\n",
        "Empty DataFrame\n",
        "Columns: [Genotype, Plante, _line, complex, date, diam_mm, index, label, order, parent, scale, vid]\n",
        "Index: []\n",
        "['Capriss' 5 '15-02-2015 ']\n",
        "Empty DataFrame\n",
        "Columns: [Genotype, Plante, _line, complex, date, diam_mm, index, label, order, parent, scale, vid]\n",
        "Index: []\n",
        "['Capriss' 6 '02-03-2015 ']\n",
        "Empty DataFrame\n",
        "Columns: [Genotype, Plante, _line, complex, date, diam_mm, index, label, order, parent, scale, vid]\n",
        "Index: []\n",
        "['Capriss' 6 '03-04-2015 ']\n",
        "Empty DataFrame\n",
        "Columns: [Genotype, Plante, _line, complex, date, diam_mm, index, label, order, parent, scale, vid]\n",
        "Index: []\n",
        "['Capriss' 4 '27-05-2015 ']\n",
        "Empty DataFrame\n",
        "Columns: [Genotype, Plante, _line, complex, date, diam_mm, index, label, order, parent, scale, vid]\n",
        "Index: []\n"
       ]
      }
     ],
     "prompt_number": 96
    },
    {
     "cell_type": "code",
     "collapsed": false,
     "input": [
      "sel=pd.read_csv"
     ],
     "language": "python",
     "metadata": {},
     "outputs": []
    },
    {
     "cell_type": "markdown",
     "metadata": {},
     "source": [
      "def visualisation_strawberry_genotype(Genotype,nb_date,nb_plante): Permet de visualiser l'ensemble des plants d'un g\u00e9notype classer par rapport \u00e0 son age"
     ]
    },
    {
     "cell_type": "markdown",
     "metadata": {},
     "source": [
      "def visualisation_central_Plante(Genotype, Plante,Date): Permet de repr\u00e9senter le plant centrale"
     ]
    },
    {
     "cell_type": "markdown",
     "metadata": {},
     "source": [
      "def visualisation_central_Genotype(Genotype, nb_Plante, nb_date): Permet de visualiser les plants centraux d'un g\u00e9notype "
     ]
    },
    {
     "cell_type": "markdown",
     "metadata": {},
     "source": [
      "def visualisation_comparaison_central_genotype(Genotype): Permet de comparer les plant centraux des diff\u00e9rents g\u00e9notype"
     ]
    }
   ],
   "metadata": {}
  }
 ]
}