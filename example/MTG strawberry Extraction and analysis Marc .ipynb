{
 "metadata": {
  "name": "",
  "signature": "sha256:b10f02dd74c10c86ffb7439d5e615edcb226c1444613cbcafc008f0b4fab0ccd"
 },
 "nbformat": 3,
 "nbformat_minor": 0,
 "worksheets": [
  {
   "cells": [
    {
     "cell_type": "markdown",
     "metadata": {},
     "source": [
      "#MTG Extraction and Analysis Marc"
     ]
    },
    {
     "cell_type": "code",
     "collapsed": false,
     "input": [
      "from openalea.deploy.shared_data import shared_data\n",
      "import strawberry\n",
      "from strawberry.reader import Reader, strawberry2mtg \n",
      "from openalea.mtg import MTG, fat_mtg\n",
      "from openalea.mtg import algo"
     ],
     "language": "python",
     "metadata": {},
     "outputs": [],
     "prompt_number": 2
    },
    {
     "cell_type": "code",
     "collapsed": false,
     "input": [
      "files = shared_data(strawberry).glob('*.csv')\n",
      "fn = files[2]\n",
      "print fn"
     ],
     "language": "python",
     "metadata": {},
     "outputs": [
      {
       "output_type": "stream",
       "stream": "stdout",
       "text": [
        "z:\\g1\\marc-labadie\\python\\strawberry\\share\\data\\Cir107_1_3.csv\n"
       ]
      }
     ],
     "prompt_number": 117
    },
    {
     "cell_type": "markdown",
     "metadata": {},
     "source": [
      "##Reading files and create MTG"
     ]
    },
    {
     "cell_type": "code",
     "collapsed": false,
     "input": [
      "gs=[strawberry2mtg(fn) for fn in files]\n",
      "g=gs[15]"
     ],
     "language": "python",
     "metadata": {},
     "outputs": [
      {
       "output_type": "stream",
       "stream": "stdout",
       "text": [
        "Axis_1\tAxis_2\tAxe_3\tAxis_4\tAxis_5\tleaf_area\tleaf_perimeter\tLobe_C_H\tLobe_C_L\tLobe_G_H\tLobe_G_L\tLeaf_area_algo\tCom.\tharvest_fruit\tfruit_aborded\tTotal_ruit\tcom.\t\t\t\t\t\n",
        "Axis_1\tAxis_2\tAxe_3\tAxis_4\tAxis_5\tleaf_area\tleaf_perimeter\tLobe_C_H\tLobe_C_L\tLobe_G_H\tLobe_G_L\tLeaf_area_algo\tCom.\tharvest_fruit\tfruit_aborded\tTotal_ruit\tcom.\n",
        "Axis_1\tAxis_2\tAxe_3\tAxis_4\tAxis_5\tAxis_6\tAxis_7\tAxis_8\tleaf_area\tleaf_perimeter\tLobe_C_H\tLobe_C_L\tLobe_G_H\tLobe_G_L\tLeaf_area_algo\tCom.\tharvest_fruit\tfruit_aborded\tTotal_ruit\tcom.\t\n",
        "Axis_1\tAxis_2\tAxe_3\tAxis_4\tAxis_5\tAxis_6\tleaf_area\tleaf_perimeter\tLobe_C_H\tLobe_C_L\tLobe_G_H\tLobe_G_L\tLeaf_area_algo\tCom.\tharvest_fruit\tfruit_aborded\tTotal_ruit\tcom."
       ]
      },
      {
       "output_type": "stream",
       "stream": "stdout",
       "text": [
        "\n",
        "Axis_1\tAxis_2\tAxe_3\tAxis_4\tAxis_5\tAxis_6\tAxis_7\tAxis_8\tleaf_area\tleaf_perimeter\tLobe_C_H\tLobe_C_L\tLobe_G_H\tLobe_G_L\tLeaf_area_algo\tCom.\tharvest_fruit\tfruit_aborded\tTotal_ruit\tcom.\t\t\t\t\t\n",
        "Axis_1\tAxis_2\tAxe_3\tAxis_4\tAxis_5\tAxis_6\tAxis_7\tAxis_8\tleaf_area\tleaf_perimeter\tLobe_C_H\tLobe_C_L\tLobe_G_H\tLobe_G_L\tLeaf_area_algo\tCom.\tharvest_fruit\tfruit_aborded\tTotal_ruit\tcom.\t\t\t\t\t\n",
        "Axis_1\tAxis_2\tAxe_3\tAxis_4\tAxis_5\tAxis_6\tAxis_7\tAxis_8\tleaf_area\tleaf_perimeter\tLobe_C_H\tLobe_C_L\tLobe_G_H\tLobe_G_L\tLeaf_area_algo\tCom.\tharvest_fruit\tfruit_aborded\tTotal_ruit\tcom.\n",
        "Axis_1\tAxis_2\tAxe_3\tAxis_4\tAxis_5\tAxis_6\tleaf_area\tleaf_perimeter\tLobe_C_H\tLobe_C_L\tLobe_G_H\tLobe_G_L\tLeaf_area_algo\tCom.\tharvest_fruit\tfruit_aborded\tTotal_ruit\tcom."
       ]
      },
      {
       "output_type": "stream",
       "stream": "stdout",
       "text": [
        "\n",
        "Axis_1\tAxis_2\tAxe_3\tAxis_4\tAxis_5\tAxis_6\tleaf_area\tleaf_perimeter\tLobe_C_H\tLobe_C_L\tLobe_G_H\tLobe_G_L\tLeaf_area_algo\tCom.\tharvest_fruit\tfruit_aborded\tTotal_ruit\tcom.\n",
        "Axis_1\tAxis_2\tAxe_3\tAxis_4\tAxis_5\tAxis_6\tAxis_7\tAxis_8\tleaf_area\tleaf_perimeter\tLobe_C_H\tLobe_C_L\tLobe_G_H\tLobe_G_L\tLeaf_area_algo\tCom.\tharvest_fruit\tfruit_aborded\tTotal_ruit\tcom.\n",
        "Axis_1\tAxis_2\tAxe_3\tAxis_4\tAxis_5\tAxis_6\tAxis_7\tAxis_8\tleaf_area\tleaf_perimeter\tLobe_C_H\tLobe_C_L\tLobe_G_H\tLobe_G_L\tLeaf_area_algo\tCom.\tharvest_fruit\tfruit_aborded\tTotal_ruit\tcom."
       ]
      },
      {
       "output_type": "stream",
       "stream": "stdout",
       "text": [
        "\n",
        "Axis_1\tAxis_2\tAxe_3\tAxis_4\tAxis_5\tAxis_6\tAxis_7\tAxis_8\tleaf_area\tleaf_perimeter\tLobe_C_H\tLobe_C_L\tLobe_G_H\tLobe_G_L\tLeaf_area_algo\tCom.\tharvest_fruit\tfruit_aborded\tTotal_ruit\tcom.\n",
        "Axis_1\tAxis_2\tAxe_3\tAxis_4\tAxis_5\tAxis_6\tAxis_7\tleaf_area\tleaf_perimeter\tLobe_C_H\tLobe_C_L\tLobe_G_H\tLobe_G_L\tLeaf_area_algo\tCom.\tharvest_fruit\tfruit_aborded\tTotal_ruit\tcom.\t\t\n",
        "Axis_1\tAxis_2\tAxe_3\tAxis_4\tAxis_5\tleaf_area\tleaf_perimeter\tLobe_C_H\tLobe_C_L\tLobe_G_H\tLobe_G_L\tLeaf_area_algo\tCom.\tharvest_fruit\tfruit_aborded\tTotal_ruit\tcom.\n",
        "Axis_1\tAxis_2\tAxe_3\tAxis_4\tAxis_5\tleaf_area\tleaf_perimeter\tLobe_C_H\tLobe_C_L\tLobe_G_H\tLobe_G_L\tLeaf_area_algo\tCom.\tharvest_fruit\tfruit_aborded\tTotal_fruit\tcom."
       ]
      },
      {
       "output_type": "stream",
       "stream": "stdout",
       "text": [
        "\n",
        "Axis_1\tAxis_2\tAxe_3\tAxis_4\tAxis_5\tAxis_6\tAxis_7\tleaf_area\tleaf_perimeter\tLobe_C_H\tLobe_C_L\tLobe_G_H\tLobe_G_L\tLeaf_area_algo\tCom.\tharvest_fruit\tfruit_aborded\tTotal_ruit\tcom.\t\t\n",
        "Axis_1\tAxis_2\tAxe_3\tAxis_4\tAxis_5\tAxis_6\tAxis_7\tleaf_area\tleaf_perimeter\tLobe_C_H\tLobe_C_L\tLobe_G_H\tLobe_G_L\tLeaf_area_algo\tCom.\tharvest_fruit\tfruit_aborded\tTotal_ruit\tcom.\t\t\n",
        "Axis_1\tAxis_2\tAxe_3\tAxis_4\tAxis_5\tAxis_6\tleaf_area\tleaf_perimeter\tLobe_C_H\tLobe_C_L\tLobe_G_H\tLobe_G_L\tLeaf_area_algo\tCom.\tharvest_fruit\tfruit_aborded\tTotal_ruit\tcom.\t\t"
       ]
      },
      {
       "output_type": "stream",
       "stream": "stdout",
       "text": [
        "\n"
       ]
      }
     ],
     "prompt_number": 127
    },
    {
     "cell_type": "code",
     "collapsed": false,
     "input": [
      "# List labels\n",
      "labels = set(g.label(v) for v in g if g.label(v) != '')\n",
      "print labels\n",
      "\n",
      "# Select Phytomers\n",
      "def select_entities(g, name):\n",
      "    \"\"\" Returns entities like Phytomer or Inflorescence in MTG. \n",
      "    name can be abbreviated (Phyto or Phytomer).\n",
      "    \"\"\"\n",
      "    return [v for v in g if name in g.label(v)]\n",
      "\n",
      "phytomers = select_entities(g, 'Phyto')\n",
      "inflos = select_entities(g, 'Inflo')\n",
      "buds = select_entities(g, 'Bud')\n",
      "print len(\"Bud\")\n",
      "assert (len(g) - 1) == len(phytomers)+ len(inflos)+ len(buds)\n",
      "print len(buds)"
     ],
     "language": "python",
     "metadata": {},
     "outputs": [
      {
       "output_type": "stream",
       "stream": "stdout",
       "text": [
        "set(['TerminalBud', 'Phytomer', 'Inflorescence'])\n",
        "3\n",
        "3\n"
       ]
      }
     ],
     "prompt_number": 131
    },
    {
     "cell_type": "code",
     "collapsed": false,
     "input": [
      "def select_entities(g, name):\n",
      "    \"\"\" Returns entities like Phytomer or Inflorescence in MTG. \n",
      "    name can be abbreviated (Phyto or Phytomer).\n",
      "    \"\"\"\n",
      "    return [v for v in g if name in g.label(v)]\n",
      "\n",
      "phytomers = select_entities(g, 'Phyto')\n",
      "inflos = select_entities(g, 'Inflo')\n",
      "buds = select_entities(g, 'Bud')\n",
      "print len(phytomers)\n",
      "print len('Bud')\n",
      "print len('inflo')\n",
      "assert (len(g) - 1) == len(phytomers)+ len(inflos)+ len(buds)"
     ],
     "language": "python",
     "metadata": {},
     "outputs": [
      {
       "output_type": "stream",
       "stream": "stdout",
       "text": [
        "88\n",
        "3\n",
        "5\n"
       ]
      }
     ],
     "prompt_number": 122
    },
    {
     "cell_type": "code",
     "collapsed": false,
     "input": [
      "g.display()\n"
     ],
     "language": "python",
     "metadata": {},
     "outputs": [
      {
       "output_type": "stream",
       "stream": "stdout",
       "text": [
        "MTG : nb_vertices=59, nb_scales=2\n",
        "/Phytomer\t\t\t(id=1)\t\t\t\t\t\t\t\t\t\t\t\n",
        "^<Phytomer\t\t\t(id=2)\t\t\t\t\t\t\t\t\t\t\t\n",
        "^<Phytomer\t\t\t(id=3)\t\t\t\t\t\t\t\t\t\t\t\n",
        "^<Phytomer\t\t\t(id=4)\t\t\t\t\t\t\t\t\t\t\t\n",
        "^<Phytomer\t\t\t(id=5)\t\t\t\t\t\t\t\t\t\t\t\n",
        "^<Phytomer\t\t\t(id=6)\t\t\t\t\t\t\t\t\t\t\t\n",
        "\t+Phytomer\t\t\t(id=7)\t\t\t\t\t\t\t\t\t\t\n",
        "\t^<Phytomer\t\t\t(id=8)\t\t\t\t\t\t\t\t\t\t\n",
        "\t^<Phytomer\t\t\t(id=9)\t\t\t\t\t\t\t\t\t\t\n",
        "\t^<Phytomer\t\t\t(id=10)\t\t\t\t\t\t\t\t\t\t\n",
        "\t^<Phytomer\t\t\t(id=11)\t\t\t\t\t\t\t\t\t\t\n",
        "\t^<Phytomer\t\t\t(id=12)\t\t\t\t\t\t\t\t\t\t\n",
        "\t\t+Phytomer\t\t\t(id=13)\t\t\t\t\t\t\t\t\t\n",
        "\t\t^<Phytomer\t\t\t(id=14)\t\t\t\t\t\t\t\t\t\n",
        "\t\t^<Phytomer\t\t\t(id=15)\t\t\t\t\t\t\t\t\t\n",
        "\t\t^<Phytomer\t\t\t(id=16)\t\t\t\t\t\t\t\t\t\n",
        "\t\t\t+Phytomer\t\t\t(id=17)\t\t\t\t\t\t\t\t\n",
        "\t\t\t^<Phytomer\t\t\t(id=18)\t\t\t\t\t\t\t\t\n",
        "\t\t\t^<Phytomer\t\t\t(id=19)\t\t\t\t\t\t\t\t\n",
        "\t\t\t^<TerminalBud\t\t\t(id=20)\t\t\t\t\t\t\t\t\n",
        "\t\t^<Inflorescence\t\t\t(id=21)\t\t\t\t\t\t\t\t\t\n",
        "\t^<Inflorescence\t\t\t(id=22)\t\t\t\t\t\t\t\t\t\t\n",
        "^<Phytomer\t\t\t(id=23)\t\t\t\t\t\t\t\t\t\t\t\n",
        "^<Phytomer\t\t\t(id=24)\t\t\t\t\t\t\t\t\t\t\t\n",
        "^<Phytomer\t\t\t(id=25)\t\t\t\t\t\t\t\t\t\t\t\n",
        "^<Phytomer\t\t\t(id=26)\t\t\t\t\t\t\t\t\t\t\t\n",
        "^<Phytomer\t\t\t(id=27)\t\t\t\t\t\t\t\t\t\t\t\n",
        "^<Phytomer\t\t\t(id=28)\t\t\t\t\t\t\t\t\t\t\t\n",
        "\t+Phytomer\t\t\t(id=29)\t\t\t\t\t\t\t\t\t\t\n",
        "\t^<Phytomer\t\t\t(id=30)\t\t\t\t\t\t\t\t\t\t\n",
        "\t^<Phytomer\t\t\t(id=31)\t\t\t\t\t\t\t\t\t\t\n",
        "\t\t+Phytomer\t\t\t(id=32)\t\t\t\t\t\t\t\t\t\n",
        "\t\t^<Phytomer\t\t\t(id=33)\t\t\t\t\t\t\t\t\t\n",
        "\t\t^<Phytomer\t\t\t(id=34)\t\t\t\t\t\t\t\t\t\n",
        "\t\t^<Phytomer\t\t\t(id=35)\t\t\t\t\t\t\t\t\t\n",
        "\t\t^<Phytomer\t\t\t(id=36)\t\t\t\t\t\t\t\t\t\n",
        "\t\t^<Phytomer\t\t\t(id=37)\t\t\t\t\t\t\t\t\t\n",
        "\t\t^<Phytomer\t\t\t(id=38)\t\t\t\t\t\t\t\t\t\n",
        "\t\t^<Phytomer\t\t\t(id=39)\t\t\t\t\t\t\t\t\t\n",
        "\t\t^<TerminalBud\t\t\t(id=40)\t\t\t\t\t\t\t\t\t\n",
        "\t^<Inflorescence\t\t\t(id=41)\t\t\t\t\t\t\t\t\t\t\n",
        "^<Phytomer\t\t\t(id=42)\t\t\t\t\t\t\t\t\t\t\t\n",
        "^<Phytomer\t\t\t(id=43)\t\t\t\t\t\t\t\t\t\t\t\n",
        "\t+Phytomer\t\t\t(id=44)\t\t\t\t\t\t\t\t\t\t\n",
        "\t^<Phytomer\t\t\t(id=45)\t\t\t\t\t\t\t\t\t\t\n",
        "\t^<Phytomer\t\t\t(id=46)\t\t\t\t\t\t\t\t\t\t\n",
        "\t\t+Phytomer\t\t\t(id=47)\t\t\t\t\t\t\t\t\t\n",
        "\t\t^<Phytomer\t\t\t(id=48)\t\t\t\t\t\t\t\t\t\n",
        "\t\t^<Phytomer\t\t\t(id=49)\t\t\t\t\t\t\t\t\t\n",
        "\t\t^<Phytomer\t\t\t(id=50)\t\t\t\t\t\t\t\t\t\n",
        "\t\t^<Phytomer\t\t\t(id=51)\t\t\t\t\t\t\t\t\t\n",
        "\t\t^<Phytomer\t\t\t(id=52)\t\t\t\t\t\t\t\t\t\n",
        "\t\t\t+Phytomer\t\t\t(id=53)\t\t\t\t\t\t\t\t\n",
        "\t\t\t^<Phytomer\t\t\t(id=54)\t\t\t\t\t\t\t\t\n",
        "\t\t\t^<TerminalBud\t\t\t(id=55)\t\t\t\t\t\t\t\t\n",
        "\t\t^<Inflorescence\t\t\t(id=56)\t\t\t\t\t\t\t\t\t\n",
        "\t^<Inflorescence\t\t\t(id=57)\t\t\t\t\t\t\t\t\t\t\n",
        "^<Inflorescence\t\t\t(id=58)\t\t\t\t\t\t\t\t\t\t\t\n"
       ]
      }
     ],
     "prompt_number": 105
    },
    {
     "cell_type": "markdown",
     "metadata": {},
     "source": [
      "##Extraction and analysis of achitecture\n",
      "###Number of Phytomer by axis"
     ]
    },
    {
     "cell_type": "code",
     "collapsed": false,
     "input": [
      "#Def of vertex_axes\n",
      "vertex_axes=[v for v in g.vertices(scale=g.max_scale())if g.edge_type(v)!='<']\n",
      "vertex_axes\n",
      "\n",
      "#Def of axes\n",
      "axes= [g.Axis(v) for v in vertex_axes]\n",
      "axes\n",
      "\n",
      "#Def phyto_axes, identification of phytomer in axes\n",
      "phyto_axes = [[v for v in axis if 'Phyto' in g.label(v)] for axis in axes ]\n",
      "phyto_axes\n"
     ],
     "language": "python",
     "metadata": {},
     "outputs": [
      {
       "metadata": {},
       "output_type": "pyout",
       "prompt_number": 6,
       "text": [
        "[[1, 2, 3, 4, 5, 17, 46, 47],\n",
        " [6, 7, 8, 9, 10, 11, 12, 13, 14, 15],\n",
        " [18, 19, 35],\n",
        " [20, 21, 30, 31, 32, 33],\n",
        " [22],\n",
        " [23, 24, 25, 26, 27],\n",
        " [36, 37],\n",
        " [38, 39, 40, 41, 42],\n",
        " [48, 49, 50, 51, 52, 54, 55],\n",
        " [56, 57, 58, 59, 60],\n",
        " [61, 62, 63, 64, 65, 66, 67]]"
       ]
      }
     ],
     "prompt_number": 6
    },
    {
     "cell_type": "code",
     "collapsed": false,
     "input": [
      "orders=algo.orders(g)"
     ],
     "language": "python",
     "metadata": {},
     "outputs": [],
     "prompt_number": 7
    },
    {
     "cell_type": "code",
     "collapsed": false,
     "input": [
      "#number of phytomer by axes\n",
      "Nb_phyto_by_axes_and_order = {}\n",
      "for axis_no in range(len(phyto_axes)):\n",
      "    l = phyto_axes[axis_no]\n",
      "    Nb_phyto_by_axes_and_order.setdefault(orders[l[0]], []).append(len(l))\n",
      "print Nb_phyto_by_axes_and_order"
     ],
     "language": "python",
     "metadata": {},
     "outputs": [
      {
       "output_type": "stream",
       "stream": "stdout",
       "text": [
        "{0: [8], 1: [10, 3, 7], 2: [6, 2, 5], 3: [1, 5, 7], 4: [5]}\n"
       ]
      }
     ],
     "prompt_number": 8
    },
    {
     "cell_type": "code",
     "collapsed": false,
     "input": [
      "def cut_axis_between_ramifs(axis):\n",
      "    ramifs = [] # 1 or 0 ramifs\n",
      "    l = []\n",
      "    ramifs.append(l)\n",
      "    for i in range(len(axis)):\n",
      "        v = axis[i]\n",
      "        l.append(v)\n",
      "        for cid in g.children(v):\n",
      "            if g.edge_type(cid) == '+':\n",
      "                l = []\n",
      "                ramifs.append(l)\n",
      "                break\n",
      "    return ramifs\n",
      "\n",
      "#print phyto_axes\n",
      "cut_axis_between_ramifs(axes[0])\n",
      "for axis in axes:\n",
      "    cut_axes = cut_axis_between_ramifs(axis)\n",
      "    phyto_by_ramif=[sum(1 for v in sub_axes if 'Phy' in g.label(v))  for sub_axes in cut_axes]\n",
      "    print phyto_by_ramif"
     ],
     "language": "python",
     "metadata": {},
     "outputs": [
      {
       "output_type": "stream",
       "stream": "stdout",
       "text": [
        "[5, 1, 2, 0]\n",
        "[10]\n",
        "[2, 1, 0]\n",
        "[2, 4]\n",
        "[1, 0]\n",
        "[5]\n",
        "[2, 0]\n",
        "[5]\n",
        "[7, 0]\n",
        "[5, 0]\n",
        "[7]\n"
       ]
      }
     ],
     "prompt_number": 9
    },
    {
     "cell_type": "code",
     "collapsed": false,
     "input": [
      "#g.display()"
     ],
     "language": "python",
     "metadata": {},
     "outputs": [],
     "prompt_number": 10
    },
    {
     "cell_type": "code",
     "collapsed": false,
     "input": [
      "leaf_area = g.property(\"leaf_area\")\n",
      "leaf_area = set(g.property(v) for v in g if g.property(v)=='leaf_area' if g.property(\"leaf_area\")!=\"-\")"
     ],
     "language": "python",
     "metadata": {},
     "outputs": [
      {
       "output_type": "stream",
       "stream": "stdout",
       "text": [
        "{1: '-', 2: '-', 3: '-', 4: '-', 5: '-', 6: '-', 7: '59,85', 8: '40,97', 9: '123,29', 10: '104,26', 11: '103,84', 12: '93,68', 13: '97,38', 14: '75,89', 15: '-', 16: '', 17: '-', 18: '-', 19: '-', 20: '41,29', 21: '32,26', 22: '32,37', 23: '35,54', 24: '23,31', 25: '40,87', 26: '50,83', 27: '33,49', 28: '', 29: '', 30: '41,8', 31: '33,83', 32: '70,28', 33: '54,1', 34: '', 35: '-', 36: '132,74', 37: '31,71', 38: '104,11', 39: '85,56', 40: '34,35', 41: '101,74', 42: '72,74', 43: '', 44: '', 45: '', 46: '-', 47: '-', 48: '53,56', 49: '34,86', 50: '39,41', 51: '52,99', 52: '62,45', 53: '', 54: '-', 55: '-', 56: '32,43', 57: '32,34', 58: '89,61', 59: '131,34', 60: '64,45', 61: '59,11', 62: '132,81', 63: '89,71', 64: '100,46', 65: '83,59', 66: '111,13', 67: '69,01', 68: '', 69: '', 70: '', 71: ''}\n"
       ]
      }
     ],
     "prompt_number": 20
    },
    {
     "cell_type": "code",
     "collapsed": false,
     "input": [],
     "language": "python",
     "metadata": {},
     "outputs": [],
     "prompt_number": 0
    },
    {
     "cell_type": "code",
     "collapsed": false,
     "input": [],
     "language": "python",
     "metadata": {},
     "outputs": []
    }
   ],
   "metadata": {}
  }
 ]
}