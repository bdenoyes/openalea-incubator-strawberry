{
 "metadata": {
  "name": "",
  "signature": "sha256:c0c8742134eca00c491aab84abbd0786ae0054cc767f9d1d8ab8e968a276f22f"
 },
 "nbformat": 3,
 "nbformat_minor": 0,
 "worksheets": [
  {
   "cells": [
    {
     "cell_type": "code",
     "collapsed": false,
     "input": [
      "\"\"\"Module import\"\"\"\n",
      "\n",
      "\"\"\"Import module of openalea packages\"\"\"\n",
      "from openalea.core import path\n",
      "from openalea.mtg import *\n",
      "from openalea.mtg.algo import orders\n",
      "from openalea.deploy.shared_data import shared_data\n",
      "import openalea.plantgl.all as pgl\n",
      "\n",
      "\"\"\" Import module of strawberry packages\"\"\"\n",
      "import strawberry\n",
      "from strawberry import Rules_production\n",
      "from strawberry import Visualization"
     ],
     "language": "python",
     "metadata": {},
     "outputs": [],
     "prompt_number": 1
    },
    {
     "cell_type": "code",
     "collapsed": false,
     "input": [
      "% gui qt\n",
      "files = shared_data(strawberry).glob('*.mtg')\n",
      "files"
     ],
     "language": "python",
     "metadata": {},
     "outputs": [
      {
       "metadata": {},
       "output_type": "pyout",
       "prompt_number": 2,
       "text": [
        "[path(u'z:\\\\g1\\\\marc-labadie\\\\python\\\\strawberry\\\\share\\\\data\\\\Capriss.mtg'),\n",
        " path(u'z:\\\\g1\\\\marc-labadie\\\\python\\\\strawberry\\\\share\\\\data\\\\Ciflorette.mtg'),\n",
        " path(u'z:\\\\g1\\\\marc-labadie\\\\python\\\\strawberry\\\\share\\\\data\\\\Cir107.mtg'),\n",
        " path(u'z:\\\\g1\\\\marc-labadie\\\\python\\\\strawberry\\\\share\\\\data\\\\Clery.mtg'),\n",
        " path(u'z:\\\\g1\\\\marc-labadie\\\\python\\\\strawberry\\\\share\\\\data\\\\Darselect.mtg'),\n",
        " path(u'z:\\\\g1\\\\marc-labadie\\\\python\\\\strawberry\\\\share\\\\data\\\\Gariguette.mtg')]"
       ]
      }
     ],
     "prompt_number": 2
    },
    {
     "cell_type": "code",
     "collapsed": false,
     "input": [
      "#visualisation by Genotype and date\n",
      "g=MTG(files[5]) \n",
      "g.properties()['order'] = orders(g)\n",
      "Rules_production.color_code(g)\n",
      "scene = Visualization.visualise_plants(g)\n",
      "pgl.Viewer.display(scene)"
     ],
     "language": "python",
     "metadata": {},
     "outputs": [
      {
       "output_type": "stream",
       "stream": "stderr",
       "text": [
        "z:\\g1\\marc-labadie\\python\\strawberry\\src\\strawberry\\Rules_production.py:65: Warning: Invalid Color value 7 in setColor (maximum is 6)\n",
        "  t.setColor(6+order)\n",
        "z:\\g1\\marc-labadie\\python\\strawberry\\src\\strawberry\\Rules_production.py:113: Warning: Invalid Color value 9 in setColor (maximum is 6)\n",
        "  t.setColor(8+order)\n",
        "z:\\g1\\marc-labadie\\python\\strawberry\\src\\strawberry\\Rules_production.py:113: Warning: Invalid Color value 8 in setColor (maximum is 6)\n",
        "  t.setColor(8+order)\n",
        "z:\\g1\\marc-labadie\\python\\strawberry\\src\\strawberry\\Rules_production.py:65: Warning: Invalid Color value 8 in setColor (maximum is 6)\n",
        "  t.setColor(6+order)\n",
        "z:\\g1\\marc-labadie\\python\\strawberry\\src\\strawberry\\Rules_production.py:113: Warning: Invalid Color value 10 in setColor (maximum is 6)\n",
        "  t.setColor(8+order)\n"
       ]
      },
      {
       "output_type": "stream",
       "stream": "stderr",
       "text": [
        "z:\\g1\\marc-labadie\\python\\strawberry\\src\\strawberry\\Rules_production.py:65: Warning: Invalid Color value 9 in setColor (maximum is 6)\n",
        "  t.setColor(6+order)\n",
        "z:\\g1\\marc-labadie\\python\\strawberry\\src\\strawberry\\Rules_production.py:113: Warning: Invalid Color value 11 in setColor (maximum is 6)\n",
        "  t.setColor(8+order)\n"
       ]
      },
      {
       "output_type": "stream",
       "stream": "stderr",
       "text": [
        "z:\\g1\\marc-labadie\\python\\strawberry\\src\\strawberry\\Rules_production.py:65: Warning: Invalid Color value 10 in setColor (maximum is 6)\n",
        "  t.setColor(6+order)\n",
        "z:\\g1\\marc-labadie\\python\\strawberry\\src\\strawberry\\Rules_production.py:128: Warning: Invalid Color value 7 in setColor (maximum is 6)\n",
        "  t.setColor(2+order)\n"
       ]
      },
      {
       "output_type": "stream",
       "stream": "stderr",
       "text": [
        "z:\\g1\\marc-labadie\\python\\strawberry\\src\\strawberry\\Rules_production.py:113: Warning: Invalid Color value 12 in setColor (maximum is 6)\n",
        "  t.setColor(8+order)\n",
        "z:\\g1\\marc-labadie\\python\\strawberry\\src\\strawberry\\Rules_production.py:152: Warning: Invalid Color value 7 in setColor (maximum is 6)\n",
        "  t.setColor(2+order)\n"
       ]
      },
      {
       "output_type": "stream",
       "stream": "stderr",
       "text": [
        "z:\\g1\\marc-labadie\\python\\strawberry\\src\\strawberry\\Rules_production.py:65: Warning: Invalid Color value 11 in setColor (maximum is 6)\n",
        "  t.setColor(6+order)\n",
        "z:\\g1\\marc-labadie\\python\\strawberry\\src\\strawberry\\Rules_production.py:39: Warning: Invalid Color value 7 in setColor (maximum is 6)\n",
        "  t.setColor(2+order)\n"
       ]
      },
      {
       "output_type": "stream",
       "stream": "stdout",
       "text": [
        "replace all the date format by -\n"
       ]
      },
      {
       "output_type": "stream",
       "stream": "stderr",
       "text": [
        "z:\\g1\\marc-labadie\\python\\strawberry\\src\\strawberry\\Rules_production.py:152: Warning: Invalid Color value 8 in setColor (maximum is 6)\n",
        "  t.setColor(2+order)\n",
        "z:\\g1\\marc-labadie\\python\\strawberry\\src\\strawberry\\Rules_production.py:65: Warning: Invalid Color value 12 in setColor (maximum is 6)\n",
        "  t.setColor(6+order)\n",
        "z:\\g1\\marc-labadie\\python\\strawberry\\src\\strawberry\\Rules_production.py:152: Warning: Invalid Color value 9 in setColor (maximum is 6)\n",
        "  t.setColor(2+order)\n",
        "z:\\g1\\marc-labadie\\python\\strawberry\\src\\strawberry\\Rules_production.py:128: Warning: Invalid Color value 8 in setColor (maximum is 6)\n",
        "  t.setColor(2+order)\n",
        "z:\\g1\\marc-labadie\\python\\strawberry\\src\\strawberry\\Rules_production.py:95: Warning: Invalid Color value 7 in setColor (maximum is 6)\n",
        "  t.setColor(2+order)\n"
       ]
      }
     ],
     "prompt_number": 3
    },
    {
     "cell_type": "markdown",
     "metadata": {},
     "source": [
      "def visualization_strawberry_plant(Genotype,Date,Plante): Permet de visualiser un plant en l'appelant par son g\u00e9notype, son num\u00e9ros de plante et son age"
     ]
    },
    {
     "cell_type": "code",
     "collapsed": false,
     "input": [
      "big_mtg = MTG()\n",
      "for fn in files:\n",
      "    big_mtg = algo.union(big_mtg, MTG(fn))\n",
      "g = big_mtg\n",
      "genotypes = set(g.property(\"Genotype\").itervalues())\n",
      "print genotypes\n",
      "\n",
      "# Filter Genotype, Date, Plante\n",
      "#def visualization_strawberry_plant(Genotype,Date,Plante, g=g): \n",
      " #   \"\"\"ENG: Permet de visualiser un plant en l'appelant par son g\u00e9notype, son num\u00e9ros de plante et son age\"\"\"\n",
      "  #  genotypes = g.property(\"Genotype\")"
     ],
     "language": "python",
     "metadata": {},
     "outputs": [
      {
       "output_type": "stream",
       "stream": "stdout",
       "text": [
        "replace all the date format by -\n",
        "replace all the date format by -"
       ]
      },
      {
       "output_type": "stream",
       "stream": "stdout",
       "text": [
        "\n",
        "replace all the date format by -"
       ]
      },
      {
       "output_type": "stream",
       "stream": "stdout",
       "text": [
        "\n",
        "replace all the date format by -"
       ]
      },
      {
       "output_type": "stream",
       "stream": "stdout",
       "text": [
        "\n",
        "replace all the date format by -"
       ]
      },
      {
       "output_type": "stream",
       "stream": "stdout",
       "text": [
        "\n",
        "replace all the date format by -"
       ]
      },
      {
       "output_type": "stream",
       "stream": "stdout",
       "text": [
        "\n",
        "set(['Ciflorette', 'Darselect', 'Gariguette', 'Capriss', 'Clery', 'Cir107'])"
       ]
      },
      {
       "output_type": "stream",
       "stream": "stdout",
       "text": [
        "\n"
       ]
      }
     ],
     "prompt_number": 4
    },
    {
     "cell_type": "code",
     "collapsed": false,
     "input": [
      "\"\"\" Import dataframe\"\"\"\n",
      "from strawberry import analysis\n",
      "g.properties()['order'] = orders(g)\n",
      "#Rules_production.color_code(g)\n",
      "df = analysis.to_dataframe(g, g.vertices(scale=1))\n"
     ],
     "language": "python",
     "metadata": {},
     "outputs": [],
     "prompt_number": 5
    },
    {
     "cell_type": "code",
     "collapsed": false,
     "input": [
      "#Visualization of One Plante selected according to Genotype, Plante and date\n",
      "vid = int(df[df.Genotype=='Capriss'][df.Plante==4][df.date=='10-12-2014'].vid)\n",
      "scene=Visualization.visualise_plants(g, [vid], positions=[(0,0,0)])\n",
      "pgl.Viewer.display(scene)"
     ],
     "language": "python",
     "metadata": {},
     "outputs": [
      {
       "output_type": "stream",
       "stream": "stderr",
       "text": [
        "-c:2: UserWarning: Boolean Series key will be reindexed to match DataFrame index.\n"
       ]
      }
     ],
     "prompt_number": 6
    },
    {
     "cell_type": "code",
     "collapsed": false,
     "input": [
      "#Visualisation some plants selected according to Genotype and Plante or Genotype and date\n",
      "\n",
      "vids = list(df[df.Genotype=='Capriss'][df.Plante==4].vid.values)\n",
      "print vids\n",
      "#vids = list(df[df.Genotype=='Capriss'][df.date==\"10-12-2014\"].vid.values)\n",
      "\n",
      "n = len(vids)\n",
      "n_cols = 1 #selection of number of column for representation\n",
      "n_rows = n/n_cols+1\n",
      "\n",
      "dx =2 #Select start point on x axis on the grid\n",
      "dy = 4 #Select start point on y axis on the grid\n",
      "y0 = -n_rows*dx /2.\n",
      "x0 = -n_cols*dy/2.\n",
      "positions = [(x0+i*dx, y0+j*dy, 0) for i in range(n_cols) for j in range(n_rows)][:n]\n",
      "\n",
      "scene = Visualization.visualise_plants(g, vids, positions)\n",
      "pgl.Viewer.display(scene)"
     ],
     "language": "python",
     "metadata": {},
     "outputs": [
      {
       "output_type": "stream",
       "stream": "stdout",
       "text": [
        "[263, 1071, 2238, 3347, 4855, 6428]\n"
       ]
      },
      {
       "output_type": "stream",
       "stream": "stderr",
       "text": [
        "-c:3: UserWarning: Boolean Series key will be reindexed to match DataFrame index.\n"
       ]
      }
     ],
     "prompt_number": 7
    },
    {
     "cell_type": "code",
     "collapsed": false,
     "input": [
      "import pandas as pd\n",
      "sel=pd.read_csv('Z:\\G1\\Marc-Labadie\\Python\\strawberry\\share\\data\\plante.selected.csv', sep=';', skiprows=0, index_col=None)\n",
      "del sel['dist']\n",
      "sel.Genotype = sel.Genotype.str.strip() \n",
      "#sel = sel[sel.Genotype.str.strip()==('Capriss')]\n",
      "\n",
      "\n",
      "for l in sel.values:\n",
      "    #print l\n",
      "    geno, plante, date = l\n",
      "    vid = df[df.Genotype==geno][df.Plante==plante][df.date==date].vid.values\n",
      "    #print vid\n",
      " \n",
      "#vid=list(pd.merge(sel,df).vid)\n",
      "\n",
      "#print len(vid)\n",
      "#scene=Visualization.visualise_plants(g,vid,positions)\n",
      "#pgl.Viewer.display(scene)"
     ],
     "language": "python",
     "metadata": {},
     "outputs": [
      {
       "output_type": "stream",
       "stream": "stderr",
       "text": [
        "-c:11: UserWarning: Boolean Series key will be reindexed to match DataFrame index.\n"
       ]
      }
     ],
     "prompt_number": 8
    },
    {
     "cell_type": "code",
     "collapsed": false,
     "input": [
      "import pandas as pd\n",
      "sel=pd.read_csv('Z:\\G1\\Marc-Labadie\\Python\\strawberry\\share\\data\\plante.selected.csv', sep=';', skiprows=0, index_col=None)\n",
      "del sel['dist']\n",
      "sel.Genotype = sel.Genotype.str.strip() \n",
      "#sel = sel[sel.Genotype.str.strip()==('Capris')]\n",
      "sel_df = pd.merge(sel,df)\n",
      "sel_df =pd.DataFrame.sort(sel_df,columns= \"vid\",ascending=True)\n",
      "#print sel_df\n",
      "\n",
      "\"\"\"Selection of Vids\"\"\"\n",
      "vids= list(sel_df[sel_df.Genotype.isin([\"Cir107\",\"Gariguette\",'Clery'])].vid)\n",
      "print vids\n",
      "\"\"\" Define position\"\"\"\n",
      "n = len(vids)\n",
      "n_cols = 3 #selection of number of column for representation\n",
      "n_rows = n/n_cols\n",
      "\n",
      "dx =3 #Select start point on x axis on the grid\n",
      "dy = 4 #Select start point on y axis on the grid\n",
      "y0 = -n_rows*dx /2.\n",
      "x0 = -n_cols*dy/2.\n",
      "positions = [(x0+i*dx, y0+j*dy, 0) for i in range(n_cols) for j in range(n_rows)][:n]\n",
      "\n",
      "\"\"\"Visualization function\"\"\"\n",
      "scene=Visualization.visualise_plants(g,vids,positions)\n",
      "pgl.Viewer.display(scene)"
     ],
     "language": "python",
     "metadata": {},
     "outputs": [
      {
       "output_type": "stream",
       "stream": "stdout",
       "text": [
        "[14114, 15736, 16982, 17303, 19412, 20025, 21626, 22652, 22992, 24186, 25537, 26222, 31679, 32319, 33796, 34442, 35770, 36299]\n"
       ]
      }
     ],
     "prompt_number": 45
    },
    {
     "cell_type": "code",
     "collapsed": false,
     "input": [
      "print sel_df"
     ],
     "language": "python",
     "metadata": {},
     "outputs": [
      {
       "output_type": "stream",
       "stream": "stdout",
       "text": [
        "      Genotype  Plante        date  _line  complex  diam_mm  index label  \\\n",
        "0      Capriss       4  10-12-2014    315        0      NaN    263     P   \n",
        "1      Capriss       7  07-01-2015   1534        0      NaN   1464     P   \n",
        "2      Capriss       5  15-02-2015   2393        0      NaN   2314     P   \n",
        "3      Capriss       6  02-03-2015   3717        0      NaN   3626     P   \n",
        "4      Capriss       6  03-04-2015   5315        0      NaN   5200     P   \n",
        "5      Capriss       4  27-05-2015   6589        0    57.41   6428     P   \n",
        "24  Ciflorette       4  04-12-2014    222        0      NaN   7701     P   \n",
        "25  Ciflorette       4  07-01-2015    954        0      NaN   8423     P   \n",
        "26  Ciflorette       8  13-02-2015   2373        0      NaN   9824     P   \n",
        "27  Ciflorette       3  02-03-2015   2908        0      NaN  10355     P   \n",
        "28  Ciflorette       7  30-03-2015   4678        0      NaN  12110     P   \n",
        "29  Ciflorette       5  27-05-2015   5753        0      NaN  13173     P   \n",
        "6       Cir107       3  10-12-2014    213        0      NaN  14114     P   \n",
        "10      Cir107       9  08-01-2015   1854        0      NaN  15736     P   \n",
        "11      Cir107       9  11-02-2015   3109        0      NaN  16982     P   \n",
        "7       Cir107       2  04-03-2015   3432        0      NaN  17303     P   \n",
        "8       Cir107       7  02-04-2015   5626        0      NaN  19412     P   \n",
        "9       Cir107       2  20-05-2015   6243        0      NaN  20025     P   \n",
        "12       Clery       3  10-12-2014    236        0    17.45  21626     P   \n",
        "13       Clery       8  07-01-2015   1299        0    17.30  22652     P   \n",
        "14       Clery       3  15-02-2015   1643        0    23.75  22992     P   \n",
        "15       Clery       6  02-03-2015   2849        0    30.34  24186     P   \n",
        "16       Clery       8  03-04-2015   4222        0    46.21  25537     P   \n",
        "17       Clery       4  27-05-2015   4915        0    32.12  26222     P   \n",
        "18  Gariguette       9  10-12-2014    616        0      NaN  31679     P   \n",
        "19  Gariguette       5  08-01-2015   1261        0      NaN  32319     P   \n",
        "20  Gariguette       8  12-02-2015   2750        0      NaN  33796     P   \n",
        "21  Gariguette       5  06-03-2015   3402        0      NaN  34442     P   \n",
        "22  Gariguette       7  02-04-2015   4742        0      NaN  35770     P   \n",
        "23  Gariguette       1  19-05-2015   5274        0      NaN  36299     P   \n",
        "\n",
        "    order parent  scale    vid  \n",
        "0       0   None      1    263  \n",
        "1       0   None      1   1464  \n",
        "2       0   None      1   2314  \n",
        "3       0   None      1   3626  \n",
        "4       0   None      1   5200  \n",
        "5       0   None      1   6428  \n",
        "24      0   None      1   7701  \n",
        "25      0   None      1   8423  \n",
        "26      0   None      1   9824  \n",
        "27      0   None      1  10355  \n",
        "28      0   None      1  12110  \n",
        "29      0   None      1  13173  \n",
        "6       0   None      1  14114  \n",
        "10      0   None      1  15736  \n",
        "11      0   None      1  16982  \n",
        "7       0   None      1  17303  \n",
        "8       0   None      1  19412  \n",
        "9       0   None      1  20025  \n",
        "12      0   None      1  21626  \n",
        "13      0   None      1  22652  \n",
        "14      0   None      1  22992  \n",
        "15      0   None      1  24186  \n",
        "16      0   None      1  25537  \n",
        "17      0   None      1  26222  \n",
        "18      0   None      1  31679  \n",
        "19      0   None      1  32319  \n",
        "20      0   None      1  33796  \n",
        "21      0   None      1  34442  \n",
        "22      0   None      1  35770  \n",
        "23      0   None      1  36299  \n"
       ]
      }
     ],
     "prompt_number": 32
    },
    {
     "cell_type": "markdown",
     "metadata": {},
     "source": [
      "def visualisation_strawberry_genotype(Genotype,nb_date,nb_plante): Permet de visualiser l'ensemble des plants d'un g\u00e9notype classer par rapport \u00e0 son age"
     ]
    },
    {
     "cell_type": "markdown",
     "metadata": {},
     "source": [
      "def visualisation_central_Plante(Genotype, Plante,Date): Permet de repr\u00e9senter le plant centrale"
     ]
    },
    {
     "cell_type": "markdown",
     "metadata": {},
     "source": [
      "def visualisation_central_Genotype(Genotype, nb_Plante, nb_date): Permet de visualiser les plants centraux d'un g\u00e9notype "
     ]
    },
    {
     "cell_type": "markdown",
     "metadata": {},
     "source": [
      "def visualisation_comparaison_central_genotype(Genotype): Permet de comparer les plant centraux des diff\u00e9rents g\u00e9notype"
     ]
    }
   ],
   "metadata": {}
  }
 ]
}