{
 "cells": [
  {
   "cell_type": "markdown",
   "metadata": {},
   "source": [
    "# 1. Import module requirement\n",
    "\n",
    "## 1.1 Import standard Python modules"
   ]
  },
  {
   "cell_type": "code",
   "execution_count": 1,
   "metadata": {},
   "outputs": [],
   "source": [
    "from collections import OrderedDict, defaultdict\n",
    "import pandas as pd"
   ]
  },
  {
   "cell_type": "markdown",
   "metadata": {},
   "source": [
    "## 1.2 Import openalea packages\n"
   ]
  },
  {
   "cell_type": "code",
   "execution_count": 2,
   "metadata": {},
   "outputs": [
    {
     "name": "stdout",
     "output_type": "stream",
     "text": [
      "NOT using graph editor observer No module named grapheditor\n"
     ]
    }
   ],
   "source": [
    "from openalea.deploy.shared_data import shared_data\n",
    "from openalea.mtg import *\n",
    "from openalea.mtg.algo import orders\n",
    "from openalea.mtg import stat\n",
    "import openalea.plantgl.all as pgl"
   ]
  },
  {
   "cell_type": "code",
   "execution_count": 3,
   "metadata": {},
   "outputs": [],
   "source": [
    "from openalea.core import path\n",
    "from openalea.mtg import *\n",
    "from openalea.deploy.shared_data import shared_data\n",
    "import glob"
   ]
  },
  {
   "cell_type": "markdown",
   "metadata": {},
   "source": [
    "## 1.3 Import strawberry modules"
   ]
  },
  {
   "cell_type": "code",
   "execution_count": 4,
   "metadata": {},
   "outputs": [],
   "source": [
    "import openalea.strawberry\n",
    "\n",
    "from openalea.strawberry import Rules_production\n",
    "from openalea.strawberry import Visualization, visualisation2d\n",
    "from openalea.strawberry import analysis, variables"
   ]
  },
  {
   "cell_type": "markdown",
   "metadata": {},
   "source": [
    "# 2. Import data and read MTG in files"
   ]
  },
  {
   "cell_type": "markdown",
   "metadata": {},
   "source": [
    "## 2.1 Import data"
   ]
  },
  {
   "cell_type": "code",
   "execution_count": 5,
   "metadata": {},
   "outputs": [
    {
     "name": "stdout",
     "output_type": "stream",
     "text": [
      "{u'friendlyfruit': Path(u'c:\\\\users\\\\mlabadie\\\\appdata\\\\local\\\\continuum\\\\miniconda2\\\\envs\\\\strawberry\\\\lib\\\\site-packages\\\\openalea.strawberry-1.0.0-py2.7.egg\\\\share\\\\data\\\\friendlyfruit.mtg'), u'Ciflorette': Path(u'c:\\\\users\\\\mlabadie\\\\appdata\\\\local\\\\continuum\\\\miniconda2\\\\envs\\\\strawberry\\\\lib\\\\site-packages\\\\openalea.strawberry-1.0.0-py2.7.egg\\\\share\\\\data\\\\Ciflorette.mtg'), u'Darselect': Path(u'c:\\\\users\\\\mlabadie\\\\appdata\\\\local\\\\continuum\\\\miniconda2\\\\envs\\\\strawberry\\\\lib\\\\site-packages\\\\openalea.strawberry-1.0.0-py2.7.egg\\\\share\\\\data\\\\Darselect.mtg'), u'Gariguette': Path(u'c:\\\\users\\\\mlabadie\\\\appdata\\\\local\\\\continuum\\\\miniconda2\\\\envs\\\\strawberry\\\\lib\\\\site-packages\\\\openalea.strawberry-1.0.0-py2.7.egg\\\\share\\\\data\\\\Gariguette.mtg'), u'Capriss': Path(u'c:\\\\users\\\\mlabadie\\\\appdata\\\\local\\\\continuum\\\\miniconda2\\\\envs\\\\strawberry\\\\lib\\\\site-packages\\\\openalea.strawberry-1.0.0-py2.7.egg\\\\share\\\\data\\\\Capriss.mtg'), u'Clery': Path(u'c:\\\\users\\\\mlabadie\\\\appdata\\\\local\\\\continuum\\\\miniconda2\\\\envs\\\\strawberry\\\\lib\\\\site-packages\\\\openalea.strawberry-1.0.0-py2.7.egg\\\\share\\\\data\\\\Clery.mtg'), u'Cir107': Path(u'c:\\\\users\\\\mlabadie\\\\appdata\\\\local\\\\continuum\\\\miniconda2\\\\envs\\\\strawberry\\\\lib\\\\site-packages\\\\openalea.strawberry-1.0.0-py2.7.egg\\\\share\\\\data\\\\Cir107.mtg')}\n"
     ]
    }
   ],
   "source": [
    "%gui qt4\n",
    "\n",
    "files = shared_data(openalea.strawberry).glob('*.mtg')\n",
    "# print files\n",
    "\n",
    "genotypes = dict((f.namebase, f) for f in files)\n",
    "#print(genotypes.keys())\n",
    "\n",
    "DIPLOIDS = ['Sicile','Nils']\n",
    "OCTOPLOIDS = ['Gariguette','Darselect','Clery','Capriss','Cir107','Ciflorette',\"friendlyfruit\"]\n",
    "\n",
    "diploids = dict((k,f) for k,f in genotypes.items() if k in DIPLOIDS)\n",
    "# print(diploids)\n",
    "\n",
    "octoploids = dict((k,f) for k,f in genotypes.items() if k in OCTOPLOIDS)\n",
    "print(octoploids)"
   ]
  },
  {
   "cell_type": "markdown",
   "metadata": {},
   "source": [
    "## 2.2 Load one octoploid and one diploid  genotype \n",
    "\n",
    "A set of strawberry plant architecture has been measured and is stored in an MTG."
   ]
  },
  {
   "cell_type": "markdown",
   "metadata": {},
   "source": [
    "- We select on octoploid and/or one diploid genotype for architectural analysis."
   ]
  },
  {
   "cell_type": "code",
   "execution_count": 6,
   "metadata": {},
   "outputs": [
    {
     "ename": "AssertionError",
     "evalue": "",
     "output_type": "error",
     "traceback": [
      "\u001b[1;31m---------------------------------------------------------------------------\u001b[0m",
      "\u001b[1;31mAssertionError\u001b[0m                            Traceback (most recent call last)",
      "\u001b[1;32m<ipython-input-6-86d96f77158f>\u001b[0m in \u001b[0;36m<module>\u001b[1;34m()\u001b[0m\n\u001b[0;32m      8\u001b[0m \u001b[1;31m# print('Diploid  : ', str(gdi))\u001b[0m\u001b[1;33m\u001b[0m\u001b[1;33m\u001b[0m\u001b[0m\n\u001b[0;32m      9\u001b[0m \u001b[1;33m\u001b[0m\u001b[0m\n\u001b[1;32m---> 10\u001b[1;33m \u001b[0mgoct\u001b[0m \u001b[1;33m=\u001b[0m \u001b[0mMTG\u001b[0m\u001b[1;33m(\u001b[0m\u001b[0moctoploids\u001b[0m\u001b[1;33m[\u001b[0m\u001b[0moct_genotype\u001b[0m\u001b[1;33m]\u001b[0m\u001b[1;33m)\u001b[0m\u001b[1;33m\u001b[0m\u001b[0m\n\u001b[0m\u001b[0;32m     11\u001b[0m \u001b[1;32mprint\u001b[0m\u001b[1;33m(\u001b[0m\u001b[1;34m'Octoploid  : '\u001b[0m\u001b[1;33m,\u001b[0m \u001b[0mstr\u001b[0m\u001b[1;33m(\u001b[0m\u001b[0mgoct\u001b[0m\u001b[1;33m)\u001b[0m\u001b[1;33m)\u001b[0m\u001b[1;33m\u001b[0m\u001b[0m\n",
      "\u001b[1;32mc:\\users\\mlabadie\\appdata\\local\\continuum\\miniconda2\\envs\\strawberry\\lib\\site-packages\\openalea.mtg-2.0.1-py2.7.egg\\openalea\\mtg\\mtg.pyc\u001b[0m in \u001b[0;36m__init__\u001b[1;34m(self, filename, has_date)\u001b[0m\n\u001b[0;32m     94\u001b[0m         \u001b[1;32mif\u001b[0m \u001b[0mfilename\u001b[0m\u001b[1;33m:\u001b[0m\u001b[1;33m\u001b[0m\u001b[0m\n\u001b[0;32m     95\u001b[0m             \u001b[1;32mfrom\u001b[0m \u001b[0mio\u001b[0m \u001b[1;32mimport\u001b[0m \u001b[0mread_mtg_file\u001b[0m\u001b[1;33m\u001b[0m\u001b[0m\n\u001b[1;32m---> 96\u001b[1;33m             \u001b[0mself\u001b[0m \u001b[1;33m=\u001b[0m \u001b[0mread_mtg_file\u001b[0m\u001b[1;33m(\u001b[0m\u001b[0mfilename\u001b[0m\u001b[1;33m,\u001b[0m \u001b[0mmtg\u001b[0m\u001b[1;33m=\u001b[0m\u001b[0mself\u001b[0m\u001b[1;33m,\u001b[0m \u001b[0mhas_date\u001b[0m\u001b[1;33m=\u001b[0m\u001b[0mhas_date\u001b[0m\u001b[1;33m)\u001b[0m\u001b[1;33m\u001b[0m\u001b[0m\n\u001b[0m\u001b[0;32m     97\u001b[0m \u001b[1;33m\u001b[0m\u001b[0m\n\u001b[0;32m     98\u001b[0m     \u001b[1;32mdef\u001b[0m \u001b[0m__getitem__\u001b[0m\u001b[1;33m(\u001b[0m\u001b[0mself\u001b[0m\u001b[1;33m,\u001b[0m \u001b[0mvtx_id\u001b[0m\u001b[1;33m)\u001b[0m\u001b[1;33m:\u001b[0m\u001b[1;33m\u001b[0m\u001b[0m\n",
      "\u001b[1;32mc:\\users\\mlabadie\\appdata\\local\\continuum\\miniconda2\\envs\\strawberry\\lib\\site-packages\\openalea.mtg-2.0.1-py2.7.egg\\openalea\\mtg\\io.pyc\u001b[0m in \u001b[0;36mread_mtg_file\u001b[1;34m(fn, mtg, has_date)\u001b[0m\n\u001b[0;32m   1305\u001b[0m     \u001b[0mtxt\u001b[0m \u001b[1;33m=\u001b[0m \u001b[0mf\u001b[0m\u001b[1;33m.\u001b[0m\u001b[0mread\u001b[0m\u001b[1;33m(\u001b[0m\u001b[1;33m)\u001b[0m\u001b[1;33m\u001b[0m\u001b[0m\n\u001b[0;32m   1306\u001b[0m     \u001b[0mf\u001b[0m\u001b[1;33m.\u001b[0m\u001b[0mclose\u001b[0m\u001b[1;33m(\u001b[0m\u001b[1;33m)\u001b[0m\u001b[1;33m\u001b[0m\u001b[0m\n\u001b[1;32m-> 1307\u001b[1;33m     \u001b[1;32mreturn\u001b[0m \u001b[0mread_mtg\u001b[0m\u001b[1;33m(\u001b[0m\u001b[0mtxt\u001b[0m\u001b[1;33m,\u001b[0m \u001b[0mmtg\u001b[0m\u001b[1;33m=\u001b[0m\u001b[0mmtg\u001b[0m\u001b[1;33m,\u001b[0m \u001b[0mhas_date\u001b[0m\u001b[1;33m=\u001b[0m\u001b[0mhas_date\u001b[0m\u001b[1;33m)\u001b[0m\u001b[1;33m\u001b[0m\u001b[0m\n\u001b[0m\u001b[0;32m   1308\u001b[0m \u001b[1;33m\u001b[0m\u001b[0m\n\u001b[0;32m   1309\u001b[0m \u001b[1;33m\u001b[0m\u001b[0m\n",
      "\u001b[1;32mc:\\users\\mlabadie\\appdata\\local\\continuum\\miniconda2\\envs\\strawberry\\lib\\site-packages\\openalea.mtg-2.0.1-py2.7.egg\\openalea\\mtg\\io.pyc\u001b[0m in \u001b[0;36mread_mtg\u001b[1;34m(s, mtg, has_date)\u001b[0m\n\u001b[0;32m   1290\u001b[0m     \"\"\"\n\u001b[0;32m   1291\u001b[0m     \u001b[0mreader\u001b[0m \u001b[1;33m=\u001b[0m \u001b[0mReader\u001b[0m\u001b[1;33m(\u001b[0m\u001b[0ms\u001b[0m\u001b[1;33m,\u001b[0m \u001b[0mmtg\u001b[0m\u001b[1;33m=\u001b[0m\u001b[0mmtg\u001b[0m\u001b[1;33m,\u001b[0m \u001b[0mhas_date\u001b[0m\u001b[1;33m=\u001b[0m\u001b[0mhas_date\u001b[0m\u001b[1;33m)\u001b[0m\u001b[1;33m\u001b[0m\u001b[0m\n\u001b[1;32m-> 1292\u001b[1;33m     \u001b[0mg\u001b[0m \u001b[1;33m=\u001b[0m \u001b[0mreader\u001b[0m\u001b[1;33m.\u001b[0m\u001b[0mparse\u001b[0m\u001b[1;33m(\u001b[0m\u001b[1;33m)\u001b[0m\u001b[1;33m\u001b[0m\u001b[0m\n\u001b[0m\u001b[0;32m   1293\u001b[0m     \u001b[1;32mreturn\u001b[0m \u001b[0mg\u001b[0m\u001b[1;33m\u001b[0m\u001b[0m\n\u001b[0;32m   1294\u001b[0m \u001b[1;33m\u001b[0m\u001b[0m\n",
      "\u001b[1;32mc:\\users\\mlabadie\\appdata\\local\\continuum\\miniconda2\\envs\\strawberry\\lib\\site-packages\\openalea.mtg-2.0.1-py2.7.egg\\openalea\\mtg\\io.pyc\u001b[0m in \u001b[0;36mparse\u001b[1;34m(self)\u001b[0m\n\u001b[0;32m    918\u001b[0m         \"\"\"\n\u001b[0;32m    919\u001b[0m         \u001b[0mself\u001b[0m\u001b[1;33m.\u001b[0m\u001b[0mheader\u001b[0m\u001b[1;33m(\u001b[0m\u001b[1;33m)\u001b[0m\u001b[1;33m\u001b[0m\u001b[0m\n\u001b[1;32m--> 920\u001b[1;33m         \u001b[0mself\u001b[0m\u001b[1;33m.\u001b[0m\u001b[0mcode\u001b[0m\u001b[1;33m(\u001b[0m\u001b[1;33m)\u001b[0m\u001b[1;33m\u001b[0m\u001b[0m\n\u001b[0m\u001b[0;32m    921\u001b[0m \u001b[1;33m\u001b[0m\u001b[0m\n\u001b[0;32m    922\u001b[0m         \u001b[0mself\u001b[0m\u001b[1;33m.\u001b[0m\u001b[0merrors\u001b[0m\u001b[1;33m(\u001b[0m\u001b[1;33m)\u001b[0m\u001b[1;33m\u001b[0m\u001b[0m\n",
      "\u001b[1;32mc:\\users\\mlabadie\\appdata\\local\\continuum\\miniconda2\\envs\\strawberry\\lib\\site-packages\\openalea.mtg-2.0.1-py2.7.egg\\openalea\\mtg\\io.pyc\u001b[0m in \u001b[0;36mcode\u001b[1;34m(self)\u001b[0m\n\u001b[0;32m   1151\u001b[0m         \u001b[0mself\u001b[0m\u001b[1;33m.\u001b[0m\u001b[0m_feature_slice\u001b[0m \u001b[1;33m=\u001b[0m \u001b[0mslice\u001b[0m\u001b[1;33m(\u001b[0m\u001b[0mnb_cols\u001b[0m\u001b[1;33m-\u001b[0m\u001b[1;36m1\u001b[0m\u001b[1;33m,\u001b[0m \u001b[0mnb_cols\u001b[0m\u001b[1;33m-\u001b[0m\u001b[1;36m1\u001b[0m\u001b[1;33m+\u001b[0m\u001b[0mself\u001b[0m\u001b[1;33m.\u001b[0m\u001b[0m_nb_features\u001b[0m\u001b[1;33m)\u001b[0m\u001b[1;33m\u001b[0m\u001b[0m\n\u001b[0;32m   1152\u001b[0m \u001b[1;33m\u001b[0m\u001b[0m\n\u001b[1;32m-> 1153\u001b[1;33m         \u001b[0mself\u001b[0m\u001b[1;33m.\u001b[0m\u001b[0mpreprocess_code\u001b[0m\u001b[1;33m(\u001b[0m\u001b[1;33m)\u001b[0m\u001b[1;33m\u001b[0m\u001b[0m\n\u001b[0m\u001b[0;32m   1154\u001b[0m         \u001b[0mself\u001b[0m\u001b[1;33m.\u001b[0m\u001b[0mbuild_mtg\u001b[0m\u001b[1;33m(\u001b[0m\u001b[1;33m)\u001b[0m\u001b[1;33m\u001b[0m\u001b[0m\n\u001b[0;32m   1155\u001b[0m \u001b[1;33m\u001b[0m\u001b[0m\n",
      "\u001b[1;32mc:\\users\\mlabadie\\appdata\\local\\continuum\\miniconda2\\envs\\strawberry\\lib\\site-packages\\openalea.mtg-2.0.1-py2.7.egg\\openalea\\mtg\\io.pyc\u001b[0m in \u001b[0;36mpreprocess_code\u001b[1;34m(self)\u001b[0m\n\u001b[0;32m   1250\u001b[0m \u001b[1;33m\u001b[0m\u001b[0m\n\u001b[0;32m   1251\u001b[0m             \u001b[1;31m#s = self.preprocess_line(s, diff_space, indent, nb_spaces, edge_type)\u001b[0m\u001b[1;33m\u001b[0m\u001b[1;33m\u001b[0m\u001b[0m\n\u001b[1;32m-> 1252\u001b[1;33m             \u001b[0ms\u001b[0m\u001b[1;33m,\u001b[0m \u001b[0medge_type\u001b[0m \u001b[1;33m=\u001b[0m \u001b[0mself\u001b[0m\u001b[1;33m.\u001b[0m\u001b[0mpreprocess_line\u001b[0m\u001b[1;33m(\u001b[0m\u001b[0ms\u001b[0m\u001b[1;33m,\u001b[0m \u001b[0mdiff_space\u001b[0m\u001b[1;33m,\u001b[0m \u001b[0mindent\u001b[0m\u001b[1;33m,\u001b[0m \u001b[0mnb_spaces\u001b[0m\u001b[1;33m,\u001b[0m \u001b[0medge_type\u001b[0m\u001b[1;33m)\u001b[0m\u001b[1;33m\u001b[0m\u001b[0m\n\u001b[0m\u001b[0;32m   1253\u001b[0m \u001b[1;33m\u001b[0m\u001b[0m\n\u001b[0;32m   1254\u001b[0m             \u001b[0mnew_code\u001b[0m\u001b[1;33m.\u001b[0m\u001b[0mappend\u001b[0m\u001b[1;33m(\u001b[0m\u001b[0ms\u001b[0m\u001b[1;33m)\u001b[0m\u001b[1;33m\u001b[0m\u001b[0m\n",
      "\u001b[1;32mc:\\users\\mlabadie\\appdata\\local\\continuum\\miniconda2\\envs\\strawberry\\lib\\site-packages\\openalea.mtg-2.0.1-py2.7.egg\\openalea\\mtg\\io.pyc\u001b[0m in \u001b[0;36mpreprocess_line\u001b[1;34m(self, s, diff_space, indent, nb_spaces, edge_type)\u001b[0m\n\u001b[0;32m   1203\u001b[0m \u001b[1;33m\u001b[0m\u001b[0m\n\u001b[0;32m   1204\u001b[0m             \u001b[1;31m# Same case as diff_space == 0\u001b[0m\u001b[1;33m\u001b[0m\u001b[1;33m\u001b[0m\u001b[0m\n\u001b[1;32m-> 1205\u001b[1;33m             \u001b[1;32massert\u001b[0m \u001b[0mnb_spaces\u001b[0m \u001b[1;33m-\u001b[0m \u001b[0mindent\u001b[0m\u001b[1;33m[\u001b[0m\u001b[1;33m-\u001b[0m\u001b[1;36m1\u001b[0m\u001b[1;33m]\u001b[0m \u001b[1;33m==\u001b[0m \u001b[1;36m0\u001b[0m\u001b[1;33m\u001b[0m\u001b[0m\n\u001b[0m\u001b[0;32m   1206\u001b[0m             \u001b[1;32mif\u001b[0m \u001b[0ms\u001b[0m\u001b[1;33m.\u001b[0m\u001b[0mstartswith\u001b[0m\u001b[1;33m(\u001b[0m\u001b[1;34m'^'\u001b[0m\u001b[1;33m)\u001b[0m\u001b[1;33m:\u001b[0m\u001b[1;33m\u001b[0m\u001b[0m\n\u001b[0;32m   1207\u001b[0m                 \u001b[0ms\u001b[0m \u001b[1;33m=\u001b[0m \u001b[0ms\u001b[0m\u001b[1;33m[\u001b[0m\u001b[1;36m1\u001b[0m\u001b[1;33m:\u001b[0m\u001b[1;33m]\u001b[0m\u001b[1;33m\u001b[0m\u001b[0m\n",
      "\u001b[1;31mAssertionError\u001b[0m: "
     ]
    }
   ],
   "source": [
    "#OCTOPLOIDS = ['Gariguette_NEW','Darselect_New','Clery_New','Capriss_New''Cir107_NEW','Ciflorette_New']\n",
    "#DIPLOIDS = ['Sicile_New','Nils_New.mtg']\n",
    "\n",
    "di_genotype = 'Sicile'\n",
    "oct_genotype = 'friendlyfruit'\n",
    "\n",
    "# gdi = MTG(diploids[di_genotype])\n",
    "# print('Diploid  : ', str(gdi))\n",
    "\n",
    "goct = MTG(octoploids[oct_genotype])\n",
    "print('Octoploid  : ', str(goct))"
   ]
  },
  {
   "cell_type": "code",
   "execution_count": null,
   "metadata": {},
   "outputs": [],
   "source": [
    "goct"
   ]
  },
  {
   "cell_type": "markdown",
   "metadata": {},
   "source": [
    "* Check number of plant present in MTG"
   ]
  },
  {
   "cell_type": "code",
   "execution_count": null,
   "metadata": {},
   "outputs": [],
   "source": [
    "# Diploid\n",
    "nb_plants = gdi.nb_vertices(scale=1)\n",
    "print(nb_plants)\n",
    "\n",
    "# Octoploid\n",
    "nb_plants = goct.nb_vertices(scale=1)\n",
    "print(nb_plants)"
   ]
  },
  {
   "cell_type": "markdown",
   "metadata": {},
   "source": [
    "## 2.3 Load whole octoploids or diploids in one big MTG\n",
    "\n",
    "A set of strawberry plant architecture has been measured and is stored in an MTG."
   ]
  },
  {
   "cell_type": "markdown",
   "metadata": {},
   "source": [
    "- We select whole octoploids genotype for architectural analysis."
   ]
  },
  {
   "cell_type": "code",
   "execution_count": null,
   "metadata": {},
   "outputs": [],
   "source": [
    "big_mtg = MTG()\n",
    "for fn in OCTOPLOIDS:\n",
    "    big_mtg = algo.union(big_mtg,MTG(octoploids[fn]))\n",
    "\n",
    "g_octo = big_mtg\n",
    "    \n",
    "genotypes = set(g_octo.property(\"Genotype\").values())\n",
    "print genotypes"
   ]
  },
  {
   "cell_type": "markdown",
   "metadata": {},
   "source": [
    "- We select whole diploids genotype for architectural analysis."
   ]
  },
  {
   "cell_type": "code",
   "execution_count": null,
   "metadata": {},
   "outputs": [],
   "source": [
    "big_mtg = MTG()\n",
    "# Add missing properties\n",
    "for fn in DIPLOIDS:\n",
    "    big_mtg = algo.union(big_mtg,MTG(diploids[fn]))\n",
    "\n",
    "big_mtg.properties()['FLWRNUMBER']={}\n",
    "big_mtg.properties()['FLWRNUMBER_OPEN']={}\n",
    "\n",
    "g_diplo = big_mtg\n",
    "    \n",
    "genotypes = set(g_diplo.property(\"Genotype\").values())\n",
    "print genotypes"
   ]
  },
  {
   "cell_type": "markdown",
   "metadata": {},
   "source": [
    "# 3. Strawberry Visualisation"
   ]
  },
  {
   "cell_type": "markdown",
   "metadata": {},
   "source": [
    "## 3.1. Select MTG data for visualisation\n",
    "\n",
    "- one genotype (goct or gdi)\n",
    "- all genotypes (g_diplo or g_octo)"
   ]
  },
  {
   "cell_type": "code",
   "execution_count": null,
   "metadata": {},
   "outputs": [],
   "source": [
    "g=goct"
   ]
  },
  {
   "cell_type": "markdown",
   "metadata": {},
   "source": [
    "## 3.2.  Launch 3D-visualisation"
   ]
  },
  {
   "cell_type": "code",
   "execution_count": null,
   "metadata": {},
   "outputs": [],
   "source": [
    "g.properties()['order'] = orders(g)\n",
    "Rules_production.color_code(g)\n",
    "scene = Visualization.visualise_plants(g)\n",
    "\n",
    "pgl.Viewer.display(scene)"
   ]
  },
  {
   "cell_type": "markdown",
   "metadata": {},
   "source": [
    "## 3.3.  Launch 2D-Visualisation\n",
    "\n",
    "* 2D Visualization of one or a set of plants"
   ]
  },
  {
   "cell_type": "code",
   "execution_count": null,
   "metadata": {},
   "outputs": [],
   "source": [
    "visualisation2d.plot2d(g, g.vertices(scale=1)[:3],dist= [2]*9) "
   ]
  },
  {
   "cell_type": "markdown",
   "metadata": {},
   "source": [
    "# 4. Strawberry analysis"
   ]
  },
  {
   "cell_type": "markdown",
   "metadata": {},
   "source": [
    "## 4.1 Function to run the notebook on diploid or octoploid (only for one genotype)"
   ]
  },
  {
   "cell_type": "code",
   "execution_count": null,
   "metadata": {},
   "outputs": [],
   "source": [
    "# Run the notebook on Diploid or Octoploid\n",
    "\n",
    "# Dictionnary to convert propertie names in order to run old version script\n",
    "convert = dict(Stade='Stade', \n",
    "               Fleurs_ouverte='FLWRNUMBER_OPEN',\n",
    "               Fleurs_avorte='FLWRNUMBER_ABORTED',\n",
    "               Fleurs_total='FLWRNUMBER',\n",
    "               date='Sample_date',\n",
    "               Plante='Plant_ID',\n",
    "              )"
   ]
  },
  {
   "cell_type": "markdown",
   "metadata": {},
   "source": [
    "## 4.2 Extraction of data in dataframe"
   ]
  },
  {
   "cell_type": "markdown",
   "metadata": {},
   "source": [
    "### 4.2.1 Extraction on plant scale\n",
    "\n",
    "* Extraction of the most central individuals, variables (plant_variables) used;\n",
    "    * Plant\n",
    "    * Genotype\n",
    "    * date\n",
    "    * nb_total_leaves\n",
    "    * nb_total_flowers\n",
    "    * stolons\n",
    "    * order_max\n",
    "    * nb_ramification"
   ]
  },
  {
   "cell_type": "code",
   "execution_count": null,
   "metadata": {
    "scrolled": true
   },
   "outputs": [],
   "source": [
    "# extraction of data at plant scale\n",
    "df = variables.extract_at_plant_scale(g)\n",
    "df.date = pd.to_datetime(df.date, dayfirst=True)\n",
    "\n",
    "\n",
    "\n",
    "#Data of the central plants\n",
    "df_individuals = analysis.median_individuals(df)\n",
    "df_individuals = df_individuals.sort_values(by=['Genotype','date'])\n",
    "\n",
    "df_individuals\n",
    "df"
   ]
  },
  {
   "cell_type": "markdown",
   "metadata": {},
   "source": [
    "* 2D visualisation of the most central individuals"
   ]
  },
  {
   "cell_type": "code",
   "execution_count": null,
   "metadata": {},
   "outputs": [],
   "source": [
    "# selection of vid of median individuals\n",
    "pids = list(df_individuals.vid)\n",
    "n = len(pids)\n",
    "\n",
    "# Plot 2D- visualisation of the most central plant\n",
    "visualisation2d.plot2d(g, pids, dist=[5]*n)\n"
   ]
  },
  {
   "cell_type": "markdown",
   "metadata": {},
   "source": [
    "### 4.2.2 Data extraction on module scale"
   ]
  },
  {
   "cell_type": "markdown",
   "metadata": {},
   "source": [
    "**Variables used (module_variables):**\n",
    "- nb_visible_leaves # Nombre de feuille developpe\n",
    "- nb_foliar_primordia #Nombre de primordia foliaire\n",
    "- nb_total_leaves #Nombre total de feuille\n",
    "- nb_open_flowers #Nombre de fleurs ouverte\n",
    "- nb_aborted_flowers #Nombre de fleurs avorté\n",
    "- nb_total_flowers #Nombre total de Fleurs\n",
    "- nb_vegetative_buds\n",
    "- nb_initiated_buds\n",
    "- nb_floral_buds\n",
    "- nb_stolons\n",
    "- type_of_crown # Type de crowns (Primary Crown:1, Branch crown:2 extension crown:3)\n",
    "- Crown_status"
   ]
  },
  {
   "cell_type": "code",
   "execution_count": null,
   "metadata": {},
   "outputs": [],
   "source": [
    "# extraction of data at plant scale\n",
    "df = variables.extract_at_module_scale(g)\n",
    "df"
   ]
  },
  {
   "cell_type": "markdown",
   "metadata": {},
   "source": [
    "## 4.3 Data sequence extractions"
   ]
  },
  {
   "cell_type": "markdown",
   "metadata": {},
   "source": [
    "### 4.3.1 Module scale"
   ]
  },
  {
   "cell_type": "markdown",
   "metadata": {},
   "source": [
    "* **Index:**\n",
    "    - real Order (Index) for recouvrant extraction\n",
    "    - Apparent Order for non recouvrant extraction\n",
    "\n",
    "* **Variables:**\n",
    "    - nb_visible_leaves : count F label in components\n",
    "    - nb_foliar_primordia: count f si le module commence par F\n",
    "    - nb_total_leaves: sum(F+f) du module\n",
    "    - Stolon Numbers: count s label in components and attach at the order -1 \n",
    "    - nb_open_flowers: g.property('Fleurs_ouverte') at scale 3\n",
    "    - nb_aborted_flowers: g.property('Fleurs_avorte') at scale 3\n",
    "    - nb_total_flowers : g.property('Fleurs_total') at scale 3\n",
    "    - No_vegetative_bud: count bt if g.property(Stade) == none or 17 or 18 or 19\n",
    "    - No_iniated_bud: count bt if g.property(Stade) == A\n",
    "    - No_Floral_bud: count ht\n",
    "    - No_Inflorescence: count HT\n",
    " \n",
    " \n",
    "* **Variable qualitative:**\n",
    "    - type of crown\n",
    "        - label == T (1) : principal crown\n",
    "        - parent(component_roots()[0]) : if successor() == F : branch_crown (3)\n",
    "        - elif in (HT, ht, bt) extension crown (2)\n",
    "    - inflorescence_type:\n",
    "        - vegetative (1): label==bt g.property(Stade)== none or 17 or 18 or 19\n",
    "        - initiated (2): label== bt if g.property(Stade) == A\n",
    "        - floral (3): label== ht or HT\n",
    "\n",
    "\n",
    "* **General Variables:**\n",
    "    - Genotype: g.property('Genotype') at scale 1\n",
    "    - Date: g.property('date') at scale 1\n",
    "    - Plante Number: g.property('plante') at scale 1"
   ]
  },
  {
   "cell_type": "code",
   "execution_count": null,
   "metadata": {},
   "outputs": [],
   "source": [
    "# Run the notebook on Diploid or Octoploid\n",
    "IS_DIPLOID = False\n",
    "\n",
    "if IS_DIPLOID:\n",
    "    g = g_diplo\n",
    "else:\n",
    "    g = g_octo\n",
    "\n",
    "\n",
    "\n",
    "print(g.property_names())\n",
    "convert = dict(Stade='Stade', \n",
    "               Fleurs_ouverte='FLWRNUMBER_OPEN',\n",
    "               Fleurs_avorte='FLWRNUMBER_ABORTED',\n",
    "               Fleurs_total='FLWRNUMBER',\n",
    "               date='Sample_date',\n",
    "               Plante='Plant_ID',\n",
    "              )\n",
    "\n",
    "# if not IS_DIPLOID:\n",
    "#     g.properties()['Sample_date'] = g.property('Architecture_date')\n",
    "\n",
    "def dates_diploid():\n",
    "    l = '11-05-2016', '17-05-2016', '01-06-2016', '20-06-2016'\n",
    "    return dict(zip(l, range(1, len(l)+1)))\n",
    "\n",
    "def dates_octoploid():\n",
    "    d = {'10-12-2014':1,'07-01-2015':2,'15-02-2015':3,'02-03-2015':4,'03-04-2015':5,'27-05-2015':6,'04-12-2014':1,'13-02-2015':3,\n",
    "         '30-03-2015':5,'08-01-2015':2,'11-02-2015':3,'04-03-2015':4,'02-04-2015':5,'20-05-2015':6,'09-01-2015':2,'06-03-2015':4,\n",
    "         '12-02-2015':3,'19-05-2015':6}\n",
    "    return d\n",
    "\n",
    "def dates():\n",
    "    if IS_DIPLOID:\n",
    "        return dates_diploid()\n",
    "    else: \n",
    "        return dates_octoploid()\n",
    "\n",
    "\n",
    "def property(g, name):\n",
    "    \"\"\" We can change the name of the MTG properties without changing the code\"\"\"\n",
    "    return g.property(convert.get(name, name))\n",
    "    "
   ]
  },
  {
   "cell_type": "code",
   "execution_count": null,
   "metadata": {},
   "outputs": [],
   "source": [
    "# apparent_module: all module which contains a visible leaf F\n",
    "def visible_modules(g=g):\n",
    "    return [v for v in g.vertices_iter(scale=2) if g.label(g.component_roots_iter(v).next()) == 'F']"
   ]
  },
  {
   "cell_type": "code",
   "execution_count": null,
   "metadata": {},
   "outputs": [],
   "source": [
    "# add property in MTG, apparant module (True) or not\n",
    "modules = visible_modules()\n",
    "_visible = {}\n",
    "for m in modules:\n",
    "    _visible[m] = True\n",
    "g.properties()['visible'] = _visible"
   ]
  },
  {
   "cell_type": "code",
   "execution_count": null,
   "metadata": {},
   "outputs": [],
   "source": [
    "\"\"\"Index\n",
    "\n",
    "TODO: Replace dict by functions with specific traversal.\n",
    "\n",
    "\"\"\"\n",
    "#order scale 2: order at module scale\n",
    "orders = algo.orders(g, scale=2)\n",
    "\n",
    "\"\"\"Variable quantitative\"\"\"\n",
    "#function which count all F\n",
    "def nb_visible_leaves(vid, g=g):\n",
    "    return sum(1 for cid in g.components(vid) if g.label(cid)=='F')\n",
    "\n",
    "#function which count all f\n",
    "def nb_foliar_primordia(vid, g=g):\n",
    "    return sum(1 for cid in g.components(vid) if g.label(cid)=='f')\n",
    "\n",
    "#function which count all f+F\n",
    "def nb_total_leaves(vid, g=g):\n",
    "    return sum(1 for cid in g.components(vid) if g.label(cid) in ('f', 'F'))\n",
    "\n",
    "\"\"\" nb_stolon\"\"\"\n",
    "#function count stolon\n",
    "def nb_stolons(v, g=g):\n",
    "    def nb_stolon(vid, g=g):\n",
    "        return sum(1 for cid in g.components(vid) if g.label(cid)=='s') \n",
    "    return sum(nb_stolon(ch) for ch in g.children(v))\n",
    "\n",
    "#function return number of open flower\n",
    "def nb_open_flowers(vid, g=g):\n",
    "    flowers = property(g, 'Fleurs_ouverte')\n",
    "    return sum( flowers.get(cid,0) for cid in g.components(vid) if g.label(cid) in ('ht', 'HT'))\n",
    "\n",
    "# function return number of aborted flower\n",
    "def nb_aborted_flowers(vid, g=g):\n",
    "    flowers = property(g, 'Fleurs_aborted')\n",
    "    return sum( flowers.get(cid,0) for cid in g.components(vid) if g.label(cid) in ('ht', 'HT'))\n",
    "\n",
    "# function return number of total flower\n",
    "def nb_total_flowers(vid, g=g):\n",
    "    flowers = property(g, 'Fleurs_total')\n",
    "    return sum( flowers.get(cid,0) for cid in g.components(vid) if g.label(cid) in ('ht', 'HT'))\n",
    "\n",
    "\n",
    "\"\"\"Return the No vegetative bud\n",
    "    \n",
    "Algorithm:\n",
    "if labet is bt then stage is 17,18,19 or None\n",
    "count number of bt and attach at the parent order\n",
    "    \"\"\"\n",
    "# function return number of vegetative buds\n",
    "def nb_vegetative_buds(vid, g=g):\n",
    "    stages= property(g, 'Stade')\n",
    "\n",
    "    def nb_vegetative(v):\n",
    "        cid = g.component_roots(v)[0]\n",
    "        \n",
    "        return sum(1 for cid in g.components(v) if g.label(cid)=='bt' and stages.get(cid) in (None,'17','18','19'))\n",
    "    \n",
    "    return sum(nb_vegetative(ch) for ch in g.children(vid))\n",
    "\n",
    " \n",
    "\"\"\" Return the No initiated bud\"\"\"\n",
    "\n",
    "def nb_initiated_buds(vid, g=g):\n",
    "    \n",
    "    stages= property(g, 'Stade')\n",
    "    \n",
    "    def nb_init(v):\n",
    "        return sum(1 for cid in g.components(v) if (g.label(cid)=='bt') and (stages.get(cid)=='A'))\n",
    "\n",
    "    return sum(nb_init(ch) for ch in g.children(vid))\n",
    "\n",
    "\n",
    "\"\"\" Return the No Floral bud\"\"\"\n",
    "def nb_floral_buds (vid, g=g):\n",
    "    visibles = property(g, 'visible')\n",
    "    def nb_floral(v):\n",
    "        return sum(1 for cid in g.components(v) if g.label(cid)==\"ht\" )\n",
    "    return sum(nb_floral(ch) for ch in g.children(vid) if ch not in visibles)\n",
    "\n",
    "\n",
    "\"\"\" Qualitative variables\"\"\"\n",
    "def type_of_crown(vid, g=g):\n",
    "    \"\"\" Returns the type of crown.\n",
    "    \n",
    "    Definition of type of crown (1, 2, 3):\n",
    "     - principal crown (1): label == T \n",
    "     - branch_crown (3)\n",
    "         parent(component_roots()[0]) : if successor() == F  \n",
    "     - extension_crown (2): contains(HT, ht, bt) \n",
    "     - error (4)\n",
    "     \n",
    "    \"\"\"\n",
    "    if g.label(vid) == 'T':\n",
    "        return 1\n",
    "    else:\n",
    "        cid = g.component_roots_iter(vid).next()\n",
    "        pid = g.parent(cid)\n",
    "        sid = g.Successor(pid)\n",
    "        #print sid\n",
    "        if g.label(sid) in ('F', 'f'):\n",
    "            return 3\n",
    "        elif g.label(sid) in ('bt', 'ht', 'HT'):\n",
    "            return 2\n",
    "        else:\n",
    "            # ERROR !!!\n",
    "            print g[cid], g[g.complex_at_scale(cid, scale=1)]\n",
    "            return 4\n",
    "            \n",
    "def Crown_status(vid, g=g):\n",
    "    \"\"\" Returns the type of inflorescence\n",
    "    \n",
    "    :Algorithms:\n",
    "    if label is bt then\n",
    "        - if stage is 17, 18, 19 or None, => vegetative (1)\n",
    "        - if stage is A => initiated (2)\n",
    "        - if stage is other => non defined (pourri, avorté, coupé) (-1)\n",
    "     - Terminal vegetative bud (1): label==bt g.property(Stade)== none or 17 or 18 or 19\n",
    "     - Terminal initiated bud (2): label== bt if g.property(Stade) == A\n",
    "     - Terminal Floral bud (3): label==ht\n",
    "     - Inflorescence Terminal (4): label== HT\n",
    "     - runner (5): label = s\n",
    "     \n",
    "    \"\"\"\n",
    "    stages = property(g,'Stade')\n",
    "    # select s, ht, HT et bt\n",
    "    for cid in g.components(vid):\n",
    "        if g.label(cid) in ('s', 'ht', 'HT', 'bt'):\n",
    "            label = g.label(cid)\n",
    "            if label == 'ht':\n",
    "                return 3\n",
    "            elif label == 'HT':\n",
    "                return 4\n",
    "            elif label == 'bt':\n",
    "                stage = stages.get(cid)\n",
    "                if stage == 'A':\n",
    "                    return 2\n",
    "                elif stage in (None, '17', '18', '19'):\n",
    "                    return 1\n",
    "            elif label == 's':\n",
    "                return 5\n",
    "            return -1\n",
    "\n",
    "def nb_inflorescence (Vid, g):\n",
    "    return sum(1 for cid in g.components(Vid) if g.label(cid)=='HT')\n",
    "    \n",
    "def genotype(vid, g=g):\n",
    "    d = {'Capriss':4, 'Ciflorette':2, 'Cir107':6, 'Clery':3, 'Darselect':5, 'Gariguette':1,\n",
    "         'Nils': 1, }\n",
    "    \n",
    "    cpx = g.complex_at_scale(vid, scale=1)\n",
    "    _genotype = property(g, 'Genotype')[cpx]\n",
    "    return d[_genotype]\n",
    "\n",
    "def plant(vid, g=g):\n",
    "    \n",
    "    cpx = g.complex_at_scale(vid, scale=1)\n",
    "    return property(g, 'Plante')[cpx]\n",
    "\n",
    "def date(vid, g=g):\n",
    "    d = dates()\n",
    "    cpx = g.complex_at_scale(vid, scale=1)\n",
    "    _date = property(g, 'date')[cpx]\n",
    "    return(d[_date])"
   ]
  },
  {
   "cell_type": "code",
   "execution_count": null,
   "metadata": {},
   "outputs": [],
   "source": [
    "# g.property(\"Genotype\")"
   ]
  },
  {
   "cell_type": "code",
   "execution_count": null,
   "metadata": {},
   "outputs": [],
   "source": [
    "# Extract sequences\n",
    "\n",
    "#seqs = stat.extract_extremities(g, scale=2)\n",
    "#seqs = stat.extract_axes(g, scale=2)\n",
    "def is_extremities(g, v):\n",
    "    visibles = property(g, 'visible')\n",
    "    ext = [c for c in g.children(v) if c in visibles and not is_axis_root(g, c)]\n",
    "    return True if not ext else False\n",
    "\n",
    "def extract_extremities(g, modules):\n",
    "    \"\"\" Extract sequences that connect from leaves modules to the root ones of each plant. \"\"\"\n",
    "    leaves = [m for m in modules if is_extremities(g, m)]\n",
    "    seqs = [list(reversed([vid for vid in algo.ancestors(g,lid)])) for lid in leaves]\n",
    "    return seqs\n",
    "\n",
    "def is_axis_root(g, vid):\n",
    "    cid = g.component_roots_iter(vid).next()\n",
    "    pid = g.parent(cid)\n",
    "    sid = g.Successor(pid)\n",
    "    if g.label(sid) not in ('bt', 'ht', 'HT'):\n",
    "        return True\n",
    "    else:\n",
    "        return False\n",
    "    \n",
    "\n",
    "def apparent_axis(g, vid):\n",
    "    visibles = property(g, 'visible')\n",
    "    v = vid\n",
    "    while v is not None:\n",
    "        yield v\n",
    "        vtx = v; v = None\n",
    "        for vid in g.children(vtx):\n",
    "            if (vid in visibles) and (not is_axis_root(g, vid)):\n",
    "                v = vid\n",
    "            \n",
    "def extract_apparent_axes(g, modules):\n",
    "    # Extract all the vertices with edge_type == '+'\n",
    "    vids = [m for m in modules if is_axis_root(g, m)]\n",
    "    \n",
    "    seqs = [ list(apparent_axis(g, vid)) for vid in vids]\n",
    "    return seqs\n"
   ]
  },
  {
   "cell_type": "code",
   "execution_count": null,
   "metadata": {},
   "outputs": [],
   "source": [
    "seqs1 = extract_apparent_axes(g, modules)\n",
    "seqs2= extract_extremities(g,modules)\n",
    "seqs = seqs1\n",
    "len (seqs)"
   ]
  },
  {
   "cell_type": "code",
   "execution_count": null,
   "metadata": {},
   "outputs": [],
   "source": [
    "# Index: order\n",
    "VertexIdentifiers = [['-'.join(str(orders[j]) for j in seq[0:i+1]) for i, vid in enumerate(seq)] for seq in seqs]\n",
    "\n",
    "# Variables\n",
    "variable = OrderedDict()\n",
    "variable['nb_visible_leaves'] = nb_visible_leaves # Nombre de feuille developpe\n",
    "variable['nb_foliar_primordia'] = nb_foliar_primordia #Nombre de primordia foliaire\n",
    "variable['nb_total_leaves'] = nb_total_leaves #Nombre total de feuille\n",
    "variable['nb_open_flowers'] = nb_open_flowers #Nombre de fleurs ouverte\n",
    "variable['nb_aborted_flowers'] = nb_aborted_flowers #Nombre de fleurs avorté\n",
    "variable['nb_total_flowers'] = nb_total_flowers #Nombre total de Fleurs\n",
    "variable['vegetative_bud'] = nb_vegetative_buds\n",
    "variable['Initiated_bud']= nb_initiated_buds\n",
    "variable['floral_bud']= nb_floral_buds\n",
    "variable['stolons']= nb_stolons\n",
    "variable['type_of_crown'] = type_of_crown # Type de crowns (Primary Crown:1, Branch crown:2 extension crown:3)\n",
    "variable['Crown_status'] = Crown_status # Status du coeurs (\"vegeatatif:1, Iniated: 2, Floral: 3)\n",
    "\n",
    "\n",
    "variable['genotype'] = genotype # TODO\n",
    "variable['date'] = date # TODO\n",
    "variable['plant'] = plant"
   ]
  },
  {
   "cell_type": "code",
   "execution_count": null,
   "metadata": {},
   "outputs": [],
   "source": [
    "variable_names = variable.keys()\n",
    "print variable_names\n",
    "\n",
    "final_seqs = [[[f(vid) for f in variable.values()] for vid in seq] for seq in seqs]"
   ]
  },
  {
   "cell_type": "code",
   "execution_count": null,
   "metadata": {},
   "outputs": [],
   "source": [
    "final_seqs"
   ]
  },
  {
   "cell_type": "code",
   "execution_count": null,
   "metadata": {},
   "outputs": [],
   "source": [
    "sequence_txt = analysis.write_sequences(final_seqs, variable_names, VertexIdentifiers)"
   ]
  },
  {
   "cell_type": "code",
   "execution_count": null,
   "metadata": {},
   "outputs": [],
   "source": [
    "print sequence_txt"
   ]
  },
  {
   "cell_type": "code",
   "execution_count": null,
   "metadata": {},
   "outputs": [],
   "source": [
    "f = open('c:/Users/mlabadie/Documents/GitHub/strawberry/Rscript/strawberry_archi_module_nonoverlaping_path.seq', 'w') #seq1\n",
    "f.write(sequence_txt)\n",
    "f.close()"
   ]
  },
  {
   "cell_type": "code",
   "execution_count": null,
   "metadata": {},
   "outputs": [],
   "source": []
  }
 ],
 "metadata": {
  "kernelspec": {
   "display_name": "Python 2",
   "language": "python",
   "name": "python2"
  },
  "language_info": {
   "codemirror_mode": {
    "name": "ipython",
    "version": 2
   },
   "file_extension": ".py",
   "mimetype": "text/x-python",
   "name": "python",
   "nbconvert_exporter": "python",
   "pygments_lexer": "ipython2",
   "version": "2.7.14"
  }
 },
 "nbformat": 4,
 "nbformat_minor": 2
}
