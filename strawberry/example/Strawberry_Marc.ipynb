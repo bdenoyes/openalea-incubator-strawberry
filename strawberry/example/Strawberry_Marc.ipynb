{
 "metadata": {
  "name": "",
  "signature": "sha256:edaf6b20896b152c3c8dea6c3a276557b8491914722feb1da94f3512ae8dfe6c"
 },
 "nbformat": 3,
 "nbformat_minor": 0,
 "worksheets": [
  {
   "cells": [
    {
     "cell_type": "markdown",
     "metadata": {},
     "source": [
      "# Convert Strawberry Data to MTG"
     ]
    },
    {
     "cell_type": "markdown",
     "metadata": {},
     "source": [
      "**Authors** : Marc Labadie, Christophe Pradal"
     ]
    },
    {
     "cell_type": "code",
     "collapsed": false,
     "input": [
      "from openalea.deploy.shared_data import shared_data\n",
      "import strawberry\n",
      "from strawberry.reader import Reader, strawberry2mtg \n",
      "from openalea.mtg import MTG, fat_mtg\n",
      "from openalea.mtg.traversal import *\n",
      "from math import radians"
     ],
     "language": "python",
     "metadata": {},
     "outputs": [],
     "prompt_number": 12
    },
    {
     "cell_type": "code",
     "collapsed": false,
     "input": [
      "files = shared_data(strawberry).glob('*.csv')\n",
      "fn = files[2]\n",
      "g.display()\n",
      "print fn"
     ],
     "language": "python",
     "metadata": {},
     "outputs": [
      {
       "output_type": "stream",
       "stream": "stdout",
       "text": [
        "MTG : nb_vertices=118, nb_scales=2\n",
        "/Phytomer\t\t\t(id=1)\t\t\t\t\t\t\t\t\t\t\t\n",
        "\t+Phytomer\t\t\t(id=2)\t\t\t\t\t\t\t\t\t\t\n",
        "\t^<Phytomer\t\t\t(id=3)\t\t\t\t\t\t\t\t\t\t\n",
        "\t^<Phytomer\t\t\t(id=4)\t\t\t\t\t\t\t\t\t\t\n",
        "\t^<Phytomer\t\t\t(id=5)\t\t\t\t\t\t\t\t\t\t\n",
        "\t^<Phytomer\t\t\t(id=6)\t\t\t\t\t\t\t\t\t\t\n",
        "\t^<Phytomer\t\t\t(id=7)\t\t\t\t\t\t\t\t\t\t\n",
        "\t^<Phytomer\t\t\t(id=8)\t\t\t\t\t\t\t\t\t\t\n",
        "\t^<Phytomer\t\t\t(id=9)\t\t\t\t\t\t\t\t\t\t\n",
        "\t^<Phytomer\t\t\t(id=10)\t\t\t\t\t\t\t\t\t\t\n",
        "\t^<Phytomer\t\t\t(id=11)\t\t\t\t\t\t\t\t\t\t\n",
        "\t^<Phytomer\t\t\t(id=12)\t\t\t\t\t\t\t\t\t\t\n",
        "\t^<Phytomer\t\t\t(id=13)\t\t\t\t\t\t\t\t\t\t\n",
        "\t^<Phytomer\t\t\t(id=14)\t\t\t\t\t\t\t\t\t\t\n",
        "\t^<Phytomer\t\t\t(id=15)\t\t\t\t\t\t\t\t\t\t\n",
        "\t^<Phytomer\t\t\t(id=16)\t\t\t\t\t\t\t\t\t\t\n",
        "\t^<Phytomer\t\t\t(id=17)\t\t\t\t\t\t\t\t\t\t\n",
        "\t\t+Phytomer\t\t\t(id=18)\t\t\t\t\t\t\t\t\t\n",
        "\t\t^<Phytomer\t\t\t(id=19)\t\t\t\t\t\t\t\t\t\n",
        "\t\t\t+Phytomer\t\t\t(id=20)\t\t\t\t\t\t\t\t\n",
        "\t\t\t^<Phytomer\t\t\t(id=21)\t\t\t\t\t\t\t\t\n",
        "\t\t\t^<Phytomer\t\t\t(id=22)\t\t\t\t\t\t\t\t\n",
        "\t\t\t^<Phytomer\t\t\t(id=23)\t\t\t\t\t\t\t\t\n",
        "\t\t\t\t+Phytomer\t\t\t(id=24)\t\t\t\t\t\t\t\n",
        "\t\t\t\t^<Phytomer\t\t\t(id=25)\t\t\t\t\t\t\t\n",
        "\t\t\t\t^<Phytomer\t\t\t(id=26)\t\t\t\t\t\t\t\n",
        "\t\t\t\t^<Phytomer\t\t\t(id=27)\t\t\t\t\t\t\t\n",
        "\t\t\t\t^<TerminalBud\t\t\t(id=28)\t\t\t\t\t\t\t\n",
        "\t\t\t^<Inflorescence\t\t\t(id=29)\t\t\t\t\t\t\t\t\n",
        "\t\t^<Inflorescence\t\t\t(id=30)\t\t\t\t\t\t\t\t\t\n",
        "\t^<Phytomer\t\t\t(id=31)\t\t\t\t\t\t\t\t\t\t\n",
        "\t^<Phytomer\t\t\t(id=32)\t\t\t\t\t\t\t\t\t\t\n",
        "\t\t+Phytomer\t\t\t(id=33)\t\t\t\t\t\t\t\t\t\n",
        "\t\t^<Phytomer\t\t\t(id=34)\t\t\t\t\t\t\t\t\t\n",
        "\t\t\t+Phytomer\t\t\t(id=35)\t\t\t\t\t\t\t\t\n",
        "\t\t\t^<Phytomer\t\t\t(id=36)\t\t\t\t\t\t\t\t\n",
        "\t\t\t^<Phytomer\t\t\t(id=37)\t\t\t\t\t\t\t\t\n",
        "\t\t\t\t+Phytomer\t\t\t(id=38)\t\t\t\t\t\t\t\n",
        "\t\t\t\t^<Phytomer\t\t\t(id=39)\t\t\t\t\t\t\t\n",
        "\t\t\t\t\t+Phytomer\t\t\t(id=40)\t\t\t\t\t\t\n",
        "\t\t\t\t\t^<Phytomer\t\t\t(id=41)\t\t\t\t\t\t\n",
        "\t\t\t\t\t^<Phytomer\t\t\t(id=42)\t\t\t\t\t\t\n",
        "\t\t\t\t\t^<TerminalBud\t\t\t(id=43)\t\t\t\t\t\t\n",
        "\t\t\t\t^<Inflorescence\t\t\t(id=44)\t\t\t\t\t\t\t\n",
        "\t\t\t^<Inflorescence\t\t\t(id=45)\t\t\t\t\t\t\t\t\n",
        "\t\t^<Inflorescence\t\t\t(id=46)\t\t\t\t\t\t\t\t\t\n",
        "\t\t^<Phytomer\t\t\t(id=47)\t\t\t\t\t\t\t\t\t\n",
        "\t\t^<Phytomer\t\t\t(id=48)\t\t\t\t\t\t\t\t\t\n",
        "\t\t\t+Phytomer\t\t\t(id=49)\t\t\t\t\t\t\t\t\n",
        "\t\t\t^<Phytomer\t\t\t(id=50)\t\t\t\t\t\t\t\t\n",
        "\t\t\t^<Phytomer\t\t\t(id=51)\t\t\t\t\t\t\t\t\n",
        "\t\t\t^<Phytomer\t\t\t(id=52)\t\t\t\t\t\t\t\t\n",
        "\t\t\t^<Phytomer\t\t\t(id=53)\t\t\t\t\t\t\t\t\n",
        "\t\t\t^<Phytomer\t\t\t(id=54)\t\t\t\t\t\t\t\t\n",
        "\t\t\t^<TerminalBud\t\t\t(id=55)\t\t\t\t\t\t\t\t\n",
        "\t\t^<Inflorescence\t\t\t(id=56)\t\t\t\t\t\t\t\t\t\n",
        "\t^<Phytomer\t\t\t(id=57)\t\t\t\t\t\t\t\t\t\t\n",
        "\t^<Inflorescence\t\t\t(id=58)\t\t\t\t\t\t\t\t\t\t\n",
        "^<Phytomer\t\t\t(id=59)\t\t\t\t\t\t\t\t\t\t\t\n",
        "^<Phytomer\t\t\t(id=60)\t\t\t\t\t\t\t\t\t\t\t\n",
        "^<Phytomer\t\t\t(id=61)\t\t\t\t\t\t\t\t\t\t\t\n",
        "\t+Phytomer\t\t\t(id=62)\t\t\t\t\t\t\t\t\t\t\n",
        "\t^<Phytomer\t\t\t(id=63)\t\t\t\t\t\t\t\t\t\t\n",
        "\t^<Phytomer\t\t\t(id=64)\t\t\t\t\t\t\t\t\t\t\n",
        "\t^<Phytomer\t\t\t(id=65)\t\t\t\t\t\t\t\t\t\t\n",
        "\t\t+Phytomer\t\t\t(id=66)\t\t\t\t\t\t\t\t\t\n",
        "\t\t^<Phytomer\t\t\t(id=67)\t\t\t\t\t\t\t\t\t\n",
        "\t\t\t+Phytomer\t\t\t(id=68)\t\t\t\t\t\t\t\t\n",
        "\t\t\t^<Phytomer\t\t\t(id=69)\t\t\t\t\t\t\t\t\n",
        "\t\t\t^<Phytomer\t\t\t(id=70)\t\t\t\t\t\t\t\t\n",
        "\t\t\t^<Phytomer\t\t\t(id=71)\t\t\t\t\t\t\t\t\n",
        "\t\t\t^<Phytomer\t\t\t(id=72)\t\t\t\t\t\t\t\t\n",
        "\t\t\t^<TerminalBud\t\t\t(id=73)\t\t\t\t\t\t\t\t\n",
        "\t\t^<Inflorescence\t\t\t(id=74)\t\t\t\t\t\t\t\t\t\n",
        "\t^<Inflorescence\t\t\t(id=75)\t\t\t\t\t\t\t\t\t\t\n",
        "^<Phytomer\t\t\t(id=76)\t\t\t\t\t\t\t\t\t\t\t\n",
        "^<Phytomer\t\t\t(id=77)\t\t\t\t\t\t\t\t\t\t\t\n",
        "^<Phytomer\t\t\t(id=78)\t\t\t\t\t\t\t\t\t\t\t\n",
        "^<Phytomer\t\t\t(id=79)\t\t\t\t\t\t\t\t\t\t\t\n",
        "\t+Phytomer\t\t\t(id=80)\t\t\t\t\t\t\t\t\t\t\n",
        "\t\t+Phytomer\t\t\t(id=81)\t\t\t\t\t\t\t\t\t\n",
        "\t\t\t+Phytomer\t\t\t(id=82)\t\t\t\t\t\t\t\t\n",
        "\t\t\t^<Phytomer\t\t\t(id=83)\t\t\t\t\t\t\t\t\n",
        "\t\t\t\t+Phytomer\t\t\t(id=84)\t\t\t\t\t\t\t\n",
        "\t\t\t\t^<Phytomer\t\t\t(id=85)\t\t\t\t\t\t\t\n",
        "\t\t\t\t\t+Phytomer\t\t\t(id=86)\t\t\t\t\t\t\n",
        "\t\t\t\t\t^<Phytomer\t\t\t(id=87)\t\t\t\t\t\t\n",
        "\t\t\t\t\t^<Phytomer\t\t\t(id=88)\t\t\t\t\t\t\n",
        "\t\t\t\t\t^<Phytomer\t\t\t(id=89)\t\t\t\t\t\t\n",
        "\t\t\t\t\t^<Phytomer\t\t\t(id=90)\t\t\t\t\t\t\n",
        "\t\t\t\t\t^<Phytomer\t\t\t(id=91)\t\t\t\t\t\t\n",
        "\t\t\t\t\t^<Phytomer\t\t\t(id=92)\t\t\t\t\t\t\n",
        "\t\t\t\t\t^<Phytomer\t\t\t(id=93)\t\t\t\t\t\t\n",
        "\t\t\t\t\t^<TerminalBud\t\t\t(id=94)\t\t\t\t\t\t\n",
        "\t\t\t\t^<Inflorescence\t\t\t(id=95)\t\t\t\t\t\t\t\n",
        "\t\t\t^<Inflorescence\t\t\t(id=96)\t\t\t\t\t\t\t\t\n",
        "\t\t^<Inflorescence\t\t\t(id=97)\t\t\t\t\t\t\t\t\t\n",
        "\t\t^<Phytomer\t\t\t(id=98)\t\t\t\t\t\t\t\t\t\n",
        "\t\t\t+Phytomer\t\t\t(id=99)\t\t\t\t\t\t\t\t\n",
        "\t\t\t^<Phytomer\t\t\t(id=100)\t\t\t\t\t\t\t\t\n",
        "\t\t\t^<Phytomer\t\t\t(id=101)\t\t\t\t\t\t\t\t\n",
        "\t\t\t^<Phytomer\t\t\t(id=102)\t\t\t\t\t\t\t\t\n",
        "\t\t\t^<Phytomer\t\t\t(id=103)\t\t\t\t\t\t\t\t\n",
        "\t\t\t^<TerminalBud\t\t\t(id=104)\t\t\t\t\t\t\t\t\n",
        "\t\t\t^<Phytomer\t\t\t(id=105)\t\t\t\t\t\t\t\t\n",
        "\t\t\t^<Phytomer\t\t\t(id=106)\t\t\t\t\t\t\t\t\n",
        "\t\t\t^<Phytomer\t\t\t(id=107)\t\t\t\t\t\t\t\t\n",
        "\t\t\t^<Phytomer\t\t\t(id=108)\t\t\t\t\t\t\t\t\n",
        "\t\t\t^<Phytomer\t\t\t(id=109)\t\t\t\t\t\t\t\t\n",
        "\t\t\t^<Phytomer\t\t\t(id=110)\t\t\t\t\t\t\t\t\n",
        "\t\t\t^<Phytomer\t\t\t(id=111)\t\t\t\t\t\t\t\t\n",
        "\t\t\t^<Phytomer\t\t\t(id=112)\t\t\t\t\t\t\t\t\n",
        "\t\t\t^<Phytomer\t\t\t(id=113)\t\t\t\t\t\t\t\t\n",
        "\t\t\t^<TerminalBud\t\t\t(id=114)\t\t\t\t\t\t\t\t\n",
        "\t\t^<Inflorescence\t\t\t(id=115)\t\t\t\t\t\t\t\t\t\n",
        "\t^<Inflorescence\t\t\t(id=116)\t\t\t\t\t\t\t\t\t\t\n",
        "^<Inflorescence\t\t\t(id=117)\t\t\t\t\t\t\t\t\t\t\t\n",
        "z:\\g1\\marc-labadie\\python\\strawberry\\share\\data\\Cir107_1_9.csv\n"
       ]
      }
     ],
     "prompt_number": 13
    },
    {
     "cell_type": "markdown",
     "metadata": {},
     "source": [
      "Reading the file and create an MTG"
     ]
    },
    {
     "cell_type": "code",
     "collapsed": false,
     "input": [
      "gs = [strawberry2mtg(fn) for fn in files]\n",
      "g = gs[2]"
     ],
     "language": "python",
     "metadata": {},
     "outputs": [
      {
       "output_type": "stream",
       "stream": "stdout",
       "text": [
        "Axis_1\tAxis_2\tAxe_3\tAxis_4\tAxis_5\tAxis_6\tAxis_7\tAxis_8\tleaf_area\tleaf_perimeter\tLobe_C_H\tLobe_C_L\tLobe_G_H\tLobe_G_L\tLeaf_area_algo\tCom.\tHarvest_fruit\tFruit_aborded\tTotal_fruit\tcom.\n",
        "Axis_1\tAxis_2\tAxe_3\tAxis_4\tAxis_5\tAxis_6\tAxis_7\tAxis_8\tleaf_area\tleaf_perimeter\tLobe_C_H\tLobe_C_L\tLobe_G_H\tLobe_G_L\tLeaf_area_algo\tLobe_C_H\tLobe_C_L\tLobe_G_H\tLobe_G_L\tLeaf_area_algo\tCom.\tharvest_fruit\tfruit_aborded\tTotal_ruit\tcom.\n",
        "Axis_1\tAxis_2\tAxe_3\tAxis_4\tAxis_5\tAxis_6\tAxis_7\tleaf_area\tleaf_perimeter\tLobe_C_H\tLobe_C_L\tLobe_G_H\tLobe_G_L\tLeaf_area_algo\tCom.\tharvest_fruit\tfruit_aborded\tTotal_fruit\tcom.\n"
       ]
      }
     ],
     "prompt_number": 14
    },
    {
     "cell_type": "markdown",
     "metadata": {},
     "source": [
      "## Method that Computes the Phyllochron\n",
      "\n",
      "Parameters : MTG and the delay between the appartion of two successive organs on the same axis\n",
      "This delay can be express in degree day.\n",
      "The result is : a MTG property named age that is retrieve to show the development of the plant through time.\n",
      "The hypothesis is that the delay is constant and the time of apparition of a lateral organ is 10 times the delay."
     ]
    },
    {
     "cell_type": "code",
     "collapsed": false,
     "input": [
      "def compute_pyllochrone(g, dt = 5.):\n",
      "    max_scale = g.max_scale()\n",
      "    age = {}\n",
      "    for v in pre_order(g, 1):\n",
      "        pid = g.parent(v)\n",
      "        if pid is None:\n",
      "            age[v] = 0.\n",
      "        else:\n",
      "            age[v] = age[pid]+dt\n",
      "            if g.edge_type(v) == '+':\n",
      "                age[v] += 10*dt\n",
      "    g.properties()['age'] = age\n",
      "    return g"
     ],
     "language": "python",
     "metadata": {},
     "outputs": [],
     "prompt_number": 15
    },
    {
     "cell_type": "code",
     "collapsed": false,
     "input": [
      "from openalea.mtg import traversal\n",
      "from openalea.mtg.plantframe import turtle\n",
      "from openalea.plantgl.all import *\n",
      "%gui qt\n",
      "\n",
      "g = gs[2]"
     ],
     "language": "python",
     "metadata": {},
     "outputs": [],
     "prompt_number": 16
    },
    {
     "cell_type": "code",
     "collapsed": false,
     "input": [
      "# compute orders\n",
      "from openalea.mtg.algo import orders\n",
      "\n",
      "#add a order property order\n",
      "g.properties()['order'] = orders(g)\n",
      "\n",
      "\n",
      "# phyllotaxis\n",
      "roll_angle = {}\n",
      "\n",
      "ramifs = [v for v in g.vertices(scale=g.max_scale()) if g.edge_type(v)!='<']\n",
      "for axis_id in ramifs:\n",
      "    for i, v in enumerate(g.Axis(axis_id)):\n",
      "        if i%2:\n",
      "            roll_angle[v] = 180.\n",
      "        elif i == 2:\n",
      "            roll_angle[v] = 90.\n",
      "        else:\n",
      "            roll_angle[v] = 45\n",
      "g.properties()['roll_angle'] = roll_angle"
     ],
     "language": "python",
     "metadata": {},
     "outputs": [],
     "prompt_number": 17
    },
    {
     "cell_type": "markdown",
     "metadata": {},
     "source": [
      "## Method that Compute Phytomer\n",
      "\n",
      "Phytomer was composed of petiol and leaflet"
     ]
    },
    {
     "cell_type": "markdown",
     "metadata": {},
     "source": [
      "### Geometric production of leaflet\n"
     ]
    },
    {
     "cell_type": "code",
     "collapsed": false,
     "input": [
      "def leaflet(length=1., width=1.):\n",
      "    disc = Translated((-0.5,0,0), Disc())\n",
      "    disc = Scaled((length, width,1), disc)\n",
      "    disc = AxisRotated(axis=(0,1,0), angle=radians(90.), geometry=disc)\n",
      "    \n",
      "    d1 = AxisRotated(axis=(1,0,0), angle=-radians(60.), geometry=disc)\n",
      "    d2 = AxisRotated(axis=(1,0,0), angle=-radians(-60.), geometry=disc)\n",
      "    d3 = AxisRotated(axis=(1,0,0), angle=0., geometry=disc)\n",
      "    \n",
      "    shape = Group([d1, d2, d3])\n",
      "    return shape\n",
      "\n",
      "# Compute Phyllotaxy\n",
      "def Phytomer(g, vid, turtle):\n",
      "    t = turtle\n",
      "    nid = g.node(vid)\n",
      "    order = nid.order\n",
      "    t.setColor(2+order)\n",
      "    t.setWidth(0.01)\n",
      "    # set color\n",
      "    \n",
      "    len_petiole = 1.\n",
      "    len_internode = 0.1\n",
      "    leaflet_length = 0.7/2.\n",
      "    leaflet_wdth = 0.3/2.\n",
      "    \n",
      "    t.F(0.1)\n",
      "    #if order != 1:\n",
      "    #    return\n",
      "    t.push()\n",
      "    t.down(45.)\n",
      "    t.F(len_petiole)\n",
      "    t.customGeometry(leaflet(leaflet_length, leaflet_wdth))\n",
      "    t.pop()\n",
      "\n",
      "def TerminalBud(g, vid, turtle):\n",
      "    t = turtle\n",
      "    #turtle.setColor(1)\n",
      "    nid = g.node(vid)\n",
      "    order = nid.order\n",
      "    t.setColor(2+order)\n",
      "    turtle.F(0.2)\n",
      "    sphere = Sphere(radius=0.05)\n",
      "    turtle.customGeometry(sphere)    \n",
      "\n",
      "def Inflorescence(g, vid, turtle):\n",
      "    \"\"\"\n",
      "    \"\"\"\n",
      "    t = turtle\n",
      "    nid = g.node(vid)\n",
      "    order = nid.order\n",
      "    #turtle.setColor(3)\n",
      "    t.setColor(2+order)\n",
      "    turtle.F(0.2)\n",
      "    sphere = Box(0.05*Vector3(1,1,1))\n",
      "    turtle.customGeometry(sphere)"
     ],
     "language": "python",
     "metadata": {},
     "outputs": [],
     "prompt_number": 18
    },
    {
     "cell_type": "code",
     "collapsed": false,
     "input": [
      "count = 0\n",
      "roll_angle = g.property('roll_angle')\n",
      "def strawberry_visitor(g, v, turtle, time=0):\n",
      "    \"\"\" Function that draw geometry for a given vertex. \"\"\"\n",
      "    global count\n",
      "    count+=1\n",
      "    turtle.setWidth(0.01)\n",
      "    nid = g.node(v)\n",
      "\n",
      "    if v in roll_angle:\n",
      "        turtle.rollL(nid.roll_angle)\n",
      "    else:\n",
      "        turtle.rollL()\n",
      "   \n",
      "    #if nid.order != 1:\n",
      "    #    return\n",
      "    \n",
      "    if g.edge_type(v) == '+':\n",
      "        turtle.down(30)\n",
      "    label = g.label(v)\n",
      "    #print label\n",
      "    turtle.setId(v)\n",
      "    if label == 'Phytomer':\n",
      "        Phytomer(g, v, turtle)\n",
      "    elif label == 'TerminalBud':\n",
      "        TerminalBud(g, v, turtle)\n",
      "    elif label == 'Inflorescence':\n",
      "        Inflorescence(g, v, turtle)\n",
      "\n",
      "scene = turtle.traverse_with_turtle(g, 1, visitor=strawberry_visitor)\n",
      "Viewer.display(scene)\n",
      "print count"
     ],
     "language": "python",
     "metadata": {},
     "outputs": [
      {
       "output_type": "stream",
       "stream": "stdout",
       "text": [
        "117\n"
       ]
      }
     ],
     "prompt_number": 19
    },
    {
     "cell_type": "code",
     "collapsed": false,
     "input": [
      "def mtg_turtle_time(g, time, visitor=strawberry_visitor, time_property='age' ):\n",
      "    ''' Compute the geometry on each node of the MTG using Turtle geometry. \n",
      "    \n",
      "    Update_visitor is a function called on each node in a pre order (parent before children).\n",
      "    This function allow to update the parameters and state variables of the vertices.\n",
      "    \n",
      "    :Example:\n",
      "\n",
      "        >>> def grow(node, time):\n",
      "\n",
      "    '''\n",
      "\n",
      "    g.properties()['geometry'] = {}\n",
      "    orders = g.property('order')\n",
      "    max_scale = g.max_scale()\n",
      "\n",
      "    start_dates = g.property(time_property)\n",
      "    \n",
      "\n",
      "    def traverse_with_turtle_time(g, vid, time, visitor=visitor):\n",
      "        turtle = PglTurtle()\n",
      "        def push_turtle(v):\n",
      "            try:\n",
      "                start_tt = start_dates.get(v, time+1)\n",
      "                if start_tt > time:\n",
      "                    return False\n",
      "            except: \n",
      "                pass\n",
      "            if g.edge_type(v) == '+':\n",
      "                turtle.push()\n",
      "            return True\n",
      "\n",
      "        def pop_turtle(v):\n",
      "            try:\n",
      "                start_tt = start_dates.get(v, time+1)\n",
      "                if start_tt > time:\n",
      "                    return False\n",
      "            except: \n",
      "                pass\n",
      "            if g.edge_type(v) == '+':\n",
      "                turtle.pop()\n",
      "\n",
      "        if start_dates[vid] <= time:\n",
      "            visitor(g,vid,turtle,time)\n",
      "            #turtle.push()\n",
      "        \n",
      "        for v in pre_order2_with_filter(g, vid, None, push_turtle, pop_turtle):\n",
      "            if v == vid: \n",
      "                continue\n",
      "            # Done for the leaves\n",
      "            if start_dates.get(v,time+1) > time:\n",
      "                print 'Do not consider ', v, time\n",
      "                continue\n",
      "            visitor(g,v,turtle,time)\n",
      "\n",
      "        scene = turtle.getScene()\n",
      "        return scene, g\n",
      "\n",
      "    for plant_id in g.component_roots_at_scale_iter(g.root, scale=max_scale):\n",
      "        scene, g = traverse_with_turtle_time(g, plant_id, time)\n",
      "    return g, scene"
     ],
     "language": "python",
     "metadata": {},
     "outputs": [],
     "prompt_number": 20
    },
    {
     "cell_type": "code",
     "collapsed": false,
     "input": [
      "compute_pyllochrone(g)"
     ],
     "language": "python",
     "metadata": {},
     "outputs": [
      {
       "metadata": {},
       "output_type": "pyout",
       "prompt_number": 21,
       "text": [
        "<openalea.mtg.mtg.MTG at 0x8a7a350>"
       ]
      }
     ],
     "prompt_number": 21
    },
    {
     "cell_type": "code",
     "collapsed": false,
     "input": [
      "max(g.property('age').values())"
     ],
     "language": "python",
     "metadata": {},
     "outputs": [
      {
       "metadata": {},
       "output_type": "pyout",
       "prompt_number": 22,
       "text": [
        "395.0"
       ]
      }
     ],
     "prompt_number": 22
    },
    {
     "cell_type": "code",
     "collapsed": false,
     "input": [
      "for t in range(1,790):\n",
      "    g, scene = mtg_turtle_time(g, t)\n",
      "    Viewer.display(scene)"
     ],
     "language": "python",
     "metadata": {},
     "outputs": [],
     "prompt_number": 23
    },
    {
     "cell_type": "code",
     "collapsed": false,
     "input": [],
     "language": "python",
     "metadata": {},
     "outputs": [],
     "prompt_number": 12
    },
    {
     "cell_type": "code",
     "collapsed": false,
     "input": [],
     "language": "python",
     "metadata": {},
     "outputs": [],
     "prompt_number": 12
    },
    {
     "cell_type": "code",
     "collapsed": false,
     "input": [],
     "language": "python",
     "metadata": {},
     "outputs": []
    }
   ],
   "metadata": {}
  }
 ]
}