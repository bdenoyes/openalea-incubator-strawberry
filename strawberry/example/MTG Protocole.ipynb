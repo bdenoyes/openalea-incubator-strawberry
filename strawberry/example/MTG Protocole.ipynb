{
 "metadata": {
  "name": "",
  "signature": "sha256:7faebdd99a2d2a8be43ebeede7c76c63f87eabfed6bfef1bbbbce45c4954e88f"
 },
 "nbformat": 3,
 "nbformat_minor": 0,
 "worksheets": [
  {
   "cells": [
    {
     "cell_type": "heading",
     "level": 1,
     "metadata": {},
     "source": [
      "1. Rules of writting MTG"
     ]
    },
    {
     "cell_type": "raw",
     "metadata": {},
     "source": [
      "Symbol    Scale     Definition                  Properties\n",
      "P         1         Plant                       Date, Genotype, Plante number, neck diameter(mm)\n",
      "T         2         Tronc(Principal Crown)\n",
      "A         2         Axis (Branch Crowns)\n",
      "F         3         Leaf                        Petiol length(cm), height central leaflet(cm), height left leaflet (cm)\n",
      "f         3         Leaf primordia\n",
      "bt        3         Bud                         Stage (17 to A)\n",
      "s         3         Runner\n",
      "HT        3         Inflorecence                Stage (I to 87), Total number of flower, number of open flower, number of flower aborted\n",
      "                                                from stage 55 rules were describ by Strawberry BBCH, number of open flower start to stage                                                 60\n",
      "ht        3         Primordia inflorescence     Stage (B to H), length of inflorecence(cm)\n"
     ]
    },
    {
     "cell_type": "markdown",
     "metadata": {},
     "source": [
      "Writting example of MTG "
     ]
    },
    {
     "cell_type": "raw",
     "metadata": {},
     "source": [
      "#\n",
      "#\n",
      "CODE:\tFORM-A\n",
      "\n",
      "CLASSES:\n",
      "SYMBOL\tSCALE\tDECOMPOSITION\tINDEXATION\tDEFINITION\n",
      "$ \t0\tFREE\tFREE\tIMPLICIT\n",
      "P \t1\tFREE\tFREE\tEXPLICIT\n",
      "T  \t2\tFREE\tFREE\tEXPLICIT\n",
      "A  \t2\tFREE\tFREE\tEXPLICIT\n",
      "F\t3\tFREE\tFREE\tEXPLICIT\n",
      "f\t3\tFREE\tFREE\tEXPLICIT\n",
      "s\t3\tFREE\tFREE\tEXPLICIT\n",
      "bt\t3\tFREE\tFREE\tEXPLICIT\n",
      "BT\t3\tFREE\tFREE\tEXPLICIT\n",
      "ht\t3\tFREE\tFREE\tEXPLICIT\n",
      "HT\t3\tFREE\tFREE\tEXPLICIT\n",
      "\n",
      "DESCRIPTION :\n",
      "LEFT\tRIGHT\tRELTYPE\tMAX\n",
      "A\tA\t+\t?\n",
      "A\tA\t<\t1\n",
      "T\tT\t+\t?\n",
      "T\tT\t<\t1\n",
      "\n",
      "FEATURES:\n",
      "NAME\tTYPE\n",
      "\n",
      "date\tDD/MM/YYYY\n",
      "Genotype\tSTRING\n",
      "Plante\tINT\n",
      "diam_mm\tREAL # mm\n",
      "Stade\tSTRING\n",
      "mesure_ht\tREAL\n",
      "Longeur_petiole_cm\tREAL\n",
      "Hauteur_Lobe_centrale_cm\tREAL\n",
      "Hauteur_Lobe_gauche_cm\tREAL\n",
      "Fleurs_total\tINT\n",
      "Fleurs_ouverte\tINT\n",
      "Fleurs_avort\u00e9\tINT\n",
      "\n",
      "MTG:\n",
      "ENTITY-CODE\t\t\t\t\tdate\tGenotype\tPlante\tdiam_mm\tStade\tmesure_ht\tLongeur_petiole_cm\tHauteur_Lobe_centrale_cm\tHauteur_Lobe_gauche_cm\tFleurs_total\tFleurs_ouverte\tFleurs_avort\u00e9\n",
      "\n",
      "/P\t\t\t\t\t04/12/2014\tCiflorette\t1\t15.37\t\t\t\t\t\t\t\t\n",
      "^/T\t\t\t\t\t\t\t\t\t\t\t\t\t\t\t\t\n",
      "^/F\t\t\t\t\t\t\t\t\t\t\t\t\t\t\t\t\n",
      "\t+A\t\t\t\t\t\t\t\t\t\t\t\t\t\t\t\n",
      "\t^/s\t\t\t\t\t\t\t\t\t\t\t\t\t\t\t\n",
      "^<F\t\t\t\t\t\t\t\t\t\t\t\t\t\t\t\t\n",
      "\t+A\t\t\t\t\t\t\t\t\t\t\t\t\t\t\t\n",
      "\t^/s\t\t\t\t\t\t\t\t\t\t\t\t\t\t\t\n",
      "^<F\t\t\t\t\t\t\t\t\t\t\t\t\t\t\t\t\n",
      "\t+A\t\t\t\t\t\t\t\t\t\t\t\t\t\t\t\n",
      "\t^/s\t\t\t\t\t\t\t\t\t\t\t\t\t\t\t\n",
      "^<F\t\t\t\t\t\t\t\t\t\t\t\t\t\t\t\t\n",
      "\t+A\t\t\t\t\t\t\t\t\t\t\t\t\t\t\t\n",
      "\t^/F\t\n",
      "\t\t+A\t\t\t\t\t\t\t\t\t\t\t\t\t\t\n",
      "\t\t^/f\t\t\t\t\t\t\t\t\t\t\t\t\t\t\n",
      "\t\t^<f\t\t\t\t\t\t\t\t\t\t\t\t\t\t\n",
      "\t\t^<f\t\t\t\t\t\t\t\t\t\t\t\t\t\t\n",
      "\t\t^<bt\t\t\t\t\t\t\t17\t\t\t\t\t\t\t\n",
      "\t^<F\t\n",
      "\t\t+A\t\t\t\t\t\t\t\t\t\t\t\t\t\t\n",
      "\t\t^/f\t\t\t\t\t\t\t\t\t\t\t\t\t\t\n",
      "\t\t^<f\t\t\t\t\t\t\t\t\t\t\t\t\t\t\n",
      "\t\t^<bt\t\t\t\t\t\t\t17\t\t\t\t\t\t\t\n",
      "\t^<F\t\n",
      "\t\t+A\t\t\t\t\t\t\t\t\t\t\t\t\t\t\n",
      "\t\t^/f\t\t\t\t\t\t\t\t\t\t\t\t\t\t\n",
      "\t\t^<f\t\t\t\t\t\t\t\t\t\t\t\t\t\t\n",
      "\t\t^<bt\t\t\t\t\t\t\tA\t\t\t\t\t\t\t\n",
      "\t^<f\t\t\t\t\t\t\t\t\t\t\t\t\t\t\t\n",
      "\t\t+A\t\t\t\t\t\t\t\t\t\t\t\t\t\t\n",
      "\t\t^/f\t\t\t\t\t\t\t\t\t\t\t\t\t\t\n",
      "\t\t^<f\t\t\t\t\t\t\t\t\t\t\t\t\t\t\n",
      "\t\t^<bt\t\t\t\t\t\t\t17\t\t\t\t\t\t\t\n",
      "\t^<f\t\n",
      "\t\t+A\t\t\t\t\t\t\t\t\t\t\t\t\t\t\n",
      "\t\t^/f\t\t\t\t\t\t\t\t\t\t\t\t\t\t\n",
      "\t\t^<f\t\t\t\t\t\t\t\t\t\t\t\t\t\t\n",
      "\t\t^<f\t\t\t\t\t\t\t\t\t\t\t\t\t\t\n",
      "\t\t^<ht\t\t\t\t\t\t\tC\t\t\t\t\t\t\t\n",
      "\t^<ht\t\t\t\t\t\t\t\tH\t0.7\t\t\t\t\t\t\n",
      "^<HT\t\t\t\t\t\t\t\t\tcoup\u00e9\t\t\t\t\t\t\t"
     ]
    },
    {
     "cell_type": "heading",
     "level": 1,
     "metadata": {},
     "source": [
      "2. Step to read the MTG"
     ]
    },
    {
     "cell_type": "heading",
     "level": 2,
     "metadata": {},
     "source": [
      ".. 2.1 Module import"
     ]
    },
    {
     "cell_type": "code",
     "collapsed": false,
     "input": [
      "from openalea.core import path\n",
      "from openalea.mtg import *\n",
      "import glob\n"
     ],
     "language": "python",
     "metadata": {},
     "outputs": [],
     "prompt_number": 10
    },
    {
     "cell_type": "heading",
     "level": 2,
     "metadata": {},
     "source": [
      ".. 2.2 Import files"
     ]
    },
    {
     "cell_type": "code",
     "collapsed": false,
     "input": [
      "files= glob.glob(\"*.mtg\") # Registration of all files ending with .mtg in vector files\n",
      "files"
     ],
     "language": "python",
     "metadata": {},
     "outputs": [
      {
       "metadata": {},
       "output_type": "pyout",
       "prompt_number": 18,
       "text": [
        "['Capriss.mtg',\n",
        " 'Ciflorette.mtg',\n",
        " 'Cir107.mtg',\n",
        " 'Clery.mtg',\n",
        " 'Darselect.mtg',\n",
        " 'Gariguette.mtg']"
       ]
      }
     ],
     "prompt_number": 18
    },
    {
     "cell_type": "heading",
     "level": 2,
     "metadata": {},
     "source": [
      ".. 2.3 Read MTG in files"
     ]
    },
    {
     "cell_type": "heading",
     "level": 3,
     "metadata": {},
     "source": [
      ".... 2.3.1 First verification by simple read of MTG"
     ]
    },
    {
     "cell_type": "markdown",
     "metadata": {},
     "source": [
      "If MTG is correctly read,  if line code display: \"replace all date format by -\". \n",
      "In other case: \n",
      "- perhaps you have one or some errors in MTG writting. Line code display errors with vertex number. To help you for error identification some lines code was disponible (cf. $ Line code to identify somes writting errors) "
     ]
    },
    {
     "cell_type": "code",
     "collapsed": false,
     "input": [
      "g=MTG(files[5]) "
     ],
     "language": "python",
     "metadata": {},
     "outputs": [
      {
       "output_type": "stream",
       "stream": "stdout",
       "text": [
        "replace all the date format by -\n"
       ]
      }
     ],
     "prompt_number": 19
    },
    {
     "cell_type": "heading",
     "level": 3,
     "metadata": {},
     "source": [
      ".... 2.3.2 Lines code to identify some wrinting errors"
     ]
    },
    {
     "cell_type": "code",
     "collapsed": false,
     "input": [
      "#g[5258] #lets see full description of the vertex n \u00b0x (x=arguments)"
     ],
     "language": "python",
     "metadata": {},
     "outputs": [],
     "prompt_number": 9
    },
    {
     "cell_type": "code",
     "collapsed": false,
     "input": [
      "#g.node(1918)._line # lets identify the line associated with the error (argument)"
     ],
     "language": "python",
     "metadata": {},
     "outputs": [],
     "prompt_number": 9
    },
    {
     "cell_type": "code",
     "collapsed": false,
     "input": [
      "#g.node(1918).label # Lets identify the label associated with the error (argument)"
     ],
     "language": "python",
     "metadata": {},
     "outputs": [],
     "prompt_number": 10
    },
    {
     "cell_type": "heading",
     "level": 3,
     "metadata": {},
     "source": [
      ".... 2.3.3 Second Verification of MTG reading by display"
     ]
    },
    {
     "cell_type": "code",
     "collapsed": false,
     "input": [
      "#g.display(g) #Display MTG"
     ],
     "language": "python",
     "metadata": {},
     "outputs": [],
     "prompt_number": 31
    },
    {
     "cell_type": "heading",
     "level": 2,
     "metadata": {},
     "source": [
      ".. 2.4 Verification of production rules specific to strawberry"
     ]
    },
    {
     "cell_type": "heading",
     "level": 3,
     "metadata": {},
     "source": [
      ".... 2.4.1 Pr\u00e9-requis"
     ]
    },
    {
     "cell_type": "markdown",
     "metadata": {},
     "source": [
      "Afin de verifier les diff\u00e9rentes r\u00e8gle de production il est necessaire de d\u00e9finir les entit\u00e9s et les propri\u00e9t\u00e9s "
     ]
    },
    {
     "cell_type": "code",
     "collapsed": false,
     "input": [
      "def select_entities(g, name):\n",
      "    \"\"\" Returns entities like P, F, bt, s, HT, f or ht\n",
      "    \"\"\"\n",
      "    return [v for v in g if name in g.label(v)]"
     ],
     "language": "python",
     "metadata": {},
     "outputs": [],
     "prompt_number": 20
    },
    {
     "cell_type": "code",
     "collapsed": false,
     "input": [
      "Plante= select_entities(g, \"P\")\n",
      "Leaves= select_entities(g, \"F\")\n",
      "Terminal_buds=select_entities(g,\"bt\")\n",
      "Runners=select_entities(g,\"s\")\n",
      "Inflorescence=select_entities(g,\"HT\")\n",
      "Foliar_primordia=select_entities(g,\"f\")\n",
      "Inflorescence_primordia=select_entities(g,\"ht\")"
     ],
     "language": "python",
     "metadata": {},
     "outputs": [],
     "prompt_number": 21
    },
    {
     "cell_type": "code",
     "collapsed": false,
     "input": [
      "Stage = g.property('Stade')\n",
      "Total_Flower = g.property('Fleurs_total')\n",
      "Open_Flower = g.property('Fleurs_ouverte')\n",
      "Aborted_Flower = g.property(\"Fleurs_avort\u00e9\")"
     ],
     "language": "python",
     "metadata": {},
     "outputs": [],
     "prompt_number": 22
    },
    {
     "cell_type": "heading",
     "level": 3,
     "metadata": {},
     "source": [
      ".... 2.4.2 Rules specific to Strawberry MTG"
     ]
    },
    {
     "cell_type": "heading",
     "level": 4,
     "metadata": {},
     "source": [
      "...... 2.4.1 Specific to stage properties"
     ]
    },
    {
     "cell_type": "markdown",
     "metadata": {},
     "source": [
      "Remenber: in properties table we defined entities specific to properties:\n",
      "- Stage of Terminal bud (bt) is between 17 to A (line code to identify error writting for this rules see Terminal buds rules)\n",
      "- Stage of primordia inflorescence (ht) is between B to H (line code to identify error writting for this rules see Inflorescence_primordia rules)"
     ]
    },
    {
     "cell_type": "code",
     "collapsed": false,
     "input": [
      "\"Terminal_buds rules\"\n",
      "\"-------------------\"\n",
      "print set(Stage.get(v) for v in Terminal_buds)\n",
      "l = [v for v in Terminal_buds if Stage.get(v) in ('B', 'C')]\n",
      "print [g.node(v)._line for v in l]"
     ],
     "language": "python",
     "metadata": {},
     "outputs": [
      {
       "output_type": "stream",
       "stream": "stdout",
       "text": [
        "set(['A', None, 'sech\\xc3\\xa9', '17', '19', 'pourri', 'avort\\xc3\\xa9'])\n",
        "[]\n"
       ]
      }
     ],
     "prompt_number": 23
    },
    {
     "cell_type": "code",
     "collapsed": false,
     "input": [
      "\"Inflorescence_primordia rules\"\n",
      "\"------------------------\"\n",
      "print set(Stage.get(v) for v in Inflorescence_primordia)\n",
      "l=[v for v in Inflorescence_primordia if Stage.get(v) in ('17', '19', 'A', 'I')]\n",
      "print [g.node(v)._line for v in l]"
     ],
     "language": "python",
     "metadata": {},
     "outputs": [
      {
       "output_type": "stream",
       "stream": "stdout",
       "text": [
        "set(['A', 'C', 'B', 'E', 'D', 'G', 'F', '19', 'H', 'I'])\n",
        "[275, 280, 766, 1299, 1483, 2357, 2484, 4493]\n"
       ]
      }
     ],
     "prompt_number": 24
    },
    {
     "cell_type": "heading",
     "level": 4,
     "metadata": {},
     "source": [
      "......2.4.2 Specific to topologie"
     ]
    },
    {
     "cell_type": "code",
     "collapsed": false,
     "input": [
      "\"Inflorescence\"\n",
      "\"--------------\"\n",
      "print set(g.node(v).parent().label for v in Inflorescence)\n",
      "[g.node(v)._line for v in Inflorescence if g.node(v).Stade == 'I' and g.node(v).parent().label == 'f']"
     ],
     "language": "python",
     "metadata": {},
     "outputs": [
      {
       "output_type": "stream",
       "stream": "stdout",
       "text": [
        "set(['f', 'F'])\n"
       ]
      },
      {
       "metadata": {},
       "output_type": "pyout",
       "prompt_number": 25,
       "text": [
        "[1937, 4005, 5383, 5435, 5662, 5687]"
       ]
      }
     ],
     "prompt_number": 25
    },
    {
     "cell_type": "heading",
     "level": 1,
     "metadata": {},
     "source": [
      "3. MTG Analysis"
     ]
    },
    {
     "cell_type": "heading",
     "level": 2,
     "metadata": {},
     "source": [
      "3.1 Qu'est ce que je souhaite analyser?"
     ]
    },
    {
     "cell_type": "markdown",
     "metadata": {},
     "source": [
      "Par Date, Plante,par ordre, par axe et par g\u00e9notype\n",
      "- Nombre de feuilles totale\n",
      "- Nombre de feuilles totale sortie (F)\n",
      "- Nombre de feuilles qui vont sortir (f) \n",
      "- Nombre de de stolon (s)\n",
      "- Nombre de coeurs sortie (+A </F)\n",
      "- Nombre de coeurs a venir (+A </f)\n",
      "- Nombre de hampe sortie (HT)\n",
      "- Nombre de hampe qui vont sortir (ht)\n",
      "- Nombre de fleurs total, fleur ouverte, fleur avort\u00e9\n",
      "\n",
      "\n",
      "le stade de d\u00e9veloppement de chaque bt, ht ou HT ~ de leur positions sur  les diff\u00e9rents axes et plants\n"
     ]
    },
    {
     "cell_type": "heading",
     "level": 3,
     "metadata": {},
     "source": [
      "- Use MTG functions to extract info"
     ]
    },
    {
     "cell_type": "code",
     "collapsed": false,
     "input": [
      "Nb_Plante= len(Plante)\n",
      "Nb_Leaves= len(Leaves)\n",
      "Nb_Terminal_bud= len(Terminal_buds)\n",
      "Nb_Runners= len(Runners)\n",
      "Nb_Inflorescences= len(Inflorescence)\n",
      "Nb_Foliar_primordia= len(Foliar_primordia)\n",
      "Nb_Inflorescences_primordia= len(Inflorescence_primordia)\n",
      "\n",
      "print Nb_Plante\n",
      "print Nb_Leaves\n",
      "print Nb_Terminal_bud\n",
      "print Nb_Runners\n",
      "print Nb_Inflorescences\n",
      "print Nb_Foliar_primordia\n",
      "print Nb_Inflorescences_primordia"
     ],
     "language": "python",
     "metadata": {},
     "outputs": [
      {
       "output_type": "stream",
       "stream": "stdout",
       "text": [
        "54\n",
        "1028\n",
        "813\n",
        "73\n",
        "191\n",
        "2150\n",
        "548\n"
       ]
      }
     ],
     "prompt_number": 26
    },
    {
     "cell_type": "heading",
     "level": 3,
     "metadata": {},
     "source": [
      "- Create a dataframe (pandas)"
     ]
    },
    {
     "cell_type": "heading",
     "level": 1,
     "metadata": {},
     "source": [
      "4. MTG Representation"
     ]
    },
    {
     "cell_type": "markdown",
     "metadata": {},
     "source": [
      "#Qu'est ce que je souhaite repr\u00e9senter? \n",
      "    Tous les plants partie visible par date\n",
      " Tronc, axe, Feuille, bt, HT en trait plein et les partie non visible en trait pointille\n",
      " faire que les Ht soit plus au moins important en fonction de leur poid en fleurs total\n",
      " que les stade soit repr\u00e9senter par diff\u00e9rentes couleurs\n",
      " \n",
      "    De meme (par date) mais par g\u00e9notype"
     ]
    },
    {
     "cell_type": "markdown",
     "metadata": {},
     "source": [
      "##Essai Marc"
     ]
    },
    {
     "cell_type": "markdown",
     "metadata": {},
     "source": [
      "###Fonctions"
     ]
    },
    {
     "cell_type": "code",
     "collapsed": false,
     "input": [
      "labels= set(g.label(v) for v in g if g.label(v)!='')\n",
      "print labels"
     ],
     "language": "python",
     "metadata": {},
     "outputs": [
      {
       "output_type": "stream",
       "stream": "stdout",
       "text": [
        "set(['A', 'BT', 'f', 'F', 'ht', 'bt', 'P', 's', 'T', 'HT'])\n"
       ]
      }
     ],
     "prompt_number": 14
    },
    {
     "cell_type": "code",
     "collapsed": false,
     "input": [
      "from openalea.mtg import algo\n",
      "gs = algo.split(gg)"
     ],
     "language": "python",
     "metadata": {},
     "outputs": [
      {
       "ename": "NameError",
       "evalue": "name 'gg' is not defined",
       "output_type": "pyerr",
       "traceback": [
        "\u001b[1;31m---------------------------------------------------------------------------\u001b[0m\n\u001b[1;31mNameError\u001b[0m                                 Traceback (most recent call last)",
        "\u001b[1;32m<ipython-input-36-7cda10274c0f>\u001b[0m in \u001b[0;36m<module>\u001b[1;34m()\u001b[0m\n\u001b[0;32m      1\u001b[0m \u001b[1;32mfrom\u001b[0m \u001b[0mopenalea\u001b[0m\u001b[1;33m.\u001b[0m\u001b[0mmtg\u001b[0m \u001b[1;32mimport\u001b[0m \u001b[0malgo\u001b[0m\u001b[1;33m\u001b[0m\u001b[0m\n\u001b[1;32m----> 2\u001b[1;33m \u001b[0mgs\u001b[0m \u001b[1;33m=\u001b[0m \u001b[0malgo\u001b[0m\u001b[1;33m.\u001b[0m\u001b[0msplit\u001b[0m\u001b[1;33m(\u001b[0m\u001b[0mgg\u001b[0m\u001b[1;33m)\u001b[0m\u001b[1;33m\u001b[0m\u001b[0m\n\u001b[0m",
        "\u001b[1;31mNameError\u001b[0m: name 'gg' is not defined"
       ]
      }
     ],
     "prompt_number": 36
    },
    {
     "cell_type": "code",
     "collapsed": false,
     "input": [
      "gs = algo.split(g)"
     ],
     "language": "python",
     "metadata": {},
     "outputs": [],
     "prompt_number": 37
    },
    {
     "cell_type": "code",
     "collapsed": false,
     "input": [
      "gs\n",
      "len(gs)"
     ],
     "language": "python",
     "metadata": {},
     "outputs": [
      {
       "metadata": {},
       "output_type": "pyout",
       "prompt_number": 39,
       "text": [
        "54"
       ]
      }
     ],
     "prompt_number": 39
    },
    {
     "cell_type": "code",
     "collapsed": false,
     "input": [
      "gg= MTG()"
     ],
     "language": "python",
     "metadata": {},
     "outputs": [],
     "prompt_number": 40
    },
    {
     "cell_type": "code",
     "collapsed": false,
     "input": [
      "gs = algo.split(gg)"
     ],
     "language": "python",
     "metadata": {},
     "outputs": [],
     "prompt_number": 42
    },
    {
     "cell_type": "code",
     "collapsed": false,
     "input": [],
     "language": "python",
     "metadata": {},
     "outputs": [],
     "prompt_number": 44
    },
    {
     "cell_type": "code",
     "collapsed": false,
     "input": [],
     "language": "python",
     "metadata": {},
     "outputs": []
    }
   ],
   "metadata": {}
  }
 ]
}