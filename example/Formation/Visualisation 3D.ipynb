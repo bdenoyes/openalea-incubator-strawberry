{
 "cells": [
  {
   "cell_type": "code",
   "execution_count": 1,
   "metadata": {},
   "outputs": [],
   "source": [
    "def transform_date(g, pattern = 'date'):\n",
    "    import datetime\n",
    "    date_properties = [name for name in g.property_names_iter() if pattern in name] \n",
    "    for date_property in date_properties:\n",
    "        g.properties()[date_property] = dict((v,datetime.datetime.strptime(d, '%d-%m-%Y')) for v, d in g.property(date_property).iteritems())\n",
    "    return g\n"
   ]
  },
  {
   "cell_type": "code",
   "execution_count": 2,
   "metadata": {},
   "outputs": [
    {
     "name": "stdout",
     "output_type": "stream",
     "text": [
      "NOT using graph editor observer No module named grapheditor\n"
     ]
    }
   ],
   "source": [
    "from collections import OrderedDict, defaultdict\n",
    "import pandas as pd\n",
    "from openalea.deploy.shared_data import shared_data\n",
    "from openalea.mtg import *\n",
    "from openalea.mtg.algo import orders\n",
    "from openalea.mtg import stat\n",
    "import openalea.plantgl.all as pgl\n",
    "from openalea.core import path\n",
    "from openalea.mtg import *\n",
    "from openalea.deploy.shared_data import shared_data\n",
    "import glob\n",
    "import openalea.strawberry\n",
    "from openalea.strawberry import Rules_production\n",
    "from openalea.strawberry import Visualization, visualisation2d\n",
    "from openalea.strawberry import analysis, variables"
   ]
  },
  {
   "cell_type": "markdown",
   "metadata": {},
   "source": [
    "$\\alpha^2$"
   ]
  },
  {
   "cell_type": "code",
   "execution_count": 3,
   "metadata": {},
   "outputs": [
    {
     "name": "stdout",
     "output_type": "stream",
     "text": [
      "{u'friendlyfruit': Path(u'/Users/pradal/miniconda2/envs/strawberry/lib/python2.7/site-packages/OpenAlea.Strawberry-1.0.0-py2.7.egg/share/data/friendlyfruit.mtg'), u'friendlyfruit_varieties': Path(u'/Users/pradal/miniconda2/envs/strawberry/lib/python2.7/site-packages/OpenAlea.Strawberry-1.0.0-py2.7.egg/share/data/friendlyfruit_varieties.mtg'), u'Ciflorette': Path(u'/Users/pradal/miniconda2/envs/strawberry/lib/python2.7/site-packages/OpenAlea.Strawberry-1.0.0-py2.7.egg/share/data/Ciflorette.mtg'), u'Darselect': Path(u'/Users/pradal/miniconda2/envs/strawberry/lib/python2.7/site-packages/OpenAlea.Strawberry-1.0.0-py2.7.egg/share/data/Darselect.mtg'), u'Gariguette': Path(u'/Users/pradal/miniconda2/envs/strawberry/lib/python2.7/site-packages/OpenAlea.Strawberry-1.0.0-py2.7.egg/share/data/Gariguette.mtg'), u'Capriss': Path(u'/Users/pradal/miniconda2/envs/strawberry/lib/python2.7/site-packages/OpenAlea.Strawberry-1.0.0-py2.7.egg/share/data/Capriss.mtg'), u'Clery': Path(u'/Users/pradal/miniconda2/envs/strawberry/lib/python2.7/site-packages/OpenAlea.Strawberry-1.0.0-py2.7.egg/share/data/Clery.mtg'), u'Cir107': Path(u'/Users/pradal/miniconda2/envs/strawberry/lib/python2.7/site-packages/OpenAlea.Strawberry-1.0.0-py2.7.egg/share/data/Cir107.mtg')}\n"
     ]
    }
   ],
   "source": [
    "%gui qt4\n",
    "\n",
    "files = shared_data(openalea.strawberry).glob('*.mtg')\n",
    "# print files\n",
    "\n",
    "genotypes = dict((f.namebase, f) for f in files)\n",
    "#print(genotypes.keys())\n",
    "\n",
    "DIPLOIDS = ['Sicile','Nils']\n",
    "OCTOPLOIDS = ['Gariguette','Darselect','Clery','Capriss','Cir107','Ciflorette','friendlyfruit', 'friendlyfruit_varieties']\n",
    "\n",
    "diploids = dict((k,f) for k,f in genotypes.items() if k in DIPLOIDS)\n",
    "# print(diploids)\n",
    "\n",
    "octoploids = dict((k,f) for k,f in genotypes.items() if k in OCTOPLOIDS)\n",
    "print(octoploids)"
   ]
  },
  {
   "cell_type": "markdown",
   "metadata": {},
   "source": [
    "# Premiere représentation, projet friendly fruit\n",
    "visualisé l'ensemble des plants architecturé en fonction de la modalité (Genotype)"
   ]
  },
  {
   "cell_type": "code",
   "execution_count": 4,
   "metadata": {},
   "outputs": [
    {
     "name": "stdout",
     "output_type": "stream",
     "text": [
      "replace all the date format by -\n",
      "('Octoploid  : ', 'MTG : nb_vertices=5318, nb_scales=4')\n"
     ]
    }
   ],
   "source": [
    "#OCTOPLOIDS = ['Gariguette_NEW','Darselect_New','Clery_New','Capriss_New''Cir107_NEW','Ciflorette_New']\n",
    "#DIPLOIDS = ['Sicile_New','Nils_New.mtg']\n",
    "\n",
    "di_genotype = 'Sicile'\n",
    "oct_genotype = 'friendlyfruit_varieties'\n",
    "\n",
    "# gdi = MTG(diploids[di_genotype])\n",
    "# print('Diploid  : ', str(gdi))\n",
    "\n",
    "goct = MTG(octoploids[oct_genotype])\n",
    "goct = transform_date(goct)\n",
    "goct.properties()['order'] = orders(goct)\n",
    "\n",
    "print('Octoploid  : ', str(goct))"
   ]
  },
  {
   "cell_type": "code",
   "execution_count": 5,
   "metadata": {},
   "outputs": [],
   "source": [
    "g=goct"
   ]
  },
  {
   "cell_type": "code",
   "execution_count": 6,
   "metadata": {},
   "outputs": [
    {
     "name": "stdout",
     "output_type": "stream",
     "text": [
      "CF12074\n",
      "2018-06-22 00:00:00\n",
      "CF12372B\n",
      "2018-06-22 00:00:00\n",
      "CF13014\n",
      "2018-06-22 00:00:00\n",
      "CLERY\n",
      "2018-06-22 00:00:00\n"
     ]
    },
    {
     "name": "stderr",
     "output_type": "stream",
     "text": [
      "/Users/pradal/miniconda2/envs/strawberry/lib/python2.7/site-packages/OpenAlea.Strawberry-1.0.0-py2.7.egg/openalea/strawberry/Rules_production.py:64: Warning: Invalid Color value 9 in setColor (maximum is 6)\n",
      "  t.setColor(6+order)\n",
      "/Users/pradal/miniconda2/envs/strawberry/lib/python2.7/site-packages/OpenAlea.Strawberry-1.0.0-py2.7.egg/openalea/strawberry/Rules_production.py:112: Warning: Invalid Color value 11 in setColor (maximum is 6)\n",
      "  t.setColor(8+order)\n",
      "/Users/pradal/miniconda2/envs/strawberry/lib/python2.7/site-packages/OpenAlea.Strawberry-1.0.0-py2.7.egg/openalea/strawberry/Rules_production.py:151: Warning: Invalid Color value 7 in setColor (maximum is 6)\n",
      "  t.setColor(2+order)\n",
      "/Users/pradal/miniconda2/envs/strawberry/lib/python2.7/site-packages/OpenAlea.Strawberry-1.0.0-py2.7.egg/openalea/strawberry/Rules_production.py:127: Warning: Invalid Color value 7 in setColor (maximum is 6)\n",
      "  t.setColor(2+order)\n",
      "/Users/pradal/miniconda2/envs/strawberry/lib/python2.7/site-packages/OpenAlea.Strawberry-1.0.0-py2.7.egg/openalea/strawberry/Rules_production.py:64: Warning: Invalid Color value 10 in setColor (maximum is 6)\n",
      "  t.setColor(6+order)\n",
      "/Users/pradal/miniconda2/envs/strawberry/lib/python2.7/site-packages/OpenAlea.Strawberry-1.0.0-py2.7.egg/openalea/strawberry/Rules_production.py:112: Warning: Invalid Color value 12 in setColor (maximum is 6)\n",
      "  t.setColor(8+order)\n",
      "/Users/pradal/miniconda2/envs/strawberry/lib/python2.7/site-packages/OpenAlea.Strawberry-1.0.0-py2.7.egg/openalea/strawberry/Rules_production.py:64: Warning: Invalid Color value 8 in setColor (maximum is 6)\n",
      "  t.setColor(6+order)\n",
      "/Users/pradal/miniconda2/envs/strawberry/lib/python2.7/site-packages/OpenAlea.Strawberry-1.0.0-py2.7.egg/openalea/strawberry/Rules_production.py:112: Warning: Invalid Color value 10 in setColor (maximum is 6)\n",
      "  t.setColor(8+order)\n"
     ]
    }
   ],
   "source": [
    "        \n",
    "\n",
    "Rules_production.color_code(g)\n",
    "\n",
    "vids, positions = plant_positions(g, by=['Modality','Sample_date'])\n",
    "scene = Visualization.visualise_plants(g,vids=vids, positions=positions, hide_leaves=True)\n",
    "pgl.Viewer.display(scene)"
   ]
  },
  {
   "cell_type": "markdown",
   "metadata": {},
   "source": [
    "- **Attention j'ai rajouter no_plant (nombre de plant par modalité) pour faire a peu près ce que je voulais cependant cela implique q'il faut le meme nombre de plant par modalité\n",
    "- dans cette fonction j'aimerai rajouter un argument qui me permet directement en relancant la fonction de faire apparaitre ou disparaitre les feuilles"
   ]
  },
  {
   "cell_type": "markdown",
   "metadata": {},
   "source": [
    "# Projet fraflo\n",
    "dans ce cas ci j'aimerai visualisé l'ensemble des plant architecture en fonction de la date"
   ]
  },
  {
   "cell_type": "code",
   "execution_count": 7,
   "metadata": {},
   "outputs": [
    {
     "name": "stdout",
     "output_type": "stream",
     "text": [
      "replace all the date format by -\n",
      "('Octoploid  : ', 'MTG : nb_vertices=6519, nb_scales=4')\n"
     ]
    }
   ],
   "source": [
    "#OCTOPLOIDS = ['Gariguette_NEW','Darselect_New','Clery_New','Capriss_New''Cir107_NEW','Ciflorette_New']\n",
    "#DIPLOIDS = ['Sicile_New','Nils_New.mtg']\n",
    "\n",
    "di_genotype = 'Sicile'\n",
    "oct_genotype = 'Gariguette'\n",
    "\n",
    "# gdi = MTG(diploids[di_genotype])\n",
    "# print('Diploid  : ', str(gdi))\n",
    "\n",
    "goct = MTG(octoploids[oct_genotype])\n",
    "transform_date(goct)\n",
    "print('Octoploid  : ', str(goct))"
   ]
  },
  {
   "cell_type": "code",
   "execution_count": 8,
   "metadata": {},
   "outputs": [],
   "source": [
    "g=goct"
   ]
  },
  {
   "cell_type": "markdown",
   "metadata": {},
   "source": [
    "**Idem que précedement**: cependant ici je voudrais que les plants la modalité corresponde au date"
   ]
  },
  {
   "cell_type": "markdown",
   "metadata": {},
   "source": [
    "## Combinaison de deux modalités\n",
    "Modalité 1 = Genotype\n",
    "Modalité 2 = Date\n",
    "Dans ce cas ci j'aimerai qu'il y ai un ecart entre chaque modalité 1"
   ]
  },
  {
   "cell_type": "code",
   "execution_count": 9,
   "metadata": {},
   "outputs": [
    {
     "name": "stdout",
     "output_type": "stream",
     "text": [
      "replace all the date format by -\n",
      "replace all the date format by -\n",
      "replace all the date format by -\n",
      "replace all the date format by -\n",
      "replace all the date format by -\n",
      "replace all the date format by -\n",
      "replace all the date format by -\n",
      "replace all the date format by -\n",
      "set(['Ciflorette', 'Darselect', 'Gariguette', 'AH502', 'BH514', 'Capriss', 'BH516', 'Clery', 'BH518', 'Cir107'])\n"
     ]
    }
   ],
   "source": [
    "big_mtg = MTG()\n",
    "for fn in OCTOPLOIDS:\n",
    "    big_mtg = algo.union(big_mtg,MTG(octoploids[fn]))\n",
    "\n",
    "g_octo = big_mtg\n",
    "transform_date(g_octo)\n",
    "\n",
    "genotypes = set(g_octo.property(\"Genotype\").values())\n",
    "print genotypes"
   ]
  },
  {
   "cell_type": "code",
   "execution_count": 10,
   "metadata": {},
   "outputs": [],
   "source": [
    "g=g_octo"
   ]
  },
  {
   "cell_type": "code",
   "execution_count": 11,
   "metadata": {},
   "outputs": [
    {
     "name": "stdout",
     "output_type": "stream",
     "text": [
      "AH502\n",
      "2018-06-22 00:00:00\n",
      "BH514\n",
      "2018-06-22 00:00:00\n",
      "BH516\n",
      "2018-06-22 00:00:00\n",
      "BH518\n",
      "2018-06-22 00:00:00\n",
      "Capriss\n",
      "2014-12-10 00:00:00\n",
      "2015-01-07 00:00:00\n",
      "2015-02-15 00:00:00\n",
      "2015-03-02 00:00:00\n",
      "2015-04-03 00:00:00\n",
      "2015-05-27 00:00:00\n",
      "Ciflorette\n",
      "2014-12-04 00:00:00\n",
      "2015-01-07 00:00:00\n",
      "2015-02-13 00:00:00\n",
      "2015-03-02 00:00:00\n",
      "2015-03-30 00:00:00\n",
      "2015-05-27 00:00:00\n",
      "Cir107\n",
      "2014-12-10 00:00:00\n",
      "2015-01-08 00:00:00\n",
      "2015-02-11 00:00:00\n",
      "2015-03-04 00:00:00\n",
      "2015-04-02 00:00:00\n",
      "2015-05-20 00:00:00\n",
      "Clery\n",
      "2014-12-10 00:00:00\n",
      "2015-01-07 00:00:00\n",
      "2015-02-15 00:00:00\n",
      "2015-03-02 00:00:00\n",
      "2015-04-03 00:00:00\n",
      "2015-05-27 00:00:00\n",
      "Darselect\n",
      "2014-12-10 00:00:00\n",
      "2015-01-09 00:00:00\n",
      "2015-02-11 00:00:00\n",
      "2015-03-06 00:00:00\n",
      "2015-04-03 00:00:00\n",
      "2015-05-20 00:00:00\n",
      "Gariguette\n",
      "2014-12-10 00:00:00\n",
      "2015-01-08 00:00:00\n",
      "2015-02-12 00:00:00\n",
      "2015-03-06 00:00:00\n",
      "2015-04-02 00:00:00\n",
      "2015-05-19 00:00:00\n",
      "2018-04-26 00:00:00\n"
     ]
    },
    {
     "name": "stderr",
     "output_type": "stream",
     "text": [
      "/Users/pradal/miniconda2/envs/strawberry/lib/python2.7/site-packages/OpenAlea.Strawberry-1.0.0-py2.7.egg/openalea/strawberry/Rules_production.py:64: Warning: Invalid Color value 7 in setColor (maximum is 6)\n",
      "  t.setColor(6+order)\n",
      "/Users/pradal/miniconda2/envs/strawberry/lib/python2.7/site-packages/OpenAlea.Strawberry-1.0.0-py2.7.egg/openalea/strawberry/Rules_production.py:112: Warning: Invalid Color value 9 in setColor (maximum is 6)\n",
      "  t.setColor(8+order)\n",
      "/Users/pradal/miniconda2/envs/strawberry/lib/python2.7/site-packages/OpenAlea.Strawberry-1.0.0-py2.7.egg/openalea/strawberry/Rules_production.py:112: Warning: Invalid Color value 8 in setColor (maximum is 6)\n",
      "  t.setColor(8+order)\n",
      "/Users/pradal/miniconda2/envs/strawberry/lib/python2.7/site-packages/OpenAlea.Strawberry-1.0.0-py2.7.egg/openalea/strawberry/Rules_production.py:64: Warning: Invalid Color value 11 in setColor (maximum is 6)\n",
      "  t.setColor(6+order)\n",
      "/Users/pradal/miniconda2/envs/strawberry/lib/python2.7/site-packages/OpenAlea.Strawberry-1.0.0-py2.7.egg/openalea/strawberry/Rules_production.py:112: Warning: Invalid Color value 13 in setColor (maximum is 6)\n",
      "  t.setColor(8+order)\n",
      "/Users/pradal/miniconda2/envs/strawberry/lib/python2.7/site-packages/OpenAlea.Strawberry-1.0.0-py2.7.egg/openalea/strawberry/Rules_production.py:127: Warning: Invalid Color value 8 in setColor (maximum is 6)\n",
      "  t.setColor(2+order)\n",
      "/Users/pradal/miniconda2/envs/strawberry/lib/python2.7/site-packages/OpenAlea.Strawberry-1.0.0-py2.7.egg/openalea/strawberry/Rules_production.py:151: Warning: Invalid Color value 8 in setColor (maximum is 6)\n",
      "  t.setColor(2+order)\n",
      "/Users/pradal/miniconda2/envs/strawberry/lib/python2.7/site-packages/OpenAlea.Strawberry-1.0.0-py2.7.egg/openalea/strawberry/Rules_production.py:38: Warning: Invalid Color value 7 in setColor (maximum is 6)\n",
      "  t.setColor(2+order)\n",
      "/Users/pradal/miniconda2/envs/strawberry/lib/python2.7/site-packages/OpenAlea.Strawberry-1.0.0-py2.7.egg/openalea/strawberry/Rules_production.py:64: Warning: Invalid Color value 12 in setColor (maximum is 6)\n",
      "  t.setColor(6+order)\n",
      "/Users/pradal/miniconda2/envs/strawberry/lib/python2.7/site-packages/OpenAlea.Strawberry-1.0.0-py2.7.egg/openalea/strawberry/Rules_production.py:94: Warning: Invalid Color value 7 in setColor (maximum is 6)\n",
      "  t.setColor(2+order)\n",
      "/Users/pradal/miniconda2/envs/strawberry/lib/python2.7/site-packages/OpenAlea.Strawberry-1.0.0-py2.7.egg/openalea/strawberry/Rules_production.py:151: Warning: Invalid Color value 9 in setColor (maximum is 6)\n",
      "  t.setColor(2+order)\n",
      "/Users/pradal/miniconda2/envs/strawberry/lib/python2.7/site-packages/OpenAlea.Strawberry-1.0.0-py2.7.egg/openalea/strawberry/Rules_production.py:112: Warning: Invalid Color value 14 in setColor (maximum is 6)\n",
      "  t.setColor(8+order)\n",
      "/Users/pradal/miniconda2/envs/strawberry/lib/python2.7/site-packages/OpenAlea.Strawberry-1.0.0-py2.7.egg/openalea/strawberry/Rules_production.py:64: Warning: Invalid Color value 13 in setColor (maximum is 6)\n",
      "  t.setColor(6+order)\n",
      "/Users/pradal/miniconda2/envs/strawberry/lib/python2.7/site-packages/OpenAlea.Strawberry-1.0.0-py2.7.egg/openalea/strawberry/Rules_production.py:112: Warning: Invalid Color value 15 in setColor (maximum is 6)\n",
      "  t.setColor(8+order)\n",
      "/Users/pradal/miniconda2/envs/strawberry/lib/python2.7/site-packages/OpenAlea.Strawberry-1.0.0-py2.7.egg/openalea/strawberry/Rules_production.py:127: Warning: Invalid Color value 9 in setColor (maximum is 6)\n",
      "  t.setColor(2+order)\n"
     ]
    }
   ],
   "source": [
    "g.properties()['order'] = orders(g)\n",
    "Rules_production.color_code(g)\n",
    "\n",
    "vids, positions = plant_positions(g, by=['Genotype','Sample_date'])\n",
    "\n",
    "scene = Visualization.visualise_plants(g,vids=vids, positions=positions, hide_leaves=False)\n",
    "\n",
    "pgl.Viewer.display(scene)"
   ]
  },
  {
   "cell_type": "code",
   "execution_count": null,
   "metadata": {},
   "outputs": [],
   "source": []
  }
 ],
 "metadata": {
  "kernelspec": {
   "display_name": "IPython (Python 2)",
   "language": "python",
   "name": "python2"
  },
  "language_info": {
   "codemirror_mode": {
    "name": "ipython",
    "version": 2
   },
   "file_extension": ".py",
   "mimetype": "text/x-python",
   "name": "python",
   "nbconvert_exporter": "python",
   "pygments_lexer": "ipython2",
   "version": "2.7.14"
  }
 },
 "nbformat": 4,
 "nbformat_minor": 2
}
