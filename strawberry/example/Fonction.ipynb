{
 "metadata": {
  "name": "",
  "signature": "sha256:992c443e8727b76f2ae54a2f13dd51d1a12d52c95493458c7102cb2e58049653"
 },
 "nbformat": 3,
 "nbformat_minor": 0,
 "worksheets": [
  {
   "cells": [
    {
     "cell_type": "code",
     "collapsed": false,
     "input": [
      "from openalea.core import path\n",
      "from openalea.mtg import *\n",
      "from openalea.mtg.algo import orders\n",
      "from openalea.deploy.shared_data import shared_data\n",
      "import strawberry\n",
      "import glob\n",
      "import openalea.plantgl.all as pgl"
     ],
     "language": "python",
     "metadata": {},
     "outputs": [],
     "prompt_number": 1
    },
    {
     "cell_type": "code",
     "collapsed": false,
     "input": [
      "files = shared_data(strawberry).glob('*.mtg')\n",
      "files"
     ],
     "language": "python",
     "metadata": {},
     "outputs": [
      {
       "metadata": {},
       "output_type": "pyout",
       "prompt_number": 2,
       "text": [
        "[path(u'z:\\\\g1\\\\marc-labadie\\\\python\\\\strawberry\\\\share\\\\data\\\\Capriss.mtg'),\n",
        " path(u'z:\\\\g1\\\\marc-labadie\\\\python\\\\strawberry\\\\share\\\\data\\\\Ciflorette.mtg'),\n",
        " path(u'z:\\\\g1\\\\marc-labadie\\\\python\\\\strawberry\\\\share\\\\data\\\\Cir107.mtg'),\n",
        " path(u'z:\\\\g1\\\\marc-labadie\\\\python\\\\strawberry\\\\share\\\\data\\\\Clery.mtg'),\n",
        " path(u'z:\\\\g1\\\\marc-labadie\\\\python\\\\strawberry\\\\share\\\\data\\\\Darselect.mtg'),\n",
        " path(u'z:\\\\g1\\\\marc-labadie\\\\python\\\\strawberry\\\\share\\\\data\\\\Gariguette.mtg')]"
       ]
      }
     ],
     "prompt_number": 2
    },
    {
     "cell_type": "code",
     "collapsed": false,
     "input": [
      "g=MTG(files[0])"
     ],
     "language": "python",
     "metadata": {},
     "outputs": [
      {
       "output_type": "stream",
       "stream": "stdout",
       "text": [
        "replace all the date format by -\n"
       ]
      }
     ],
     "prompt_number": 3
    },
    {
     "cell_type": "code",
     "collapsed": false,
     "input": [
      "from strawberry import Rules_production\n",
      "from strawberry import Visualization"
     ],
     "language": "python",
     "metadata": {},
     "outputs": [],
     "prompt_number": 4
    },
    {
     "cell_type": "code",
     "collapsed": false,
     "input": [
      "g=MTG(files[5]) \n",
      "g.properties()['order'] = orders(g)\n",
      "scene = Visualization.visualise_plants(g)\n",
      "pgl.Viewer.display(scene)"
     ],
     "language": "python",
     "metadata": {},
     "outputs": [
      {
       "output_type": "stream",
       "stream": "stdout",
       "text": [
        "replace all the date format by -\n"
       ]
      },
      {
       "output_type": "stream",
       "stream": "stderr",
       "text": [
        "z:\\g1\\marc-labadie\\python\\strawberry\\src\\strawberry\\Rules_production.py:157: Warning: Invalid Color value 9 in setColor (maximum is 6)\n",
        "  t.setColor(2+order)\n",
        "openalea.plantgl:76: Warning: <Box> Field 'Size' has a bad value : The three values of size must not be null\n",
        "openalea.plantgl:281: Warning: <Shape> Field 'Geometry' has a bad value : Must be valid.\n",
        "openalea.plantgl:418: Warning: <Scene> Field 'ShapeList' has a bad '1174'th value : Must be a valid Shape.\n"
       ]
      }
     ],
     "prompt_number": 6
    },
    {
     "cell_type": "markdown",
     "metadata": {},
     "source": [
      "def visualization_strawberry_plant(Genotype,Date,Plante): Permet de visualiser un plant en l'appelant par son g\u00e9notype, son num\u00e9ros de plante et son age"
     ]
    },
    {
     "cell_type": "code",
     "collapsed": false,
     "input": [
      "Parent=g.vertices(scale=1)\n",
      "Genotype= g.property(\"Genotype\")\n",
      "nbP=Parent.count(g)"
     ],
     "language": "python",
     "metadata": {},
     "outputs": [],
     "prompt_number": 106
    },
    {
     "cell_type": "markdown",
     "metadata": {},
     "source": [
      "def visualisation_strawberry_genotype(Genotype,nb_date,nb_plante): Permet de visualiser l'ensemble des plants d'un g\u00e9notype classer par rapport \u00e0 son age"
     ]
    },
    {
     "cell_type": "markdown",
     "metadata": {},
     "source": [
      "def visualisation_central_Plante(Genotype, Plante,Date): Permet de repr\u00e9senter le plant centrale"
     ]
    },
    {
     "cell_type": "markdown",
     "metadata": {},
     "source": [
      "def visualisation_central_Genotype(Genotype, nb_Plante, nb_date): Permet de visualiser les plants centraux d'un g\u00e9notype "
     ]
    },
    {
     "cell_type": "markdown",
     "metadata": {},
     "source": [
      "def visualisation_comparaison_central_genotype(Genotype): Permet de comparer les plant centraux des diff\u00e9rents g\u00e9notype"
     ]
    }
   ],
   "metadata": {}
  }
 ]
}