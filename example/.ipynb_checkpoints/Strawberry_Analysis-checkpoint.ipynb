{
 "metadata": {
  "name": "",
  "signature": "sha256:632a3245c92c80c2cbb5d64f49fb0a160dc672c0355b4494df23e492d28dbb06"
 },
 "nbformat": 3,
 "nbformat_minor": 0,
 "worksheets": [
  {
   "cells": [
    {
     "cell_type": "markdown",
     "metadata": {},
     "source": [
      "# MTG Strawberry Extraction & Analysis"
     ]
    },
    {
     "cell_type": "markdown",
     "metadata": {},
     "source": [
      "**Authors** : Marc Labadie, Christophe Pradal"
     ]
    },
    {
     "cell_type": "code",
     "collapsed": false,
     "input": [
      "from openalea.deploy.shared_data import shared_data\n",
      "import strawberry\n",
      "from strawberry.reader import Reader, strawberry2mtg \n",
      "from openalea.mtg import MTG, fat_mtg\n",
      "from openalea.mtg import algo"
     ],
     "language": "python",
     "metadata": {},
     "outputs": [],
     "prompt_number": 1
    },
    {
     "cell_type": "code",
     "collapsed": false,
     "input": [
      "files = shared_data(strawberry).glob('*.csv')\n",
      "fn = files[1]\n",
      "print fn"
     ],
     "language": "python",
     "metadata": {},
     "outputs": [
      {
       "output_type": "stream",
       "stream": "stdout",
       "text": [
        "z:\\g1\\marc-labadie\\python\\strawberry\\share\\data\\Cir107_1_2.csv\n"
       ]
      }
     ],
     "prompt_number": 2
    },
    {
     "cell_type": "markdown",
     "metadata": {},
     "source": [
      "Reading the file and create an MTG"
     ]
    },
    {
     "cell_type": "code",
     "collapsed": false,
     "input": [
      "gs = [strawberry2mtg(fn) for fn in files]"
     ],
     "language": "python",
     "metadata": {},
     "outputs": [
      {
       "output_type": "stream",
       "stream": "stdout",
       "text": [
        "Axis_1\tAxis_2\tAxe_3\tAxis_4\tAxis_5\tleaf_area\tleaf_perimeter\tLobe_C_H\tLobe_C_L\tLobe_G_H\tLobe_G_L\tLeaf_area_algo\tCom.\tharvest_fruit\tfruit_aborded\tTotal_ruit\tcom.\t\t\t\t\t\n",
        "Axis_1\tAxis_2\tAxe_3\tAxis_4\tAxis_5\tleaf_area\tleaf_perimeter\tLobe_C_H\tLobe_C_L\tLobe_G_H\tLobe_G_L\tLeaf_area_algo\tCom.\tharvest_fruit\tfruit_aborded\tTotal_ruit\tcom."
       ]
      },
      {
       "output_type": "stream",
       "stream": "stdout",
       "text": [
        "\n",
        "Axis_1\tAxis_2\tAxe_3\tAxis_4\tAxis_5\tAxis_6\tAxis_7\tAxis_8\tleaf_area\tleaf_perimeter\tLobe_C_H\tLobe_C_L\tLobe_G_H\tLobe_G_L\tLeaf_area_algo\tCom.\tharvest_fruit\tfruit_aborded\tTotal_ruit\tcom.\t\t\t\t\t\n",
        "Axis_1\tAxis_2\tAxe_3\tAxis_4\tAxis_5\tAxis_6\tleaf_area\tleaf_perimeter\tLobe_C_H\tLobe_C_L\tLobe_G_H\tLobe_G_L\tLeaf_area_algo\tCom.\tharvest_fruit\tfruit_aborded\tTotal_ruit\tcom.\t\t\t\t\t"
       ]
      },
      {
       "output_type": "stream",
       "stream": "stdout",
       "text": [
        "\n",
        "Axis_1\tAxis_2\tAxe_3\tAxis_4\tAxis_5\tAxis_6\tAxis_7\tAxis_8\tleaf_area\tleaf_perimeter\tLobe_C_H\tLobe_C_L\tLobe_G_H\tLobe_G_L\tLeaf_area_algo\tCom.\tharvest_fruit\tfruit_aborded\tTotal_ruit\tcom.\t\t\t\t\t\n",
        "Axis_1\tAxis_2\tAxe_3\tAxis_4\tAxis_5\tAxis_6\tAxis_7\tAxis_8\tleaf_area\tleaf_perimeter\tLobe_C_H\tLobe_C_L\tLobe_G_H\tLobe_G_L\tLeaf_area_algo\tCom.\tharvest_fruit\tfruit_aborded\tTotal_ruit\tcom.\t\t\t\t\t"
       ]
      },
      {
       "output_type": "stream",
       "stream": "stdout",
       "text": [
        "\n",
        "Axis_1\tAxis_2\tAxe_3\tAxis_4\tAxis_5\tAxis_6\tAxis_7\tAxis_8\tleaf_area\tleaf_perimeter\tLobe_C_H\tLobe_C_L\tLobe_G_H\tLobe_G_L\tLeaf_area_algo\tCom.\tharvest_fruit\tfruit_aborded\tTotal_ruit\tcom.\n",
        "Axis_1\tAxis_2\tAxe_3\tAxis_4\tAxis_5\tAxis_6\tleaf_area\tleaf_perimeter\tLobe_C_H\tLobe_C_L\tLobe_G_H\tLobe_G_L\tLeaf_area_algo\tCom.\tharvest_fruit\tfruit_aborded\tTotal_ruit\tcom."
       ]
      },
      {
       "output_type": "stream",
       "stream": "stdout",
       "text": [
        "\n",
        "Axis_1\tAxis_2\tAxe_3\tAxis_4\tAxis_5\tAxis_6\tleaf_area\tleaf_perimeter\tLobe_C_H\tLobe_C_L\tLobe_G_H\tLobe_G_L\tLeaf_area_algo\tCom.\tharvest_fruit\tfruit_aborded\tTotal_ruit\tcom.\n",
        "Axis_1\tAxis_2\tAxe_3\tAxis_4\tAxis_5\tAxis_6\tAxis_7\tAxis_8\tleaf_area\tleaf_perimeter\tLobe_C_H\tLobe_C_L\tLobe_G_H\tLobe_G_L\tLeaf_area_algo\tCom.\tharvest_fruit\tfruit_aborded\tTotal_ruit\tcom."
       ]
      },
      {
       "output_type": "stream",
       "stream": "stdout",
       "text": [
        "\n",
        "Axis_1\tAxis_2\tAxe_3\tAxis_4\tAxis_5\tAxis_6\tAxis_7\tAxis_8\tleaf_area\tleaf_perimeter\tLobe_C_H\tLobe_C_L\tLobe_G_H\tLobe_G_L\tLeaf_area_algo\tCom.\tharvest_fruit\tfruit_aborded\tTotal_ruit\tcom."
       ]
      },
      {
       "output_type": "stream",
       "stream": "stdout",
       "text": [
        "\n",
        "Axis_1\tAxis_2\tAxe_3\tAxis_4\tAxis_5\tAxis_6\tAxis_7\tAxis_8\tleaf_area\tleaf_perimeter\tLobe_C_H\tLobe_C_L\tLobe_G_H\tLobe_G_L\tLeaf_area_algo\tCom.\tharvest_fruit\tfruit_aborded\tTotal_ruit\tcom."
       ]
      },
      {
       "output_type": "stream",
       "stream": "stdout",
       "text": [
        "\n",
        "Axis_1\tAxis_2\tAxe_3\tAxis_4\tAxis_5\tAxis_6\tAxis_7\tleaf_area\tleaf_perimeter\tLobe_C_H\tLobe_C_L\tLobe_G_H\tLobe_G_L\tLeaf_area_algo\tCom.\tharvest_fruit\tfruit_aborded\tTotal_ruit\tcom.\t\t\n",
        "Axis_1\tAxis_2\tAxe_3\tAxis_4\tAxis_5\tleaf_area\tleaf_perimeter\tLobe_C_H\tLobe_C_L\tLobe_G_H\tLobe_G_L\tLeaf_area_algo\tCom.\tharvest_fruit\tfruit_aborded\tTotal_ruit\tcom."
       ]
      },
      {
       "output_type": "stream",
       "stream": "stdout",
       "text": [
        "\n",
        "Axis_1\tAxis_2\tAxe_3\tAxis_4\tAxis_5\tleaf_area\tleaf_perimeter\tLobe_C_H\tLobe_C_L\tLobe_G_H\tLobe_G_L\tLeaf_area_algo\tCom.\tharvest_fruit\tfruit_aborded\tTotal_fruit\tcom.\n",
        "Axis_1\tAxis_2\tAxe_3\tAxis_4\tAxis_5\tAxis_6\tAxis_7\tleaf_area\tleaf_perimeter\tLobe_C_H\tLobe_C_L\tLobe_G_H\tLobe_G_L\tLeaf_area_algo\tCom.\tharvest_fruit\tfruit_aborded\tTotal_ruit\tcom.\t\t\n",
        "Axis_1\tAxis_2\tAxe_3\tAxis_4\tAxis_5\tAxis_6\tAxis_7\tleaf_area\tleaf_perimeter\tLobe_C_H\tLobe_C_L\tLobe_G_H\tLobe_G_L\tLeaf_area_algo\tCom.\tharvest_fruit\tfruit_aborded\tTotal_ruit\tcom.\t\t"
       ]
      },
      {
       "output_type": "stream",
       "stream": "stdout",
       "text": [
        "\n",
        "Axis_1\tAxis_2\tAxe_3\tAxis_4\tAxis_5\tAxis_6\tleaf_area\tleaf_perimeter\tLobe_C_H\tLobe_C_L\tLobe_G_H\tLobe_G_L\tLeaf_area_algo\tCom.\tharvest_fruit\tfruit_aborded\tTotal_ruit\tcom.\t\t\n"
       ]
      }
     ],
     "prompt_number": 3
    },
    {
     "cell_type": "markdown",
     "metadata": {},
     "source": [
      "## Union of MTG\n",
      "\n",
      "*TODO* : Add scales to MTG"
     ]
    },
    {
     "cell_type": "code",
     "collapsed": false,
     "input": [
      "from openalea.mtg.algo import union"
     ],
     "language": "python",
     "metadata": {},
     "outputs": [],
     "prompt_number": 5
    },
    {
     "cell_type": "code",
     "collapsed": false,
     "input": [
      "print gs"
     ],
     "language": "python",
     "metadata": {},
     "outputs": [
      {
       "output_type": "stream",
       "stream": "stdout",
       "text": [
        "[<openalea.mtg.mtg.MTG object at 0x0386A630>, <openalea.mtg.mtg.MTG object at 0x0386A7D0>, <openalea.mtg.mtg.MTG object at 0x0386A810>, <openalea.mtg.mtg.MTG object at 0x0386AF10>, <openalea.mtg.mtg.MTG object at 0x03605DD0>, <openalea.mtg.mtg.MTG object at 0x038C0F50>, <openalea.mtg.mtg.MTG object at 0x038C0FB0>, <openalea.mtg.mtg.MTG object at 0x038BE0B0>, <openalea.mtg.mtg.MTG object at 0x038C73F0>, <openalea.mtg.mtg.MTG object at 0x038C7AD0>, <openalea.mtg.mtg.MTG object at 0x038C7ED0>, <openalea.mtg.mtg.MTG object at 0x038C7310>, <openalea.mtg.mtg.MTG object at 0x038CB790>, <openalea.mtg.mtg.MTG object at 0x038CBF70>, <openalea.mtg.mtg.MTG object at 0x038D08B0>, <openalea.mtg.mtg.MTG object at 0x038D0F10>, <openalea.mtg.mtg.MTG object at 0x038CBBF0>, <openalea.mtg.mtg.MTG object at 0x038D4F70>]\n"
       ]
      }
     ],
     "prompt_number": 6
    },
    {
     "cell_type": "code",
     "collapsed": false,
     "input": [
      "# g is the concatenation of the 3 MTG built from files\n",
      "g = reduce(union, gs)"
     ],
     "language": "python",
     "metadata": {},
     "outputs": [],
     "prompt_number": 7
    },
    {
     "cell_type": "code",
     "collapsed": false,
     "input": [
      "len(g)"
     ],
     "language": "python",
     "metadata": {},
     "outputs": [
      {
       "metadata": {},
       "output_type": "pyout",
       "prompt_number": 8,
       "text": [
        "1127"
       ]
      }
     ],
     "prompt_number": 8
    },
    {
     "cell_type": "code",
     "collapsed": false,
     "input": [
      "g.display()"
     ],
     "language": "python",
     "metadata": {},
     "outputs": [
      {
       "ename": "NameError",
       "evalue": "name 'g' is not defined",
       "output_type": "pyerr",
       "traceback": [
        "\u001b[1;31m---------------------------------------------------------------------------\u001b[0m\n\u001b[1;31mNameError\u001b[0m                                 Traceback (most recent call last)",
        "\u001b[1;32m<ipython-input-7-674f934e5298>\u001b[0m in \u001b[0;36m<module>\u001b[1;34m()\u001b[0m\n\u001b[1;32m----> 1\u001b[1;33m \u001b[0mg\u001b[0m\u001b[1;33m.\u001b[0m\u001b[0mdisplay\u001b[0m\u001b[1;33m(\u001b[0m\u001b[1;33m)\u001b[0m\u001b[1;33m\u001b[0m\u001b[0m\n\u001b[0m",
        "\u001b[1;31mNameError\u001b[0m: name 'g' is not defined"
       ]
      }
     ],
     "prompt_number": 7
    },
    {
     "cell_type": "markdown",
     "metadata": {},
     "source": [
      "## Extraction at plant level\n",
      "\n",
      "### Hypothesis: \n",
      "- Number of leaves = Number of Phytomer"
     ]
    },
    {
     "cell_type": "code",
     "collapsed": false,
     "input": [
      "g = gs[13]; print files[13]"
     ],
     "language": "python",
     "metadata": {},
     "outputs": [
      {
       "output_type": "stream",
       "stream": "stdout",
       "text": [
        "z:\\g1\\marc-labadie\\python\\strawberry\\share\\data\\Garriguette_1_2.csv\n"
       ]
      }
     ],
     "prompt_number": 4
    },
    {
     "cell_type": "code",
     "collapsed": false,
     "input": [
      "len(g)"
     ],
     "language": "python",
     "metadata": {},
     "outputs": [
      {
       "metadata": {},
       "output_type": "pyout",
       "prompt_number": 5,
       "text": [
        "59"
       ]
      }
     ],
     "prompt_number": 5
    },
    {
     "cell_type": "code",
     "collapsed": false,
     "input": [
      "# List labels\n",
      "labels = set(g.label(v) for v in g if g.label(v) != '')\n",
      "print labels\n",
      "\n",
      "# Select Phytomers\n",
      "def select_entities(g, name):\n",
      "    \"\"\" Returns entities like Phytomer or Inflorescence in MTG. \n",
      "    name can be abbreviated (Phyto or Phytomer).\n",
      "    \"\"\"\n",
      "    return [v for v in g if name in g.label(v)]\n",
      "\n",
      "phytomers = select_entities(g, 'Phyto')\n",
      "inflos = select_entities(g, 'Inflo')\n",
      "buds = select_entities(g, 'Bud')\n",
      "print len(phytomers), len(inflos), len(buds)\n",
      "print len(g)\n",
      "assert (len(g) - 1) == len(phytomers)+ len(inflos)+ len(buds)"
     ],
     "language": "python",
     "metadata": {},
     "outputs": [
      {
       "output_type": "stream",
       "stream": "stdout",
       "text": [
        "set(['TerminalBud', 'Phytomer', 'Inflorescence'])\n",
        "51 5 2\n",
        "59\n"
       ]
      }
     ],
     "prompt_number": 6
    },
    {
     "cell_type": "code",
     "collapsed": false,
     "input": [
      "# Extract axes. This is equivalent to extract the first vertex of each axis\n",
      "# g.edge_type(v)!='<' : all ramifications and the first vertex of each plant (order 0)\n",
      "max_scale = g.max_scale()\n",
      "vertex_axes = [v for v in g.vertices(scale=max_scale) if g.edge_type(v)!='<']\n",
      "print vertex_axes\n",
      "# g.display()"
     ],
     "language": "python",
     "metadata": {},
     "outputs": [
      {
       "output_type": "stream",
       "stream": "stdout",
       "text": [
        "[1, 13, 19, 25, 36, 39, 43]\n"
       ]
      }
     ],
     "prompt_number": 7
    },
    {
     "cell_type": "code",
     "collapsed": false,
     "input": [
      "orders = algo.orders(g)"
     ],
     "language": "python",
     "metadata": {},
     "outputs": [],
     "prompt_number": 8
    },
    {
     "cell_type": "code",
     "collapsed": false,
     "input": [
      "order_axes = dict((v, orders[v]) for v in vertex_axes)"
     ],
     "language": "python",
     "metadata": {},
     "outputs": [],
     "prompt_number": 9
    },
    {
     "cell_type": "code",
     "collapsed": false,
     "input": [
      "order_axes"
     ],
     "language": "python",
     "metadata": {},
     "outputs": [
      {
       "metadata": {},
       "output_type": "pyout",
       "prompt_number": 10,
       "text": [
        "{1: 0, 13: 1, 19: 2, 25: 3, 36: 1, 39: 2, 43: 3}"
       ]
      }
     ],
     "prompt_number": 10
    },
    {
     "cell_type": "code",
     "collapsed": false,
     "input": [
      "axes = [g.Axis(v) for v in vertex_axes]\n",
      "print axes\n",
      "nb = sum(len(axis) for axis in axes)\n",
      "print nb\n",
      "print len(g)-1"
     ],
     "language": "python",
     "metadata": {},
     "outputs": [
      {
       "output_type": "stream",
       "stream": "stdout",
       "text": [
        "[[1, 2, 3, 4, 5, 6, 7, 8, 9, 10, 11, 12, 33, 34, 35, 58], [13, 14, 15, 16, 17, 18, 32], [19, 20, 21, 22, 23, 24, 31], [25, 26, 27, 28, 29, 30], [36, 37, 38, 57], [39, 40, 41, 42, 56], [43, 44, 45, 46, 47, 48, 49, 50, 51, 52, 53, 54, 55]]\n",
        "58\n",
        "58\n"
       ]
      }
     ],
     "prompt_number": 11
    },
    {
     "cell_type": "code",
     "collapsed": false,
     "input": [
      "phyto_axis = [[v for v in axis if 'Phyto' in g.label(v)] for axis in axes ]\n",
      "print phyto_axis\n",
      "\n",
      "axes_by_no = {}\n",
      "for axis_no in range(len(phyto_axis)):\n",
      "    axes_by_no[axis_no] = phyto_axis[axis_no]\n",
      "    print g.order(phyto_axis[axis_no][0]), len(phyto_axis[axis_no])\n",
      "\n",
      "axes_by_order = {}\n",
      "for axis_no in range(len(phyto_axis)):\n",
      "    l = phyto_axis[axis_no]\n",
      "    axes_by_order.setdefault(orders[l[0]], []).append(len(l))\n",
      "print axes_by_order"
     ],
     "language": "python",
     "metadata": {},
     "outputs": [
      {
       "output_type": "stream",
       "stream": "stdout",
       "text": [
        "[[1, 2, 3, 4, 5, 6, 7, 8, 9, 10, 11, 12, 33, 34, 35], [13, 14, 15, 16, 17, 18], [19, 20, 21, 22, 23, 24], [25, 26, 27, 28, 29], [36, 37, 38], [39, 40, 41, 42], [43, 44, 45, 46, 47, 48, 49, 50, 51, 52, 53, 54]]\n",
        "0 15\n",
        "1 6\n",
        "2 6\n",
        "3 5\n",
        "1 3\n",
        "2 4\n",
        "3 12\n",
        "{0: [15], 1: [6, 3], 2: [6, 4], 3: [5, 12]}\n"
       ]
      }
     ],
     "prompt_number": 12
    },
    {
     "cell_type": "code",
     "collapsed": false,
     "input": [
      "%matplotlib inline\n",
      "from pylab import plot, legend, scatter\n",
      "import numpy\n",
      "for order, axis in axes_by_order.items():\n",
      "    plot(axis,label='order = %d'%(order+1))\n",
      "    legend()\n",
      "#scatter(x=axes_by_order.keys(), y=axes_by_order.values())"
     ],
     "language": "python",
     "metadata": {},
     "outputs": [
      {
       "metadata": {},
       "output_type": "display_data",
       "png": "[encoded data removed]",
       "text": [
        "<matplotlib.figure.Figure at 0x969f310>"
       ]
      }
     ],
     "prompt_number": 13
    },
    {
     "cell_type": "code",
     "collapsed": false,
     "input": [
      "def cut_axis_between_ramifs(axis):\n",
      "    ramifs = [] # 1 or 0 ramifs\n",
      "    l = []\n",
      "    ramifs.append(l)\n",
      "    for i in range(len(axis)):\n",
      "        v = axis[i]\n",
      "        l.append(v)\n",
      "        for cid in g.children(v):\n",
      "            if g.edge_type(cid) == '+':\n",
      "                l = []\n",
      "                ramifs.append(l)\n",
      "                break\n",
      "    return ramifs\n",
      "#print axes\n",
      "cut_axis_between_ramifs(axes[0])\n",
      "for axis in axes:\n",
      "    cut_axes = cut_axis_between_ramifs(axis)\n",
      "    print [sum(1 for v in sub_axes if 'Phy' in g.label(v))  for sub_axes in cut_axes]"
     ],
     "language": "python",
     "metadata": {},
     "outputs": [
      {
       "output_type": "stream",
       "stream": "stdout",
       "text": [
        "[12, 3, 0]\n",
        "[6, 0]\n",
        "[6, 0]\n",
        "[5]\n",
        "[3, 0]\n",
        "[4, 0]\n",
        "[12]\n"
       ]
      }
     ],
     "prompt_number": 14
    },
    {
     "cell_type": "code",
     "collapsed": false,
     "input": [
      "g.display()"
     ],
     "language": "python",
     "metadata": {},
     "outputs": [
      {
       "output_type": "stream",
       "stream": "stdout",
       "text": [
        "MTG : nb_vertices=59, nb_scales=2\n",
        "/Phytomer\t\t\t(id=1)\t\t\t\t\t\t\t\t\t\t\t\n",
        "^<Phytomer\t\t\t(id=2)\t\t\t\t\t\t\t\t\t\t\t\n",
        "^<Phytomer\t\t\t(id=3)\t\t\t\t\t\t\t\t\t\t\t\n",
        "^<Phytomer\t\t\t(id=4)\t\t\t\t\t\t\t\t\t\t\t\n",
        "^<Phytomer\t\t\t(id=5)\t\t\t\t\t\t\t\t\t\t\t\n",
        "^<Phytomer\t\t\t(id=6)\t\t\t\t\t\t\t\t\t\t\t\n",
        "^<Phytomer\t\t\t(id=7)\t\t\t\t\t\t\t\t\t\t\t\n",
        "^<Phytomer\t\t\t(id=8)\t\t\t\t\t\t\t\t\t\t\t\n",
        "^<Phytomer\t\t\t(id=9)\t\t\t\t\t\t\t\t\t\t\t\n",
        "^<Phytomer\t\t\t(id=10)\t\t\t\t\t\t\t\t\t\t\t\n",
        "^<Phytomer\t\t\t(id=11)\t\t\t\t\t\t\t\t\t\t\t\n",
        "^<Phytomer\t\t\t(id=12)\t\t\t\t\t\t\t\t\t\t\t\n",
        "\t+Phytomer\t\t\t(id=13)\t\t\t\t\t\t\t\t\t\t\n",
        "\t^<Phytomer\t\t\t(id=14)\t\t\t\t\t\t\t\t\t\t\n",
        "\t^<Phytomer\t\t\t(id=15)\t\t\t\t\t\t\t\t\t\t\n",
        "\t^<Phytomer\t\t\t(id=16)\t\t\t\t\t\t\t\t\t\t\n",
        "\t^<Phytomer\t\t\t(id=17)\t\t\t\t\t\t\t\t\t\t\n",
        "\t^<Phytomer\t\t\t(id=18)\t\t\t\t\t\t\t\t\t\t\n",
        "\t\t+Phytomer\t\t\t(id=19)\t\t\t\t\t\t\t\t\t\n",
        "\t\t^<Phytomer\t\t\t(id=20)\t\t\t\t\t\t\t\t\t\n",
        "\t\t^<Phytomer\t\t\t(id=21)\t\t\t\t\t\t\t\t\t\n",
        "\t\t^<Phytomer\t\t\t(id=22)\t\t\t\t\t\t\t\t\t\n",
        "\t\t^<Phytomer\t\t\t(id=23)\t\t\t\t\t\t\t\t\t\n",
        "\t\t^<Phytomer\t\t\t(id=24)\t\t\t\t\t\t\t\t\t\n",
        "\t\t\t+Phytomer\t\t\t(id=25)\t\t\t\t\t\t\t\t\n",
        "\t\t\t^<Phytomer\t\t\t(id=26)\t\t\t\t\t\t\t\t\n",
        "\t\t\t^<Phytomer\t\t\t(id=27)\t\t\t\t\t\t\t\t\n",
        "\t\t\t^<Phytomer\t\t\t(id=28)\t\t\t\t\t\t\t\t\n",
        "\t\t\t^<Phytomer\t\t\t(id=29)\t\t\t\t\t\t\t\t\n",
        "\t\t\t^<TerminalBud\t\t\t(id=30)\t\t\t\t\t\t\t\t\n",
        "\t\t^<Inflorescence\t\t\t(id=31)\t\t\t\t\t\t\t\t\t\n",
        "\t^<Inflorescence\t\t\t(id=32)\t\t\t\t\t\t\t\t\t\t\n",
        "^<Phytomer\t\t\t(id=33)\t\t\t\t\t\t\t\t\t\t\t\n",
        "^<Phytomer\t\t\t(id=34)\t\t\t\t\t\t\t\t\t\t\t\n",
        "^<Phytomer\t\t\t(id=35)\t\t\t\t\t\t\t\t\t\t\t\n",
        "\t+Phytomer\t\t\t(id=36)\t\t\t\t\t\t\t\t\t\t\n",
        "\t^<Phytomer\t\t\t(id=37)\t\t\t\t\t\t\t\t\t\t\n",
        "\t^<Phytomer\t\t\t(id=38)\t\t\t\t\t\t\t\t\t\t\n",
        "\t\t+Phytomer\t\t\t(id=39)\t\t\t\t\t\t\t\t\t\n",
        "\t\t^<Phytomer\t\t\t(id=40)\t\t\t\t\t\t\t\t\t\n",
        "\t\t^<Phytomer\t\t\t(id=41)\t\t\t\t\t\t\t\t\t\n",
        "\t\t^<Phytomer\t\t\t(id=42)\t\t\t\t\t\t\t\t\t\n",
        "\t\t\t+Phytomer\t\t\t(id=43)\t\t\t\t\t\t\t\t\n",
        "\t\t\t^<Phytomer\t\t\t(id=44)\t\t\t\t\t\t\t\t\n",
        "\t\t\t^<Phytomer\t\t\t(id=45)\t\t\t\t\t\t\t\t\n",
        "\t\t\t^<Phytomer\t\t\t(id=46)\t\t\t\t\t\t\t\t\n",
        "\t\t\t^<Phytomer\t\t\t(id=47)\t\t\t\t\t\t\t\t\n",
        "\t\t\t^<Phytomer\t\t\t(id=48)\t\t\t\t\t\t\t\t\n",
        "\t\t\t^<Phytomer\t\t\t(id=49)\t\t\t\t\t\t\t\t\n",
        "\t\t\t^<Phytomer\t\t\t(id=50)\t\t\t\t\t\t\t\t\n",
        "\t\t\t^<Phytomer\t\t\t(id=51)\t\t\t\t\t\t\t\t\n",
        "\t\t\t^<Phytomer\t\t\t(id=52)\t\t\t\t\t\t\t\t\n",
        "\t\t\t^<Phytomer\t\t\t(id=53)\t\t\t\t\t\t\t\t\n",
        "\t\t\t^<Phytomer\t\t\t(id=54)\t\t\t\t\t\t\t\t\n",
        "\t\t\t^<TerminalBud\t\t\t(id=55)\t\t\t\t\t\t\t\t\n",
        "\t\t^<Inflorescence\t\t\t(id=56)\t\t\t\t\t\t\t\t\t\n",
        "\t^<Inflorescence\t\t\t(id=57)\t\t\t\t\t\t\t\t\t\t\n",
        "^<Inflorescence\t\t\t(id=58)\t\t\t\t\t\t\t\t\t\t\t\n"
       ]
      }
     ],
     "prompt_number": 15
    },
    {
     "cell_type": "code",
     "collapsed": false,
     "input": [
      "fruit = g.property(\"Total_ruit\")\n",
      "print fruit"
     ],
     "language": "python",
     "metadata": {},
     "outputs": [
      {
       "output_type": "stream",
       "stream": "stdout",
       "text": [
        "{1: '', 2: '', 3: '', 4: '', 5: '', 6: '', 7: '', 8: '', 9: '', 10: '', 11: '', 12: '', 13: '', 14: '', 15: '', 16: '', 17: '', 18: '', 19: '', 20: '', 21: '', 22: '', 23: '', 24: '', 25: '', 26: '', 27: '', 28: '', 29: '', 30: '', 31: '4', 32: '10', 33: '', 34: '', 35: '', 36: '', 37: '', 38: '', 39: '', 40: '', 41: '', 42: '', 43: '', 44: '', 45: '', 46: '', 47: '', 48: '', 49: '', 50: '', 51: '', 52: '', 53: '', 54: '', 55: '', 56: '7', 57: '9', 58: '36'}\n"
       ]
      }
     ],
     "prompt_number": 18
    },
    {
     "cell_type": "code",
     "collapsed": false,
     "input": [
      "len(fruit)\n"
     ],
     "language": "python",
     "metadata": {},
     "outputs": [
      {
       "metadata": {},
       "output_type": "pyout",
       "prompt_number": 31,
       "text": [
        "58"
       ]
      }
     ],
     "prompt_number": 31
    },
    {
     "cell_type": "code",
     "collapsed": false,
     "input": [
      "fruit = dict(fruit)\n",
      "print fruit\n"
     ],
     "language": "python",
     "metadata": {},
     "outputs": [
      {
       "output_type": "stream",
       "stream": "stdout",
       "text": [
        "{1: '', 2: '', 3: '', 4: '', 5: '', 6: '', 7: '', 8: '', 9: '', 10: '', 11: '', 12: '', 13: '', 14: '', 15: '', 16: '', 17: '', 18: '', 19: '', 20: '', 21: '', 22: '', 23: '', 24: '', 25: '', 26: '', 27: '', 28: '', 29: '', 30: '', 31: '4', 32: '10', 33: '', 34: '', 35: '', 36: '', 37: '', 38: '', 39: '', 40: '', 41: '', 42: '', 43: '', 44: '', 45: '', 46: '', 47: '', 48: '', 49: '', 50: '', 51: '', 52: '', 53: '', 54: '', 55: '', 56: '7', 57: '9', 58: '36'}\n"
       ]
      }
     ],
     "prompt_number": 77
    },
    {
     "cell_type": "raw",
     "metadata": {},
     "source": []
    }
   ],
   "metadata": {}
  }
 ]
}