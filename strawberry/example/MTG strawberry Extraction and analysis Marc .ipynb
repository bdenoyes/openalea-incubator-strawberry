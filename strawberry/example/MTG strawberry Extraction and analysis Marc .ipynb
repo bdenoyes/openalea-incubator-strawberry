{
 "metadata": {
  "name": "",
  "signature": "sha256:704784e6a5b5aad1920e17d9215206b6f09d9fcb0e6e48c79214ac258cfdca1a"
 },
 "nbformat": 3,
 "nbformat_minor": 0,
 "worksheets": [
  {
   "cells": [
    {
     "cell_type": "markdown",
     "metadata": {},
     "source": [
      "#MTG Extraction and Analysis Marc"
     ]
    },
    {
     "cell_type": "code",
     "collapsed": false,
     "input": [
      "from openalea.deploy.shared_data import shared_data\n",
      "import strawberry\n",
      "from strawberry.reader import Reader, strawberry2mtg \n",
      "from openalea.mtg import MTG, fat_mtg\n",
      "from openalea.mtg import algo"
     ],
     "language": "python",
     "metadata": {},
     "outputs": [],
     "prompt_number": 1
    },
    {
     "cell_type": "code",
     "collapsed": false,
     "input": [
      "files = shared_data(strawberry).glob('*.csv')\n",
      "fn = files[1]\n",
      "print fn\n"
     ],
     "language": "python",
     "metadata": {},
     "outputs": [
      {
       "output_type": "stream",
       "stream": "stdout",
       "text": [
        "z:\\g1\\marc-labadie\\python\\strawberry\\share\\data\\Cir107_1_2.csv\n"
       ]
      }
     ],
     "prompt_number": 28
    },
    {
     "cell_type": "markdown",
     "metadata": {},
     "source": [
      "##Reading files and create MTG"
     ]
    },
    {
     "cell_type": "code",
     "collapsed": false,
     "input": [
      "gs=[strawberry2mtg(fn) for fn in files]\n",
      "g=gs[8]"
     ],
     "language": "python",
     "metadata": {},
     "outputs": [
      {
       "output_type": "stream",
       "stream": "stdout",
       "text": [
        "Axis_1\tAxis_2\tAxe_3\tAxis_4\tAxis_5\tleaf_area\tleaf_perimeter\tLobe_C_H\tLobe_C_L\tLobe_G_H\tLobe_G_L\tLeaf_area_algo\tCom.\tharvest_fruit\tfruit_aborded\tTotal_ruit\tcom.\t\t\t\t\t\n",
        "Axis_1\tAxis_2\tAxe_3\tAxis_4\tAxis_5\tleaf_area\tleaf_perimeter\tLobe_C_H\tLobe_C_L\tLobe_G_H\tLobe_G_L\tLeaf_area_algo\tCom.\tharvest_fruit\tfruit_aborded\tTotal_ruit\tcom.\n",
        "Axis_1\tAxis_2\tAxe_3\tAxis_4\tAxis_5\tAxis_6\tAxis_7\tAxis_8\tleaf_area\tleaf_perimeter\tLobe_C_H\tLobe_C_L\tLobe_G_H\tLobe_G_L\tLeaf_area_algo\tCom.\tharvest_fruit\tfruit_aborded\tTotal_ruit\tcom.\t\t\t\t\t\n",
        "Axis_1\tAxis_2\tAxe_3\tAxis_4\tAxis_5\tAxis_6\tleaf_area\tleaf_perimeter\tLobe_C_H\tLobe_C_L\tLobe_G_H\tLobe_G_L\tLeaf_area_algo\tCom.\tharvest_fruit\tfruit_aborded\tTotal_ruit\tcom.\t\t\t\t\t"
       ]
      },
      {
       "output_type": "stream",
       "stream": "stdout",
       "text": [
        "\n",
        "Axis_1\tAxis_2\tAxe_3\tAxis_4\tAxis_5\tAxis_6\tAxis_7\tAxis_8\tleaf_area\tleaf_perimeter\tLobe_C_H\tLobe_C_L\tLobe_G_H\tLobe_G_L\tLeaf_area_algo\tCom.\tharvest_fruit\tfruit_aborded\tTotal_ruit\tcom.\t\t\t\t\t\n",
        "Axis_1\tAxis_2\tAxe_3\tAxis_4\tAxis_5\tAxis_6\tAxis_7\tAxis_8\tleaf_area\tleaf_perimeter\tLobe_C_H\tLobe_C_L\tLobe_G_H\tLobe_G_L\tLeaf_area_algo\tCom.\tharvest_fruit\tfruit_aborded\tTotal_ruit\tcom.\t\t\t\t\t\n",
        "Axis_1\tAxis_2\tAxe_3\tAxis_4\tAxis_5\tAxis_6\tAxis_7\tAxis_8\tleaf_area\tleaf_perimeter\tLobe_C_H\tLobe_C_L\tLobe_G_H\tLobe_G_L\tLeaf_area_algo\tCom.\tharvest_fruit\tfruit_aborded\tTotal_ruit\tcom."
       ]
      },
      {
       "output_type": "stream",
       "stream": "stdout",
       "text": [
        "\n",
        "Axis_1\tAxis_2\tAxe_3\tAxis_4\tAxis_5\tAxis_6\tleaf_area\tleaf_perimeter\tLobe_C_H\tLobe_C_L\tLobe_G_H\tLobe_G_L\tLeaf_area_algo\tCom.\tharvest_fruit\tfruit_aborded\tTotal_ruit\tcom.\n",
        "Axis_1\tAxis_2\tAxe_3\tAxis_4\tAxis_5\tAxis_6\tleaf_area\tleaf_perimeter\tLobe_C_H\tLobe_C_L\tLobe_G_H\tLobe_G_L\tLeaf_area_algo\tCom.\tharvest_fruit\tfruit_aborded\tTotal_ruit\tcom.\n",
        "Axis_1\tAxis_2\tAxe_3\tAxis_4\tAxis_5\tAxis_6\tAxis_7\tAxis_8\tleaf_area\tleaf_perimeter\tLobe_C_H\tLobe_C_L\tLobe_G_H\tLobe_G_L\tLeaf_area_algo\tCom.\tharvest_fruit\tfruit_aborded\tTotal_ruit\tcom."
       ]
      },
      {
       "output_type": "stream",
       "stream": "stdout",
       "text": [
        "\n",
        "Axis_1\tAxis_2\tAxe_3\tAxis_4\tAxis_5\tAxis_6\tAxis_7\tAxis_8\tleaf_area\tleaf_perimeter\tLobe_C_H\tLobe_C_L\tLobe_G_H\tLobe_G_L\tLeaf_area_algo\tCom.\tharvest_fruit\tfruit_aborded\tTotal_ruit\tcom.\n",
        "Axis_1\tAxis_2\tAxe_3\tAxis_4\tAxis_5\tAxis_6\tAxis_7\tAxis_8\tleaf_area\tleaf_perimeter\tLobe_C_H\tLobe_C_L\tLobe_G_H\tLobe_G_L\tLeaf_area_algo\tCom.\tharvest_fruit\tfruit_aborded\tTotal_ruit\tcom.\n",
        "Axis_1\tAxis_2\tAxe_3\tAxis_4\tAxis_5\tAxis_6\tAxis_7\tleaf_area\tleaf_perimeter\tLobe_C_H\tLobe_C_L\tLobe_G_H\tLobe_G_L\tLeaf_area_algo\tCom.\tharvest_fruit\tfruit_aborded\tTotal_ruit\tcom.\t\t\n",
        "Axis_1\tAxis_2\tAxe_3\tAxis_4\tAxis_5\tleaf_area\tleaf_perimeter\tLobe_C_H\tLobe_C_L\tLobe_G_H\tLobe_G_L\tLeaf_area_algo\tCom.\tharvest_fruit\tfruit_aborded\tTotal_ruit\tcom."
       ]
      },
      {
       "output_type": "stream",
       "stream": "stdout",
       "text": [
        "\n",
        "Axis_1\tAxis_2\tAxe_3\tAxis_4\tAxis_5\tleaf_area\tleaf_perimeter\tLobe_C_H\tLobe_C_L\tLobe_G_H\tLobe_G_L\tLeaf_area_algo\tCom.\tharvest_fruit\tfruit_aborded\tTotal_fruit\tcom.\n",
        "Axis_1\tAxis_2\tAxe_3\tAxis_4\tAxis_5\tAxis_6\tAxis_7\tleaf_area\tleaf_perimeter\tLobe_C_H\tLobe_C_L\tLobe_G_H\tLobe_G_L\tLeaf_area_algo\tCom.\tharvest_fruit\tfruit_aborded\tTotal_ruit\tcom.\t\t\n",
        "Axis_1\tAxis_2\tAxe_3\tAxis_4\tAxis_5\tAxis_6\tAxis_7\tleaf_area\tleaf_perimeter\tLobe_C_H\tLobe_C_L\tLobe_G_H\tLobe_G_L\tLeaf_area_algo\tCom.\tharvest_fruit\tfruit_aborded\tTotal_ruit\tcom.\t\t"
       ]
      },
      {
       "output_type": "stream",
       "stream": "stdout",
       "text": [
        "\n",
        "Axis_1\tAxis_2\tAxe_3\tAxis_4\tAxis_5\tAxis_6\tleaf_area\tleaf_perimeter\tLobe_C_H\tLobe_C_L\tLobe_G_H\tLobe_G_L\tLeaf_area_algo\tCom.\tharvest_fruit\tfruit_aborded\tTotal_ruit\tcom.\t\t\n"
       ]
      }
     ],
     "prompt_number": 29
    },
    {
     "cell_type": "code",
     "collapsed": false,
     "input": [
      "# List labels\n",
      "labels = set(g.label(v) for v in g if g.label(v) != '')\n",
      "print labels\n",
      "\n",
      "# Select Phytomers\n",
      "def select_entities(g, name):\n",
      "    \"\"\" Returns entities like Phytomer or Inflorescence in MTG. \n",
      "    name can be abbreviated (Phyto or Phytomer).\n",
      "    \"\"\"\n",
      "    return [v for v in g if name in g.label(v)]\n",
      "\n",
      "phytomers = select_entities(g, 'Phyto')\n",
      "inflos = select_entities(g, 'Inflo')\n",
      "buds = select_entities(g, 'Bud')\n",
      "print len(phytomers), len(inflos), len(buds)\n",
      "print len(g)\n",
      "assert (len(g) - 1) == len(phytomers)+ len(inflos)+ len(buds)"
     ],
     "language": "python",
     "metadata": {},
     "outputs": [
      {
       "output_type": "stream",
       "stream": "stdout",
       "text": [
        "set(['TerminalBud', 'Phytomer', 'Inflorescence'])\n",
        "40 6 1\n",
        "48\n"
       ]
      }
     ],
     "prompt_number": 30
    },
    {
     "cell_type": "code",
     "collapsed": false,
     "input": [
      "g.display()\n",
      "print fn"
     ],
     "language": "python",
     "metadata": {},
     "outputs": [
      {
       "output_type": "stream",
       "stream": "stdout",
       "text": [
        "MTG : nb_vertices=48, nb_scales=2\n",
        "/Phytomer\t\t\t(id=1)\t\t\t\t\t\t\t\t\t\t\t\n",
        "^<Phytomer\t\t\t(id=2)\t\t\t\t\t\t\t\t\t\t\t\n",
        "^<Phytomer\t\t\t(id=3)\t\t\t\t\t\t\t\t\t\t\t\n",
        "^<Phytomer\t\t\t(id=4)\t\t\t\t\t\t\t\t\t\t\t\n",
        "^<Phytomer\t\t\t(id=5)\t\t\t\t\t\t\t\t\t\t\t\n",
        "^<Phytomer\t\t\t(id=6)\t\t\t\t\t\t\t\t\t\t\t\n",
        "^<Phytomer\t\t\t(id=7)\t\t\t\t\t\t\t\t\t\t\t\n",
        "^<Phytomer\t\t\t(id=8)\t\t\t\t\t\t\t\t\t\t\t\n",
        "^<Phytomer\t\t\t(id=9)\t\t\t\t\t\t\t\t\t\t\t\n",
        "\t+Phytomer\t\t\t(id=10)\t\t\t\t\t\t\t\t\t\t\n",
        "\t^<Phytomer\t\t\t(id=11)\t\t\t\t\t\t\t\t\t\t\n",
        "\t^<Phytomer\t\t\t(id=12)\t\t\t\t\t\t\t\t\t\t\n",
        "\t^<Phytomer\t\t\t(id=13)\t\t\t\t\t\t\t\t\t\t\n",
        "\t^<Inflorescence\t\t\t(id=14)\t\t\t\t\t\t\t\t\t\t\n",
        "^<Phytomer\t\t\t(id=15)\t\t\t\t\t\t\t\t\t\t\t\n",
        "^<Phytomer\t\t\t(id=16)\t\t\t\t\t\t\t\t\t\t\t\n",
        "^<Phytomer\t\t\t(id=17)\t\t\t\t\t\t\t\t\t\t\t\n",
        "^<Phytomer\t\t\t(id=18)\t\t\t\t\t\t\t\t\t\t\t\n",
        "\t+Phytomer\t\t\t(id=19)\t\t\t\t\t\t\t\t\t\t\n",
        "\t^<Phytomer\t\t\t(id=20)\t\t\t\t\t\t\t\t\t\t\n",
        "\t^<Phytomer\t\t\t(id=21)\t\t\t\t\t\t\t\t\t\t\n",
        "\t^<Inflorescence\t\t\t(id=22)\t\t\t\t\t\t\t\t\t\t\n",
        "^<Phytomer\t\t\t(id=23)\t\t\t\t\t\t\t\t\t\t\t\n",
        "^<Phytomer\t\t\t(id=24)\t\t\t\t\t\t\t\t\t\t\t\n",
        "^<Phytomer\t\t\t(id=25)\t\t\t\t\t\t\t\t\t\t\t\n",
        "\t+Phytomer\t\t\t(id=26)\t\t\t\t\t\t\t\t\t\t\n",
        "\t^<Phytomer\t\t\t(id=27)\t\t\t\t\t\t\t\t\t\t\n",
        "\t^<Phytomer\t\t\t(id=28)\t\t\t\t\t\t\t\t\t\t\n",
        "\t^<Inflorescence\t\t\t(id=29)\t\t\t\t\t\t\t\t\t\t\n",
        "^<Phytomer\t\t\t(id=30)\t\t\t\t\t\t\t\t\t\t\t\n",
        "^<Phytomer\t\t\t(id=31)\t\t\t\t\t\t\t\t\t\t\t\n",
        "^<Phytomer\t\t\t(id=32)\t\t\t\t\t\t\t\t\t\t\t\n",
        "^<Phytomer\t\t\t(id=33)\t\t\t\t\t\t\t\t\t\t\t\n",
        "\t+Phytomer\t\t\t(id=34)\t\t\t\t\t\t\t\t\t\t\n",
        "\t^<Phytomer\t\t\t(id=35)\t\t\t\t\t\t\t\t\t\t\n",
        "\t^<Phytomer\t\t\t(id=36)\t\t\t\t\t\t\t\t\t\t\n",
        "\t\t+Phytomer\t\t\t(id=37)\t\t\t\t\t\t\t\t\t\n",
        "\t\t\t+Phytomer\t\t\t(id=38)\t\t\t\t\t\t\t\t\n",
        "\t\t\t^<Phytomer\t\t\t(id=39)\t\t\t\t\t\t\t\t\n",
        "\t\t\t^<Phytomer\t\t\t(id=40)\t\t\t\t\t\t\t\t\n",
        "\t\t\t^<Phytomer\t\t\t(id=41)\t\t\t\t\t\t\t\t\n",
        "\t\t\t^<Phytomer\t\t\t(id=42)\t\t\t\t\t\t\t\t\n",
        "\t\t\t^<Phytomer\t\t\t(id=43)\t\t\t\t\t\t\t\t\n",
        "\t\t\t^<TerminalBud\t\t\t(id=44)\t\t\t\t\t\t\t\t\n",
        "\t\t^<Inflorescence\t\t\t(id=45)\t\t\t\t\t\t\t\t\t\n",
        "\t^<Inflorescence\t\t\t(id=46)\t\t\t\t\t\t\t\t\t\t\n",
        "^<Inflorescence\t\t\t(id=47)\t\t\t\t\t\t\t\t\t\t\t\n",
        "z:\\g1\\marc-labadie\\python\\strawberry\\share\\data\\Garriguette_1_9.csv\n"
       ]
      }
     ],
     "prompt_number": 31
    },
    {
     "cell_type": "markdown",
     "metadata": {},
     "source": [
      "##Extraction and analysis of achitecture\n",
      "###Number of Phytomer by axis"
     ]
    },
    {
     "cell_type": "code",
     "collapsed": false,
     "input": [
      "#Def of vertex_axes\n",
      "vertex_axes=[v for v in g.vertices(scale=g.max_scale())if g.edge_type(v)!='<']\n",
      "vertex_axes\n",
      "\n",
      "#Def of axes\n",
      "axes= [g.Axis(v) for v in vertex_axes]\n",
      "axes\n",
      "\n",
      "#Def phyto_axes, identification of phytomer in axes\n",
      "phyto_axes = [[v for v in axis if 'Phyto' in g.label(v)] for axis in axes ]\n",
      "phyto_axes\n"
     ],
     "language": "python",
     "metadata": {},
     "outputs": [
      {
       "metadata": {},
       "output_type": "pyout",
       "prompt_number": 13,
       "text": [
        "[[1, 2, 3, 32, 33, 34, 35, 50, 51, 52],\n",
        " [4, 5, 6, 7, 8, 9, 10, 11],\n",
        " [12, 13, 14, 15, 21],\n",
        " [16, 17, 18, 19],\n",
        " [22, 23, 24, 25, 26, 27, 28],\n",
        " [36, 37, 38],\n",
        " [39, 40, 41],\n",
        " [42, 43, 44, 45, 46],\n",
        " [53],\n",
        " [54, 61],\n",
        " [55, 56, 57, 58, 59],\n",
        " [62, 63]]"
       ]
      }
     ],
     "prompt_number": 13
    },
    {
     "cell_type": "code",
     "collapsed": false,
     "input": [
      "orders=algo.orders(g)"
     ],
     "language": "python",
     "metadata": {},
     "outputs": [],
     "prompt_number": 15
    },
    {
     "cell_type": "code",
     "collapsed": false,
     "input": [
      "#number of phytomer by axes\n",
      "Nb_phyto_by_axes_and_order = {}\n",
      "for axis_no in range(len(phyto_axes)):\n",
      "    l = phyto_axes[axis_no]\n",
      "    Nb_phyto_by_axes_and_order.setdefault(orders[l[0]], []).append(len(l))\n",
      "print Nb_phyto_by_axes_and_order"
     ],
     "language": "python",
     "metadata": {},
     "outputs": [
      {
       "output_type": "stream",
       "stream": "stdout",
       "text": [
        "{0: [10], 1: [8, 3, 1], 2: [5, 3, 2], 3: [4, 7, 5, 5, 2]}\n"
       ]
      }
     ],
     "prompt_number": 16
    },
    {
     "cell_type": "code",
     "collapsed": false,
     "input": [
      "def cut_axis_between_ramifs(axis):\n",
      "    ramifs = [] # 1 or 0 ramifs\n",
      "    l = []\n",
      "    ramifs.append(l)\n",
      "    for i in range(len(axis)):\n",
      "        v = axis[i]\n",
      "        l.append(v)\n",
      "        for cid in g.children(v):\n",
      "            if g.edge_type(cid) == '+':\n",
      "                l = []\n",
      "                ramifs.append(l)\n",
      "                break\n",
      "    return ramifs\n",
      "\n",
      "#print phyto_axes\n",
      "cut_axis_between_ramifs(axes[0])\n",
      "for axis in axes:\n",
      "    cut_axes = cut_axis_between_ramifs(axis)\n",
      "    phyto_by_ramif=[sum(1 for v in sub_axes if 'Phy' in g.label(v))  for sub_axes in cut_axes]\n",
      "    print phyto_by_ramif"
     ],
     "language": "python",
     "metadata": {},
     "outputs": [
      {
       "output_type": "stream",
       "stream": "stdout",
       "text": [
        "[5, 3, 0]\n",
        "[4, 0]\n",
        "[3, 0]\n",
        "[2, 0]\n",
        "[2, 3, 0]\n",
        "[4]\n",
        "[6]\n",
        "[4, 0]\n",
        "[2, 0]\n",
        "[2, 0]\n",
        "[6]\n"
       ]
      }
     ],
     "prompt_number": 9
    },
    {
     "cell_type": "code",
     "collapsed": false,
     "input": [
      "#Number of phyto by ramif, Axis and Order\n",
      "phyto_by_ramif_axis_Order={}\n",
      "for axis_no in range(len(phyto_by_ramif)):\n",
      "    l= phyto_by_ramif[axis_no]\n",
      " \n",
      "    "
     ],
     "language": "python",
     "metadata": {},
     "outputs": [
      {
       "ename": "TypeError",
       "evalue": "'int' object has no attribute '__getitem__'",
       "output_type": "pyerr",
       "traceback": [
        "\u001b[1;31m---------------------------------------------------------------------------\u001b[0m\n\u001b[1;31mTypeError\u001b[0m                                 Traceback (most recent call last)",
        "\u001b[1;32m<ipython-input-26-a08fdfbf77a4>\u001b[0m in \u001b[0;36m<module>\u001b[1;34m()\u001b[0m\n\u001b[0;32m      3\u001b[0m \u001b[1;32mfor\u001b[0m \u001b[0mramif_no\u001b[0m \u001b[1;32min\u001b[0m \u001b[0mrange\u001b[0m\u001b[1;33m(\u001b[0m\u001b[0mlen\u001b[0m\u001b[1;33m(\u001b[0m\u001b[0mphyto_by_ramif\u001b[0m\u001b[1;33m)\u001b[0m\u001b[1;33m)\u001b[0m\u001b[1;33m:\u001b[0m\u001b[1;33m\u001b[0m\u001b[0m\n\u001b[0;32m      4\u001b[0m     \u001b[0ml\u001b[0m\u001b[1;33m=\u001b[0m \u001b[0mphyto_by_ramif\u001b[0m\u001b[1;33m[\u001b[0m\u001b[0mramif_no\u001b[0m\u001b[1;33m]\u001b[0m\u001b[1;33m\u001b[0m\u001b[0m\n\u001b[1;32m----> 5\u001b[1;33m     \u001b[0mphyto_by_ramif_axis_Order\u001b[0m\u001b[1;33m.\u001b[0m\u001b[0msetdefault\u001b[0m\u001b[1;33m(\u001b[0m\u001b[0maxes\u001b[0m\u001b[1;33m[\u001b[0m\u001b[0ml\u001b[0m\u001b[1;33m[\u001b[0m\u001b[1;36m0\u001b[0m\u001b[1;33m]\u001b[0m\u001b[1;33m,\u001b[0m\u001b[1;33m[\u001b[0m\u001b[1;33m]\u001b[0m\u001b[1;33m]\u001b[0m\u001b[1;33m.\u001b[0m\u001b[0mappend\u001b[0m\u001b[1;33m(\u001b[0m\u001b[0mlen\u001b[0m\u001b[1;33m(\u001b[0m\u001b[0ml\u001b[0m\u001b[1;33m)\u001b[0m\u001b[1;33m)\u001b[0m\u001b[1;33m)\u001b[0m\u001b[1;33m\u001b[0m\u001b[0m\n\u001b[0m\u001b[0;32m      6\u001b[0m \u001b[1;33m\u001b[0m\u001b[0m\n",
        "\u001b[1;31mTypeError\u001b[0m: 'int' object has no attribute '__getitem__'"
       ]
      }
     ],
     "prompt_number": 26
    },
    {
     "cell_type": "markdown",
     "metadata": {},
     "source": [
      "## Number of Inflorescence by Axis"
     ]
    },
    {
     "cell_type": "code",
     "collapsed": false,
     "input": [
      "#Def inflos axis, identification of inflorescence in axis\n",
      "\n",
      "inflo_axes =[[v for v in axis if 'Inflo' in g.label(v)] for axis in axes ]\n",
      "inflo_axes\n",
      "#print inflo_axes"
     ],
     "language": "python",
     "metadata": {},
     "outputs": [
      {
       "metadata": {},
       "output_type": "pyout",
       "prompt_number": 79,
       "text": [
        "[[61], [22], [21], [], [41], [], [57], [56], []]"
       ]
      }
     ],
     "prompt_number": 79
    },
    {
     "cell_type": "code",
     "collapsed": false,
     "input": [
      "#number of Inflorescence by axes\n"
     ],
     "language": "python",
     "metadata": {},
     "outputs": [
      {
       "ename": "IndexError",
       "evalue": "list index out of range",
       "output_type": "pyerr",
       "traceback": [
        "\u001b[1;31m---------------------------------------------------------------------------\u001b[0m\n\u001b[1;31mIndexError\u001b[0m                                Traceback (most recent call last)",
        "\u001b[1;32m<ipython-input-40-7c6a4c1a6c43>\u001b[0m in \u001b[0;36m<module>\u001b[1;34m()\u001b[0m\n\u001b[0;32m      3\u001b[0m \u001b[1;32mfor\u001b[0m \u001b[0maxis_no\u001b[0m \u001b[1;32min\u001b[0m \u001b[0mrange\u001b[0m\u001b[1;33m(\u001b[0m\u001b[0mlen\u001b[0m\u001b[1;33m(\u001b[0m\u001b[0minflo_axes\u001b[0m\u001b[1;33m)\u001b[0m\u001b[1;33m)\u001b[0m\u001b[1;33m:\u001b[0m\u001b[1;33m\u001b[0m\u001b[0m\n\u001b[0;32m      4\u001b[0m     \u001b[0minflo_axis\u001b[0m \u001b[1;33m=\u001b[0m \u001b[0minflo_axes\u001b[0m\u001b[1;33m[\u001b[0m\u001b[0maxis_no\u001b[0m\u001b[1;33m]\u001b[0m\u001b[1;33m\u001b[0m\u001b[0m\n\u001b[1;32m----> 5\u001b[1;33m     \u001b[0mNb_inflos_by_axes_and_orders\u001b[0m\u001b[1;33m.\u001b[0m\u001b[0msetdefault\u001b[0m\u001b[1;33m(\u001b[0m\u001b[0morders\u001b[0m\u001b[1;33m[\u001b[0m\u001b[0minflo_axis\u001b[0m\u001b[1;33m[\u001b[0m\u001b[1;36m0\u001b[0m\u001b[1;33m]\u001b[0m\u001b[1;33m]\u001b[0m\u001b[1;33m,\u001b[0m \u001b[1;33m[\u001b[0m\u001b[1;33m]\u001b[0m\u001b[1;33m)\u001b[0m\u001b[1;33m.\u001b[0m\u001b[0mappend\u001b[0m\u001b[1;33m(\u001b[0m\u001b[0mlen\u001b[0m\u001b[1;33m(\u001b[0m\u001b[0minflo_axis\u001b[0m\u001b[1;33m)\u001b[0m\u001b[1;33m)\u001b[0m\u001b[1;33m\u001b[0m\u001b[0m\n\u001b[0m\u001b[0;32m      6\u001b[0m \u001b[1;32mprint\u001b[0m \u001b[0mNb_Inflos_by_axes_and_orders\u001b[0m\u001b[1;33m\u001b[0m\u001b[0m\n",
        "\u001b[1;31mIndexError\u001b[0m: list index out of range"
       ]
      }
     ],
     "prompt_number": 40
    },
    {
     "cell_type": "code",
     "collapsed": false,
     "input": [
      "g.display()"
     ],
     "language": "python",
     "metadata": {},
     "outputs": [
      {
       "output_type": "stream",
       "stream": "stdout",
       "text": [
        "MTG : nb_vertices=74, nb_scales=2\n",
        "/Phytomer\t\t\t(id=1)\t\t\t\t\t\t\t\t\t\t\t\n",
        "\t+Phytomer\t\t\t(id=2)\t\t\t\t\t\t\t\t\t\t\n",
        "\t^<Phytomer\t\t\t(id=3)\t\t\t\t\t\t\t\t\t\t\n",
        "\t^<Phytomer\t\t\t(id=4)\t\t\t\t\t\t\t\t\t\t\n",
        "\t^<Phytomer\t\t\t(id=5)\t\t\t\t\t\t\t\t\t\t\n",
        "\t^<Phytomer\t\t\t(id=6)\t\t\t\t\t\t\t\t\t\t\n",
        "\t^<Phytomer\t\t\t(id=7)\t\t\t\t\t\t\t\t\t\t\n",
        "\t\t+Phytomer\t\t\t(id=8)\t\t\t\t\t\t\t\t\t\n",
        "\t\t^<Phytomer\t\t\t(id=9)\t\t\t\t\t\t\t\t\t\n",
        "\t\t^<Phytomer\t\t\t(id=10)\t\t\t\t\t\t\t\t\t\n",
        "\t\t^<Phytomer\t\t\t(id=11)\t\t\t\t\t\t\t\t\t\n",
        "\t\t\t+Phytomer\t\t\t(id=12)\t\t\t\t\t\t\t\t\n",
        "\t\t\t^<Phytomer\t\t\t(id=13)\t\t\t\t\t\t\t\t\n",
        "\t\t\t\t+Phytomer\t\t\t(id=14)\t\t\t\t\t\t\t\n",
        "\t\t\t\t^<Phytomer\t\t\t(id=15)\t\t\t\t\t\t\t\n",
        "\t\t\t\t^<Phytomer\t\t\t(id=16)\t\t\t\t\t\t\t\n",
        "\t\t\t\t^<Phytomer\t\t\t(id=17)\t\t\t\t\t\t\t\n",
        "\t\t\t\t\t+Phytomer\t\t\t(id=18)\t\t\t\t\t\t\n",
        "\t\t\t\t\t^<Phytomer\t\t\t(id=19)\t\t\t\t\t\t\n",
        "\t\t\t\t\t^<Phytomer\t\t\t(id=20)\t\t\t\t\t\t\n",
        "\t\t\t\t\t^<Phytomer\t\t\t(id=21)\t\t\t\t\t\t\n",
        "\t\t\t\t\t^<Phytomer\t\t\t(id=22)\t\t\t\t\t\t\n",
        "\t\t\t\t\t^<Phytomer\t\t\t(id=23)\t\t\t\t\t\t\n",
        "\t\t\t\t\t^<TerminalBud\t\t\t(id=24)\t\t\t\t\t\t\n",
        "\t\t\t\t^<Inflorescence\t\t\t(id=25)\t\t\t\t\t\t\t\n",
        "\t\t\t^<Inflorescence\t\t\t(id=26)\t\t\t\t\t\t\t\t\n",
        "\t\t^<Inflorescence\t\t\t(id=27)\t\t\t\t\t\t\t\t\t\n",
        "\t^<Inflorescence\t\t\t(id=28)\t\t\t\t\t\t\t\t\t\t\n",
        "^<Phytomer\t\t\t(id=29)\t\t\t\t\t\t\t\t\t\t\t\n",
        "^<Phytomer\t\t\t(id=30)\t\t\t\t\t\t\t\t\t\t\t\n",
        "\t+Phytomer\t\t\t(id=31)\t\t\t\t\t\t\t\t\t\t\n",
        "\t^<Phytomer\t\t\t(id=32)\t\t\t\t\t\t\t\t\t\t\n",
        "\t\t+Phytomer\t\t\t(id=33)\t\t\t\t\t\t\t\t\t\n",
        "\t\t^<Phytomer\t\t\t(id=34)\t\t\t\t\t\t\t\t\t\n",
        "\t\t\t+Phytomer\t\t\t(id=35)\t\t\t\t\t\t\t\t\n",
        "\t\t\t^<Phytomer\t\t\t(id=36)\t\t\t\t\t\t\t\t\n",
        "\t\t\t^<Phytomer\t\t\t(id=37)\t\t\t\t\t\t\t\t\n",
        "\t\t\t\t+Phytomer\t\t\t(id=38)\t\t\t\t\t\t\t\n",
        "\t\t\t\t^<Phytomer\t\t\t(id=39)\t\t\t\t\t\t\t\n",
        "\t\t\t\t\t+Phytomer\t\t\t(id=40)\t\t\t\t\t\t\n",
        "\t\t\t\t\t^<Phytomer\t\t\t(id=41)\t\t\t\t\t\t\n",
        "\t\t\t\t\t^<Phytomer\t\t\t(id=42)\t\t\t\t\t\t\n",
        "\t\t\t\t\t^<Phytomer\t\t\t(id=43)\t\t\t\t\t\t\n",
        "\t\t\t\t\t^<Phytomer\t\t\t(id=44)\t\t\t\t\t\t\n",
        "\t\t\t\t\t^<Phytomer\t\t\t(id=45)\t\t\t\t\t\t\n",
        "\t\t\t\t\t^<TerminalBud\t\t\t(id=46)\t\t\t\t\t\t\n",
        "\t\t\t\t^<Inflorescence\t\t\t(id=47)\t\t\t\t\t\t\t\n",
        "\t\t\t^<Inflorescence\t\t\t(id=48)\t\t\t\t\t\t\t\t\n",
        "\t\t^<Inflorescence\t\t\t(id=49)\t\t\t\t\t\t\t\t\t\n",
        "\t^<Inflorescence\t\t\t(id=50)\t\t\t\t\t\t\t\t\t\t\n",
        "^<Phytomer\t\t\t(id=51)\t\t\t\t\t\t\t\t\t\t\t\n",
        "^<Phytomer\t\t\t(id=52)\t\t\t\t\t\t\t\t\t\t\t\n",
        "^<Phytomer\t\t\t(id=53)\t\t\t\t\t\t\t\t\t\t\t\n",
        "\t+Phytomer\t\t\t(id=54)\t\t\t\t\t\t\t\t\t\t\n",
        "\t^<Phytomer\t\t\t(id=55)\t\t\t\t\t\t\t\t\t\t\n",
        "\t^<Phytomer\t\t\t(id=56)\t\t\t\t\t\t\t\t\t\t\n",
        "\t\t+Phytomer\t\t\t(id=57)\t\t\t\t\t\t\t\t\t\n",
        "\t\t^<Phytomer\t\t\t(id=58)\t\t\t\t\t\t\t\t\t\n",
        "\t\t^<Phytomer\t\t\t(id=59)\t\t\t\t\t\t\t\t\t\n",
        "\t\t^<Phytomer\t\t\t(id=60)\t\t\t\t\t\t\t\t\t\n",
        "\t\t^<Phytomer\t\t\t(id=61)\t\t\t\t\t\t\t\t\t\n",
        "\t\t\t+Phytomer\t\t\t(id=62)\t\t\t\t\t\t\t\t\n",
        "\t\t\t^<Phytomer\t\t\t(id=63)\t\t\t\t\t\t\t\t\n",
        "\t\t\t\t+Phytomer\t\t\t(id=64)\t\t\t\t\t\t\t\n",
        "\t\t\t\t^<Phytomer\t\t\t(id=65)\t\t\t\t\t\t\t\n",
        "\t\t\t\t^<Phytomer\t\t\t(id=66)\t\t\t\t\t\t\t\n",
        "\t\t\t\t^<Phytomer\t\t\t(id=67)\t\t\t\t\t\t\t\n",
        "\t\t\t\t^<Phytomer\t\t\t(id=68)\t\t\t\t\t\t\t\n",
        "\t\t\t\t^<TerminalBud\t\t\t(id=69)\t\t\t\t\t\t\t\n",
        "\t\t\t^<Inflorescence\t\t\t(id=70)\t\t\t\t\t\t\t\t\n",
        "\t\t^<Inflorescence\t\t\t(id=71)\t\t\t\t\t\t\t\t\t\n",
        "\t^<Inflorescence\t\t\t(id=72)\t\t\t\t\t\t\t\t\t\t\n",
        "^<Inflorescence\t\t\t(id=73)\t\t\t\t\t\t\t\t\t\t\t\n"
       ]
      }
     ],
     "prompt_number": 50
    },
    {
     "cell_type": "code",
     "collapsed": false,
     "input": [],
     "language": "python",
     "metadata": {},
     "outputs": [
      {
       "metadata": {},
       "output_type": "pyout",
       "prompt_number": 39,
       "text": [
        "[61]"
       ]
      }
     ],
     "prompt_number": 39
    },
    {
     "cell_type": "code",
     "collapsed": false,
     "input": [
      "#g.display()"
     ],
     "language": "python",
     "metadata": {},
     "outputs": [],
     "prompt_number": 10
    }
   ],
   "metadata": {}
  }
 ]
}