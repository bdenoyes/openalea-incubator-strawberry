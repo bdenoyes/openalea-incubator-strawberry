{
 "metadata": {
  "name": "",
  "signature": "sha256:0cc44f2893610c5ae58fc67c430a3c997a804df8f81c060e8afdb4892e877063"
 },
 "nbformat": 3,
 "nbformat_minor": 0,
 "worksheets": [
  {
   "cells": [
    {
     "cell_type": "markdown",
     "metadata": {},
     "source": [
      "# ROADMAP"
     ]
    },
    {
     "cell_type": "heading",
     "level": 2,
     "metadata": {},
     "source": [
      "1. Update MTG"
     ]
    },
    {
     "cell_type": "code",
     "collapsed": false,
     "input": [
      "# !pip install openalea.mtg"
     ],
     "language": "python",
     "metadata": {},
     "outputs": [
      {
       "output_type": "stream",
       "stream": "stdout",
       "text": [
        "Requirement already satisfied (use --upgrade to upgrade): openalea.mtg in c:\\python27\\lib\\site-packages\\openalea.mtg-1.0.2-py2.7.egg\n",
        "Requirement already satisfied (use --upgrade to upgrade): openalea.deploy in c:\\python27\\lib\\site-packages\\openalea.deploy-1.0.0-py2.7.egg (from openalea.mtg)\n"
       ]
      }
     ],
     "prompt_number": 1
    },
    {
     "cell_type": "code",
     "collapsed": false,
     "input": [],
     "language": "python",
     "metadata": {},
     "outputs": []
    }
   ],
   "metadata": {}
  }
 ]
}