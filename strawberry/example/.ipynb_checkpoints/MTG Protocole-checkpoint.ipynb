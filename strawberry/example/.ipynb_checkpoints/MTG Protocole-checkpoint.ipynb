{
 "metadata": {
  "name": "",
  "signature": "sha256:70d120162d596255d56ef4b6d85c0a5bdd681e8daef621b7a1b300400f290e6e"
 },
 "nbformat": 3,
 "nbformat_minor": 0,
 "worksheets": [
  {
   "cells": [
    {
     "cell_type": "heading",
     "level": 1,
     "metadata": {},
     "source": [
      "1. Rules of writting MTG"
     ]
    },
    {
     "cell_type": "raw",
     "metadata": {},
     "source": [
      "Symbol    Scale     Definition                  Properties\n",
      "P         1         Plant                       Date, Genotype, Plante number, neck diameter(mm)\n",
      "T         2         Tronc(Principal Crown)\n",
      "A         2         Axis (Branch Crowns)\n",
      "F         3         Leaf                        Petiol length(cm), height central leaflet(cm), height left leaflet (cm)\n",
      "f         3         Leaf primordia\n",
      "bt        3         Bud                         Stage (17 to A)\n",
      "s         3         Runner\n",
      "HT        3         Inflorecence                Stage (I to 87), Total number of flower, number of open flower, number of flower aborted\n",
      "                                                from stage 55 rules were describ by Strawberry BBCH, number of open flower start to stage                                                 60\n",
      "ht        3         Primordia inflorescence     Stage (B to H), length of inflorecence(cm)\n"
     ]
    },
    {
     "cell_type": "markdown",
     "metadata": {},
     "source": [
      "Writting example of MTG "
     ]
    },
    {
     "cell_type": "raw",
     "metadata": {},
     "source": [
      "#\n",
      "#\n",
      "CODE:\tFORM-A\n",
      "\n",
      "CLASSES:\n",
      "SYMBOL\tSCALE\tDECOMPOSITION\tINDEXATION\tDEFINITION\n",
      "$ \t0\tFREE\tFREE\tIMPLICIT\n",
      "P \t1\tFREE\tFREE\tEXPLICIT\n",
      "T  \t2\tFREE\tFREE\tEXPLICIT\n",
      "A  \t2\tFREE\tFREE\tEXPLICIT\n",
      "F\t3\tFREE\tFREE\tEXPLICIT\n",
      "f\t3\tFREE\tFREE\tEXPLICIT\n",
      "s\t3\tFREE\tFREE\tEXPLICIT\n",
      "bt\t3\tFREE\tFREE\tEXPLICIT\n",
      "BT\t3\tFREE\tFREE\tEXPLICIT\n",
      "ht\t3\tFREE\tFREE\tEXPLICIT\n",
      "HT\t3\tFREE\tFREE\tEXPLICIT\n",
      "\n",
      "DESCRIPTION :\n",
      "LEFT\tRIGHT\tRELTYPE\tMAX\n",
      "A\tA\t+\t?\n",
      "A\tA\t<\t1\n",
      "T\tT\t+\t?\n",
      "T\tT\t<\t1\n",
      "\n",
      "FEATURES:\n",
      "NAME\tTYPE\n",
      "\n",
      "date\tDD/MM/YYYY\n",
      "Genotype\tSTRING\n",
      "Plante\tINT\n",
      "diam_mm\tREAL # mm\n",
      "Stade\tSTRING\n",
      "mesure_ht\tREAL\n",
      "Longeur_petiole_cm\tREAL\n",
      "Hauteur_Lobe_centrale_cm\tREAL\n",
      "Hauteur_Lobe_gauche_cm\tREAL\n",
      "Fleurs_total\tINT\n",
      "Fleurs_ouverte\tINT\n",
      "Fleurs_avort\u00e9\tINT\n",
      "\n",
      "MTG:\n",
      "ENTITY-CODE\t\t\t\t\tdate\tGenotype\tPlante\tdiam_mm\tStade\tmesure_ht\tLongeur_petiole_cm\tHauteur_Lobe_centrale_cm\tHauteur_Lobe_gauche_cm\tFleurs_total\tFleurs_ouverte\tFleurs_avort\u00e9\n",
      "\n",
      "/P\t\t\t\t\t04/12/2014\tCiflorette\t1\t15.37\t\t\t\t\t\t\t\t\n",
      "^/T\t\t\t\t\t\t\t\t\t\t\t\t\t\t\t\t\n",
      "^/F\t\t\t\t\t\t\t\t\t\t\t\t\t\t\t\t\n",
      "\t+A\t\t\t\t\t\t\t\t\t\t\t\t\t\t\t\n",
      "\t^/s\t\t\t\t\t\t\t\t\t\t\t\t\t\t\t\n",
      "^<F\t\t\t\t\t\t\t\t\t\t\t\t\t\t\t\t\n",
      "\t+A\t\t\t\t\t\t\t\t\t\t\t\t\t\t\t\n",
      "\t^/s\t\t\t\t\t\t\t\t\t\t\t\t\t\t\t\n",
      "^<F\t\t\t\t\t\t\t\t\t\t\t\t\t\t\t\t\n",
      "\t+A\t\t\t\t\t\t\t\t\t\t\t\t\t\t\t\n",
      "\t^/s\t\t\t\t\t\t\t\t\t\t\t\t\t\t\t\n",
      "^<F\t\t\t\t\t\t\t\t\t\t\t\t\t\t\t\t\n",
      "\t+A\t\t\t\t\t\t\t\t\t\t\t\t\t\t\t\n",
      "\t^/F\t\n",
      "\t\t+A\t\t\t\t\t\t\t\t\t\t\t\t\t\t\n",
      "\t\t^/f\t\t\t\t\t\t\t\t\t\t\t\t\t\t\n",
      "\t\t^<f\t\t\t\t\t\t\t\t\t\t\t\t\t\t\n",
      "\t\t^<f\t\t\t\t\t\t\t\t\t\t\t\t\t\t\n",
      "\t\t^<bt\t\t\t\t\t\t\t17\t\t\t\t\t\t\t\n",
      "\t^<F\t\n",
      "\t\t+A\t\t\t\t\t\t\t\t\t\t\t\t\t\t\n",
      "\t\t^/f\t\t\t\t\t\t\t\t\t\t\t\t\t\t\n",
      "\t\t^<f\t\t\t\t\t\t\t\t\t\t\t\t\t\t\n",
      "\t\t^<bt\t\t\t\t\t\t\t17\t\t\t\t\t\t\t\n",
      "\t^<F\t\n",
      "\t\t+A\t\t\t\t\t\t\t\t\t\t\t\t\t\t\n",
      "\t\t^/f\t\t\t\t\t\t\t\t\t\t\t\t\t\t\n",
      "\t\t^<f\t\t\t\t\t\t\t\t\t\t\t\t\t\t\n",
      "\t\t^<bt\t\t\t\t\t\t\tA\t\t\t\t\t\t\t\n",
      "\t^<f\t\t\t\t\t\t\t\t\t\t\t\t\t\t\t\n",
      "\t\t+A\t\t\t\t\t\t\t\t\t\t\t\t\t\t\n",
      "\t\t^/f\t\t\t\t\t\t\t\t\t\t\t\t\t\t\n",
      "\t\t^<f\t\t\t\t\t\t\t\t\t\t\t\t\t\t\n",
      "\t\t^<bt\t\t\t\t\t\t\t17\t\t\t\t\t\t\t\n",
      "\t^<f\t\n",
      "\t\t+A\t\t\t\t\t\t\t\t\t\t\t\t\t\t\n",
      "\t\t^/f\t\t\t\t\t\t\t\t\t\t\t\t\t\t\n",
      "\t\t^<f\t\t\t\t\t\t\t\t\t\t\t\t\t\t\n",
      "\t\t^<f\t\t\t\t\t\t\t\t\t\t\t\t\t\t\n",
      "\t\t^<ht\t\t\t\t\t\t\tC\t\t\t\t\t\t\t\n",
      "\t^<ht\t\t\t\t\t\t\t\tH\t0.7\t\t\t\t\t\t\n",
      "^<HT\t\t\t\t\t\t\t\t\tcoup\u00e9\t\t\t\t\t\t\t"
     ]
    },
    {
     "cell_type": "heading",
     "level": 1,
     "metadata": {},
     "source": [
      "2. Step to read the MTG"
     ]
    },
    {
     "cell_type": "heading",
     "level": 2,
     "metadata": {},
     "source": [
      ".. 2.1 Module import"
     ]
    },
    {
     "cell_type": "code",
     "collapsed": false,
     "input": [
      "from openalea.core import path\n",
      "from openalea.mtg import *\n",
      "import glob\n"
     ],
     "language": "python",
     "metadata": {},
     "outputs": [],
     "prompt_number": 1
    },
    {
     "cell_type": "heading",
     "level": 2,
     "metadata": {},
     "source": [
      ".. 2.2 Import files"
     ]
    },
    {
     "cell_type": "code",
     "collapsed": false,
     "input": [
      "from openalea.deploy.shared_data import shared_data\n",
      "import strawberry\n",
      "files = shared_data(strawberry).glob('*.mtg')"
     ],
     "language": "python",
     "metadata": {},
     "outputs": [],
     "prompt_number": 2
    },
    {
     "cell_type": "code",
     "collapsed": false,
     "input": [
      "#files= glob.glob(\"*.mtg\") # Registration of all files ending with .mtg in vector files\n",
      "files"
     ],
     "language": "python",
     "metadata": {},
     "outputs": [
      {
       "metadata": {},
       "output_type": "pyout",
       "prompt_number": 3,
       "text": [
        "[path(u'z:\\\\g1\\\\marc-labadie\\\\python\\\\strawberry\\\\share\\\\data\\\\Capriss.mtg'),\n",
        " path(u'z:\\\\g1\\\\marc-labadie\\\\python\\\\strawberry\\\\share\\\\data\\\\Ciflorette.mtg'),\n",
        " path(u'z:\\\\g1\\\\marc-labadie\\\\python\\\\strawberry\\\\share\\\\data\\\\Cir107.mtg'),\n",
        " path(u'z:\\\\g1\\\\marc-labadie\\\\python\\\\strawberry\\\\share\\\\data\\\\Clery.mtg'),\n",
        " path(u'z:\\\\g1\\\\marc-labadie\\\\python\\\\strawberry\\\\share\\\\data\\\\Darselect.mtg'),\n",
        " path(u'z:\\\\g1\\\\marc-labadie\\\\python\\\\strawberry\\\\share\\\\data\\\\Gariguette.mtg')]"
       ]
      }
     ],
     "prompt_number": 3
    },
    {
     "cell_type": "heading",
     "level": 2,
     "metadata": {},
     "source": [
      ".. 2.3 Read MTG in files"
     ]
    },
    {
     "cell_type": "heading",
     "level": 3,
     "metadata": {},
     "source": [
      ".... 2.3.1 First verification by simple read of MTG"
     ]
    },
    {
     "cell_type": "markdown",
     "metadata": {},
     "source": [
      "If MTG is correctly read,  if line code display: \"replace all date format by -\". \n",
      "In other case: \n",
      "- perhaps you have one or some errors in MTG writting. Line code display errors with vertex number. To help you for error identification some lines code was disponible (cf. $ Line code to identify somes writting errors) "
     ]
    },
    {
     "cell_type": "code",
     "collapsed": false,
     "input": [
      "g=MTG(files[0]) "
     ],
     "language": "python",
     "metadata": {},
     "outputs": [
      {
       "output_type": "stream",
       "stream": "stdout",
       "text": [
        "replace all the date format by -\n"
       ]
      }
     ],
     "prompt_number": 4
    },
    {
     "cell_type": "heading",
     "level": 3,
     "metadata": {},
     "source": [
      ".... 2.3.2 Lines code to identify some wrinting errors"
     ]
    },
    {
     "cell_type": "code",
     "collapsed": false,
     "input": [
      "g[665] #lets see full description of the vertex n \u00b0x (x=arguments)"
     ],
     "language": "python",
     "metadata": {},
     "outputs": [
      {
       "metadata": {},
       "output_type": "pyout",
       "prompt_number": 5,
       "text": [
        "{'_line': 721,\n",
        " 'complex': 663,\n",
        " 'edge_type': '<',\n",
        " 'index': 665,\n",
        " 'label': 'f',\n",
        " 'parent': 664,\n",
        " 'scale': 3,\n",
        " 'vid': 665}"
       ]
      }
     ],
     "prompt_number": 5
    },
    {
     "cell_type": "code",
     "collapsed": false,
     "input": [
      "#g.node(1918)._line # lets identify the line associated with the error (argument)"
     ],
     "language": "python",
     "metadata": {},
     "outputs": [],
     "prompt_number": 6
    },
    {
     "cell_type": "code",
     "collapsed": false,
     "input": [
      "#g.node(1918).label # Lets identify the label associated with the error (argument)"
     ],
     "language": "python",
     "metadata": {},
     "outputs": [],
     "prompt_number": 7
    },
    {
     "cell_type": "heading",
     "level": 3,
     "metadata": {},
     "source": [
      ".... 2.3.3 Second Verification of MTG reading by display"
     ]
    },
    {
     "cell_type": "code",
     "collapsed": false,
     "input": [
      "#g.display(g) #Display MTG"
     ],
     "language": "python",
     "metadata": {},
     "outputs": [],
     "prompt_number": 1
    },
    {
     "cell_type": "heading",
     "level": 2,
     "metadata": {},
     "source": [
      ".. 2.4 Verification of production rules specific to strawberry"
     ]
    },
    {
     "cell_type": "heading",
     "level": 3,
     "metadata": {},
     "source": [
      ".... 2.4.1 Pr\u00e9-requis"
     ]
    },
    {
     "cell_type": "markdown",
     "metadata": {},
     "source": [
      "Afin de verifier les diff\u00e9rentes r\u00e8gle de production il est necessaire de d\u00e9finir les entit\u00e9s et les propri\u00e9t\u00e9s "
     ]
    },
    {
     "cell_type": "code",
     "collapsed": false,
     "input": [
      "def select_entities(g, name):\n",
      "    \"\"\" Returns entities like P, F, bt, s, HT, f or ht\n",
      "    \"\"\"\n",
      "    return [v for v in g if name in g.label(v)]"
     ],
     "language": "python",
     "metadata": {},
     "outputs": [],
     "prompt_number": 9
    },
    {
     "cell_type": "code",
     "collapsed": false,
     "input": [
      "Plante= select_entities(g, \"P\")\n",
      "Leaves= select_entities(g, \"F\")\n",
      "Terminal_buds=select_entities(g,\"bt\")\n",
      "Runners=select_entities(g,\"s\")\n",
      "Inflorescence=select_entities(g,\"HT\")\n",
      "Foliar_primordia=select_entities(g,\"f\")\n",
      "Inflorescence_primordia=select_entities(g,\"ht\")"
     ],
     "language": "python",
     "metadata": {},
     "outputs": [],
     "prompt_number": 10
    },
    {
     "cell_type": "code",
     "collapsed": false,
     "input": [
      "Stage = g.property('Stade')\n",
      "Total_Flower = g.property('Fleurs_total')\n",
      "Open_Flower = g.property('Fleurs_ouverte')\n",
      "Aborted_Flower = g.property(\"Fleurs_avort\u00e9\")"
     ],
     "language": "python",
     "metadata": {},
     "outputs": [],
     "prompt_number": 11
    },
    {
     "cell_type": "heading",
     "level": 3,
     "metadata": {},
     "source": [
      ".... 2.4.2 Rules specific to Strawberry MTG"
     ]
    },
    {
     "cell_type": "heading",
     "level": 4,
     "metadata": {},
     "source": [
      "...... 2.4.1 Specific to stage properties"
     ]
    },
    {
     "cell_type": "markdown",
     "metadata": {},
     "source": [
      "Remenber: in properties table we defined entities specific to properties:\n",
      "- Stage of Terminal bud (bt) is between 17 to A (line code to identify error writting for this rules see Terminal buds rules)\n",
      "- Stage of primordia inflorescence (ht) is between B to H (line code to identify error writting for this rules see Inflorescence_primordia rules)"
     ]
    },
    {
     "cell_type": "code",
     "collapsed": false,
     "input": [
      "\"Terminal_buds rules\"\n",
      "\"-------------------\"\n",
      "print set(Stage.get(v) for v in Terminal_buds)\n",
      "l = [v for v in Terminal_buds if Stage.get(v) in ('B', 'C')]\n",
      "print [g.node(v)._line for v in l]"
     ],
     "language": "python",
     "metadata": {},
     "outputs": [
      {
       "output_type": "stream",
       "stream": "stdout",
       "text": [
        "set(['A', None, 'sech\\xc3\\xa9', '17', '19', 'pourri', 'avort\\xc3\\xa9'])\n",
        "[]\n"
       ]
      }
     ],
     "prompt_number": 12
    },
    {
     "cell_type": "code",
     "collapsed": false,
     "input": [
      "\"Inflorescence_primordia rules\"\n",
      "\"------------------------\"\n",
      "print set(Stage.get(v) for v in Inflorescence_primordia)\n",
      "l=[v for v in Inflorescence_primordia if Stage.get(v) in ('17', '19', 'A', 'I')]\n",
      "print [g.node(v)._line for v in l]"
     ],
     "language": "python",
     "metadata": {},
     "outputs": [
      {
       "output_type": "stream",
       "stream": "stdout",
       "text": [
        "set(['A', 'C', 'B', 'E', 'D', 'G', 'F', 'H', 'avort\\xc3\\xa9', '65'])\n",
        "[1173]\n"
       ]
      }
     ],
     "prompt_number": 13
    },
    {
     "cell_type": "heading",
     "level": 4,
     "metadata": {},
     "source": [
      "......2.4.2 Specific to topologie"
     ]
    },
    {
     "cell_type": "code",
     "collapsed": false,
     "input": [
      "\"Inflorescence\"\n",
      "\"--------------\"\n",
      "print set(g.node(v).parent().label for v in Inflorescence)\n",
      "[g.node(v)._line for v in Inflorescence if g.node(v).Stade == 'I' and g.node(v).parent().label == 'f']"
     ],
     "language": "python",
     "metadata": {},
     "outputs": [
      {
       "output_type": "stream",
       "stream": "stdout",
       "text": [
        "set(['f', 'F'])\n"
       ]
      },
      {
       "metadata": {},
       "output_type": "pyout",
       "prompt_number": 14,
       "text": [
        "[1716, 2859, 3878, 4107, 4475, 4624, 4674, 5668]"
       ]
      }
     ],
     "prompt_number": 14
    },
    {
     "cell_type": "heading",
     "level": 1,
     "metadata": {},
     "source": [
      "3. MTG Analysis"
     ]
    },
    {
     "cell_type": "heading",
     "level": 2,
     "metadata": {},
     "source": [
      "3.1 Qu'est ce que je souhaite analyser?"
     ]
    },
    {
     "cell_type": "markdown",
     "metadata": {},
     "source": [
      "Par Date, Plante,par ordre, par axe et par g\u00e9notype\n",
      "- Nombre de feuilles totale\n",
      "- Nombre de feuilles totale sortie (F)\n",
      "- Nombre de feuilles qui vont sortir (f) \n",
      "- Nombre de de stolon (s)\n",
      "- Nombre de coeurs sortie (+A </F)\n",
      "- Nombre de coeurs a venir (+A </f)\n",
      "- Nombre de hampe sortie (HT)\n",
      "- Nombre de hampe qui vont sortir (ht)\n",
      "- Nombre de fleurs total, fleur ouverte, fleur avort\u00e9\n",
      "\n",
      "\n",
      "le stade de d\u00e9veloppement de chaque bt, ht ou HT ~ de leur positions sur  les diff\u00e9rents axes et plants\n"
     ]
    },
    {
     "cell_type": "heading",
     "level": 3,
     "metadata": {},
     "source": [
      "- Use MTG functions to extract info"
     ]
    },
    {
     "cell_type": "heading",
     "level": 3,
     "metadata": {},
     "source": [
      "- Create a dataframe (pandas)"
     ]
    },
    {
     "cell_type": "code",
     "collapsed": false,
     "input": [
      "from openalea.mtg import dataframe"
     ],
     "language": "python",
     "metadata": {},
     "outputs": [],
     "prompt_number": 15
    },
    {
     "cell_type": "heading",
     "level": 1,
     "metadata": {},
     "source": [
      "4. MTG Representation"
     ]
    },
    {
     "cell_type": "markdown",
     "metadata": {},
     "source": [
      "#Qu'est ce que je souhaite repr\u00e9senter? \n",
      "    Tous les plants partie visible par date\n",
      " Tronc, axe, Feuille, bt, HT en trait plein et les partie non visible en trait pointille\n",
      " faire que les Ht soit plus au moins important en fonction de leur poid en fleurs total\n",
      " que les stade soit repr\u00e9senter par diff\u00e9rentes couleurs\n",
      " \n",
      "    De meme (par date) mais par g\u00e9notype"
     ]
    },
    {
     "cell_type": "code",
     "collapsed": false,
     "input": [
      "%gui qt\n",
      "from openalea.mtg.algo import orders\n",
      "from openalea.plantgl import all as pgl\n",
      "\n",
      "g.properties()['order'] = orders(g)\n",
      "\n",
      "# Phyllotaxie\n",
      "roll_angle = 360.*2./5."
     ],
     "language": "python",
     "metadata": {},
     "outputs": [],
     "prompt_number": 5
    },
    {
     "cell_type": "code",
     "collapsed": false,
     "input": [
      "cleaf = (0,125,0)\n",
      "cfleaf = (255, 0, 255) \n",
      "cstolon= (0,20,0)\n",
      "\n",
      "\n",
      "\n",
      "def color_code(g):\n",
      "    labels = g.property('label')\n",
      "    for v in g.vertices(scale=g.max_scale()):\n",
      "        nid = g.node(v)\n",
      "        if nid.label == 'F':\n",
      "            nid.color=cleaf\n",
      "            if nid.order == 1:\n",
      "                nid.color=(255,0,0)\n",
      "            elif nid.order == 2:\n",
      "                nid.color=(0,0,255)\n",
      "            elif nid.order == 3:\n",
      "                nid.color=(255,255,0)                \n",
      "            elif nid.order == 4:\n",
      "                nid.color=(255,0,255)\n",
      "            elif nid.order == 5:\n",
      "                nid.color=(0,255,255)\n",
      "            elif nid.order == 6:\n",
      "                nid.color=(255,255,255)\n",
      "            elif nid.order >6:\n",
      "                nid.color=(0, 0, 0)\n",
      "        elif nid.label =='f':\n",
      "            nid.color = cfleaf\n",
      "        elif nid.label == 's':\n",
      "            nid.color = cstolon\n",
      "        elif nid.label == 'bt':\n",
      "            stade = nid.Stade\n",
      "            if stade is None: \n",
      "                nid.color = (155, 155, 155)\n",
      "            elif stade in ('17', '18', '19'):\n",
      "                nid.color=(0, 255,0)\n",
      "            elif stade == 'A':\n",
      "                nid.color = (255,0,0)\n",
      "            elif stade in 'BCDEFGH':\n",
      "                d = dict(zip('BCDEFGH', range(1, len('BCDEFGH')+1)))\n",
      "                i = d[stade]\n",
      "                nid.color = (255, 127+127/7*(i-1),0)\n",
      "            else:\n",
      "                nid.color = (153, 102, 51)\n",
      "        elif nid.label == 'ht':\n",
      "            stade = nid.Stade\n",
      "            \n",
      "            if stade is None: \n",
      "                nid.color = (155, 155, 155)\n",
      "            elif stade in ('17', '18', '19'):\n",
      "                nid.color= (0, 255,0)\n",
      "            elif stade == 'A':\n",
      "                nid.color = (255,0,0)\n",
      "            elif stade in 'BCDEFGH':\n",
      "                d = dict(zip('BCDEFGH', range(1, len('BCDEFGH')+1)))\n",
      "                i = d[stade]\n",
      "                nid.color = (255, 127+127/7*(i-1),0)\n",
      "            else:\n",
      "                nid.color = (153, 102, 51)\n",
      "        elif nid.label == 'HT':\n",
      "            stade = nid.Stade\n",
      "            if stade is None: \n",
      "                nid.color = (155, 155, 155)\n",
      "            elif stade in ('17', '18', '19'):\n",
      "                nid.color=(0,0,255)\n",
      "            elif stade == 'I':\n",
      "                nid.color = (255,0,0)\n",
      "            else:\n",
      "                stades = map(str, range(55,88))\n",
      "                if stade in stades:\n",
      "                    d = dict(zip(stades, range(len(stades))))\n",
      "                    i = d[stade]\n",
      "                    nid.color = (0, 127+127/(len(stades)-1)*(i),255)\n",
      "                else:\n",
      "                    nid.color = (153, 102, 51)\n",
      "                \n",
      "            \n",
      "            \n",
      "        \n",
      "        "
     ],
     "language": "python",
     "metadata": {},
     "outputs": [],
     "prompt_number": 6
    },
    {
     "cell_type": "code",
     "collapsed": false,
     "input": [
      "# Geometric functions that draws organs\n",
      "# {'F', 'HT', 'bt', 'f', 'ht', 's'}\n",
      "VISIBLE = True\n",
      "WITHOUT_LEAF = False\n",
      "position = (0,0,0)\n",
      "def stolon_curve(scale=1.):\n",
      "    v2 = pgl.Vector3\n",
      "    ctrls = pgl.Point3Array([v2(x*scale, y*scale) for x,y in [(0,0), (1,3), (3,5), (4,2), (5,4)]])\n",
      "    crv = pgl.BezierCurve2D(ctrls)\n",
      "    return crv\n",
      "\n",
      "stolon = stolon_curve(scale=.25)\n",
      "\n",
      "from math import radians\n",
      "\n",
      "def leaflet(length=1., width=1.):\n",
      "    disc = pgl.Translated((-0.5,0,0), pgl.Disc())\n",
      "    disc = pgl.Scaled((length, width,1), disc)\n",
      "    disc = pgl.AxisRotated(axis=(0,1,0), angle=radians(90.), geometry=disc)\n",
      "    \n",
      "    d1 = pgl.AxisRotated(axis=(1,0,0), angle=-radians(60.), geometry=disc)\n",
      "    d2 = pgl.AxisRotated(axis=(1,0,0), angle=-radians(-60.), geometry=disc)\n",
      "    d3 = pgl.AxisRotated(axis=(1,0,0), angle=0., geometry=disc)\n",
      "    \n",
      "    shape = pgl.Group([d1, d2, d3])\n",
      "    return shape\n",
      "\n",
      "\n",
      "def Phytomer(g, vid, turtle):\n",
      "    \"\"\" F: Petiol + 3 lobes. \n",
      "    cylinder + 3 ellipse/surface\n",
      "    \"\"\"\n",
      "    t = turtle\n",
      "    nid = g.node(vid)\n",
      "    order = nid.order\n",
      "    t.setColor(2+order)\n",
      "    t.setWidth(0.01)\n",
      "    \n",
      "    len_petiole = 1.\n",
      "    len_internode = 0.1\n",
      "    leaflet_length = 0.7/2.\n",
      "    leaflet_wdth = 0.3/2.\n",
      "    \n",
      "    t.F(0.1)\n",
      "    #if order != 1:\n",
      "    #    return\n",
      "    t.push()\n",
      "    t.down(45.)\n",
      "    t.F(len_petiole)\n",
      "    if not WITHOUT_LEAF:\n",
      "        t.customGeometry(leaflet(leaflet_length, leaflet_wdth))\n",
      "    t.pop()\n",
      "\n",
      "def Inflorescence(g, vid, turtle):\n",
      "    \"\"\" HT: Inflorescence\n",
      "    Box (may change)\n",
      "    \"\"\"\n",
      "    t = turtle\n",
      "    nid = g.node(vid)\n",
      "    order = nid.order\n",
      "    #turtle.setColor(3)\n",
      "    nb_flower = nid.Fleurs_total\n",
      "    nb_flower_open = nid.Fleurs_ouverte\n",
      "    \n",
      "    t.setColor(2+order)\n",
      "    turtle.F(0.2)\n",
      "    if nb_flower is None:\n",
      "        nb_flower = 0.5\n",
      "    if nb_flower_open is None:\n",
      "        nb_flower_open = 0.1\n",
      "        \n",
      "    cube = pgl.Box(0.05*pgl.Vector3(1,1,nb_flower_open/4.))\n",
      "    tap = pgl.Tapered(3./20*nb_flower, 3./20*nb_flower_open, cube) \n",
      "    turtle.customGeometry(tap)\n",
      "\n",
      "def TerminalBud(g, vid, turtle):\n",
      "    \"\"\" bt: Terminal Bud. \"\"\"\n",
      "    t = turtle\n",
      "    #turtle.setColor(1)\n",
      "    nid = g.node(vid)\n",
      "    order = nid.order\n",
      "    t.setColor(2+order)\n",
      "    turtle.F(0.1)\n",
      "    sphere = pgl.Sphere(radius=0.02)\n",
      "    turtle.customGeometry(sphere)    \n",
      "\n",
      "\n",
      "def Phytomer_Primordia(g, vid, turtle):\n",
      "    \"\"\" F: Petiol + 3 lobes. \n",
      "    cylinder + 3 ellipse/surface\n",
      "    \"\"\"\n",
      "    scale = 1./5\n",
      "    t = turtle\n",
      "    nid = g.node(vid)\n",
      "    order = nid.order\n",
      "    t.setColor(6+order)\n",
      "    t.setWidth(0.01*scale)\n",
      "    # set color\n",
      "    \n",
      "    len_petiole = 1.\n",
      "    len_internode = 0.1\n",
      "    leaflet_length = 0.7/2.\n",
      "    leaflet_wdth = 0.3/2.\n",
      "    if VISIBLE:\n",
      "        t.F(0.1*scale)\n",
      "        t.push()\n",
      "        t.down(45.)\n",
      "        t.F(len_petiole*scale)\n",
      "        #t.customGeometry(leaflet(leaflet_length*scale, leaflet_wdth*scale))\n",
      "        t.pop()\n",
      "\n",
      "def Inflo_Primordia(g, vid, turtle):\n",
      "    \"\"\" bt \"\"\"\n",
      "    t = turtle\n",
      "    #turtle.setColor(1)\n",
      "    nid = g.node(vid)\n",
      "    order = nid.order\n",
      "    t.setColor(8+order)\n",
      "    turtle.F(0.1)\n",
      "    cube = pgl.Box(0.02*pgl.Vector3(1,1,1))\n",
      "    turtle.customGeometry(cube)    \n",
      "\n",
      "def Stolon(g, vid, turtle):\n",
      "    t = turtle\n",
      "    #t.setGuide(stolon, 1)\n",
      "    nid = g.node(vid)\n",
      "    order = nid.order\n",
      "    #turtle.setColor(3)\n",
      "    t.setColor(2+order)\n",
      "    turtle.customGeometry(stolon)\n",
      "\n",
      "geoms = dict(F=Phytomer, HT=Inflorescence, bt=TerminalBud, \n",
      "             f=Phytomer_Primordia, ht=Inflo_Primordia, s=Stolon)\n",
      "\n",
      "print geoms\n"
     ],
     "language": "python",
     "metadata": {},
     "outputs": [
      {
       "output_type": "stream",
       "stream": "stdout",
       "text": [
        "{'bt': <function TerminalBud at 0x0573B770>, 's': <function Stolon at 0x0573BC70>, 'ht': <function Inflo_Primordia at 0x0573BCB0>, 'F': <function Phytomer at 0x0509FDF0>, 'f': <function Phytomer_Primordia at 0x0573BC30>, 'HT': <function Inflorescence at 0x0509FFB0>}\n"
       ]
      }
     ],
     "prompt_number": 93
    },
    {
     "cell_type": "code",
     "collapsed": false,
     "input": [
      "count = 0\n",
      "color_code(g)\n",
      "\n",
      "\n",
      "def strawberry_visitor(g, v, turtle, time=0):\n",
      "    \"\"\" Function that draw geometry for a given vertex. \"\"\"\n",
      "    global count\n",
      "    count+=1\n",
      "    turtle.setWidth(0.01)\n",
      "    nid = g.node(v)\n",
      "\n",
      "    label = g.label(v)\n",
      "    #print label\n",
      "\n",
      "    if label in ('F', 'f'):\n",
      "        turtle.rollL(roll_angle)\n",
      "   \n",
      "    if g.edge_type(v) == '+':\n",
      "        turtle.down(30)\n",
      "\n",
      "    \n",
      "    turtle.setId(v)\n",
      "    \n",
      "    geoms.get(label)(g, v, turtle)\n",
      "\n",
      "    \n",
      "scene = turtle.traverse_with_turtle(g, 211, visitor=strawberry_visitor)\n",
      "pgl.Viewer.display(scene)\n",
      "print count"
     ],
     "language": "python",
     "metadata": {},
     "outputs": [
      {
       "output_type": "stream",
       "stream": "stdout",
       "text": [
        "41\n"
       ]
      }
     ],
     "prompt_number": 94
    },
    {
     "cell_type": "code",
     "collapsed": false,
     "input": [
      "def visualise_plants(g):\n",
      "    t = pgl.PglTurtle()\n",
      "    vids = g.component_roots_at_scale(g.root, g.max_scale())\n",
      "    n= len(vids)\n",
      "    x=-9\n",
      "    y = -12\n",
      "    dx = 2.\n",
      "    dy = 4.\n",
      "    scenes = pgl.Scene()\n",
      "    count = 0\n",
      "    for vid in vids:\n",
      "        position = (x+(count%9)*dx,y+(count/9)*dy,0)\n",
      "        t = pgl.PglTurtle()\n",
      "        #t.move(position)\n",
      "        scene = turtle.traverse_with_turtle(g, vid, visitor=strawberry_visitor, turtle=t)\n",
      "        \n",
      "        ds = scene.todict()\n",
      "        \n",
      "        for shid in ds:\n",
      "            for sh in ds[shid]:\n",
      "                sh.geometry = pgl.Translated(position, sh.geometry)\n",
      "                scenes.add(sh)\n",
      "        count += 1\n",
      "    return scenes"
     ],
     "language": "python",
     "metadata": {},
     "outputs": [],
     "prompt_number": 95
    },
    {
     "cell_type": "code",
     "collapsed": false,
     "input": [],
     "language": "python",
     "metadata": {},
     "outputs": [
      {
       "ename": "NameError",
       "evalue": "name 'vids' is not defined",
       "output_type": "pyerr",
       "traceback": [
        "\u001b[1;31m---------------------------------------------------------------------------\u001b[0m\n\u001b[1;31mNameError\u001b[0m                                 Traceback (most recent call last)",
        "\u001b[1;32m<ipython-input-24-30546f167705>\u001b[0m in \u001b[0;36m<module>\u001b[1;34m()\u001b[0m\n\u001b[1;32m----> 1\u001b[1;33m \u001b[0mvids\u001b[0m\u001b[1;33m(\u001b[0m\u001b[0mg\u001b[0m\u001b[1;33m)\u001b[0m\u001b[1;33m\u001b[0m\u001b[0m\n\u001b[0m",
        "\u001b[1;31mNameError\u001b[0m: name 'vids' is not defined"
       ]
      }
     ],
     "prompt_number": 24
    },
    {
     "cell_type": "code",
     "collapsed": false,
     "input": [
      "scene = visualise_plants(g)\n",
      "pgl.Viewer.display(scene)"
     ],
     "language": "python",
     "metadata": {},
     "outputs": [
      {
       "output_type": "stream",
       "stream": "stderr",
       "text": [
        "openalea.plantgl:76: Warning: <Box> Field 'Size' has a bad value : The three values of size must not be null\n",
        "openalea.plantgl:281: Warning: <Shape> Field 'Geometry' has a bad value : Must be valid.\n",
        "openalea.plantgl:418: Warning: <Scene> Field 'ShapeList' has a bad '878'th value : Must be a valid Shape.\n"
       ]
      }
     ],
     "prompt_number": 97
    },
    {
     "cell_type": "code",
     "collapsed": false,
     "input": [
      "g=MTG(files[0]) \n",
      "g.properties()['order'] = orders(g)\n",
      "color_code(g)\n",
      "scene = visualise_plants(g)\n",
      "pgl.Viewer.display(scene)"
     ],
     "language": "python",
     "metadata": {},
     "outputs": [
      {
       "output_type": "stream",
       "stream": "stdout",
       "text": [
        "replace all the date format by -\n"
       ]
      },
      {
       "output_type": "stream",
       "stream": "stderr",
       "text": [
        "openalea.plantgl:76: Warning: <Box> Field 'Size' has a bad value : The three values of size must not be null\n",
        "openalea.plantgl:281: Warning: <Shape> Field 'Geometry' has a bad value : Must be valid.\n",
        "openalea.plantgl:418: Warning: <Scene> Field 'ShapeList' has a bad '878'th value : Must be a valid Shape.\n"
       ]
      }
     ],
     "prompt_number": 98
    },
    {
     "cell_type": "code",
     "collapsed": false,
     "input": [
      "max_scale = g.max_scale()\n",
      "labels = g.property('label')\n",
      "{labels[v] for v in labels if g.scale(v) == max_scale}"
     ],
     "language": "python",
     "metadata": {},
     "outputs": [
      {
       "metadata": {},
       "output_type": "pyout",
       "prompt_number": 17,
       "text": [
        "{'F', 'HT', 'bt', 'f', 'ht', 's'}"
       ]
      }
     ],
     "prompt_number": 17
    },
    {
     "cell_type": "markdown",
     "metadata": {},
     "source": [
      "##Essai Marc"
     ]
    },
    {
     "cell_type": "markdown",
     "metadata": {},
     "source": [
      "###Fonctions"
     ]
    },
    {
     "cell_type": "code",
     "collapsed": false,
     "input": [
      "labels= set(g.label(v) for v in g if g.label(v)!='')\n",
      "print labels"
     ],
     "language": "python",
     "metadata": {},
     "outputs": [
      {
       "output_type": "stream",
       "stream": "stdout",
       "text": [
        "set(['A', 'f', 'F', 'ht', 'bt', 'P', 's', 'T', 'HT'])\n"
       ]
      }
     ],
     "prompt_number": 16
    },
    {
     "cell_type": "code",
     "collapsed": false,
     "input": [
      "from openalea.mtg import algo\n",
      "gs = algo.split(gg)"
     ],
     "language": "python",
     "metadata": {},
     "outputs": [
      {
       "ename": "NameError",
       "evalue": "name 'gg' is not defined",
       "output_type": "pyerr",
       "traceback": [
        "\u001b[0;31m---------------------------------------------------------------------------\u001b[0m\n\u001b[0;31mNameError\u001b[0m                                 Traceback (most recent call last)",
        "\u001b[0;32m<ipython-input-17-7cda10274c0f>\u001b[0m in \u001b[0;36m<module>\u001b[0;34m()\u001b[0m\n\u001b[1;32m      1\u001b[0m \u001b[0;32mfrom\u001b[0m \u001b[0mopenalea\u001b[0m\u001b[0;34m.\u001b[0m\u001b[0mmtg\u001b[0m \u001b[0;32mimport\u001b[0m \u001b[0malgo\u001b[0m\u001b[0;34m\u001b[0m\u001b[0m\n\u001b[0;32m----> 2\u001b[0;31m \u001b[0mgs\u001b[0m \u001b[0;34m=\u001b[0m \u001b[0malgo\u001b[0m\u001b[0;34m.\u001b[0m\u001b[0msplit\u001b[0m\u001b[0;34m(\u001b[0m\u001b[0mgg\u001b[0m\u001b[0;34m)\u001b[0m\u001b[0;34m\u001b[0m\u001b[0m\n\u001b[0m",
        "\u001b[0;31mNameError\u001b[0m: name 'gg' is not defined"
       ]
      }
     ],
     "prompt_number": 17
    },
    {
     "cell_type": "code",
     "collapsed": false,
     "input": [
      "gs = algo.split(g)"
     ],
     "language": "python",
     "metadata": {},
     "outputs": [],
     "prompt_number": 37
    },
    {
     "cell_type": "code",
     "collapsed": false,
     "input": [
      "gs\n",
      "len(gs)"
     ],
     "language": "python",
     "metadata": {},
     "outputs": [
      {
       "metadata": {},
       "output_type": "pyout",
       "prompt_number": 39,
       "text": [
        "54"
       ]
      }
     ],
     "prompt_number": 39
    },
    {
     "cell_type": "code",
     "collapsed": false,
     "input": [
      "gg= MTG()"
     ],
     "language": "python",
     "metadata": {},
     "outputs": [],
     "prompt_number": 40
    },
    {
     "cell_type": "code",
     "collapsed": false,
     "input": [
      "gs = algo.split(gg)"
     ],
     "language": "python",
     "metadata": {},
     "outputs": [],
     "prompt_number": 42
    },
    {
     "cell_type": "code",
     "collapsed": false,
     "input": [
      "#g.display(g)"
     ],
     "language": "python",
     "metadata": {},
     "outputs": [],
     "prompt_number": 14
    },
    {
     "cell_type": "code",
     "collapsed": false,
     "input": [
      "2/5.*360"
     ],
     "language": "python",
     "metadata": {},
     "outputs": [
      {
       "metadata": {},
       "output_type": "pyout",
       "prompt_number": 28,
       "text": [
        "144.0"
       ]
      }
     ],
     "prompt_number": 28
    },
    {
     "cell_type": "code",
     "collapsed": false,
     "input": [
      "square=pgl.Polyline2D([(-0.5,-0.5), (-0.5, 0.5), (0.5, 0.5), (0.5, -0.5), (-0.5,-0.5)])\n",
      "axis = pgl.Polyline2D([(0,0), (1,3), (3,5), (4,2), (5,4)])\n",
      "stolon_obj = pgl.Extrusion(axis, square)"
     ],
     "language": "python",
     "metadata": {},
     "outputs": [
      {
       "ename": "ArgumentError",
       "evalue": "Python argument types in\n    Extrusion.__init__(Extrusion, Polyline2D, Polyline2D)\ndid not match C++ signature:\n    __init__(_object*, TOOLS::RefCountPtr<PGL::LineicModel> axis, TOOLS::RefCountPtr<PGL::Curve2D> crossSection)\n    __init__(_object*, TOOLS::RefCountPtr<PGL::LineicModel> axis, TOOLS::RefCountPtr<PGL::Curve2D> crossSection, TOOLS::RefCountPtr<PGL::Point2Array> scaleList=None)\n    __init__(_object*, TOOLS::RefCountPtr<PGL::LineicModel> axis, TOOLS::RefCountPtr<PGL::Curve2D> crossSection, TOOLS::RefCountPtr<PGL::Point2Array> scaleList=None, TOOLS::RefCountPtr<TOOLS::RealArray> orientationList=None)\n    __init__(_object*, TOOLS::RefCountPtr<PGL::LineicModel> axis, TOOLS::RefCountPtr<PGL::Curve2D> crossSection, TOOLS::RefCountPtr<PGL::Point2Array> scaleList=None, TOOLS::RefCountPtr<TOOLS::RealArray> orientationList=None, TOOLS::RefCountPtr<TOOLS::RealArray> knotList=None)\n    __init__(_object*, TOOLS::RefCountPtr<PGL::LineicModel> axis, TOOLS::RefCountPtr<PGL::Curve2D> crossSection, TOOLS::RefCountPtr<PGL::Point2Array> scaleList=None, TOOLS::RefCountPtr<TOOLS::RealArray> orientationList=None, TOOLS::RefCountPtr<TOOLS::RealArray> knotList=None, bool solid=False)\n    __init__(_object*, TOOLS::RefCountPtr<PGL::LineicModel> axis, TOOLS::RefCountPtr<PGL::Curve2D> crossSection, TOOLS::RefCountPtr<PGL::Point2Array> scaleList=None, TOOLS::RefCountPtr<TOOLS::RealArray> orientationList=None, TOOLS::RefCountPtr<TOOLS::RealArray> knotList=None, bool solid=False, bool ccw=True)\n    __init__(_object*, TOOLS::RefCountPtr<PGL::LineicModel> axis, TOOLS::RefCountPtr<PGL::Curve2D> crossSection, TOOLS::RefCountPtr<PGL::Point2Array> scaleList=None, TOOLS::RefCountPtr<TOOLS::RealArray> orientationList=None, TOOLS::RefCountPtr<TOOLS::RealArray> knotList=None, bool solid=False, bool ccw=True, TOOLS::Vector3 initialNormal=Vector3(0,0,0))",
       "output_type": "pyerr",
       "traceback": [
        "\u001b[0;31m---------------------------------------------------------------------------\u001b[0m\n\u001b[0;31mArgumentError\u001b[0m                             Traceback (most recent call last)",
        "\u001b[0;32m<ipython-input-31-799c34a26170>\u001b[0m in \u001b[0;36m<module>\u001b[0;34m()\u001b[0m\n\u001b[1;32m      1\u001b[0m \u001b[0msquare\u001b[0m\u001b[0;34m=\u001b[0m\u001b[0mpgl\u001b[0m\u001b[0;34m.\u001b[0m\u001b[0mPolyline2D\u001b[0m\u001b[0;34m(\u001b[0m\u001b[0;34m[\u001b[0m\u001b[0;34m(\u001b[0m\u001b[0;34m-\u001b[0m\u001b[0;36m0.5\u001b[0m\u001b[0;34m,\u001b[0m\u001b[0;34m-\u001b[0m\u001b[0;36m0.5\u001b[0m\u001b[0;34m)\u001b[0m\u001b[0;34m,\u001b[0m \u001b[0;34m(\u001b[0m\u001b[0;34m-\u001b[0m\u001b[0;36m0.5\u001b[0m\u001b[0;34m,\u001b[0m \u001b[0;36m0.5\u001b[0m\u001b[0;34m)\u001b[0m\u001b[0;34m,\u001b[0m \u001b[0;34m(\u001b[0m\u001b[0;36m0.5\u001b[0m\u001b[0;34m,\u001b[0m \u001b[0;36m0.5\u001b[0m\u001b[0;34m)\u001b[0m\u001b[0;34m,\u001b[0m \u001b[0;34m(\u001b[0m\u001b[0;36m0.5\u001b[0m\u001b[0;34m,\u001b[0m \u001b[0;34m-\u001b[0m\u001b[0;36m0.5\u001b[0m\u001b[0;34m)\u001b[0m\u001b[0;34m,\u001b[0m \u001b[0;34m(\u001b[0m\u001b[0;34m-\u001b[0m\u001b[0;36m0.5\u001b[0m\u001b[0;34m,\u001b[0m\u001b[0;34m-\u001b[0m\u001b[0;36m0.5\u001b[0m\u001b[0;34m)\u001b[0m\u001b[0;34m]\u001b[0m\u001b[0;34m)\u001b[0m\u001b[0;34m\u001b[0m\u001b[0m\n\u001b[1;32m      2\u001b[0m \u001b[0maxis\u001b[0m \u001b[0;34m=\u001b[0m \u001b[0mpgl\u001b[0m\u001b[0;34m.\u001b[0m\u001b[0mPolyline2D\u001b[0m\u001b[0;34m(\u001b[0m\u001b[0;34m[\u001b[0m\u001b[0;34m(\u001b[0m\u001b[0;36m0\u001b[0m\u001b[0;34m,\u001b[0m\u001b[0;36m0\u001b[0m\u001b[0;34m)\u001b[0m\u001b[0;34m,\u001b[0m \u001b[0;34m(\u001b[0m\u001b[0;36m1\u001b[0m\u001b[0;34m,\u001b[0m\u001b[0;36m3\u001b[0m\u001b[0;34m)\u001b[0m\u001b[0;34m,\u001b[0m \u001b[0;34m(\u001b[0m\u001b[0;36m3\u001b[0m\u001b[0;34m,\u001b[0m\u001b[0;36m5\u001b[0m\u001b[0;34m)\u001b[0m\u001b[0;34m,\u001b[0m \u001b[0;34m(\u001b[0m\u001b[0;36m4\u001b[0m\u001b[0;34m,\u001b[0m\u001b[0;36m2\u001b[0m\u001b[0;34m)\u001b[0m\u001b[0;34m,\u001b[0m \u001b[0;34m(\u001b[0m\u001b[0;36m5\u001b[0m\u001b[0;34m,\u001b[0m\u001b[0;36m4\u001b[0m\u001b[0;34m)\u001b[0m\u001b[0;34m]\u001b[0m\u001b[0;34m)\u001b[0m\u001b[0;34m\u001b[0m\u001b[0m\n\u001b[0;32m----> 3\u001b[0;31m \u001b[0mstolon_obj\u001b[0m \u001b[0;34m=\u001b[0m \u001b[0mpgl\u001b[0m\u001b[0;34m.\u001b[0m\u001b[0mExtrusion\u001b[0m\u001b[0;34m(\u001b[0m\u001b[0maxis\u001b[0m\u001b[0;34m,\u001b[0m \u001b[0msquare\u001b[0m\u001b[0;34m)\u001b[0m\u001b[0;34m\u001b[0m\u001b[0m\n\u001b[0m",
        "\u001b[0;31mArgumentError\u001b[0m: Python argument types in\n    Extrusion.__init__(Extrusion, Polyline2D, Polyline2D)\ndid not match C++ signature:\n    __init__(_object*, TOOLS::RefCountPtr<PGL::LineicModel> axis, TOOLS::RefCountPtr<PGL::Curve2D> crossSection)\n    __init__(_object*, TOOLS::RefCountPtr<PGL::LineicModel> axis, TOOLS::RefCountPtr<PGL::Curve2D> crossSection, TOOLS::RefCountPtr<PGL::Point2Array> scaleList=None)\n    __init__(_object*, TOOLS::RefCountPtr<PGL::LineicModel> axis, TOOLS::RefCountPtr<PGL::Curve2D> crossSection, TOOLS::RefCountPtr<PGL::Point2Array> scaleList=None, TOOLS::RefCountPtr<TOOLS::RealArray> orientationList=None)\n    __init__(_object*, TOOLS::RefCountPtr<PGL::LineicModel> axis, TOOLS::RefCountPtr<PGL::Curve2D> crossSection, TOOLS::RefCountPtr<PGL::Point2Array> scaleList=None, TOOLS::RefCountPtr<TOOLS::RealArray> orientationList=None, TOOLS::RefCountPtr<TOOLS::RealArray> knotList=None)\n    __init__(_object*, TOOLS::RefCountPtr<PGL::LineicModel> axis, TOOLS::RefCountPtr<PGL::Curve2D> crossSection, TOOLS::RefCountPtr<PGL::Point2Array> scaleList=None, TOOLS::RefCountPtr<TOOLS::RealArray> orientationList=None, TOOLS::RefCountPtr<TOOLS::RealArray> knotList=None, bool solid=False)\n    __init__(_object*, TOOLS::RefCountPtr<PGL::LineicModel> axis, TOOLS::RefCountPtr<PGL::Curve2D> crossSection, TOOLS::RefCountPtr<PGL::Point2Array> scaleList=None, TOOLS::RefCountPtr<TOOLS::RealArray> orientationList=None, TOOLS::RefCountPtr<TOOLS::RealArray> knotList=None, bool solid=False, bool ccw=True)\n    __init__(_object*, TOOLS::RefCountPtr<PGL::LineicModel> axis, TOOLS::RefCountPtr<PGL::Curve2D> crossSection, TOOLS::RefCountPtr<PGL::Point2Array> scaleList=None, TOOLS::RefCountPtr<TOOLS::RealArray> orientationList=None, TOOLS::RefCountPtr<TOOLS::RealArray> knotList=None, bool solid=False, bool ccw=True, TOOLS::Vector3 initialNormal=Vector3(0,0,0))"
       ]
      }
     ],
     "prompt_number": 31
    },
    {
     "cell_type": "code",
     "collapsed": false,
     "input": [
      "stolon_obj = turtle.Extrusion"
     ],
     "language": "python",
     "metadata": {},
     "outputs": []
    },
    {
     "cell_type": "code",
     "collapsed": false,
     "input": [
      "pgl.Viewer.display(stolon)"
     ],
     "language": "python",
     "metadata": {},
     "outputs": [],
     "prompt_number": 25
    },
    {
     "cell_type": "code",
     "collapsed": false,
     "input": [
      "t = pgl.PglTurtle()\n",
      "t.oLineTo?"
     ],
     "language": "python",
     "metadata": {},
     "outputs": [],
     "prompt_number": 52
    },
    {
     "cell_type": "code",
     "collapsed": false,
     "input": [
      "crv = stolon_curve()\n",
      "isinstance(crv, pgl.LineicModel)"
     ],
     "language": "python",
     "metadata": {},
     "outputs": [
      {
       "metadata": {},
       "output_type": "pyout",
       "prompt_number": 37,
       "text": [
        "False"
       ]
      }
     ],
     "prompt_number": 37
    },
    {
     "cell_type": "code",
     "collapsed": false,
     "input": [
      "ctrls = pgl.Point3Array([v2(x*0.1, y*0.1) for x,y in [(0,0), (1,3), (3,5), (4,2), (5,4)]])\n",
      "ctrls"
     ],
     "language": "python",
     "metadata": {},
     "outputs": [
      {
       "metadata": {},
       "output_type": "pyout",
       "prompt_number": 57,
       "text": [
        "Point3Array([Vector3(0,0,0),Vector3(0.1,0.3,0),Vector3(0.3,0.5,0),Vector3(0.4,0.2,0),Vector3(0.5,0.4,0)])"
       ]
      }
     ],
     "prompt_number": 57
    },
    {
     "cell_type": "code",
     "collapsed": false,
     "input": [
      "pgl.Viewer.start()"
     ],
     "language": "python",
     "metadata": {},
     "outputs": [],
     "prompt_number": 21
    },
    {
     "cell_type": "code",
     "collapsed": false,
     "input": [
      "set(g.node(v).Stade for v in g if g.label(v) =='HT')"
     ],
     "language": "python",
     "metadata": {},
     "outputs": [
      {
       "metadata": {},
       "output_type": "pyout",
       "prompt_number": 44,
       "text": [
        "{'55',\n",
        " '57',\n",
        " '58',\n",
        " '60',\n",
        " '63',\n",
        " '65',\n",
        " '67',\n",
        " '71',\n",
        " '73',\n",
        " '77',\n",
        " '81',\n",
        " '81 demicoup\\xc3\\xa9',\n",
        " '82',\n",
        " '83',\n",
        " '87',\n",
        " '87 morte',\n",
        " 'Coup\\xc3\\xa9',\n",
        " 'H',\n",
        " 'I',\n",
        " 'avort\\xc3\\xa9',\n",
        " 'coup\\xc3\\xa9',\n",
        " 'coup\\xc3\\xa9 \\xc3\\xa0 moiti\\xc3\\xa9'}"
       ]
      }
     ],
     "prompt_number": 44
    },
    {
     "cell_type": "code",
     "collapsed": false,
     "input": [
      "dict(zip('BCDEFGHI', range(1, len('BCDEFGHI')+1)))"
     ],
     "language": "python",
     "metadata": {},
     "outputs": [
      {
       "metadata": {},
       "output_type": "pyout",
       "prompt_number": 27,
       "text": [
        "{'B': 1, 'C': 2, 'D': 3, 'E': 4, 'F': 5, 'G': 6, 'H': 7, 'I': 8}"
       ]
      }
     ],
     "prompt_number": 27
    }
   ],
   "metadata": {}
  }
 ]
}