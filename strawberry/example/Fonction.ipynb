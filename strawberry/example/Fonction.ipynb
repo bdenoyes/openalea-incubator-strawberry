{
 "metadata": {
  "anaconda-cloud": {},
  "kernelspec": {
   "display_name": "Python [default]",
   "language": "python",
   "name": "python2"
  },
  "language_info": {
   "codemirror_mode": {
    "name": "ipython",
    "version": 2
   },
   "file_extension": ".py",
   "mimetype": "text/x-python",
   "name": "python",
   "nbconvert_exporter": "python",
   "pygments_lexer": "ipython2",
   "version": "2.7.12"
  },
  "name": "",
  "signature": "sha256:96607601c6b8e0d5a14294a28638988b6065917aeb876cab038d027d96818ee7"
 },
 "nbformat": 3,
 "nbformat_minor": 0,
 "worksheets": [
  {
   "cells": [
    {
     "cell_type": "code",
     "collapsed": false,
     "input": [
      "\"\"\"Module import\"\"\"\n",
      "\n",
      "\"\"\"Import module of openalea packages\"\"\"\n",
      "from openalea.core import path\n",
      "from openalea.mtg import *\n",
      "from openalea.mtg.algo import orders\n",
      "from openalea.deploy.shared_data import shared_data\n",
      "import openalea.plantgl.all as pgl\n",
      "\n",
      "\"\"\" Import module of strawberry packages\"\"\"\n",
      "import strawberry\n",
      "from strawberry import Rules_production\n",
      "from strawberry import Visualization\n",
      "reload(Rules_production)"
     ],
     "language": "python",
     "metadata": {},
     "outputs": [
      {
       "metadata": {},
       "output_type": "pyout",
       "prompt_number": 6,
       "text": [
        "<module 'strawberry.Rules_production' from '/Users/pradal/devlp/alinea/strawberry/src/strawberry/Rules_production.py'>"
       ]
      }
     ],
     "prompt_number": 6
    },
    {
     "cell_type": "code",
     "collapsed": false,
     "input": [
      "% gui qt\n",
      "files = shared_data(strawberry).glob('*.mtg')\n",
      "files"
     ],
     "language": "python",
     "metadata": {},
     "outputs": [
      {
       "metadata": {},
       "output_type": "pyout",
       "prompt_number": 2,
       "text": [
        "[path(u'/Users/pradal/devlp/alinea/strawberry/share/data/Capriss.mtg'),\n",
        " path(u'/Users/pradal/devlp/alinea/strawberry/share/data/Ciflorette.mtg'),\n",
        " path(u'/Users/pradal/devlp/alinea/strawberry/share/data/Cir107.mtg'),\n",
        " path(u'/Users/pradal/devlp/alinea/strawberry/share/data/Clery.mtg'),\n",
        " path(u'/Users/pradal/devlp/alinea/strawberry/share/data/Darselect.mtg'),\n",
        " path(u'/Users/pradal/devlp/alinea/strawberry/share/data/Gariguette.mtg')]"
       ]
      }
     ],
     "prompt_number": 2
    },
    {
     "cell_type": "code",
     "collapsed": false,
     "input": [
      "#visualisation by Genotype and date\n",
      "g=MTG(files[5]) \n",
      "g.properties()['order'] = orders(g)\n",
      "Rules_production.color_code(g)\n",
      "scene = Visualization.visualise_plants(g)\n",
      "pgl.Viewer.display(scene)"
     ],
     "language": "python",
     "metadata": {},
     "outputs": [
      {
       "output_type": "stream",
       "stream": "stderr",
       "text": [
        "/Users/pradal/devlp/alinea/strawberry/src/strawberry/Rules_production.py:65: Warning: Invalid Color value 7 in setColor (maximum is 6)\n",
        "  t.setColor(6+order)\n",
        "/Users/pradal/devlp/alinea/strawberry/src/strawberry/Rules_production.py:113: Warning: Invalid Color value 9 in setColor (maximum is 6)\n",
        "  t.setColor(8+order)\n",
        "/Users/pradal/devlp/alinea/strawberry/src/strawberry/Rules_production.py:113: Warning: Invalid Color value 8 in setColor (maximum is 6)\n",
        "  t.setColor(8+order)\n",
        "/Users/pradal/devlp/alinea/strawberry/src/strawberry/Rules_production.py:65: Warning: Invalid Color value 8 in setColor (maximum is 6)\n",
        "  t.setColor(6+order)\n",
        "/Users/pradal/devlp/alinea/strawberry/src/strawberry/Rules_production.py:113: Warning: Invalid Color value 10 in setColor (maximum is 6)\n",
        "  t.setColor(8+order)\n"
       ]
      },
      {
       "output_type": "stream",
       "stream": "stderr",
       "text": [
        "/Users/pradal/devlp/alinea/strawberry/src/strawberry/Rules_production.py:65: Warning: Invalid Color value 9 in setColor (maximum is 6)\n",
        "  t.setColor(6+order)\n",
        "/Users/pradal/devlp/alinea/strawberry/src/strawberry/Rules_production.py:113: Warning: Invalid Color value 11 in setColor (maximum is 6)\n",
        "  t.setColor(8+order)\n"
       ]
      },
      {
       "output_type": "stream",
       "stream": "stderr",
       "text": [
        "/Users/pradal/devlp/alinea/strawberry/src/strawberry/Rules_production.py:65: Warning: Invalid Color value 10 in setColor (maximum is 6)\n",
        "  t.setColor(6+order)\n",
        "/Users/pradal/devlp/alinea/strawberry/src/strawberry/Rules_production.py:128: Warning: Invalid Color value 7 in setColor (maximum is 6)\n",
        "  t.setColor(2+order)\n"
       ]
      },
      {
       "output_type": "stream",
       "stream": "stderr",
       "text": [
        "/Users/pradal/devlp/alinea/strawberry/src/strawberry/Rules_production.py:113: Warning: Invalid Color value 12 in setColor (maximum is 6)\n",
        "  t.setColor(8+order)\n",
        "/Users/pradal/devlp/alinea/strawberry/src/strawberry/Rules_production.py:152: Warning: Invalid Color value 7 in setColor (maximum is 6)\n",
        "  t.setColor(2+order)\n"
       ]
      },
      {
       "output_type": "stream",
       "stream": "stderr",
       "text": [
        "/Users/pradal/devlp/alinea/strawberry/src/strawberry/Rules_production.py:65: Warning: Invalid Color value 11 in setColor (maximum is 6)\n",
        "  t.setColor(6+order)\n",
        "/Users/pradal/devlp/alinea/strawberry/src/strawberry/Rules_production.py:39: Warning: Invalid Color value 7 in setColor (maximum is 6)\n",
        "  t.setColor(2+order)\n"
       ]
      },
      {
       "output_type": "stream",
       "stream": "stdout",
       "text": [
        "replace all the date format by -\n"
       ]
      },
      {
       "output_type": "stream",
       "stream": "stderr",
       "text": [
        "/Users/pradal/devlp/alinea/strawberry/src/strawberry/Rules_production.py:152: Warning: Invalid Color value 8 in setColor (maximum is 6)\n",
        "  t.setColor(2+order)\n",
        "/Users/pradal/devlp/alinea/strawberry/src/strawberry/Rules_production.py:65: Warning: Invalid Color value 12 in setColor (maximum is 6)\n",
        "  t.setColor(6+order)\n",
        "/Users/pradal/devlp/alinea/strawberry/src/strawberry/Rules_production.py:152: Warning: Invalid Color value 9 in setColor (maximum is 6)\n",
        "  t.setColor(2+order)\n",
        "/Users/pradal/devlp/alinea/strawberry/src/strawberry/Rules_production.py:128: Warning: Invalid Color value 8 in setColor (maximum is 6)\n",
        "  t.setColor(2+order)\n",
        "/Users/pradal/devlp/alinea/strawberry/src/strawberry/Rules_production.py:95: Warning: Invalid Color value 7 in setColor (maximum is 6)\n",
        "  t.setColor(2+order)\n"
       ]
      }
     ],
     "prompt_number": 3
    },
    {
     "cell_type": "markdown",
     "metadata": {},
     "source": [
      "def visualization_strawberry_plant(Genotype,Date,Plante): Permet de visualiser un plant en l'appelant par son g\u00e9notype, son num\u00e9ros de plante et son age"
     ]
    },
    {
     "cell_type": "code",
     "collapsed": false,
     "input": [
      "big_mtg = MTG()\n",
      "for fn in files:\n",
      "    big_mtg = algo.union(big_mtg, MTG(fn))\n",
      "g = big_mtg\n",
      "genotypes = set(g.property(\"Genotype\").itervalues())\n",
      "print genotypes\n",
      "\n",
      "# Filter Genotype, Date, Plante\n",
      "#def visualization_strawberry_plant(Genotype,Date,Plante, g=g): \n",
      " #   \"\"\"ENG: Permet de visualiser un plant en l'appelant par son g\u00e9notype, son num\u00e9ros de plante et son age\"\"\"\n",
      "  #  genotypes = g.property(\"Genotype\")"
     ],
     "language": "python",
     "metadata": {},
     "outputs": [
      {
       "output_type": "stream",
       "stream": "stdout",
       "text": [
        "replace all the date format by -\n",
        "replace all the date format by -"
       ]
      },
      {
       "output_type": "stream",
       "stream": "stdout",
       "text": [
        "\n",
        "replace all the date format by -"
       ]
      },
      {
       "output_type": "stream",
       "stream": "stdout",
       "text": [
        "\n",
        "replace all the date format by -"
       ]
      },
      {
       "output_type": "stream",
       "stream": "stdout",
       "text": [
        "\n",
        "replace all the date format by -"
       ]
      },
      {
       "output_type": "stream",
       "stream": "stdout",
       "text": [
        "\n",
        "replace all the date format by -"
       ]
      },
      {
       "output_type": "stream",
       "stream": "stdout",
       "text": [
        "\n",
        "set(['Ciflorette', 'Darselect', 'Gariguette', 'Capriss', 'Clery', 'Cir107'])"
       ]
      },
      {
       "output_type": "stream",
       "stream": "stdout",
       "text": [
        "\n"
       ]
      }
     ],
     "prompt_number": 3
    },
    {
     "cell_type": "code",
     "collapsed": false,
     "input": [
      "\"\"\" Import dataframe\"\"\"\n",
      "from strawberry import analysis\n",
      "g.properties()['order'] = orders(g)\n",
      "#Rules_production.color_code(g)\n",
      "df = analysis.to_dataframe(g, g.vertices(scale=1))\n"
     ],
     "language": "python",
     "metadata": {},
     "outputs": [],
     "prompt_number": 4
    },
    {
     "cell_type": "code",
     "collapsed": false,
     "input": [
      "#Visualization of One Plante selected according to Genotype, Plante and date\n",
      "vid = int(df[df.Genotype=='Capriss'][df.Plante==4][df.date=='10-12-2014'].vid)\n",
      "scene=Visualization.visualise_plants(g, [vid], positions=[(0,0,0)])\n",
      "pgl.Viewer.display(scene)"
     ],
     "language": "python",
     "metadata": {},
     "outputs": [],
     "prompt_number": 7
    },
    {
     "cell_type": "code",
     "collapsed": false,
     "input": [
      "#Visualisation some plants selected according to Genotype and Plante or Genotype and date\n",
      "\n",
      "vids = list(df[df.Genotype=='Capriss'][df.Plante==4].vid.values)\n",
      "print vids\n",
      "#vids = list(df[df.Genotype=='Capriss'][df.date==\"10-12-2014\"].vid.values)\n",
      "\n",
      "n = len(vids)\n",
      "n_cols = 1 #selection of number of column for representation\n",
      "n_rows = n/n_cols+1\n",
      "\n",
      "dx =2 #Select start point on x axis on the grid\n",
      "dy = 4 #Select start point on y axis on the grid\n",
      "y0 = -n_rows*dx /2.\n",
      "x0 = -n_cols*dy/2.\n",
      "positions = [(x0+i*dx, y0+j*dy, 0) for i in range(n_cols) for j in range(n_rows)][:n]\n",
      "\n",
      "scene = Visualization.visualise_plants(g, vids, positions)\n",
      "pgl.Viewer.display(scene)"
     ],
     "language": "python",
     "metadata": {},
     "outputs": [
      {
       "output_type": "stream",
       "stream": "stdout",
       "text": [
        "[263, 1071, 2238, 3347, 4855, 6428]\n"
       ]
      },
      {
       "output_type": "stream",
       "stream": "stderr",
       "text": [
        "-c:3: UserWarning: Boolean Series key will be reindexed to match DataFrame index.\n"
       ]
      }
     ],
     "prompt_number": 29
    },
    {
     "cell_type": "code",
     "collapsed": false,
     "input": [
      "import pandas as pd\n",
      "sel=pd.read_csv('Z:\\G1\\Marc-Labadie\\Python\\strawberry\\share\\data\\plante.selected.csv', sep=';', skiprows=0, index_col=None)\n",
      "del sel['dist']\n",
      "sel.Genotype = sel.Genotype.str.strip() \n",
      "#sel = sel[sel.Genotype.str.strip()==('Capriss')]\n",
      "\n",
      "\n",
      "for l in sel.values:\n",
      "    #print l\n",
      "    geno, plante, date = l\n",
      "    vid = df[df.Genotype==geno][df.Plante==plante][df.date==date].vid.values\n",
      "    #print vid\n",
      " \n",
      "#vid=list(pd.merge(sel,df).vid)\n",
      "\n",
      "#print len(vid)\n",
      "#scene=Visualization.visualise_plants(g,vid,positions)\n",
      "#pgl.Viewer.display(scene)"
     ],
     "language": "python",
     "metadata": {},
     "outputs": [
      {
       "output_type": "stream",
       "stream": "stderr",
       "text": [
        "-c:11: UserWarning: Boolean Series key will be reindexed to match DataFrame index.\n"
       ]
      }
     ],
     "prompt_number": 8
    },
    {
     "cell_type": "code",
     "collapsed": false,
     "input": [
      "import pandas as pd\n",
      "sel=pd.read_csv('Z:\\G1\\Marc-Labadie\\Python\\strawberry\\share\\data\\plante.selected.csv', sep=';', skiprows=0, index_col=None)\n",
      "del sel['dist']\n",
      "sel.Genotype = sel.Genotype.str.strip() \n",
      "#sel = sel[sel.Genotype.str.strip()==('Capris')]\n",
      "sel_df = pd.merge(sel,df)\n",
      "sel_df =pd.DataFrame.sort(sel_df,columns= \"vid\",ascending=True)\n",
      "#print sel_df\n",
      "\n",
      "\"\"\"Selection of Vids\"\"\"\n",
      "vids= list(sel_df[sel_df.Genotype.isin([\"Cir107\",\"Gariguette\",'Clery'])].vid)\n",
      "print vids\n",
      "\"\"\" Define position\"\"\"\n",
      "n = len(vids)\n",
      "n_cols = 3 #selection of number of column for representation\n",
      "n_rows = n/n_cols\n",
      "\n",
      "dx =3 #Select start point on x axis on the grid\n",
      "dy = 4 #Select start point on y axis on the grid\n",
      "y0 = -n_rows*dx /2.\n",
      "x0 = -n_cols*dy/2.\n",
      "positions = [(x0+i*dx, y0+j*dy, 0) for i in range(n_cols) for j in range(n_rows)][:n]\n",
      "\n",
      "\"\"\"Visualization function\"\"\"\n",
      "scene=Visualization.visualise_plants(g,vids,positions)\n",
      "pgl.Viewer.display(scene)"
     ],
     "language": "python",
     "metadata": {},
     "outputs": [
      {
       "output_type": "stream",
       "stream": "stdout",
       "text": [
        "[14114, 15736, 16982, 17303, 19412, 20025, 21626, 22652, 22992, 24186, 25537, 26222, 31679, 32319, 33796, 34442, 35770, 36299]\n"
       ]
      }
     ],
     "prompt_number": 45
    },
    {
     "cell_type": "code",
     "collapsed": false,
     "input": [
      "print sel_df"
     ],
     "language": "python",
     "metadata": {},
     "outputs": [
      {
       "ename": "NameError",
       "evalue": "name 'sel_df' is not defined",
       "output_type": "pyerr",
       "traceback": [
        "\u001b[0;31m---------------------------------------------------------------------------\u001b[0m\n\u001b[0;31mNameError\u001b[0m                                 Traceback (most recent call last)",
        "\u001b[0;32m<ipython-input-7-64e325a87cd0>\u001b[0m in \u001b[0;36m<module>\u001b[0;34m()\u001b[0m\n\u001b[0;32m----> 1\u001b[0;31m \u001b[0;32mprint\u001b[0m \u001b[0msel_df\u001b[0m\u001b[0;34m\u001b[0m\u001b[0m\n\u001b[0m",
        "\u001b[0;31mNameError\u001b[0m: name 'sel_df' is not defined"
       ]
      }
     ],
     "prompt_number": 7
    },
    {
     "cell_type": "markdown",
     "metadata": {},
     "source": [
      "def visualisation_strawberry_genotype(Genotype,nb_date,nb_plante): Permet de visualiser l'ensemble des plants d'un g\u00e9notype classer par rapport \u00e0 son age"
     ]
    },
    {
     "cell_type": "markdown",
     "metadata": {},
     "source": [
      "def visualisation_central_Plante(Genotype, Plante,Date): Permet de repr\u00e9senter le plant centrale"
     ]
    },
    {
     "cell_type": "markdown",
     "metadata": {},
     "source": [
      "def visualisation_central_Genotype(Genotype, nb_Plante, nb_date): Permet de visualiser les plants centraux d'un g\u00e9notype "
     ]
    },
    {
     "cell_type": "markdown",
     "metadata": {},
     "source": [
      "def visualisation_comparaison_central_genotype(Genotype): Permet de comparer les plant centraux des diff\u00e9rents g\u00e9notype"
     ]
    },
    {
     "cell_type": "code",
     "collapsed": false,
     "input": [
      "n1=g.node(271)\n",
      "n3=g.node(273)"
     ],
     "language": "python",
     "metadata": {},
     "outputs": [],
     "prompt_number": 10
    },
    {
     "cell_type": "code",
     "collapsed": false,
     "input": [
      "g[264]\n"
     ],
     "language": "python",
     "metadata": {},
     "outputs": [
      {
       "metadata": {},
       "output_type": "pyout",
       "prompt_number": 17,
       "text": [
        "{'Longeur_petiole_cm': 15.63,\n",
        " '_line': 316,\n",
        " 'complex': 263,\n",
        " 'index': 264,\n",
        " 'label': 'T',\n",
        " 'order': 0,\n",
        " 'parent': None,\n",
        " 'scale': 2,\n",
        " 'vid': 264}"
       ]
      }
     ],
     "prompt_number": 17
    },
    {
     "cell_type": "code",
     "collapsed": false,
     "input": [
      "t = pgl.Turtle()"
     ],
     "language": "python",
     "metadata": {},
     "outputs": [],
     "prompt_number": 18
    },
    {
     "cell_type": "code",
     "collapsed": false,
     "input": [],
     "language": "python",
     "metadata": {},
     "outputs": [],
     "prompt_number": 21
    },
    {
     "cell_type": "code",
     "collapsed": false,
     "input": [
      "a=90.\n",
      "t = pgl.PglTurtle()\n",
      "t.push()\n",
      "\n",
      "# Phyto 265\n",
      "t.setColor(1)\n",
      "t.rollL(a)\n",
      "t.F()\n",
      "t.push()\n",
      "t.setColor(2)\n",
      "t.down(45.)\n",
      "t.F()\n",
      "t.pop()\n",
      "\n",
      "# +s\n",
      "\n",
      "t.push()\n",
      "t.down(30)\n",
      "t.setColor(2)\n",
      " # draw stolon\n",
      "t.pop()\n",
      "\n",
      "# < F\n",
      "t.rollL(a)\n",
      "t.F()\n",
      "t.push()\n",
      "t.setColor(2)\n",
      "t.down(45.)\n",
      "t.F()\n",
      "t.pop()\n",
      "\n",
      "# +s\n",
      "t.push()\n",
      "t.down(30)\n",
      " # draw stolon\n",
      "t.pop()\n",
      "\n",
      "# < F\n",
      "t.rollL(a)\n",
      "t.F()\n",
      "t.push()\n",
      "t.setColor(2)\n",
      "t.down(45.)\n",
      "t.F()\n",
      "t.pop()\n",
      "\n",
      "# +f\n",
      "t.push()\n",
      "t.setColor(3)\n",
      "t.rollL(a)\n",
      "t.down(30)\n",
      "t.F()\n",
      "t.pop()"
     ],
     "language": "python",
     "metadata": {},
     "outputs": [
      {
       "metadata": {},
       "output_type": "pyout",
       "prompt_number": 13,
       "text": [
        "<openalea.plantgl.algo._pglalgo.PglTurtle at 0x11cb73af8>"
       ]
      }
     ],
     "prompt_number": 13
    },
    {
     "cell_type": "code",
     "collapsed": false,
     "input": [
      "pgl.Viewer.display(t.getScene())"
     ],
     "language": "python",
     "metadata": {},
     "outputs": [],
     "prompt_number": 14
    },
    {
     "cell_type": "code",
     "collapsed": false,
     "input": [
      "g[273]"
     ],
     "language": "python",
     "metadata": {},
     "outputs": [
      {
       "metadata": {},
       "output_type": "pyout",
       "prompt_number": 31,
       "text": [
        "{'_line': 325,\n",
        " 'complex': 272,\n",
        " 'edge_type': '+',\n",
        " 'index': 273,\n",
        " 'label': 'f',\n",
        " 'order': 1,\n",
        " 'parent': 271,\n",
        " 'scale': 3,\n",
        " 'vid': 273}"
       ]
      }
     ],
     "prompt_number": 31
    },
    {
     "cell_type": "code",
     "collapsed": false,
     "input": [
      "Rules_production.VISIBLE"
     ],
     "language": "python",
     "metadata": {},
     "outputs": [
      {
       "metadata": {},
       "output_type": "pyout",
       "prompt_number": 32,
       "text": [
        "True"
       ]
      }
     ],
     "prompt_number": 32
    },
    {
     "cell_type": "code",
     "collapsed": false,
     "input": [
      "list(algo.traversal.pre_order2(g, 265))"
     ],
     "language": "python",
     "metadata": {},
     "outputs": [
      {
       "metadata": {},
       "output_type": "pyout",
       "prompt_number": 38,
       "text": [
        "[265,\n",
        " 267,\n",
        " 268,\n",
        " 270,\n",
        " 271,\n",
        " 273,\n",
        " 275,\n",
        " 276,\n",
        " 278,\n",
        " 279,\n",
        " 281,\n",
        " 282,\n",
        " 284,\n",
        " 285,\n",
        " 286,\n",
        " 288,\n",
        " 290,\n",
        " 291,\n",
        " 292,\n",
        " 294,\n",
        " 295,\n",
        " 296,\n",
        " 297,\n",
        " 299,\n",
        " 300,\n",
        " 301,\n",
        " 302,\n",
        " 303,\n",
        " 304,\n",
        " 306,\n",
        " 307,\n",
        " 308,\n",
        " 309,\n",
        " 310,\n",
        " 311,\n",
        " 313,\n",
        " 314,\n",
        " 315,\n",
        " 316,\n",
        " 317,\n",
        " 318,\n",
        " 320,\n",
        " 321,\n",
        " 322,\n",
        " 323,\n",
        " 324,\n",
        " 326,\n",
        " 327,\n",
        " 328,\n",
        " 329,\n",
        " 330,\n",
        " 331,\n",
        " 333,\n",
        " 335,\n",
        " 336,\n",
        " 337,\n",
        " 338,\n",
        " 339]"
       ]
      }
     ],
     "prompt_number": 38
    },
    {
     "cell_type": "code",
     "collapsed": false,
     "input": [],
     "language": "python",
     "metadata": {},
     "outputs": []
    }
   ],
   "metadata": {}
  }
 ]
}