{
 "cells": [
  {
   "cell_type": "code",
   "execution_count": null,
   "metadata": {},
   "outputs": [],
   "source": [
    "from collections import OrderedDict, defaultdict\n",
    "import pandas as pd\n",
    "\n",
    "from openalea.deploy.shared_data import shared_data\n",
    "from openalea.mtg import *\n",
    "from openalea.mtg.algo import orders\n",
    "from openalea.mtg import stat\n",
    "import openalea.plantgl.all as pgl\n",
    "from openalea.core import path\n",
    "from openalea.mtg import *\n",
    "from openalea.deploy.shared_data import shared_data\n",
    "import glob\n",
    "\n",
    "import openalea.strawberry\n",
    "from openalea.strawberry import Rules_production\n",
    "from openalea.strawberry import Visualization, visualisation2d\n",
    "from openalea.strawberry import analysis, variables"
   ]
  },
  {
   "cell_type": "code",
   "execution_count": null,
   "metadata": {},
   "outputs": [],
   "source": [
    "%gui qt4\n",
    "\n",
    "files = shared_data(openalea.strawberry).glob('*.mtg')\n",
    "# print files\n",
    "\n",
    "genotypes = dict((f.namebase, f) for f in files)\n",
    "#print(genotypes.keys())\n",
    "\n",
    "DIPLOIDS = ['Sicile','Nils']\n",
    "OCTOPLOIDS = ['Gariguette','Darselect','Clery','Capriss','Cir107','Ciflorette','friendlyfruit', 'friendlyfruit_varieties']\n",
    "\n",
    "diploids = dict((k,f) for k,f in genotypes.items() if k in DIPLOIDS)\n",
    "print(diploids)\n",
    "\n",
    "octoploids = dict((k,f) for k,f in genotypes.items() if k in OCTOPLOIDS)\n",
    "print(octoploids)"
   ]
  },
  {
   "cell_type": "code",
   "execution_count": null,
   "metadata": {},
   "outputs": [],
   "source": [
    "#OCTOPLOIDS = ['Gariguette_NEW','Darselect_New','Clery_New','Capriss_New''Cir107_NEW','Ciflorette_New']\n",
    "#DIPLOIDS = ['Sicile_New','Nils_New.mtg']\n",
    "\n",
    "di_genotype = 'Sicile'\n",
    "oct_genotype = 'friendlyfruit_varieties'\n",
    "\n",
    "gdi = MTG(diploids[di_genotype])\n",
    "print('Diploid  : ', str(gdi))\n",
    "\n",
    "goct = MTG(octoploids[oct_genotype])\n",
    "print('Octoploid  : ', str(goct))"
   ]
  },
  {
   "cell_type": "markdown",
   "metadata": {},
   "source": [
    "# Calcul of leaf area of the plant\n",
    "\n",
    "## Octoploid\n",
    "__In octoploid__: i use an alometry to calculate leaf area property(LFAR)\n",
    "\n",
    "    - Alometry: LFAR[v] = 1.89 + (2.145 * LFTLG_CENTRAL[v] * LFTLG_LEFT[v])"
   ]
  },
  {
   "cell_type": "code",
   "execution_count": null,
   "metadata": {},
   "outputs": [],
   "source": [
    "g= goct\n",
    "g.property_names()"
   ]
  },
  {
   "cell_type": "code",
   "execution_count": null,
   "metadata": {},
   "outputs": [],
   "source": [
    "LFTLG_CENTRAL= g.property(\"LFTLG_CENTRAL\")\n",
    "LFTLG_LEFT= g.property(\"LFTLG_LEFT\")\n",
    "LFAR= g.property(\"LFAR\")\n",
    "\n",
    "for v in LFTLG_CENTRAL:\n",
    "    LFAR[v] = round(1.89 + (2.145 * LFTLG_CENTRAL[v] * LFTLG_LEFT[v]),2)"
   ]
  },
  {
   "cell_type": "code",
   "execution_count": null,
   "metadata": {},
   "outputs": [],
   "source": [
    "print len(LFTLG_CENTRAL)\n",
    "print len(LFTLG_LEFT)\n",
    "print len(LFAR)"
   ]
  },
  {
   "cell_type": "code",
   "execution_count": null,
   "metadata": {},
   "outputs": [],
   "source": [
    "g.property(\"LFAR\")"
   ]
  },
  {
   "cell_type": "markdown",
   "metadata": {},
   "source": [
    "## Diploid\n"
   ]
  },
  {
   "cell_type": "code",
   "execution_count": null,
   "metadata": {},
   "outputs": [],
   "source": [
    "g= gdi\n",
    "g.property_names()"
   ]
  },
  {
   "cell_type": "code",
   "execution_count": null,
   "metadata": {},
   "outputs": [],
   "source": [
    "LFTAR_LEFT= g.property(\"LFTAR_LEFT\")\n",
    "LFTAR_CENTRAL= g.property(\"LFTAR_CENTRAL\")\n",
    "LFTAR_RIGHT= g.property(\"LFTAR_RIGHT\")\n",
    "LFTAR= g.property(\"LFTAR\")\n",
    "\n",
    "print len(LFTAR_LEFT)\n",
    "print len(LFTAR_CENTRAL)\n",
    "print len(LFTAR_RIGHT)\n",
    "print len(LFTAR)"
   ]
  },
  {
   "cell_type": "code",
   "execution_count": null,
   "metadata": {},
   "outputs": [],
   "source": [
    "for v in set(LFTAR_LEFT.keys() + LFTAR_CENTRAL.keys() + LFTAR_RIGHT.keys()):\n",
    "        LFTAR[v] = 0\n",
    "        if v in LFTAR_LEFT:\n",
    "            LFTAR[v] += LFTAR_LEFT[v]\n",
    "        if v in LFTAR_CENTRAL:\n",
    "            LFTAR[v] += LFTAR_CENTRAL[v]\n",
    "        if v in LFTAR_RIGHT:\n",
    "            LFTAR[v] += LFTAR_RIGHT[v]\n",
    "\n",
    "LFTAR"
   ]
  },
  {
   "cell_type": "code",
   "execution_count": null,
   "metadata": {},
   "outputs": [],
   "source": [
    "t= dict()\n",
    "for v in set(LFTAR_CENTRAL.keys()+LFTAR_LEFT.keys()+LFTAR_RIGHT.keys()):\n",
    "    \n",
    "    if v not in LFTAR_CENTRAL or LFTAR_LEFT or LFTAR_RIGHT:\n",
    "        LFTAR_CENTRAL[v]=0\n",
    "        LFTAR_LEFT[v]=0\n",
    "        LFTAR_RIGHT[v]=0\n",
    "    \n",
    "    t[v]= LFTAR_CENTRAL[v]+LFTAR_LEFT[v]+LFTAR_RIGHT[v]\n"
   ]
  },
  {
   "cell_type": "code",
   "execution_count": null,
   "metadata": {},
   "outputs": [],
   "source": []
  },
  {
   "cell_type": "code",
   "execution_count": null,
   "metadata": {},
   "outputs": [],
   "source": []
  }
 ],
 "metadata": {
  "kernelspec": {
   "display_name": "Python 2",
   "language": "python",
   "name": "python2"
  },
  "language_info": {
   "codemirror_mode": {
    "name": "ipython",
    "version": 2
   },
   "file_extension": ".py",
   "mimetype": "text/x-python",
   "name": "python",
   "nbconvert_exporter": "python",
   "pygments_lexer": "ipython2",
   "version": "2.7.15"
  }
 },
 "nbformat": 4,
 "nbformat_minor": 2
}
