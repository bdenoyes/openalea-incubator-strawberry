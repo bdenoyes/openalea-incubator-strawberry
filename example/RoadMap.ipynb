{
 "metadata": {
  "name": "",
  "signature": "sha256:acbd73331c0bfbe15b1a133484d8fbd8f9f3b50b4e1d1532d0c325d93b317009"
 },
 "nbformat": 3,
 "nbformat_minor": 0,
 "worksheets": [
  {
   "cells": [
    {
     "cell_type": "markdown",
     "metadata": {},
     "source": [
      "# ROADMAP"
     ]
    },
    {
     "cell_type": "heading",
     "level": 2,
     "metadata": {},
     "source": [
      "0. Software necessary for analysis and representation of the architecture thanks openalea plateform"
     ]
    },
    {
     "cell_type": "heading",
     "level": 3,
     "metadata": {},
     "source": [
      "0.1 Installation"
     ]
    },
    {
     "cell_type": "markdown",
     "metadata": {},
     "source": [
      "Openalea: http://gforge.inria.fr/frs/download.php/file/33798/openalea-1.1alpha-Installer-Py2.7.exe\n",
      "\n",
      "Python: http://gforge.inria.fr/frs/download.php/file/33799/vplants-1.1alpha-Installer-Py2.7.exe\n",
      "\n",
      "TortoiseSVN: http://tortoisesvn.net/downloads.html"
     ]
    },
    {
     "cell_type": "heading",
     "level": 3,
     "metadata": {},
     "source": [
      "0.2 Configuration"
     ]
    },
    {
     "cell_type": "markdown",
     "metadata": {},
     "source": [
      "bla bla bla"
     ]
    },
    {
     "cell_type": "heading",
     "level": 3,
     "metadata": {},
     "source": [
      "0.3 Update MTG"
     ]
    },
    {
     "cell_type": "code",
     "collapsed": false,
     "input": [
      "# !pip install openalea.mtg"
     ],
     "language": "python",
     "metadata": {},
     "outputs": [
      {
       "output_type": "stream",
       "stream": "stdout",
       "text": [
        "Requirement already satisfied (use --upgrade to upgrade): openalea.mtg in c:\\python27\\lib\\site-packages\\openalea.mtg-1.0.2-py2.7.egg\n",
        "Requirement already satisfied (use --upgrade to upgrade): openalea.deploy in c:\\python27\\lib\\site-packages\\openalea.deploy-1.0.0-py2.7.egg (from openalea.mtg)\n"
       ]
      }
     ],
     "prompt_number": 1
    },
    {
     "cell_type": "heading",
     "level": 2,
     "metadata": {},
     "source": [
      "2. Access to Server and Strawberry file since local environnement"
     ]
    },
    {
     "cell_type": "markdown",
     "metadata": {},
     "source": [
      "bla bla bla"
     ]
    },
    {
     "cell_type": "heading",
     "level": 2,
     "metadata": {},
     "source": [
      "3. Access to information of MTG according to hierarchic levels necessity for the study of the architecture"
     ]
    },
    {
     "cell_type": "markdown",
     "metadata": {},
     "source": [
      "\n",
      "Number of phytomer (Leaf)per plante?\n",
      "\n",
      "Number of phytomer (Leaf) per Axis in the plante or on the Axis 1?\n",
      "\n",
      "Number of Axis in the plante ?\n",
      "\n",
      "How much phytomer has it before a ramification of order 1 there ?\n",
      "\n"
     ]
    },
    {
     "cell_type": "heading",
     "level": 2,
     "metadata": {},
     "source": [
      "3. How to represent that a part of architecture?"
     ]
    },
    {
     "cell_type": "markdown",
     "metadata": {},
     "source": [
      "Have only one representation of the first axis or the first one and the second axis etc."
     ]
    },
    {
     "cell_type": "code",
     "collapsed": false,
     "input": [],
     "language": "python",
     "metadata": {},
     "outputs": []
    }
   ],
   "metadata": {}
  }
 ]
}