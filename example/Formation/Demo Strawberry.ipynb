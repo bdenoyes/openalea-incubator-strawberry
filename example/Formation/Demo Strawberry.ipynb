{
 "cells": [
  {
   "cell_type": "markdown",
   "metadata": {},
   "source": [
    "# 1. Import module requirement\n",
    "\n",
    "## 1.1 Import standard Python modules"
   ]
  },
  {
   "cell_type": "code",
   "execution_count": 1,
   "metadata": {},
   "outputs": [],
   "source": [
    "from collections import OrderedDict, defaultdict"
   ]
  },
  {
   "cell_type": "markdown",
   "metadata": {},
   "source": [
    "## 1.2 Import openalea packages\n"
   ]
  },
  {
   "cell_type": "code",
   "execution_count": 2,
   "metadata": {},
   "outputs": [
    {
     "name": "stdout",
     "output_type": "stream",
     "text": [
      "NOT using graph editor observer No module named grapheditor\n"
     ]
    }
   ],
   "source": [
    "from openalea.deploy.shared_data import shared_data\n",
    "from openalea.mtg import *\n",
    "from openalea.mtg.algo import orders\n",
    "from openalea.mtg import stat\n",
    "import openalea.plantgl.all as pgl"
   ]
  },
  {
   "cell_type": "code",
   "execution_count": 3,
   "metadata": {},
   "outputs": [],
   "source": [
    "from openalea.core import path\n",
    "from openalea.mtg import *\n",
    "from openalea.deploy.shared_data import shared_data\n",
    "import glob"
   ]
  },
  {
   "cell_type": "markdown",
   "metadata": {},
   "source": [
    "## 1.3 Import strawberry modules"
   ]
  },
  {
   "cell_type": "code",
   "execution_count": 4,
   "metadata": {},
   "outputs": [],
   "source": [
    "import openalea.strawberry\n",
    "\n",
    "# rename Rules_production to geometry\n",
    "from openalea.strawberry import Rules_production\n",
    "# Replace Visualisation by visualisation \n",
    "from openalea.strawberry import Visualization\n",
    "from openalea.strawberry import analysis\n",
    "\n",
    "# TODO: Move functions into ???\n",
    "#from openalea.strawberry import variables"
   ]
  },
  {
   "cell_type": "markdown",
   "metadata": {},
   "source": [
    "# 2. Import data and read MTG in files"
   ]
  },
  {
   "cell_type": "markdown",
   "metadata": {},
   "source": [
    "## 2.1 Import data"
   ]
  },
  {
   "cell_type": "code",
   "execution_count": 5,
   "metadata": {},
   "outputs": [
    {
     "name": "stdout",
     "output_type": "stream",
     "text": [
      "{u'Sicile_New': Path(u'c:\\\\users\\\\mlabadie\\\\appdata\\\\local\\\\continuum\\\\miniconda2\\\\envs\\\\strawberry\\\\lib\\\\site-packages\\\\openalea.strawberry-1.0.0-py2.7.egg\\\\share\\\\data\\\\Sicile_New.mtg'), u'Nils_New': Path(u'c:\\\\users\\\\mlabadie\\\\appdata\\\\local\\\\continuum\\\\miniconda2\\\\envs\\\\strawberry\\\\lib\\\\site-packages\\\\openalea.strawberry-1.0.0-py2.7.egg\\\\share\\\\data\\\\Nils_New.mtg')}\n",
      "{u'Gariguette_NEW': Path(u'c:\\\\users\\\\mlabadie\\\\appdata\\\\local\\\\continuum\\\\miniconda2\\\\envs\\\\strawberry\\\\lib\\\\site-packages\\\\openalea.strawberry-1.0.0-py2.7.egg\\\\share\\\\data\\\\Gariguette_NEW.mtg'), u'Darselect_New': Path(u'c:\\\\users\\\\mlabadie\\\\appdata\\\\local\\\\continuum\\\\miniconda2\\\\envs\\\\strawberry\\\\lib\\\\site-packages\\\\openalea.strawberry-1.0.0-py2.7.egg\\\\share\\\\data\\\\Darselect_New.mtg'), u'Clery_New': Path(u'c:\\\\users\\\\mlabadie\\\\appdata\\\\local\\\\continuum\\\\miniconda2\\\\envs\\\\strawberry\\\\lib\\\\site-packages\\\\openalea.strawberry-1.0.0-py2.7.egg\\\\share\\\\data\\\\Clery_New.mtg'), u'Capriss_New': Path(u'c:\\\\users\\\\mlabadie\\\\appdata\\\\local\\\\continuum\\\\miniconda2\\\\envs\\\\strawberry\\\\lib\\\\site-packages\\\\openalea.strawberry-1.0.0-py2.7.egg\\\\share\\\\data\\\\Capriss_New.mtg'), u'Cir107_NEW': Path(u'c:\\\\users\\\\mlabadie\\\\appdata\\\\local\\\\continuum\\\\miniconda2\\\\envs\\\\strawberry\\\\lib\\\\site-packages\\\\openalea.strawberry-1.0.0-py2.7.egg\\\\share\\\\data\\\\Cir107_NEW.mtg'), u'Ciflorette_New': Path(u'c:\\\\users\\\\mlabadie\\\\appdata\\\\local\\\\continuum\\\\miniconda2\\\\envs\\\\strawberry\\\\lib\\\\site-packages\\\\openalea.strawberry-1.0.0-py2.7.egg\\\\share\\\\data\\\\Ciflorette_New.mtg')}\n"
     ]
    }
   ],
   "source": [
    "%gui qt4\n",
    "\n",
    "files = shared_data(openalea.strawberry).glob('*.mtg')\n",
    "#print files\n",
    "\n",
    "genotypes = dict((f.namebase, f) for f in files)\n",
    "#print(genotypes.keys())\n",
    "\n",
    "DIPLOIDS = ['Sicile_New','Nils_New']\n",
    "OCTOPLOIDS = ['Gariguette_NEW','Darselect_New','Clery_New','Capriss_New','Cir107_NEW','Ciflorette_New']\n",
    "\n",
    "diploids = dict((k,f) for k,f in genotypes.items() if k in DIPLOIDS)\n",
    "print(diploids)\n",
    "\n",
    "octoploids = dict((k,f) for k,f in genotypes.items() if k in OCTOPLOIDS)\n",
    "print(octoploids)"
   ]
  },
  {
   "cell_type": "markdown",
   "metadata": {},
   "source": [
    "## 2.2 Load one octoploid and one diploid  genotype \n",
    "\n",
    "A set of strawberry plant architecture has been measured and is stored in an MTG."
   ]
  },
  {
   "cell_type": "markdown",
   "metadata": {},
   "source": [
    "- We select on octoploid and/or one diploid genotype for architectural analysis."
   ]
  },
  {
   "cell_type": "code",
   "execution_count": 6,
   "metadata": {},
   "outputs": [
    {
     "name": "stdout",
     "output_type": "stream",
     "text": [
      "replace all the date format by -\n",
      "('Diploid  : ', 'MTG : nb_vertices=4181, nb_scales=4')\n",
      "replace all the date format by -\n",
      "('Octoploid  : ', 'MTG : nb_vertices=6438, nb_scales=4')\n"
     ]
    }
   ],
   "source": [
    "#OCTOPLOIDS = ['Gariguette_NEW','Darselect_New','Clery_New','Capriss_New''Cir107_NEW','Ciflorette_New']\n",
    "#DIPLOIDS = ['Sicile_New','Nils_New.mtg']\n",
    "\n",
    "di_genotype = 'Sicile_New'\n",
    "oct_genotype = 'Ciflorette_New'\n",
    "\n",
    "gdi = MTG(diploids[di_genotype])\n",
    "print('Diploid  : ', str(gdi))\n",
    "\n",
    "goct = MTG(octoploids[oct_genotype])\n",
    "print('Octoploid  : ', str(goct))"
   ]
  },
  {
   "cell_type": "markdown",
   "metadata": {},
   "source": [
    "* Check number of plant present in MTG"
   ]
  },
  {
   "cell_type": "code",
   "execution_count": 7,
   "metadata": {},
   "outputs": [
    {
     "name": "stdout",
     "output_type": "stream",
     "text": [
      "118\n",
      "54\n"
     ]
    }
   ],
   "source": [
    "# Diploid\n",
    "nb_plants = gdi.nb_vertices(scale=1)\n",
    "print(nb_plants)\n",
    "\n",
    "# Octoploid\n",
    "nb_plants = goct.nb_vertices(scale=1)\n",
    "print(nb_plants)"
   ]
  },
  {
   "cell_type": "markdown",
   "metadata": {},
   "source": [
    "## 2.3 Load whole octoploids or diploids in one big MTG\n",
    "\n",
    "A set of strawberry plant architecture has been measured and is stored in an MTG."
   ]
  },
  {
   "cell_type": "markdown",
   "metadata": {},
   "source": [
    "- We select whole octoploids genotype for architectural analysis."
   ]
  },
  {
   "cell_type": "code",
   "execution_count": 8,
   "metadata": {},
   "outputs": [
    {
     "name": "stdout",
     "output_type": "stream",
     "text": [
      "replace all the date format by -\n",
      "replace all the date format by -\n",
      "replace all the date format by -\n",
      "replace all the date format by -\n",
      "replace all the date format by -\n",
      "replace all the date format by -\n",
      "set(['Ciflorette', 'Darselect', 'Gariguette', 'Capriss', 'Clery', 'Cir107'])\n"
     ]
    }
   ],
   "source": [
    "big_mtg = MTG()\n",
    "for fn in OCTOPLOIDS:\n",
    "    big_mtg = algo.union(big_mtg,MTG(octoploids[fn]))\n",
    "    g = big_mtg\n",
    "    \n",
    "genotypes = set(g.property(\"Genotype\").itervalues())\n",
    "print genotypes"
   ]
  },
  {
   "cell_type": "markdown",
   "metadata": {},
   "source": [
    "- We select whole diploids genotype for architectural analysis."
   ]
  },
  {
   "cell_type": "code",
   "execution_count": null,
   "metadata": {},
   "outputs": [],
   "source": [
    "big_mtg = MTG()\n",
    "for fn in DIPLOIDS:\n",
    "    big_mtg = algo.union(big_mtg,MTG(diploids[fn]))\n",
    "    g = big_mtg\n",
    "    \n",
    "genotypes = set(g.property(\"Genotype\").itervalues())\n",
    "print genotypes"
   ]
  },
  {
   "cell_type": "markdown",
   "metadata": {},
   "source": [
    "# 3. Strawberry Visualisation"
   ]
  },
  {
   "cell_type": "markdown",
   "metadata": {},
   "source": [
    "## 3.1 3D-Visualisation"
   ]
  },
  {
   "cell_type": "markdown",
   "metadata": {},
   "source": [
    "### 3.1.1 Choose 3D visualization with:\n",
    "    - one genotype (goct or gdi)\n",
    "    - all genotype (big_mtg)"
   ]
  },
  {
   "cell_type": "code",
   "execution_count": 15,
   "metadata": {},
   "outputs": [],
   "source": [
    "#g=goct\n",
    "#g=gdi\n",
    "#g=big_mtg"
   ]
  },
  {
   "cell_type": "markdown",
   "metadata": {},
   "source": [
    "### 3.1.2 lunch 3D visualisation"
   ]
  },
  {
   "cell_type": "code",
   "execution_count": 16,
   "metadata": {},
   "outputs": [],
   "source": [
    "g.properties()['order'] = orders(g)\n",
    "Rules_production.color_code(g)\n",
    "scene = Visualization.visualise_plants(g)\n",
    "\n",
    "pgl.Viewer.display(scene)"
   ]
  },
  {
   "cell_type": "markdown",
   "metadata": {},
   "source": [
    "## 3.2 2D-Visualisation"
   ]
  },
  {
   "cell_type": "markdown",
   "metadata": {},
   "source": [
    "# TODO\n",
    "- **Analysis plant scale**\n",
    "    - Analysis.plant_variable\n",
    "    - Analysis.plant_df\n",
    "    - Analysis.median_individuals(df)\n",
    "\n",
    "\n",
    "- **Visualisation function: **\n",
    "    - rules productions for 2D visualisation\n",
    "    - rules production. color  for 2 visualisation\n",
    "    - Visualisation.visualise_plants2D with vid issue from median_individal(df)\n"
   ]
  },
  {
   "cell_type": "code",
   "execution_count": null,
   "metadata": {},
   "outputs": [],
   "source": [
    "g.properties()['order']=order(g)\n",
    "Rules_production.color_code(g)\n",
    "scene= Visualization.visualise_plants2D(g)"
   ]
  },
  {
   "cell_type": "markdown",
   "metadata": {},
   "source": [
    "# 4. Strawberry analysis"
   ]
  },
  {
   "cell_type": "markdown",
   "metadata": {},
   "source": [
    "## 4.1 Function to run the notebook on diploid or octoploid (only for one genotype)"
   ]
  },
  {
   "cell_type": "code",
   "execution_count": 10,
   "metadata": {},
   "outputs": [],
   "source": [
    "# Run the notebook on Diploid or Octoploid\n",
    "\n",
    "#Choose false to read octoploid (and true to diploid)\n",
    "IS_DIPLOID = False\n",
    "\n",
    "if IS_DIPLOID:\n",
    "    g = gdi\n",
    "else:\n",
    "    g = goct\n",
    "\n",
    "# Dictionnary to convert propertie names in order to run old version script\n",
    "convert = dict(Stade='Stade', \n",
    "               Fleurs_ouverte='FLWRNUMBER_OPEN',\n",
    "               Fleurs_avorte='FLWRNUMBER_ABORTED',\n",
    "               Fleurs_total='FLWRNUMBER',\n",
    "               date='Sample_date',\n",
    "               Plante='Plant_ID',\n",
    "              )\n",
    "\n",
    "if not IS_DIPLOID:\n",
    "    g.properties()['Sample_date'] = g.property('Architecture_date')\n",
    "\n",
    "# specific date of diploid data\n",
    "def dates_diploid():\n",
    "    l = '11-05-2016', '17-05-2016', '01-06-2016', '20-06-2016'\n",
    "    return dict(zip(l, range(1, len(l)+1)))\n",
    "\n",
    "#specific date for octoploide date\n",
    "def dates_octoploid():\n",
    "    d = {'10-12-2014':1,'07-01-2015':2,'15-02-2015':3,'02-03-2015':4,'03-04-2015':5,'27-05-2015':6,'04-12-2014':1,'13-02-2015':3,\n",
    "         '30-03-2015':5,'08-01-2015':2,'11-02-2015':3,'04-03-2015':4,'02-04-2015':5,'20-05-2015':6,'09-01-2015':2,'06-03-2015':4,\n",
    "         '12-02-2015':3,'19-05-2015':6}\n",
    "    return d\n",
    "\n",
    "def dates():\n",
    "    if IS_DIPLOID:\n",
    "        return dates_diploid()\n",
    "    else: \n",
    "        return dates_octoploid()\n",
    "\n",
    "\n",
    "def property(g, name):\n",
    "    \"\"\" We can change the name of the MTG properties without changing the code\"\"\"\n",
    "    return g.property(convert.get(name, name))"
   ]
  },
  {
   "cell_type": "markdown",
   "metadata": {},
   "source": [
    "## 4.2 Data sequence extractions"
   ]
  },
  {
   "cell_type": "markdown",
   "metadata": {},
   "source": [
    "### 4.2.1 Module scale"
   ]
  },
  {
   "cell_type": "markdown",
   "metadata": {},
   "source": [
    "* **Index:**\n",
    "    - real Order (Index) for recouvrant extraction\n",
    "    - Apparent Order for non recouvrant extraction\n",
    "\n",
    "* **Variables:**\n",
    "    - nb_visible_leaves : count F label in components\n",
    "    - nb_foliar_primordia: count f si le module commence par F\n",
    "    - nb_total_leaves: sum(F+f) du module\n",
    "    - Stolon Numbers: count s label in components and attach at the order -1 \n",
    "    - nb_open_flowers: g.property('Fleurs_ouverte') at scale 3\n",
    "    - nb_aborted_flowers: g.property('Fleurs_avorte') at scale 3\n",
    "    - nb_total_flowers : g.property('Fleurs_total') at scale 3\n",
    "    - No_vegetative_bud: count bt if g.property(Stade) == none or 17 or 18 or 19\n",
    "    - No_iniated_bud: count bt if g.property(Stade) == A\n",
    "    - No_Floral_bud: count ht\n",
    "    - No_Inflorescence: count HT\n",
    " \n",
    " \n",
    "* **Variable qualitative:**\n",
    "    - type of crown\n",
    "        - label == T (1) : principal crown\n",
    "        - parent(component_roots()[0]) : if successor() == F : branch_crown (3)\n",
    "        - elif in (HT, ht, bt) extension crown (2)\n",
    "    - inflorescence_type:\n",
    "        - vegetative (1): label==bt g.property(Stade)== none or 17 or 18 or 19\n",
    "        - initiated (2): label== bt if g.property(Stade) == A\n",
    "        - floral (3): label== ht or HT\n",
    "\n",
    "\n",
    "* **General Variables:**\n",
    "    - Genotype: g.property('Genotype') at scale 1\n",
    "    - Date: g.property('date') at scale 1\n",
    "    - Plante Number: g.property('plante') at scale 1"
   ]
  },
  {
   "cell_type": "code",
   "execution_count": null,
   "metadata": {},
   "outputs": [],
   "source": []
  },
  {
   "cell_type": "markdown",
   "metadata": {},
   "source": [
    "### 4.2.2 Node scale"
   ]
  },
  {
   "cell_type": "code",
   "execution_count": null,
   "metadata": {},
   "outputs": [],
   "source": []
  }
 ],
 "metadata": {
  "kernelspec": {
   "display_name": "Python 2",
   "language": "python",
   "name": "python2"
  },
  "language_info": {
   "codemirror_mode": {
    "name": "ipython",
    "version": 2
   },
   "file_extension": ".py",
   "mimetype": "text/x-python",
   "name": "python",
   "nbconvert_exporter": "python",
   "pygments_lexer": "ipython2",
   "version": "2.7.14"
  }
 },
 "nbformat": 4,
 "nbformat_minor": 2
}
