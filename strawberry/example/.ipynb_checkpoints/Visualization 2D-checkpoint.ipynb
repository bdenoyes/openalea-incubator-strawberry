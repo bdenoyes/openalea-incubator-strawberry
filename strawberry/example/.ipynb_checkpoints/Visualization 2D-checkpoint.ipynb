{
 "metadata": {
  "name": "",
  "signature": "sha256:5fdbbdf4b66c3f4afcab76dd5b6b96ab0efb84b8bafebab85ad55f2adf1fa465"
 },
 "nbformat": 3,
 "nbformat_minor": 0,
 "worksheets": [
  {
   "cells": [
    {
     "cell_type": "markdown",
     "metadata": {},
     "source": [
      "#Shematic visualization of strowberry plant"
     ]
    },
    {
     "cell_type": "markdown",
     "metadata": {},
     "source": [
      "##Production rules\n",
      "    1- A Trifoliate Leaf (Phytomer)\n",
      "He's composed of internod followed a petiole and 3 foliar dics\n",
      "\n",
      "    2-Buds, sphere with little radius which color differ according to status\n",
      "        -A Vegetative Bud (green)\n",
      "        -A initiated Bud (orange)\n",
      "        -A Floral bud (red)\n",
      "    3-A stolon\n",
      "    4-TerminalBuds, sphere with importante status which color differ according to status \n",
      "        -A Terminal Vegetative Buds (green) \n",
      "        -A Terminal Initated buds (orange)\n",
      "        -A Terminal Floral buds (red)\n",
      "    5- An Inflorescence\n",
      "\n"
     ]
    },
    {
     "cell_type": "code",
     "collapsed": false,
     "input": [
      "from openalea.core import path\n",
      "from openalea.plantgl.all import *\n",
      "from openalea.mtg import *\n",
      "from openalea.deploy.shared_data import shared_data\n",
      "from math import radians\n",
      "import strawberry\n",
      "%gui qt"
     ],
     "language": "python",
     "metadata": {},
     "outputs": [],
     "prompt_number": 408
    },
    {
     "cell_type": "code",
     "collapsed": false,
     "input": [
      "files = shared_data(strawberry).glob('*.mtg')\n",
      "g= MTG(files[1])"
     ],
     "language": "python",
     "metadata": {},
     "outputs": [
      {
       "output_type": "stream",
       "stream": "stdout",
       "text": [
        "replace all the date format by -\n"
       ]
      }
     ],
     "prompt_number": 416
    },
    {
     "cell_type": "markdown",
     "metadata": {},
     "source": [
      "### 0- Colors"
     ]
    },
    {
     "cell_type": "code",
     "collapsed": false,
     "input": [
      "shoot_color=Material(\"green\",Color3(0,255,0))\n",
      "vegbud_color=Material(\"green\",Color3(0,40,0))\n",
      "initbud_color = Material(\"orange\",Color3(255,128,0))\n",
      "floral_color= Material(\"red\",Color3(255,0,0))"
     ],
     "language": "python",
     "metadata": {},
     "outputs": [],
     "prompt_number": 379
    },
    {
     "cell_type": "markdown",
     "metadata": {},
     "source": [
      "### 1-Leaves"
     ]
    },
    {
     "cell_type": "code",
     "collapsed": false,
     "input": [
      "def leaf():\n",
      "    cyl = Cylinder(0.01,0.5)\n",
      "    cyl2 =  AxisRotated(axis=(0,1,0), angle= radians(60.), geometry= cyl)\n",
      "    cyl3 = Translated(0,0,0.5,cyl2)\n",
      "    cl4= Group(cyl,cyl3)\n",
      "\n",
      "    disc= Disc()\n",
      "    disc = Translated((-.5,0,0), disc)\n",
      "    disc= AxisRotated(axis=(0,1,0), angle= radians(90.), geometry= disc)\n",
      "\n",
      "    d1 = AxisRotated(axis=(1,0,0), angle=-radians(60.), geometry=disc)\n",
      "    d2 = AxisRotated(axis=(1,0,0), angle=-radians(-60.), geometry=disc)\n",
      "    d3 = AxisRotated(axis=(1,0,0), angle=0., geometry=disc)\n",
      "    d1= Translated(0,0,1.6,d1)\n",
      "    d3= Translated(0,0,1,d3)\n",
      "    d2= Translated(0,0,1.6,d2)\n",
      "    d1=Scaled((0.01,0.3,0.15), d1)\n",
      "    d2=Scaled((0.01,0.3,0.15), d2)\n",
      "    d3=Scaled((0.01,0.15,0.3), d3)\n",
      "\n",
      "    leaflet= Group(d1,d2,d3)\n",
      "    leaflet = AxisRotated(axis=(0,1,0),angle=radians(0),geometry=leaflet)\n",
      "    leaflet = AxisRotated(axis=(1,0,0),angle=radians(60),geometry=leaflet)\n",
      "    leaflet = AxisRotated(axis=(0,0,1),angle=radians(90),geometry=leaflet)\n",
      "\n",
      "    leaflet = Translated((0.2,0,0.60),leaflet)\n",
      "    shape=Group(cl4,leaflet)\n",
      "    leafs= [Shape(cl4,shoot_color),Shape(leaflet,shoot_color)]\n",
      "    #return Scene(leafs)\n",
      "    return(shape)\n",
      "\n",
      "Viewer.display(leaf())\n"
     ],
     "language": "python",
     "metadata": {},
     "outputs": [],
     "prompt_number": 643
    },
    {
     "cell_type": "markdown",
     "metadata": {},
     "source": [
      "### 2-Buds object"
     ]
    },
    {
     "cell_type": "code",
     "collapsed": false,
     "input": [
      "# vegetative buds\n",
      "\n",
      "def vegetative_bud():\n",
      "    sphere = Sphere(.04) \n",
      "    vegbud = [Shape(sphere,vegbud_color)]\n",
      "    return Scene(vegbud)\n",
      "\n",
      "Viewer.display(vegetative_bud())"
     ],
     "language": "python",
     "metadata": {},
     "outputs": [],
     "prompt_number": 385
    },
    {
     "cell_type": "code",
     "collapsed": false,
     "input": [
      "# Initiated buds\n",
      "def initiated_bud():\n",
      "    sphere = Sphere(.04) \n",
      "    initbud = [Shape(sphere,initbud_color)]\n",
      "    #return Scene(initbud)\n",
      "    return sphere\n",
      "Viewer.display(initiated_bud())"
     ],
     "language": "python",
     "metadata": {},
     "outputs": [],
     "prompt_number": 565
    },
    {
     "cell_type": "code",
     "collapsed": false,
     "input": [
      "# Floral buds \n",
      "def floral_bud(color):\n",
      "    sphere = Sphere(.04) \n",
      "    flobud= [Shape(sphere,floral_color)]\n",
      "    return Scene(flobud)\n",
      "Viewer.display(floral_bud(red))"
     ],
     "language": "python",
     "metadata": {},
     "outputs": [],
     "prompt_number": 387
    },
    {
     "cell_type": "markdown",
     "metadata": {},
     "source": [
      "### 3- Stolon"
     ]
    },
    {
     "cell_type": "code",
     "collapsed": false,
     "input": [
      "\n",
      "def stolon():\n",
      "    cyl = Cylinder(0.01,0.5)\n",
      "    cyl2 = Cylinder(0.01,0.2)\n",
      "    cyl3 = Cylinder(0.01,0.2)\n",
      "    cyl = AxisRotated(axis=(0,1,0), angle= radians(30.), geometry= cyl)\n",
      "    cyl2 = AxisRotated(axis=(0,1,0), angle= -radians(120.), geometry= cyl2)\n",
      "    cyl3 = AxisRotated(axis=(0,1,0), angle= -radians(180.), geometry= cyl3)\n",
      "    cyl2= Translated((0.26,0,0.45),cyl2)\n",
      "    cyl3= Translated((0.26,0,0.45),cyl3)\n",
      "    sto= Group([cyl,cyl2,cyl3])\n",
      "    stol = [Shape(sto,shoot_color)]                   \n",
      "    return sto\n",
      "\n",
      "Viewer.display(stolon())  "
     ],
     "language": "python",
     "metadata": {},
     "outputs": [],
     "prompt_number": 681
    },
    {
     "cell_type": "markdown",
     "metadata": {},
     "source": [
      "### 4-TerminalBuds object"
     ]
    },
    {
     "cell_type": "code",
     "collapsed": false,
     "input": [
      "# Terminal vegetative buds\n",
      "\n",
      "def terminal_vegetative_bud():\n",
      "    sphere = Sphere(.1)\n",
      "    sphere_color= Material(\"green\",Color3(0,40,0))\n",
      "    sphere= Translated((0,0,0.5),sphere)\n",
      "    cyl= Cylinder(0.01,0.5)\n",
      "    cyl_color= Material(\"green\",Color3(0,255,0))\n",
      "    shape = Group([sphere,cyl])\n",
      "    tvegbud= [Shape(cyl,shoot_color),Shape(sphere,vegbud_color)]\n",
      "    return Scene(tvegbud)\n",
      "\n",
      "Viewer.display(terminal_vegetative_bud())"
     ],
     "language": "python",
     "metadata": {},
     "outputs": [],
     "prompt_number": 390
    },
    {
     "cell_type": "code",
     "collapsed": false,
     "input": [
      "# Terminal Initiated buds\n",
      "def terminal_initated_bud():\n",
      "    sphere = Sphere(.1)\n",
      "    sphere= Translated((0,0,0.5),sphere)\n",
      "    cyl= Cylinder(0.01,0.5)\n",
      "    shape = Group([sphere,cyl])\n",
      "    terminalbud_color= [Shape(cyl,green1),Shape(sphere,initbud_color)]\n",
      "    return Scene(terminalbud_color)\n",
      "Viewer.display(terminal_initated_bud())"
     ],
     "language": "python",
     "metadata": {},
     "outputs": [],
     "prompt_number": 391
    },
    {
     "cell_type": "code",
     "collapsed": false,
     "input": [
      "# Terminal Floral buds \n",
      "def terminal_floral_bud():\n",
      "    sphere = Sphere(.1)\n",
      "    sphere= Translated((0,0,0.5),sphere)\n",
      "    cyl= Cylinder(0.01,0.5)\n",
      "    cyl_color= Material(\"green\",Color3(0,255,0))\n",
      "    shape = Group([sphere,cyl])\n",
      "    tflobud= [Shape(cyl,green1),Shape(sphere,floral_color)]\n",
      "    return Scene(tflobud)\n",
      "Viewer.display(terminal_floral_bud())"
     ],
     "language": "python",
     "metadata": {},
     "outputs": [],
     "prompt_number": 393
    },
    {
     "cell_type": "markdown",
     "metadata": {},
     "source": [
      "### 5-Inflorescence "
     ]
    },
    {
     "cell_type": "code",
     "collapsed": false,
     "input": [
      "def Inflorescence():\n",
      "    box = Box(.1,0.1,0.15)\n",
      "    box_axis = AxisRotated(axis=(0,1,0), angle =45.,geometry=box)\n",
      "    box2 = Translated(.5,0,.8,box_axis)\n",
      "\n",
      "    cyl = Cylinder(.01,0.5)\n",
      "    cyl2 =  AxisRotated(axis=(0,1,0), angle= 45., geometry= cyl)\n",
      "    cyl3 = Translated(0,0,0.5,cyl2)\n",
      "\n",
      "    shape= Group([cyl,cyl3,box2])\n",
      "    Inflorescence= [Shape(cyl,green1),Shape(cyl3,green1),Shape(box2,red)]\n",
      "    return shape\n",
      "    \n",
      "\n",
      "Viewer.display(Inflorescence())"
     ],
     "language": "python",
     "metadata": {},
     "outputs": [],
     "prompt_number": 698
    },
    {
     "cell_type": "code",
     "collapsed": false,
     "input": [
      "initbud=[initiated_bud()]\n",
      "initbud= Translated(0,0,0,initbud[0])"
     ],
     "language": "python",
     "metadata": {},
     "outputs": [],
     "prompt_number": 573
    },
    {
     "cell_type": "code",
     "collapsed": false,
     "input": [
      "leaves=[leaf() for i in range(3)]\n",
      "leaves= [Translated(0,0,0,leaves[0]),Translated(0,0,0.5,leaves[1]),Translated(0,0,1,leaves[2])]\n",
      "leaves= [AxisRotated(axis=(0,0,1),angle=0,geometry=leaves[0]),AxisRotated(axis=(0,0,1),angle=radians(180),geometry=leaves[1]),\n",
      "         AxisRotated(axis=(0,0,1),angle=0,geometry=leaves[2])]\n",
      "\n",
      "initbud=[initiated_bud()]\n",
      "initbud= [Translated(.04,0,0.56,initbud[0])]\n",
      "\n",
      "sto= [stolon()]\n",
      "sto=[Translated(0,0,1,sto[0])]\n",
      "sto= [AxisRotated(axis=(0,0,1),angle=radians(180),geometry=sto[0])]\n",
      "\n",
      "inflo=[Inflorescence()]\n",
      "inflo=[Translated(0,0,1.5,inflo[0])]\n",
      "inflo=[AxisRotated(axis=(0,0,1),angle=radians(180),geometry=inflo[0])]\n",
      "\n",
      "shape= [Group(leaves[0],leaves[1],leaves[2],initbud[0],sto[0]),inflo[0]]\n",
      "scene= Scene(shape)\n",
      "Viewer.display(scene)"
     ],
     "language": "python",
     "metadata": {},
     "outputs": [],
     "prompt_number": 712
    },
    {
     "cell_type": "code",
     "collapsed": false,
     "input": [],
     "language": "python",
     "metadata": {},
     "outputs": []
    }
   ],
   "metadata": {}
  }
 ]
}