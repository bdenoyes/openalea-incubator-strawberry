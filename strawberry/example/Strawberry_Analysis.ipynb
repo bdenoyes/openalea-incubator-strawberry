{
 "metadata": {
  "name": "",
  "signature": "sha256:20e41230f5d99a8c8e5bcd1ce7aec4a9cc971741b65db0bc378d7c1a13421375"
 },
 "nbformat": 3,
 "nbformat_minor": 0,
 "worksheets": [
  {
   "cells": [
    {
     "cell_type": "markdown",
     "metadata": {},
     "source": [
      "# MTG Strawberry Extraction & Analysis"
     ]
    },
    {
     "cell_type": "markdown",
     "metadata": {},
     "source": [
      "**Authors** : Marc Labadie, Christophe Pradal"
     ]
    },
    {
     "cell_type": "code",
     "collapsed": false,
     "input": [
      "from openalea.deploy.shared_data import shared_data\n",
      "import strawberry\n",
      "from strawberry.reader import Reader, strawberry2mtg \n",
      "from openalea.mtg import MTG, fat_mtg\n",
      "from openalea.mtg import algo"
     ],
     "language": "python",
     "metadata": {},
     "outputs": [],
     "prompt_number": 2
    },
    {
     "cell_type": "code",
     "collapsed": false,
     "input": [
      "files = shared_data(strawberry).glob('*.csv')\n",
      "fn = files[0]\n",
      "print fn"
     ],
     "language": "python",
     "metadata": {},
     "outputs": [
      {
       "output_type": "stream",
       "stream": "stdout",
       "text": [
        "z:\\g1\\marc-labadie\\python\\strawberry\\share\\data\\Cir107_1_2.csv\n"
       ]
      }
     ],
     "prompt_number": 3
    },
    {
     "cell_type": "markdown",
     "metadata": {},
     "source": [
      "Reading the file and create an MTG"
     ]
    },
    {
     "cell_type": "code",
     "collapsed": false,
     "input": [
      "gs = [strawberry2mtg(fn) for fn in files]"
     ],
     "language": "python",
     "metadata": {},
     "outputs": [
      {
       "output_type": "stream",
       "stream": "stdout",
       "text": [
        "Axis_1\tAxis_2\tAxe_3\tAxis_4\tAxis_5\tAxis_6\tAxis_7\tAxis_8\tleaf_area\tleaf_perimeter\tLobe_C_H\tLobe_C_L\tLobe_G_H\tLobe_G_L\tLeaf_area_algo\tCom.\tHarvest_fruit\tFruit_aborded\tTotal_fruit\tcom.\n",
        "Axis_1\tAxis_2\tAxe_3\tAxis_4\tAxis_5\tAxis_6\tAxis_7\tAxis_8\tleaf_area\tleaf_perimeter\tLobe_C_H\tLobe_C_L\tLobe_G_H\tLobe_G_L\tLeaf_area_algo\tLobe_C_H\tLobe_C_L\tLobe_G_H\tLobe_G_L\tLeaf_area_algo\tCom.\tharvest_fruit\tfruit_aborded\tTotal_ruit\tcom.\n",
        "Axis_1\tAxis_2\tAxe_3\tAxis_4\tAxis_5\tAxis_6\tAxis_7\tleaf_area\tleaf_perimeter\tLobe_C_H\tLobe_C_L\tLobe_G_H\tLobe_G_L\tLeaf_area_algo\tCom.\tharvest_fruit\tfruit_aborded\tTotal_fruit\tcom.\n"
       ]
      }
     ],
     "prompt_number": 9
    },
    {
     "cell_type": "markdown",
     "metadata": {},
     "source": [
      "## Union of MTG\n",
      "\n",
      "*TODO* : Add scales to MTG"
     ]
    },
    {
     "cell_type": "code",
     "collapsed": false,
     "input": [
      "from openalea.mtg.algo import union"
     ],
     "language": "python",
     "metadata": {},
     "outputs": [],
     "prompt_number": 5
    },
    {
     "cell_type": "code",
     "collapsed": false,
     "input": [
      "print gs"
     ],
     "language": "python",
     "metadata": {},
     "outputs": [
      {
       "output_type": "stream",
       "stream": "stdout",
       "text": [
        "[<openalea.mtg.mtg.MTG object at 0x10611e1d0>, <openalea.mtg.mtg.MTG object at 0x106112610>, <openalea.mtg.mtg.MTG object at 0x10b16b950>]\n"
       ]
      }
     ],
     "prompt_number": 7
    },
    {
     "cell_type": "code",
     "collapsed": false,
     "input": [
      "# g is the concatenation of the 3 MTG built from files\n",
      "g = reduce(union, gs)"
     ],
     "language": "python",
     "metadata": {},
     "outputs": [],
     "prompt_number": 8
    },
    {
     "cell_type": "code",
     "collapsed": false,
     "input": [
      "len(g)"
     ],
     "language": "python",
     "metadata": {},
     "outputs": [
      {
       "metadata": {},
       "output_type": "pyout",
       "prompt_number": 10,
       "text": [
        "287"
       ]
      }
     ],
     "prompt_number": 10
    },
    {
     "cell_type": "code",
     "collapsed": false,
     "input": [
      "g.display()"
     ],
     "language": "python",
     "metadata": {},
     "outputs": [
      {
       "output_type": "stream",
       "stream": "stdout",
       "text": [
        "MTG : nb_vertices=287, nb_scales=2\n",
        "/Phytomer\t\t\t(id=1)\t\t\t\t\t\t\t\t\t\t\t\n",
        "^<Phytomer\t\t\t(id=2)\t\t\t\t\t\t\t\t\t\t\t\n",
        "^<Phytomer\t\t\t(id=3)\t\t\t\t\t\t\t\t\t\t\t\n",
        "^<Phytomer\t\t\t(id=4)\t\t\t\t\t\t\t\t\t\t\t\n",
        "^<Phytomer\t\t\t(id=5)\t\t\t\t\t\t\t\t\t\t\t\n",
        "^<Phytomer\t\t\t(id=6)\t\t\t\t\t\t\t\t\t\t\t\n",
        "\t+Phytomer\t\t\t(id=7)\t\t\t\t\t\t\t\t\t\t\n",
        "\t^<Phytomer\t\t\t(id=8)\t\t\t\t\t\t\t\t\t\t\n",
        "\t^<Phytomer\t\t\t(id=9)\t\t\t\t\t\t\t\t\t\t\n",
        "\t^<Phytomer\t\t\t(id=10)\t\t\t\t\t\t\t\t\t\t\n",
        "\t^<Phytomer\t\t\t(id=11)\t\t\t\t\t\t\t\t\t\t\n",
        "\t^<Phytomer\t\t\t(id=12)\t\t\t\t\t\t\t\t\t\t\n",
        "\t\t+Phytomer\t\t\t(id=13)\t\t\t\t\t\t\t\t\t\n",
        "\t\t^<Phytomer\t\t\t(id=14)\t\t\t\t\t\t\t\t\t\n",
        "\t\t^<Phytomer\t\t\t(id=15)\t\t\t\t\t\t\t\t\t\n",
        "\t\t^<Phytomer\t\t\t(id=16)\t\t\t\t\t\t\t\t\t\n",
        "\t\t\t+Phytomer\t\t\t(id=17)\t\t\t\t\t\t\t\t\n",
        "\t\t\t^<Phytomer\t\t\t(id=18)\t\t\t\t\t\t\t\t\n",
        "\t\t\t^<Phytomer\t\t\t(id=19)\t\t\t\t\t\t\t\t\n",
        "\t\t\t^<TerminalBud\t\t\t(id=20)\t\t\t\t\t\t\t\t\n",
        "\t\t^<Inflorescence\t\t\t(id=21)\t\t\t\t\t\t\t\t\t\n",
        "\t^<Inflorescence\t\t\t(id=22)\t\t\t\t\t\t\t\t\t\t\n",
        "^<Phytomer\t\t\t(id=23)\t\t\t\t\t\t\t\t\t\t\t\n",
        "^<Phytomer\t\t\t(id=24)\t\t\t\t\t\t\t\t\t\t\t\n",
        "^<Phytomer\t\t\t(id=25)\t\t\t\t\t\t\t\t\t\t\t\n",
        "^<Phytomer\t\t\t(id=26)\t\t\t\t\t\t\t\t\t\t\t\n",
        "^<Phytomer\t\t\t(id=27)\t\t\t\t\t\t\t\t\t\t\t\n",
        "^<Phytomer\t\t\t(id=28)\t\t\t\t\t\t\t\t\t\t\t\n",
        "\t+Phytomer\t\t\t(id=29)\t\t\t\t\t\t\t\t\t\t\n",
        "\t^<Phytomer\t\t\t(id=30)\t\t\t\t\t\t\t\t\t\t\n",
        "\t^<Phytomer\t\t\t(id=31)\t\t\t\t\t\t\t\t\t\t\n",
        "\t\t+Phytomer\t\t\t(id=32)\t\t\t\t\t\t\t\t\t\n",
        "\t\t^<Phytomer\t\t\t(id=33)\t\t\t\t\t\t\t\t\t\n",
        "\t\t^<Phytomer\t\t\t(id=34)\t\t\t\t\t\t\t\t\t\n",
        "\t\t^<Phytomer\t\t\t(id=35)\t\t\t\t\t\t\t\t\t\n",
        "\t\t^<Phytomer\t\t\t(id=36)\t\t\t\t\t\t\t\t\t\n",
        "\t\t^<Phytomer\t\t\t(id=37)\t\t\t\t\t\t\t\t\t\n",
        "\t\t^<Phytomer\t\t\t(id=38)\t\t\t\t\t\t\t\t\t\n",
        "\t\t^<Phytomer\t\t\t(id=39)\t\t\t\t\t\t\t\t\t\n",
        "\t\t^<TerminalBud\t\t\t(id=40)\t\t\t\t\t\t\t\t\t\n",
        "\t^<Inflorescence\t\t\t(id=41)\t\t\t\t\t\t\t\t\t\t\n",
        "^<Phytomer\t\t\t(id=42)\t\t\t\t\t\t\t\t\t\t\t\n",
        "^<Phytomer\t\t\t(id=43)\t\t\t\t\t\t\t\t\t\t\t\n",
        "\t+Phytomer\t\t\t(id=44)\t\t\t\t\t\t\t\t\t\t\n",
        "\t^<Phytomer\t\t\t(id=45)\t\t\t\t\t\t\t\t\t\t\n",
        "\t^<Phytomer\t\t\t(id=46)\t\t\t\t\t\t\t\t\t\t\n",
        "\t\t+Phytomer\t\t\t(id=47)\t\t\t\t\t\t\t\t\t\n",
        "\t\t^<Phytomer\t\t\t(id=48)\t\t\t\t\t\t\t\t\t\n",
        "\t\t^<Phytomer\t\t\t(id=49)\t\t\t\t\t\t\t\t\t\n",
        "\t\t^<Phytomer\t\t\t(id=50)\t\t\t\t\t\t\t\t\t\n",
        "\t\t^<Phytomer\t\t\t(id=51)\t\t\t\t\t\t\t\t\t\n",
        "\t\t^<Phytomer\t\t\t(id=52)\t\t\t\t\t\t\t\t\t\n",
        "\t\t\t+Phytomer\t\t\t(id=53)\t\t\t\t\t\t\t\t\n",
        "\t\t\t^<Phytomer\t\t\t(id=54)\t\t\t\t\t\t\t\t\n",
        "\t\t\t^<TerminalBud\t\t\t(id=55)\t\t\t\t\t\t\t\t\n",
        "\t\t^<Inflorescence\t\t\t(id=56)\t\t\t\t\t\t\t\t\t\n",
        "\t^<Inflorescence\t\t\t(id=57)\t\t\t\t\t\t\t\t\t\t\n",
        "^<Phytomer\t\t\t(id=58)\t\t\t\t\t\t\t\t\t\t\t\n",
        "^<Phytomer\t\t\t(id=59)\t\t\t\t\t\t\t\t\t\t\t\n",
        "^<Phytomer\t\t\t(id=60)\t\t\t\t\t\t\t\t\t\t\t\n",
        "^<Inflorescence\t\t\t(id=61)\t\t\t\t\t\t\t\t\t\t\t\n",
        "/Phytomer\t\t\t(id=62)\t\t\t\t\t\t\t\t\t\t\t\n",
        "^<Phytomer\t\t\t(id=63)\t\t\t\t\t\t\t\t\t\t\t\n",
        "^<Phytomer\t\t\t(id=64)\t\t\t\t\t\t\t\t\t\t\t\n",
        "^<Phytomer\t\t\t(id=65)\t\t\t\t\t\t\t\t\t\t\t\n",
        "\t+Phytomer\t\t\t(id=66)\t\t\t\t\t\t\t\t\t\t\n",
        "\t^<Phytomer\t\t\t(id=67)\t\t\t\t\t\t\t\t\t\t\n",
        "\t^<Phytomer\t\t\t(id=68)\t\t\t\t\t\t\t\t\t\t\n",
        "\t^<Phytomer\t\t\t(id=69)\t\t\t\t\t\t\t\t\t\t\n",
        "\t\t+Phytomer\t\t\t(id=70)\t\t\t\t\t\t\t\t\t\n",
        "\t\t^<Phytomer\t\t\t(id=71)\t\t\t\t\t\t\t\t\t\n",
        "\t\t\t+Phytomer\t\t\t(id=72)\t\t\t\t\t\t\t\t\n",
        "\t\t\t^<Phytomer\t\t\t(id=73)\t\t\t\t\t\t\t\t\n",
        "\t\t\t\t+Phytomer\t\t\t(id=74)\t\t\t\t\t\t\t\n",
        "\t\t\t\t^<Phytomer\t\t\t(id=75)\t\t\t\t\t\t\t\n",
        "\t\t\t\t^<Phytomer\t\t\t(id=76)\t\t\t\t\t\t\t\n",
        "\t\t\t\t\t+Phytomer\t\t\t(id=77)\t\t\t\t\t\t\n",
        "\t\t\t\t\t^<Phytomer\t\t\t(id=78)\t\t\t\t\t\t\n",
        "\t\t\t\t\t\t+Phytomer\t\t\t(id=79)\t\t\t\t\t\n",
        "\t\t\t\t\t\t^<Phytomer\t\t\t(id=80)\t\t\t\t\t\n",
        "\t\t\t\t\t\t^<Phytomer\t\t\t(id=81)\t\t\t\t\t\n",
        "\t\t\t\t\t\t^<Phytomer\t\t\t(id=82)\t\t\t\t\t\n",
        "\t\t\t\t\t\t^<Phytomer\t\t\t(id=83)\t\t\t\t\t\n",
        "\t\t\t\t\t\t^<TerminalBud\t\t\t(id=84)\t\t\t\t\t\n",
        "\t\t\t\t\t^<Inflorescence\t\t\t(id=85)\t\t\t\t\t\t\n",
        "\t\t\t\t^<Inflorescence\t\t\t(id=86)\t\t\t\t\t\t\t\n",
        "\t\t\t^<Phytomer\t\t\t(id=87)\t\t\t\t\t\t\t\t\n",
        "\t\t\t^<Phytomer\t\t\t(id=88)\t\t\t\t\t\t\t\t\n",
        "\t\t\t\t+Phytomer\t\t\t(id=89)\t\t\t\t\t\t\t\n",
        "\t\t\t\t^<Phytomer\t\t\t(id=90)\t\t\t\t\t\t\t\n",
        "\t\t\t\t^<Phytomer\t\t\t(id=91)\t\t\t\t\t\t\t\n",
        "\t\t\t\t^<Phytomer\t\t\t(id=92)\t\t\t\t\t\t\t\n",
        "\t\t\t\t^<Phytomer\t\t\t(id=93)\t\t\t\t\t\t\t\n",
        "\t\t\t\t^<Phytomer\t\t\t(id=94)\t\t\t\t\t\t\t\n",
        "\t\t\t\t^<Phytomer\t\t\t(id=95)\t\t\t\t\t\t\t\n",
        "\t\t\t\t^<TerminalBud\t\t\t(id=96)\t\t\t\t\t\t\t\n",
        "\t\t\t^<Phytomer\t\t\t(id=97)\t\t\t\t\t\t\t\t\n",
        "\t\t\t^<Phytomer\t\t\t(id=98)\t\t\t\t\t\t\t\t\n",
        "\t\t\t\t+Phytomer\t\t\t(id=99)\t\t\t\t\t\t\t\n",
        "\t\t\t\t^<Phytomer\t\t\t(id=100)\t\t\t\t\t\t\t\n",
        "\t\t\t\t^<Phytomer\t\t\t(id=101)\t\t\t\t\t\t\t\n",
        "\t\t\t\t^<Phytomer\t\t\t(id=102)\t\t\t\t\t\t\t\n",
        "\t\t\t\t^<Phytomer\t\t\t(id=103)\t\t\t\t\t\t\t\n",
        "\t\t\t\t^<Phytomer\t\t\t(id=104)\t\t\t\t\t\t\t\n",
        "\t\t\t\t^<Phytomer\t\t\t(id=105)\t\t\t\t\t\t\t\n",
        "\t\t\t\t^<Phytomer\t\t\t(id=106)\t\t\t\t\t\t\t\n",
        "\t\t\t\t^<TerminalBud\t\t\t(id=107)\t\t\t\t\t\t\t\n",
        "\t\t\t^<Inflorescence\t\t\t(id=108)\t\t\t\t\t\t\t\t\n",
        "\t\t^<Inflorescence\t\t\t(id=109)\t\t\t\t\t\t\t\t\t\n",
        "\t^<Inflorescence\t\t\t(id=110)\t\t\t\t\t\t\t\t\t\t\n",
        "^<Phytomer\t\t\t(id=111)\t\t\t\t\t\t\t\t\t\t\t\n",
        "\t+Phytomer\t\t\t(id=112)\t\t\t\t\t\t\t\t\t\t\n",
        "\t\t+Phytomer\t\t\t(id=113)\t\t\t\t\t\t\t\t\t\n",
        "\t\t^<Phytomer\t\t\t(id=114)\t\t\t\t\t\t\t\t\t\n",
        "\t\t^<Phytomer\t\t\t(id=115)\t\t\t\t\t\t\t\t\t\n",
        "\t\t\t+Phytomer\t\t\t(id=116)\t\t\t\t\t\t\t\t\n",
        "\t\t\t^<Phytomer\t\t\t(id=117)\t\t\t\t\t\t\t\t\n",
        "\t\t\t^<Phytomer\t\t\t(id=118)\t\t\t\t\t\t\t\t\n",
        "\t\t\t^<Phytomer\t\t\t(id=119)\t\t\t\t\t\t\t\t\n",
        "\t\t\t^<Phytomer\t\t\t(id=120)\t\t\t\t\t\t\t\t\n",
        "\t\t\t^<TerminalBud\t\t\t(id=121)\t\t\t\t\t\t\t\t\n",
        "\t\t^<Inflorescence\t\t\t(id=122)\t\t\t\t\t\t\t\t\t\n",
        "\t^<Phytomer\t\t\t(id=123)\t\t\t\t\t\t\t\t\t\t\n",
        "\t^<Phytomer\t\t\t(id=124)\t\t\t\t\t\t\t\t\t\t\n",
        "\t\t+Phytomer\t\t\t(id=125)\t\t\t\t\t\t\t\t\t\n",
        "\t\t^<Phytomer\t\t\t(id=126)\t\t\t\t\t\t\t\t\t\n",
        "\t\t^<Phytomer\t\t\t(id=127)\t\t\t\t\t\t\t\t\t\n",
        "\t\t^<Phytomer\t\t\t(id=128)\t\t\t\t\t\t\t\t\t\n",
        "\t\t^<Phytomer\t\t\t(id=129)\t\t\t\t\t\t\t\t\t\n",
        "\t\t^<Phytomer\t\t\t(id=130)\t\t\t\t\t\t\t\t\t\n",
        "\t\t^<TerminalBud\t\t\t(id=131)\t\t\t\t\t\t\t\t\t\n",
        "\t^<Inflorescence\t\t\t(id=132)\t\t\t\t\t\t\t\t\t\t\n",
        "^<Phytomer\t\t\t(id=133)\t\t\t\t\t\t\t\t\t\t\t\n",
        "^<Phytomer\t\t\t(id=134)\t\t\t\t\t\t\t\t\t\t\t\n",
        "^<Phytomer\t\t\t(id=135)\t\t\t\t\t\t\t\t\t\t\t\n",
        "^<Phytomer\t\t\t(id=136)\t\t\t\t\t\t\t\t\t\t\t\n",
        "^<Phytomer\t\t\t(id=137)\t\t\t\t\t\t\t\t\t\t\t\n",
        "^<Phytomer\t\t\t(id=138)\t\t\t\t\t\t\t\t\t\t\t\n",
        "^<Phytomer\t\t\t(id=139)\t\t\t\t\t\t\t\t\t\t\t\n",
        "\t+Phytomer\t\t\t(id=140)\t\t\t\t\t\t\t\t\t\t\n",
        "\t^<Phytomer\t\t\t(id=141)\t\t\t\t\t\t\t\t\t\t\n",
        "\t\t+Phytomer\t\t\t(id=142)\t\t\t\t\t\t\t\t\t\n",
        "\t\t^<Phytomer\t\t\t(id=143)\t\t\t\t\t\t\t\t\t\n",
        "\t\t^<Phytomer\t\t\t(id=144)\t\t\t\t\t\t\t\t\t\n",
        "\t\t\t+Phytomer\t\t\t(id=145)\t\t\t\t\t\t\t\t\n",
        "\t\t\t^<TerminalBud\t\t\t(id=146)\t\t\t\t\t\t\t\t\n",
        "\t\t^<Inflorescence\t\t\t(id=147)\t\t\t\t\t\t\t\t\t\n",
        "\t^<Phytomer\t\t\t(id=148)\t\t\t\t\t\t\t\t\t\t\n",
        "\t^<Phytomer\t\t\t(id=149)\t\t\t\t\t\t\t\t\t\t\n",
        "\t^<Phytomer\t\t\t(id=150)\t\t\t\t\t\t\t\t\t\t\n",
        "\t^<Phytomer\t\t\t(id=151)\t\t\t\t\t\t\t\t\t\t\n",
        "\t^<Phytomer\t\t\t(id=152)\t\t\t\t\t\t\t\t\t\t\n",
        "\t\t+Phytomer\t\t\t(id=153)\t\t\t\t\t\t\t\t\t\n",
        "\t\t\t+Phytomer\t\t\t(id=154)\t\t\t\t\t\t\t\t\n",
        "\t\t\t^<Phytomer\t\t\t(id=155)\t\t\t\t\t\t\t\t\n",
        "\t\t\t^<Phytomer\t\t\t(id=156)\t\t\t\t\t\t\t\t\n",
        "\t\t\t^<Phytomer\t\t\t(id=157)\t\t\t\t\t\t\t\t\n",
        "\t\t\t^<TerminalBud\t\t\t(id=158)\t\t\t\t\t\t\t\t\n",
        "\t\t^<Inflorescence\t\t\t(id=159)\t\t\t\t\t\t\t\t\t\n",
        "\t\t^<Phytomer\t\t\t(id=160)\t\t\t\t\t\t\t\t\t\n",
        "\t\t\t+Phytomer\t\t\t(id=161)\t\t\t\t\t\t\t\t\n",
        "\t\t\t^<Phytomer\t\t\t(id=162)\t\t\t\t\t\t\t\t\n",
        "\t\t\t^<Phytomer\t\t\t(id=163)\t\t\t\t\t\t\t\t\n",
        "\t\t\t^<Phytomer\t\t\t(id=164)\t\t\t\t\t\t\t\t\n",
        "\t\t\t^<Phytomer\t\t\t(id=165)\t\t\t\t\t\t\t\t\n",
        "\t\t\t^<TerminalBud\t\t\t(id=166)\t\t\t\t\t\t\t\t\n",
        "\t\t^<Inflorescence\t\t\t(id=167)\t\t\t\t\t\t\t\t\t\n",
        "\t^<Inflorescence\t\t\t(id=168)\t\t\t\t\t\t\t\t\t\t\n",
        "^<Inflorescence\t\t\t(id=169)\t\t\t\t\t\t\t\t\t\t\t\n",
        "/Phytomer\t\t\t(id=170)\t\t\t\t\t\t\t\t\t\t\t\n",
        "\t+Phytomer\t\t\t(id=171)\t\t\t\t\t\t\t\t\t\t\n",
        "\t^<Phytomer\t\t\t(id=172)\t\t\t\t\t\t\t\t\t\t\n",
        "\t^<Phytomer\t\t\t(id=173)\t\t\t\t\t\t\t\t\t\t\n",
        "\t^<Phytomer\t\t\t(id=174)\t\t\t\t\t\t\t\t\t\t\n",
        "\t^<Phytomer\t\t\t(id=175)\t\t\t\t\t\t\t\t\t\t\n",
        "\t^<Phytomer\t\t\t(id=176)\t\t\t\t\t\t\t\t\t\t\n",
        "\t^<Phytomer\t\t\t(id=177)\t\t\t\t\t\t\t\t\t\t\n",
        "\t^<Phytomer\t\t\t(id=178)\t\t\t\t\t\t\t\t\t\t\n",
        "\t^<Phytomer\t\t\t(id=179)\t\t\t\t\t\t\t\t\t\t\n",
        "\t^<Phytomer\t\t\t(id=180)\t\t\t\t\t\t\t\t\t\t\n",
        "\t^<Phytomer\t\t\t(id=181)\t\t\t\t\t\t\t\t\t\t\n",
        "\t^<Phytomer\t\t\t(id=182)\t\t\t\t\t\t\t\t\t\t\n",
        "\t^<Phytomer\t\t\t(id=183)\t\t\t\t\t\t\t\t\t\t\n",
        "\t^<Phytomer\t\t\t(id=184)\t\t\t\t\t\t\t\t\t\t\n",
        "\t^<Phytomer\t\t\t(id=185)\t\t\t\t\t\t\t\t\t\t\n",
        "\t^<Phytomer\t\t\t(id=186)\t\t\t\t\t\t\t\t\t\t\n",
        "\t\t+Phytomer\t\t\t(id=187)\t\t\t\t\t\t\t\t\t\n",
        "\t\t^<Phytomer\t\t\t(id=188)\t\t\t\t\t\t\t\t\t\n",
        "\t\t\t+Phytomer\t\t\t(id=189)\t\t\t\t\t\t\t\t\n",
        "\t\t\t^<Phytomer\t\t\t(id=190)\t\t\t\t\t\t\t\t\n",
        "\t\t\t^<Phytomer\t\t\t(id=191)\t\t\t\t\t\t\t\t\n",
        "\t\t\t^<Phytomer\t\t\t(id=192)\t\t\t\t\t\t\t\t\n",
        "\t\t\t\t+Phytomer\t\t\t(id=193)\t\t\t\t\t\t\t\n",
        "\t\t\t\t^<Phytomer\t\t\t(id=194)\t\t\t\t\t\t\t\n",
        "\t\t\t\t^<Phytomer\t\t\t(id=195)\t\t\t\t\t\t\t\n",
        "\t\t\t\t^<Phytomer\t\t\t(id=196)\t\t\t\t\t\t\t\n",
        "\t\t\t\t^<TerminalBud\t\t\t(id=197)\t\t\t\t\t\t\t\n",
        "\t\t\t^<Inflorescence\t\t\t(id=198)\t\t\t\t\t\t\t\t\n",
        "\t\t^<Inflorescence\t\t\t(id=199)\t\t\t\t\t\t\t\t\t\n",
        "\t^<Phytomer\t\t\t(id=200)\t\t\t\t\t\t\t\t\t\t\n",
        "\t^<Phytomer\t\t\t(id=201)\t\t\t\t\t\t\t\t\t\t\n",
        "\t\t+Phytomer\t\t\t(id=202)\t\t\t\t\t\t\t\t\t\n",
        "\t\t^<Phytomer\t\t\t(id=203)\t\t\t\t\t\t\t\t\t\n",
        "\t\t\t+Phytomer\t\t\t(id=204)\t\t\t\t\t\t\t\t\n",
        "\t\t\t^<Phytomer\t\t\t(id=205)\t\t\t\t\t\t\t\t\n",
        "\t\t\t^<Phytomer\t\t\t(id=206)\t\t\t\t\t\t\t\t\n",
        "\t\t\t\t+Phytomer\t\t\t(id=207)\t\t\t\t\t\t\t\n",
        "\t\t\t\t^<Phytomer\t\t\t(id=208)\t\t\t\t\t\t\t\n",
        "\t\t\t\t\t+Phytomer\t\t\t(id=209)\t\t\t\t\t\t\n",
        "\t\t\t\t\t^<Phytomer\t\t\t(id=210)\t\t\t\t\t\t\n",
        "\t\t\t\t\t^<Phytomer\t\t\t(id=211)\t\t\t\t\t\t\n",
        "\t\t\t\t\t^<TerminalBud\t\t\t(id=212)\t\t\t\t\t\t\n",
        "\t\t\t\t^<Inflorescence\t\t\t(id=213)\t\t\t\t\t\t\t\n",
        "\t\t\t^<Inflorescence\t\t\t(id=214)\t\t\t\t\t\t\t\t\n",
        "\t\t^<Inflorescence\t\t\t(id=215)\t\t\t\t\t\t\t\t\t\n",
        "\t\t^<Phytomer\t\t\t(id=216)\t\t\t\t\t\t\t\t\t\n",
        "\t\t^<Phytomer\t\t\t(id=217)\t\t\t\t\t\t\t\t\t\n",
        "\t\t\t+Phytomer\t\t\t(id=218)\t\t\t\t\t\t\t\t\n",
        "\t\t\t^<Phytomer\t\t\t(id=219)\t\t\t\t\t\t\t\t\n",
        "\t\t\t^<Phytomer\t\t\t(id=220)\t\t\t\t\t\t\t\t\n",
        "\t\t\t^<Phytomer\t\t\t(id=221)\t\t\t\t\t\t\t\t\n",
        "\t\t\t^<Phytomer\t\t\t(id=222)\t\t\t\t\t\t\t\t\n",
        "\t\t\t^<Phytomer\t\t\t(id=223)\t\t\t\t\t\t\t\t\n",
        "\t\t\t^<TerminalBud\t\t\t(id=224)\t\t\t\t\t\t\t\t\n",
        "\t\t^<Inflorescence\t\t\t(id=225)\t\t\t\t\t\t\t\t\t\n",
        "\t^<Phytomer\t\t\t(id=226)\t\t\t\t\t\t\t\t\t\t\n",
        "\t^<Inflorescence\t\t\t(id=227)\t\t\t\t\t\t\t\t\t\t\n",
        "^<Phytomer\t\t\t(id=228)\t\t\t\t\t\t\t\t\t\t\t\n",
        "^<Phytomer\t\t\t(id=229)\t\t\t\t\t\t\t\t\t\t\t\n",
        "^<Phytomer\t\t\t(id=230)\t\t\t\t\t\t\t\t\t\t\t\n",
        "\t+Phytomer\t\t\t(id=231)\t\t\t\t\t\t\t\t\t\t\n",
        "\t^<Phytomer\t\t\t(id=232)\t\t\t\t\t\t\t\t\t\t\n",
        "\t^<Phytomer\t\t\t(id=233)\t\t\t\t\t\t\t\t\t\t\n",
        "\t^<Phytomer\t\t\t(id=234)\t\t\t\t\t\t\t\t\t\t\n",
        "\t\t+Phytomer\t\t\t(id=235)\t\t\t\t\t\t\t\t\t\n",
        "\t\t^<Phytomer\t\t\t(id=236)\t\t\t\t\t\t\t\t\t\n",
        "\t\t\t+Phytomer\t\t\t(id=237)\t\t\t\t\t\t\t\t\n",
        "\t\t\t^<Phytomer\t\t\t(id=238)\t\t\t\t\t\t\t\t\n",
        "\t\t\t^<Phytomer\t\t\t(id=239)\t\t\t\t\t\t\t\t\n",
        "\t\t\t^<Phytomer\t\t\t(id=240)\t\t\t\t\t\t\t\t\n",
        "\t\t\t^<Phytomer\t\t\t(id=241)\t\t\t\t\t\t\t\t\n",
        "\t\t\t^<TerminalBud\t\t\t(id=242)\t\t\t\t\t\t\t\t\n",
        "\t\t^<Inflorescence\t\t\t(id=243)\t\t\t\t\t\t\t\t\t\n",
        "\t^<Inflorescence\t\t\t(id=244)\t\t\t\t\t\t\t\t\t\t\n",
        "^<Phytomer\t\t\t(id=245)\t\t\t\t\t\t\t\t\t\t\t\n",
        "^<Phytomer\t\t\t(id=246)\t\t\t\t\t\t\t\t\t\t\t\n",
        "^<Phytomer\t\t\t(id=247)\t\t\t\t\t\t\t\t\t\t\t\n",
        "^<Phytomer\t\t\t(id=248)\t\t\t\t\t\t\t\t\t\t\t\n",
        "\t+Phytomer\t\t\t(id=249)\t\t\t\t\t\t\t\t\t\t\n",
        "\t\t+Phytomer\t\t\t(id=250)\t\t\t\t\t\t\t\t\t\n",
        "\t\t\t+Phytomer\t\t\t(id=251)\t\t\t\t\t\t\t\t\n",
        "\t\t\t^<Phytomer\t\t\t(id=252)\t\t\t\t\t\t\t\t\n",
        "\t\t\t\t+Phytomer\t\t\t(id=253)\t\t\t\t\t\t\t\n",
        "\t\t\t\t^<Phytomer\t\t\t(id=254)\t\t\t\t\t\t\t\n",
        "\t\t\t\t\t+Phytomer\t\t\t(id=255)\t\t\t\t\t\t\n",
        "\t\t\t\t\t^<Phytomer\t\t\t(id=256)\t\t\t\t\t\t\n",
        "\t\t\t\t\t^<Phytomer\t\t\t(id=257)\t\t\t\t\t\t\n",
        "\t\t\t\t\t^<Phytomer\t\t\t(id=258)\t\t\t\t\t\t\n",
        "\t\t\t\t\t^<Phytomer\t\t\t(id=259)\t\t\t\t\t\t\n",
        "\t\t\t\t\t^<Phytomer\t\t\t(id=260)\t\t\t\t\t\t\n",
        "\t\t\t\t\t^<Phytomer\t\t\t(id=261)\t\t\t\t\t\t\n",
        "\t\t\t\t\t^<Phytomer\t\t\t(id=262)\t\t\t\t\t\t\n",
        "\t\t\t\t\t^<TerminalBud\t\t\t(id=263)\t\t\t\t\t\t\n",
        "\t\t\t\t^<Inflorescence\t\t\t(id=264)\t\t\t\t\t\t\t\n",
        "\t\t\t^<Inflorescence\t\t\t(id=265)\t\t\t\t\t\t\t\t\n",
        "\t\t^<Inflorescence\t\t\t(id=266)\t\t\t\t\t\t\t\t\t\n",
        "\t\t^<Phytomer\t\t\t(id=267)\t\t\t\t\t\t\t\t\t\n",
        "\t\t\t+Phytomer\t\t\t(id=268)\t\t\t\t\t\t\t\t\n",
        "\t\t\t^<Phytomer\t\t\t(id=269)\t\t\t\t\t\t\t\t\n",
        "\t\t\t^<Phytomer\t\t\t(id=270)\t\t\t\t\t\t\t\t\n",
        "\t\t\t^<Phytomer\t\t\t(id=271)\t\t\t\t\t\t\t\t\n",
        "\t\t\t^<Phytomer\t\t\t(id=272)\t\t\t\t\t\t\t\t\n",
        "\t\t\t^<TerminalBud\t\t\t(id=273)\t\t\t\t\t\t\t\t\n",
        "\t\t\t^<Phytomer\t\t\t(id=274)\t\t\t\t\t\t\t\t\n",
        "\t\t\t^<Phytomer\t\t\t(id=275)\t\t\t\t\t\t\t\t\n",
        "\t\t\t^<Phytomer\t\t\t(id=276)\t\t\t\t\t\t\t\t\n",
        "\t\t\t^<Phytomer\t\t\t(id=277)\t\t\t\t\t\t\t\t\n",
        "\t\t\t^<Phytomer\t\t\t(id=278)\t\t\t\t\t\t\t\t\n",
        "\t\t\t^<Phytomer\t\t\t(id=279)\t\t\t\t\t\t\t\t\n",
        "\t\t\t^<Phytomer\t\t\t(id=280)\t\t\t\t\t\t\t\t\n",
        "\t\t\t^<Phytomer\t\t\t(id=281)\t\t\t\t\t\t\t\t\n",
        "\t\t\t^<Phytomer\t\t\t(id=282)\t\t\t\t\t\t\t\t\n",
        "\t\t\t^<TerminalBud\t\t\t(id=283)\t\t\t\t\t\t\t\t\n",
        "\t\t^<Inflorescence\t\t\t(id=284)\t\t\t\t\t\t\t\t\t\n",
        "\t^<Inflorescence\t\t\t(id=285)\t\t\t\t\t\t\t\t\t\t\n",
        "^<Inflorescence\t\t\t(id=286)\t\t\t\t\t\t\t\t\t\t\t\n"
       ]
      }
     ],
     "prompt_number": 11
    },
    {
     "cell_type": "markdown",
     "metadata": {},
     "source": [
      "## Extraction at plant level\n",
      "\n",
      "### Hypothesis: \n",
      "- Number of leaves = Number of Phytomer"
     ]
    },
    {
     "cell_type": "code",
     "collapsed": false,
     "input": [
      "g = gs[0]; print files[0]"
     ],
     "language": "python",
     "metadata": {},
     "outputs": [
      {
       "ename": "NameError",
       "evalue": "name 'gs' is not defined",
       "output_type": "pyerr",
       "traceback": [
        "\u001b[1;31m---------------------------------------------------------------------------\u001b[0m\n\u001b[1;31mNameError\u001b[0m                                 Traceback (most recent call last)",
        "\u001b[1;32m<ipython-input-1-1643593a1fc5>\u001b[0m in \u001b[0;36m<module>\u001b[1;34m()\u001b[0m\n\u001b[1;32m----> 1\u001b[1;33m \u001b[0mg\u001b[0m \u001b[1;33m=\u001b[0m \u001b[0mgs\u001b[0m\u001b[1;33m[\u001b[0m\u001b[1;36m0\u001b[0m\u001b[1;33m]\u001b[0m\u001b[1;33m;\u001b[0m \u001b[1;32mprint\u001b[0m \u001b[0mfiles\u001b[0m\u001b[1;33m[\u001b[0m\u001b[1;36m0\u001b[0m\u001b[1;33m]\u001b[0m\u001b[1;33m\u001b[0m\u001b[0m\n\u001b[0m",
        "\u001b[1;31mNameError\u001b[0m: name 'gs' is not defined"
       ]
      }
     ],
     "prompt_number": 1
    },
    {
     "cell_type": "code",
     "collapsed": false,
     "input": [
      "len(g)"
     ],
     "language": "python",
     "metadata": {},
     "outputs": [
      {
       "metadata": {},
       "output_type": "pyout",
       "prompt_number": 23,
       "text": [
        "62"
       ]
      }
     ],
     "prompt_number": 23
    },
    {
     "cell_type": "code",
     "collapsed": false,
     "input": [
      "# List labels\n",
      "labels = set(g.label(v) for v in g if g.label(v) != '')\n",
      "print labels\n",
      "\n",
      "# Select Phytomers\n",
      "def select_entities(g, name):\n",
      "    \"\"\" Returns entities like Phytomer or Inflorescence in MTG. \n",
      "    name can be abbreviated (Phyto or Phytomer).\n",
      "    \"\"\"\n",
      "    return [v for v in g if name in g.label(v)]\n",
      "\n",
      "phytomers = select_entities(g, 'Phyto')\n",
      "inflos = select_entities(g, 'Inflo')\n",
      "buds = select_entities(g, 'Bud')\n",
      "print len(phytomers), len(inflos), len(buds)\n",
      "print len(g)\n",
      "assert (len(g) - 1) == len(phytomers)+ len(inflos)+ len(buds)"
     ],
     "language": "python",
     "metadata": {},
     "outputs": [
      {
       "output_type": "stream",
       "stream": "stdout",
       "text": [
        "set(['TerminalBud', 'Phytomer', 'Inflorescence'])\n",
        "52 6 3\n",
        "62\n"
       ]
      }
     ],
     "prompt_number": 31
    },
    {
     "cell_type": "code",
     "collapsed": false,
     "input": [
      "# Extract axes. This is equivalent to extract the first vertex of each axis\n",
      "# g.edge_type(v)!='<' : all ramifications and the first vertex of each plant (order 0)\n",
      "max_scale = g.max_scale()\n",
      "vertex_axes = [v for v in g.vertices(scale=max_scale) if g.edge_type(v)!='<']\n",
      "print vertex_axes\n",
      "# g.display()"
     ],
     "language": "python",
     "metadata": {},
     "outputs": [
      {
       "output_type": "stream",
       "stream": "stdout",
       "text": [
        "[1, 7, 13, 17, 29, 32, 44, 47, 53]\n"
       ]
      }
     ],
     "prompt_number": 33
    },
    {
     "cell_type": "code",
     "collapsed": false,
     "input": [
      "orders = algo.orders(g)"
     ],
     "language": "python",
     "metadata": {},
     "outputs": [],
     "prompt_number": 36
    },
    {
     "cell_type": "code",
     "collapsed": false,
     "input": [
      "order_axes = dict((v, orders[v]) for v in vertex_axes)"
     ],
     "language": "python",
     "metadata": {},
     "outputs": [],
     "prompt_number": 37
    },
    {
     "cell_type": "code",
     "collapsed": false,
     "input": [
      "order_axes"
     ],
     "language": "python",
     "metadata": {},
     "outputs": [
      {
       "metadata": {},
       "output_type": "pyout",
       "prompt_number": 38,
       "text": [
        "{1: 0, 7: 1, 13: 2, 17: 3, 29: 1, 32: 2, 44: 1, 47: 2, 53: 3}"
       ]
      }
     ],
     "prompt_number": 38
    },
    {
     "cell_type": "code",
     "collapsed": false,
     "input": [
      "axes = [g.Axis(v) for v in vertex_axes]\n",
      "print axes\n",
      "nb = sum(len(axis) for axis in axes)\n",
      "print nb\n",
      "print len(g)-1"
     ],
     "language": "python",
     "metadata": {},
     "outputs": [
      {
       "output_type": "stream",
       "stream": "stdout",
       "text": [
        "[[1, 2, 3, 4, 5, 6, 23, 24, 25, 26, 27, 28, 42, 43, 58, 59, 60, 61], [7, 8, 9, 10, 11, 12, 22], [13, 14, 15, 16, 21], [17, 18, 19, 20], [29, 30, 31, 41], [32, 33, 34, 35, 36, 37, 38, 39, 40], [44, 45, 46, 57], [47, 48, 49, 50, 51, 52, 56], [53, 54, 55]]\n",
        "61\n",
        "61\n"
       ]
      }
     ],
     "prompt_number": 87
    },
    {
     "cell_type": "code",
     "collapsed": false,
     "input": [
      "phyto_axis = [[v for v in axis if 'Phyto' in g.label(v)] for axis in axes ]\n",
      "print phyto_axis\n",
      "\n",
      "axes_by_no = {}\n",
      "for axis_no in range(len(phyto_axis)):\n",
      "    axes_by_no[axis_no] = phyto_axis[axis_no]\n",
      "    print g.order(phyto_axis[axis_no][0]), len(phyto_axis[axis_no])\n",
      "\n",
      "#print axes_by_order\n",
      "axes_by_order = {}\n",
      "for axis_no in range(len(phyto_axis)):\n",
      "    l = phyto_axis[axis_no]\n",
      "    axes_by_order.setdefault(orders[l[0]], []).append(len(l))\n",
      "print axes_by_order"
     ],
     "language": "python",
     "metadata": {},
     "outputs": [
      {
       "output_type": "stream",
       "stream": "stdout",
       "text": [
        "[[1, 2, 3, 4, 5, 6, 23, 24, 25, 26, 27, 28, 42, 43, 58, 59, 60], [7, 8, 9, 10, 11, 12], [13, 14, 15, 16], [17, 18, 19], [29, 30, 31], [32, 33, 34, 35, 36, 37, 38, 39], [44, 45, 46], [47, 48, 49, 50, 51, 52], [53, 54]]\n",
        "0 17\n",
        "1 6\n",
        "2 4\n",
        "3 3\n",
        "1 3\n",
        "2 8\n",
        "1 3\n",
        "2 6\n",
        "3 2\n",
        "{0: [17], 1: [6, 3, 3], 2: [4, 8, 6], 3: [3, 2]}\n"
       ]
      }
     ],
     "prompt_number": 88
    },
    {
     "cell_type": "code",
     "collapsed": false,
     "input": [
      "%matplotlib inline\n",
      "from pylab import plot, legend, scatter\n",
      "import numpy\n",
      "for order, axis in axes_by_order.items():\n",
      "    plot(axis,label='order = %d'%(order+1))\n",
      "    legend()\n",
      "#scatter(x=axes_by_order.keys(), y=axes_by_order.values())"
     ],
     "language": "python",
     "metadata": {},
     "outputs": [
      {
       "metadata": {},
       "output_type": "display_data",
       "png": "[encoded data removed]",
       "text": [
        "<matplotlib.figure.Figure at 0x10d07ff50>"
       ]
      }
     ],
     "prompt_number": 89
    },
    {
     "cell_type": "code",
     "collapsed": false,
     "input": [
      "def cut_axis_between_ramifs(axis):\n",
      "    ramifs = [] # 1 or 0 ramifs\n",
      "    l = []\n",
      "    ramifs.append(l)\n",
      "    for i in range(len(axis)):\n",
      "        v = axis[i]\n",
      "        l.append(v)\n",
      "        for cid in g.children(v):\n",
      "            if g.edge_type(cid) == '+':\n",
      "                l = []\n",
      "                ramifs.append(l)\n",
      "                break\n",
      "    return ramifs\n",
      "#print axes\n",
      "cut_axis_between_ramifs(axes[0])\n",
      "for axis in axes:\n",
      "    cut_axes = cut_axis_between_ramifs(axis)\n",
      "    print [sum(1 for v in sub_axes if 'Phy' in g.label(v))  for sub_axes in cut_axes]"
     ],
     "language": "python",
     "metadata": {},
     "outputs": [
      {
       "output_type": "stream",
       "stream": "stdout",
       "text": [
        "[6, 6, 2, 3]\n",
        "[6, 0]\n",
        "[4, 0]\n",
        "[3]\n",
        "[3, 0]\n",
        "[8]\n",
        "[3, 0]\n",
        "[6, 0]\n",
        "[2]\n"
       ]
      }
     ],
     "prompt_number": 98
    },
    {
     "cell_type": "code",
     "collapsed": false,
     "input": [
      "g.display()"
     ],
     "language": "python",
     "metadata": {},
     "outputs": [
      {
       "output_type": "stream",
       "stream": "stdout",
       "text": [
        "MTG : nb_vertices=62, nb_scales=2\n",
        "/Phytomer\t\t\t(id=1)\t\t\t\t\t\t\t\t\t\t\t\n",
        "^<Phytomer\t\t\t(id=2)\t\t\t\t\t\t\t\t\t\t\t\n",
        "^<Phytomer\t\t\t(id=3)\t\t\t\t\t\t\t\t\t\t\t\n",
        "^<Phytomer\t\t\t(id=4)\t\t\t\t\t\t\t\t\t\t\t\n",
        "^<Phytomer\t\t\t(id=5)\t\t\t\t\t\t\t\t\t\t\t\n",
        "^<Phytomer\t\t\t(id=6)\t\t\t\t\t\t\t\t\t\t\t\n",
        "\t+Phytomer\t\t\t(id=7)\t\t\t\t\t\t\t\t\t\t\n",
        "\t^<Phytomer\t\t\t(id=8)\t\t\t\t\t\t\t\t\t\t\n",
        "\t^<Phytomer\t\t\t(id=9)\t\t\t\t\t\t\t\t\t\t\n",
        "\t^<Phytomer\t\t\t(id=10)\t\t\t\t\t\t\t\t\t\t\n",
        "\t^<Phytomer\t\t\t(id=11)\t\t\t\t\t\t\t\t\t\t\n",
        "\t^<Phytomer\t\t\t(id=12)\t\t\t\t\t\t\t\t\t\t\n",
        "\t\t+Phytomer\t\t\t(id=13)\t\t\t\t\t\t\t\t\t\n",
        "\t\t^<Phytomer\t\t\t(id=14)\t\t\t\t\t\t\t\t\t\n",
        "\t\t^<Phytomer\t\t\t(id=15)\t\t\t\t\t\t\t\t\t\n",
        "\t\t^<Phytomer\t\t\t(id=16)\t\t\t\t\t\t\t\t\t\n",
        "\t\t\t+Phytomer\t\t\t(id=17)\t\t\t\t\t\t\t\t\n",
        "\t\t\t^<Phytomer\t\t\t(id=18)\t\t\t\t\t\t\t\t\n",
        "\t\t\t^<Phytomer\t\t\t(id=19)\t\t\t\t\t\t\t\t\n",
        "\t\t\t^<TerminalBud\t\t\t(id=20)\t\t\t\t\t\t\t\t\n",
        "\t\t^<Inflorescence\t\t\t(id=21)\t\t\t\t\t\t\t\t\t\n",
        "\t^<Inflorescence\t\t\t(id=22)\t\t\t\t\t\t\t\t\t\t\n",
        "^<Phytomer\t\t\t(id=23)\t\t\t\t\t\t\t\t\t\t\t\n",
        "^<Phytomer\t\t\t(id=24)\t\t\t\t\t\t\t\t\t\t\t\n",
        "^<Phytomer\t\t\t(id=25)\t\t\t\t\t\t\t\t\t\t\t\n",
        "^<Phytomer\t\t\t(id=26)\t\t\t\t\t\t\t\t\t\t\t\n",
        "^<Phytomer\t\t\t(id=27)\t\t\t\t\t\t\t\t\t\t\t\n",
        "^<Phytomer\t\t\t(id=28)\t\t\t\t\t\t\t\t\t\t\t\n",
        "\t+Phytomer\t\t\t(id=29)\t\t\t\t\t\t\t\t\t\t\n",
        "\t^<Phytomer\t\t\t(id=30)\t\t\t\t\t\t\t\t\t\t\n",
        "\t^<Phytomer\t\t\t(id=31)\t\t\t\t\t\t\t\t\t\t\n",
        "\t\t+Phytomer\t\t\t(id=32)\t\t\t\t\t\t\t\t\t\n",
        "\t\t^<Phytomer\t\t\t(id=33)\t\t\t\t\t\t\t\t\t\n",
        "\t\t^<Phytomer\t\t\t(id=34)\t\t\t\t\t\t\t\t\t\n",
        "\t\t^<Phytomer\t\t\t(id=35)\t\t\t\t\t\t\t\t\t\n",
        "\t\t^<Phytomer\t\t\t(id=36)\t\t\t\t\t\t\t\t\t\n",
        "\t\t^<Phytomer\t\t\t(id=37)\t\t\t\t\t\t\t\t\t\n",
        "\t\t^<Phytomer\t\t\t(id=38)\t\t\t\t\t\t\t\t\t\n",
        "\t\t^<Phytomer\t\t\t(id=39)\t\t\t\t\t\t\t\t\t\n",
        "\t\t^<TerminalBud\t\t\t(id=40)\t\t\t\t\t\t\t\t\t\n",
        "\t^<Inflorescence\t\t\t(id=41)\t\t\t\t\t\t\t\t\t\t\n",
        "^<Phytomer\t\t\t(id=42)\t\t\t\t\t\t\t\t\t\t\t\n",
        "^<Phytomer\t\t\t(id=43)\t\t\t\t\t\t\t\t\t\t\t\n",
        "\t+Phytomer\t\t\t(id=44)\t\t\t\t\t\t\t\t\t\t\n",
        "\t^<Phytomer\t\t\t(id=45)\t\t\t\t\t\t\t\t\t\t\n",
        "\t^<Phytomer\t\t\t(id=46)\t\t\t\t\t\t\t\t\t\t\n",
        "\t\t+Phytomer\t\t\t(id=47)\t\t\t\t\t\t\t\t\t\n",
        "\t\t^<Phytomer\t\t\t(id=48)\t\t\t\t\t\t\t\t\t\n",
        "\t\t^<Phytomer\t\t\t(id=49)\t\t\t\t\t\t\t\t\t\n",
        "\t\t^<Phytomer\t\t\t(id=50)\t\t\t\t\t\t\t\t\t\n",
        "\t\t^<Phytomer\t\t\t(id=51)\t\t\t\t\t\t\t\t\t\n",
        "\t\t^<Phytomer\t\t\t(id=52)\t\t\t\t\t\t\t\t\t\n",
        "\t\t\t+Phytomer\t\t\t(id=53)\t\t\t\t\t\t\t\t\n",
        "\t\t\t^<Phytomer\t\t\t(id=54)\t\t\t\t\t\t\t\t\n",
        "\t\t\t^<TerminalBud\t\t\t(id=55)\t\t\t\t\t\t\t\t\n",
        "\t\t^<Inflorescence\t\t\t(id=56)\t\t\t\t\t\t\t\t\t\n",
        "\t^<Inflorescence\t\t\t(id=57)\t\t\t\t\t\t\t\t\t\t\n",
        "^<Phytomer\t\t\t(id=58)\t\t\t\t\t\t\t\t\t\t\t\n",
        "^<Phytomer\t\t\t(id=59)\t\t\t\t\t\t\t\t\t\t\t\n",
        "^<Phytomer\t\t\t(id=60)\t\t\t\t\t\t\t\t\t\t\t\n",
        "^<Inflorescence\t\t\t(id=61)\t\t\t\t\t\t\t\t\t\t\t\n"
       ]
      }
     ],
     "prompt_number": 93
    },
    {
     "cell_type": "code",
     "collapsed": false,
     "input": [],
     "language": "python",
     "metadata": {},
     "outputs": []
    }
   ],
   "metadata": {}
  }
 ]
}