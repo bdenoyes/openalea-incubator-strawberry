{
 "cells": [
  {
   "cell_type": "markdown",
   "metadata": {},
   "source": [
    "# 1. Import module requirement\n",
    "\n",
    "## 1.1 Import standard Python modules"
   ]
  },
  {
   "cell_type": "code",
   "execution_count": 1,
   "metadata": {},
   "outputs": [],
   "source": [
    "from collections import OrderedDict, defaultdict"
   ]
  },
  {
   "cell_type": "markdown",
   "metadata": {},
   "source": [
    "## 1.2 Import openalea packages "
   ]
  },
  {
   "cell_type": "code",
   "execution_count": 2,
   "metadata": {},
   "outputs": [
    {
     "name": "stdout",
     "output_type": "stream",
     "text": [
      "NOT using graph editor observer No module named grapheditor\n"
     ]
    }
   ],
   "source": [
    "from openalea.deploy.shared_data import shared_data\n",
    "from openalea.mtg import *\n",
    "from openalea.mtg.algo import orders\n",
    "from openalea.mtg import stat\n",
    "import openalea.plantgl.all as pgl"
   ]
  },
  {
   "cell_type": "code",
   "execution_count": 4,
   "metadata": {},
   "outputs": [],
   "source": [
    "from openalea.core import path\n",
    "from openalea.mtg import *\n",
    "from openalea.deploy.shared_data import shared_data\n",
    "import glob"
   ]
  },
  {
   "cell_type": "markdown",
   "metadata": {},
   "source": [
    "## 1.3 Import strawberry modules"
   ]
  },
  {
   "cell_type": "code",
   "execution_count": 3,
   "metadata": {},
   "outputs": [],
   "source": [
    "import openalea.strawberry\n",
    "\n",
    "# rename Rules_production to geometry\n",
    "from openalea.strawberry import Rules_production\n",
    "# Replace Visualisation by visualisation \n",
    "from openalea.strawberry import Visualization\n",
    "from openalea.strawberry import analysis\n",
    "\n",
    "# TODO: Move functions into ???\n",
    "#from openalea.strawberry import variables"
   ]
  },
  {
   "cell_type": "markdown",
   "metadata": {},
   "source": [
    "# 2. Import data and read MTG in files"
   ]
  },
  {
   "cell_type": "markdown",
   "metadata": {},
   "source": [
    "## 2.1 Import data"
   ]
  },
  {
   "cell_type": "code",
   "execution_count": 16,
   "metadata": {},
   "outputs": [
    {
     "name": "stdout",
     "output_type": "stream",
     "text": [
      "{u'Sicile_New': Path(u'c:\\\\users\\\\mlabadie\\\\appdata\\\\local\\\\continuum\\\\miniconda2\\\\envs\\\\strawberry\\\\lib\\\\site-packages\\\\openalea.strawberry-1.0.0-py2.7.egg\\\\share\\\\data\\\\Sicile_New.mtg'), u'Nils_New': Path(u'c:\\\\users\\\\mlabadie\\\\appdata\\\\local\\\\continuum\\\\miniconda2\\\\envs\\\\strawberry\\\\lib\\\\site-packages\\\\openalea.strawberry-1.0.0-py2.7.egg\\\\share\\\\data\\\\Nils_New.mtg')}\n"
     ]
    }
   ],
   "source": [
    "%gui qt4\n",
    "\n",
    "files = shared_data(openalea.strawberry).glob('*.mtg')\n",
    "#print files\n",
    "\n",
    "genotypes = dict((f.namebase, f) for f in files)\n",
    "#print(genotypes.keys())\n",
    "\n",
    "DIPLOIDS = ['Sicile_New','Nils_New']\n",
    "OCTOPLOIDS = ['Gariguette_NEW','Darselect_New','Clery_New','Capriss_New','Cir107_NEW','Ciflorette_New']\n",
    "\n",
    "diploids = dict((k,f) for k,f in genotypes.items() if k in DIPLOIDS)\n",
    "print(diploids)\n",
    "\n",
    "octoploids = dict((k,f) for k,f in genotypes.items() if k in OCTOPLOIDS)\n",
    "#print(octoploids)"
   ]
  },
  {
   "cell_type": "markdown",
   "metadata": {},
   "source": [
    "## 2.2 Load one octoploid and one diploid  genotype \n",
    "\n",
    "A set of strawberry plant architecture has been measured and is stored in an MTG."
   ]
  },
  {
   "cell_type": "markdown",
   "metadata": {},
   "source": [
    "- We select on octoploid and/or one diploid genotype for architectural analysis."
   ]
  },
  {
   "cell_type": "code",
   "execution_count": 18,
   "metadata": {},
   "outputs": [
    {
     "name": "stdout",
     "output_type": "stream",
     "text": [
      "replace all the date format by -\n"
     ]
    },
    {
     "ename": "ValueError",
     "evalue": "need more than 1 value to unpack",
     "output_type": "error",
     "traceback": [
      "\u001b[1;31m---------------------------------------------------------------------------\u001b[0m",
      "\u001b[1;31mValueError\u001b[0m                                Traceback (most recent call last)",
      "\u001b[1;32m<ipython-input-18-9d8c4deb04fc>\u001b[0m in \u001b[0;36m<module>\u001b[1;34m()\u001b[0m\n\u001b[0;32m      5\u001b[0m \u001b[1;31m#oct_genotype = 'Ciflorette_New'\u001b[0m\u001b[1;33m\u001b[0m\u001b[1;33m\u001b[0m\u001b[0m\n\u001b[0;32m      6\u001b[0m \u001b[1;33m\u001b[0m\u001b[0m\n\u001b[1;32m----> 7\u001b[1;33m \u001b[0mgdi\u001b[0m \u001b[1;33m=\u001b[0m \u001b[0mMTG\u001b[0m\u001b[1;33m(\u001b[0m\u001b[0mdiploids\u001b[0m\u001b[1;33m[\u001b[0m\u001b[0mdi_genotype\u001b[0m\u001b[1;33m]\u001b[0m\u001b[1;33m)\u001b[0m\u001b[1;33m\u001b[0m\u001b[0m\n\u001b[0m\u001b[0;32m      8\u001b[0m \u001b[1;32mprint\u001b[0m\u001b[1;33m(\u001b[0m\u001b[1;34m'Diploid  : '\u001b[0m\u001b[1;33m,\u001b[0m \u001b[0mstr\u001b[0m\u001b[1;33m(\u001b[0m\u001b[0mgdi\u001b[0m\u001b[1;33m)\u001b[0m\u001b[1;33m)\u001b[0m\u001b[1;33m\u001b[0m\u001b[0m\n\u001b[0;32m      9\u001b[0m \u001b[1;33m\u001b[0m\u001b[0m\n",
      "\u001b[1;32mc:\\users\\mlabadie\\appdata\\local\\continuum\\miniconda2\\envs\\strawberry\\lib\\site-packages\\openalea.mtg-2.0.1-py2.7.egg\\openalea\\mtg\\mtg.pyc\u001b[0m in \u001b[0;36m__init__\u001b[1;34m(self, filename, has_date)\u001b[0m\n\u001b[0;32m     94\u001b[0m         \u001b[1;32mif\u001b[0m \u001b[0mfilename\u001b[0m\u001b[1;33m:\u001b[0m\u001b[1;33m\u001b[0m\u001b[0m\n\u001b[0;32m     95\u001b[0m             \u001b[1;32mfrom\u001b[0m \u001b[0mio\u001b[0m \u001b[1;32mimport\u001b[0m \u001b[0mread_mtg_file\u001b[0m\u001b[1;33m\u001b[0m\u001b[0m\n\u001b[1;32m---> 96\u001b[1;33m             \u001b[0mself\u001b[0m \u001b[1;33m=\u001b[0m \u001b[0mread_mtg_file\u001b[0m\u001b[1;33m(\u001b[0m\u001b[0mfilename\u001b[0m\u001b[1;33m,\u001b[0m \u001b[0mmtg\u001b[0m\u001b[1;33m=\u001b[0m\u001b[0mself\u001b[0m\u001b[1;33m,\u001b[0m \u001b[0mhas_date\u001b[0m\u001b[1;33m=\u001b[0m\u001b[0mhas_date\u001b[0m\u001b[1;33m)\u001b[0m\u001b[1;33m\u001b[0m\u001b[0m\n\u001b[0m\u001b[0;32m     97\u001b[0m \u001b[1;33m\u001b[0m\u001b[0m\n\u001b[0;32m     98\u001b[0m     \u001b[1;32mdef\u001b[0m \u001b[0m__getitem__\u001b[0m\u001b[1;33m(\u001b[0m\u001b[0mself\u001b[0m\u001b[1;33m,\u001b[0m \u001b[0mvtx_id\u001b[0m\u001b[1;33m)\u001b[0m\u001b[1;33m:\u001b[0m\u001b[1;33m\u001b[0m\u001b[0m\n",
      "\u001b[1;32mc:\\users\\mlabadie\\appdata\\local\\continuum\\miniconda2\\envs\\strawberry\\lib\\site-packages\\openalea.mtg-2.0.1-py2.7.egg\\openalea\\mtg\\io.pyc\u001b[0m in \u001b[0;36mread_mtg_file\u001b[1;34m(fn, mtg, has_date)\u001b[0m\n\u001b[0;32m   1305\u001b[0m     \u001b[0mtxt\u001b[0m \u001b[1;33m=\u001b[0m \u001b[0mf\u001b[0m\u001b[1;33m.\u001b[0m\u001b[0mread\u001b[0m\u001b[1;33m(\u001b[0m\u001b[1;33m)\u001b[0m\u001b[1;33m\u001b[0m\u001b[0m\n\u001b[0;32m   1306\u001b[0m     \u001b[0mf\u001b[0m\u001b[1;33m.\u001b[0m\u001b[0mclose\u001b[0m\u001b[1;33m(\u001b[0m\u001b[1;33m)\u001b[0m\u001b[1;33m\u001b[0m\u001b[0m\n\u001b[1;32m-> 1307\u001b[1;33m     \u001b[1;32mreturn\u001b[0m \u001b[0mread_mtg\u001b[0m\u001b[1;33m(\u001b[0m\u001b[0mtxt\u001b[0m\u001b[1;33m,\u001b[0m \u001b[0mmtg\u001b[0m\u001b[1;33m=\u001b[0m\u001b[0mmtg\u001b[0m\u001b[1;33m,\u001b[0m \u001b[0mhas_date\u001b[0m\u001b[1;33m=\u001b[0m\u001b[0mhas_date\u001b[0m\u001b[1;33m)\u001b[0m\u001b[1;33m\u001b[0m\u001b[0m\n\u001b[0m\u001b[0;32m   1308\u001b[0m \u001b[1;33m\u001b[0m\u001b[0m\n\u001b[0;32m   1309\u001b[0m \u001b[1;33m\u001b[0m\u001b[0m\n",
      "\u001b[1;32mc:\\users\\mlabadie\\appdata\\local\\continuum\\miniconda2\\envs\\strawberry\\lib\\site-packages\\openalea.mtg-2.0.1-py2.7.egg\\openalea\\mtg\\io.pyc\u001b[0m in \u001b[0;36mread_mtg\u001b[1;34m(s, mtg, has_date)\u001b[0m\n\u001b[0;32m   1290\u001b[0m     \"\"\"\n\u001b[0;32m   1291\u001b[0m     \u001b[0mreader\u001b[0m \u001b[1;33m=\u001b[0m \u001b[0mReader\u001b[0m\u001b[1;33m(\u001b[0m\u001b[0ms\u001b[0m\u001b[1;33m,\u001b[0m \u001b[0mmtg\u001b[0m\u001b[1;33m=\u001b[0m\u001b[0mmtg\u001b[0m\u001b[1;33m,\u001b[0m \u001b[0mhas_date\u001b[0m\u001b[1;33m=\u001b[0m\u001b[0mhas_date\u001b[0m\u001b[1;33m)\u001b[0m\u001b[1;33m\u001b[0m\u001b[0m\n\u001b[1;32m-> 1292\u001b[1;33m     \u001b[0mg\u001b[0m \u001b[1;33m=\u001b[0m \u001b[0mreader\u001b[0m\u001b[1;33m.\u001b[0m\u001b[0mparse\u001b[0m\u001b[1;33m(\u001b[0m\u001b[1;33m)\u001b[0m\u001b[1;33m\u001b[0m\u001b[0m\n\u001b[0m\u001b[0;32m   1293\u001b[0m     \u001b[1;32mreturn\u001b[0m \u001b[0mg\u001b[0m\u001b[1;33m\u001b[0m\u001b[0m\n\u001b[0;32m   1294\u001b[0m \u001b[1;33m\u001b[0m\u001b[0m\n",
      "\u001b[1;32mc:\\users\\mlabadie\\appdata\\local\\continuum\\miniconda2\\envs\\strawberry\\lib\\site-packages\\openalea.mtg-2.0.1-py2.7.egg\\openalea\\mtg\\io.pyc\u001b[0m in \u001b[0;36mparse\u001b[1;34m(self)\u001b[0m\n\u001b[0;32m    918\u001b[0m         \"\"\"\n\u001b[0;32m    919\u001b[0m         \u001b[0mself\u001b[0m\u001b[1;33m.\u001b[0m\u001b[0mheader\u001b[0m\u001b[1;33m(\u001b[0m\u001b[1;33m)\u001b[0m\u001b[1;33m\u001b[0m\u001b[0m\n\u001b[1;32m--> 920\u001b[1;33m         \u001b[0mself\u001b[0m\u001b[1;33m.\u001b[0m\u001b[0mcode\u001b[0m\u001b[1;33m(\u001b[0m\u001b[1;33m)\u001b[0m\u001b[1;33m\u001b[0m\u001b[0m\n\u001b[0m\u001b[0;32m    921\u001b[0m \u001b[1;33m\u001b[0m\u001b[0m\n\u001b[0;32m    922\u001b[0m         \u001b[0mself\u001b[0m\u001b[1;33m.\u001b[0m\u001b[0merrors\u001b[0m\u001b[1;33m(\u001b[0m\u001b[1;33m)\u001b[0m\u001b[1;33m\u001b[0m\u001b[0m\n",
      "\u001b[1;32mc:\\users\\mlabadie\\appdata\\local\\continuum\\miniconda2\\envs\\strawberry\\lib\\site-packages\\openalea.mtg-2.0.1-py2.7.egg\\openalea\\mtg\\io.pyc\u001b[0m in \u001b[0;36mcode\u001b[1;34m(self)\u001b[0m\n\u001b[0;32m   1152\u001b[0m \u001b[1;33m\u001b[0m\u001b[0m\n\u001b[0;32m   1153\u001b[0m         \u001b[0mself\u001b[0m\u001b[1;33m.\u001b[0m\u001b[0mpreprocess_code\u001b[0m\u001b[1;33m(\u001b[0m\u001b[1;33m)\u001b[0m\u001b[1;33m\u001b[0m\u001b[0m\n\u001b[1;32m-> 1154\u001b[1;33m         \u001b[0mself\u001b[0m\u001b[1;33m.\u001b[0m\u001b[0mbuild_mtg\u001b[0m\u001b[1;33m(\u001b[0m\u001b[1;33m)\u001b[0m\u001b[1;33m\u001b[0m\u001b[0m\n\u001b[0m\u001b[0;32m   1155\u001b[0m \u001b[1;33m\u001b[0m\u001b[0m\n\u001b[0;32m   1156\u001b[0m \u001b[1;33m\u001b[0m\u001b[0m\n",
      "\u001b[1;32mc:\\users\\mlabadie\\appdata\\local\\continuum\\miniconda2\\envs\\strawberry\\lib\\site-packages\\openalea.mtg-2.0.1-py2.7.egg\\openalea\\mtg\\io.pyc\u001b[0m in \u001b[0;36mbuild_mtg\u001b[1;34m(self)\u001b[0m\n\u001b[0;32m   1266\u001b[0m         \"\"\"\n\u001b[0;32m   1267\u001b[0m         \"\"\"\n\u001b[1;32m-> 1268\u001b[1;33m         \u001b[0mself\u001b[0m\u001b[1;33m.\u001b[0m\u001b[0mmtg\u001b[0m \u001b[1;33m=\u001b[0m \u001b[0mmultiscale_edit\u001b[0m\u001b[1;33m(\u001b[0m\u001b[0mself\u001b[0m\u001b[1;33m.\u001b[0m\u001b[0m_new_code\u001b[0m\u001b[1;33m,\u001b[0m \u001b[0mself\u001b[0m\u001b[1;33m.\u001b[0m\u001b[0m_symbols\u001b[0m\u001b[1;33m,\u001b[0m \u001b[0mself\u001b[0m\u001b[1;33m.\u001b[0m\u001b[0m_features\u001b[0m\u001b[1;33m,\u001b[0m \u001b[0mself\u001b[0m\u001b[1;33m.\u001b[0m\u001b[0mhas_date\u001b[0m\u001b[1;33m,\u001b[0m \u001b[0mmtg\u001b[0m\u001b[1;33m=\u001b[0m\u001b[0mself\u001b[0m\u001b[1;33m.\u001b[0m\u001b[0mmtg\u001b[0m\u001b[1;33m)\u001b[0m\u001b[1;33m\u001b[0m\u001b[0m\n\u001b[0m\u001b[0;32m   1269\u001b[0m         \u001b[1;31m#self.mtg = multiscale_edit(self._new_code, {}, self._features)\u001b[0m\u001b[1;33m\u001b[0m\u001b[1;33m\u001b[0m\u001b[0m\n\u001b[0;32m   1270\u001b[0m \u001b[1;33m\u001b[0m\u001b[0m\n",
      "\u001b[1;32mc:\\users\\mlabadie\\appdata\\local\\continuum\\miniconda2\\envs\\strawberry\\lib\\site-packages\\openalea.mtg-2.0.1-py2.7.egg\\openalea\\mtg\\io.pyc\u001b[0m in \u001b[0;36mmultiscale_edit\u001b[1;34m(s, symbol_at_scale, class_type, has_date, mtg)\u001b[0m\n\u001b[0;32m    240\u001b[0m         \u001b[1;32melse\u001b[0m\u001b[1;33m:\u001b[0m\u001b[1;33m\u001b[0m\u001b[0m\n\u001b[0;32m    241\u001b[0m             \u001b[1;32mif\u001b[0m \u001b[0mclass_type\u001b[0m\u001b[1;33m:\u001b[0m\u001b[1;33m\u001b[0m\u001b[0m\n\u001b[1;32m--> 242\u001b[1;33m                 \u001b[0margs\u001b[0m \u001b[1;33m=\u001b[0m \u001b[0mget_properties\u001b[0m\u001b[1;33m(\u001b[0m\u001b[0mname\u001b[0m\u001b[1;33m,\u001b[0m \u001b[0mvid\u001b[0m\u001b[1;33m=\u001b[0m\u001b[0mvid\u001b[0m\u001b[1;33m)\u001b[0m\u001b[1;33m\u001b[0m\u001b[0m\n\u001b[0m\u001b[0;32m    243\u001b[0m             \u001b[1;32melse\u001b[0m\u001b[1;33m:\u001b[0m\u001b[1;33m\u001b[0m\u001b[0m\n\u001b[0;32m    244\u001b[0m                 \u001b[0mlabel\u001b[0m \u001b[1;33m=\u001b[0m \u001b[0mget_label\u001b[0m\u001b[1;33m(\u001b[0m\u001b[0mname\u001b[0m\u001b[1;33m)\u001b[0m\u001b[1;33m\u001b[0m\u001b[0m\n",
      "\u001b[1;32mc:\\users\\mlabadie\\appdata\\local\\continuum\\miniconda2\\envs\\strawberry\\lib\\site-packages\\openalea.mtg-2.0.1-py2.7.egg\\openalea\\mtg\\io.pyc\u001b[0m in \u001b[0;36mget_properties\u001b[1;34m(name, vid, time)\u001b[0m\n\u001b[0;32m    125\u001b[0m                 \u001b[0mln\u001b[0m \u001b[1;33m=\u001b[0m \u001b[0marg_string\u001b[0m\u001b[1;33m.\u001b[0m\u001b[0msplit\u001b[0m\u001b[1;33m(\u001b[0m\u001b[1;34m','\u001b[0m\u001b[1;33m)\u001b[0m\u001b[1;33m\u001b[0m\u001b[0m\n\u001b[0;32m    126\u001b[0m                 \u001b[1;32mfor\u001b[0m \u001b[0marg\u001b[0m \u001b[1;32min\u001b[0m \u001b[0mln\u001b[0m\u001b[1;33m:\u001b[0m\u001b[1;33m\u001b[0m\u001b[0m\n\u001b[1;32m--> 127\u001b[1;33m                     \u001b[0mk\u001b[0m\u001b[1;33m,\u001b[0m \u001b[0mv\u001b[0m \u001b[1;33m=\u001b[0m \u001b[0marg\u001b[0m\u001b[1;33m.\u001b[0m\u001b[0msplit\u001b[0m\u001b[1;33m(\u001b[0m\u001b[1;34m'='\u001b[0m\u001b[1;33m)\u001b[0m\u001b[1;33m\u001b[0m\u001b[0m\n\u001b[0m\u001b[0;32m    128\u001b[0m                     \u001b[0mklass\u001b[0m \u001b[1;33m=\u001b[0m \u001b[0m_type\u001b[0m\u001b[1;33m[\u001b[0m\u001b[0mclass_type\u001b[0m\u001b[1;33m[\u001b[0m\u001b[0mk\u001b[0m\u001b[1;33m]\u001b[0m\u001b[1;33m]\u001b[0m\u001b[1;33m\u001b[0m\u001b[0m\n\u001b[0;32m    129\u001b[0m                     \u001b[1;32mtry\u001b[0m\u001b[1;33m:\u001b[0m\u001b[1;33m\u001b[0m\u001b[0m\n",
      "\u001b[1;31mValueError\u001b[0m: need more than 1 value to unpack"
     ]
    }
   ],
   "source": [
    "#OCTOPLOIDS = ['Gariguette_NEW','Darselect_New','Clery_New','Capriss_New''Cir107_NEW','Ciflorette_New']\n",
    "#DIPLOIDS = ['Sicile_New','Nils_New.mtg']\n",
    "\n",
    "di_genotype = 'Sicile_New'\n",
    "#oct_genotype = 'Ciflorette_New'\n",
    "\n",
    "gdi = MTG(diploids[di_genotype])\n",
    "print('Diploid  : ', str(gdi))\n",
    "\n",
    "#goct = MTG(octoploids[oct_genotype])\n",
    "#print('Octoploid  : ', str(goct))"
   ]
  },
  {
   "cell_type": "markdown",
   "metadata": {},
   "source": [
    "* Check number of plant present in MTG"
   ]
  },
  {
   "cell_type": "code",
   "execution_count": 7,
   "metadata": {},
   "outputs": [
    {
     "name": "stdout",
     "output_type": "stream",
     "text": [
      "112\n",
      "54\n"
     ]
    }
   ],
   "source": [
    "# Diploid\n",
    "nb_plants = gdi.nb_vertices(scale=1)\n",
    "print(nb_plants)\n",
    "\n",
    "# Octoploid\n",
    "nb_plants = goct.nb_vertices(scale=1)\n",
    "print(nb_plants)"
   ]
  },
  {
   "cell_type": "markdown",
   "metadata": {},
   "source": [
    "## 2.3 Load whole octoploids or diploids in one big MTG\n",
    "\n",
    "A set of strawberry plant architecture has been measured and is stored in an MTG."
   ]
  },
  {
   "cell_type": "markdown",
   "metadata": {},
   "source": [
    "- We select whole octoploid or diploid genotype for architectural analysis."
   ]
  },
  {
   "cell_type": "code",
   "execution_count": 25,
   "metadata": {},
   "outputs": [
    {
     "name": "stdout",
     "output_type": "stream",
     "text": [
      "replace all the date format by -\n",
      "replace all the date format by -\n",
      "replace all the date format by -\n",
      "replace all the date format by -\n",
      "replace all the date format by -\n",
      "replace all the date format by -\n",
      "set(['Ciflorette', 'Darselect', 'Gariguette', 'Capriss', 'Clery', 'Cir107'])\n"
     ]
    }
   ],
   "source": [
    "big_mtg = MTG()\n",
    "for fn in OCTOPLOIDS:\n",
    "    big_mtg = algo.union(big_mtg,MTG(octoploids[fn]))\n",
    "    g = big_mtg\n",
    "    \n",
    "genotypes = set(g.property(\"Genotype\").itervalues())\n",
    "print genotypes"
   ]
  },
  {
   "cell_type": "code",
   "execution_count": null,
   "metadata": {},
   "outputs": [],
   "source": []
  }
 ],
 "metadata": {
  "kernelspec": {
   "display_name": "Python 2",
   "language": "python",
   "name": "python2"
  },
  "language_info": {
   "codemirror_mode": {
    "name": "ipython",
    "version": 2
   },
   "file_extension": ".py",
   "mimetype": "text/x-python",
   "name": "python",
   "nbconvert_exporter": "python",
   "pygments_lexer": "ipython2",
   "version": "2.7.14"
  }
 },
 "nbformat": 4,
 "nbformat_minor": 2
}
