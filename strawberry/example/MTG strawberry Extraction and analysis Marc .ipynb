{
 "metadata": {
  "name": "",
  "signature": "sha256:bd167f8ac60a193cde835e10c0a06946162750b47c83f36f86ed0b2bf2cb1ae2"
 },
 "nbformat": 3,
 "nbformat_minor": 0,
 "worksheets": [
  {
   "cells": [
    {
     "cell_type": "markdown",
     "metadata": {},
     "source": [
      "#MTG Extraction and Analysis Marc"
     ]
    },
    {
     "cell_type": "code",
     "collapsed": false,
     "input": [
      "from openalea.deploy.shared_data import shared_data\n",
      "import strawberry\n",
      "from strawberry.reader import Reader, strawberry2mtg \n",
      "from openalea.mtg import MTG, fat_mtg\n",
      "from openalea.mtg import algo"
     ],
     "language": "python",
     "metadata": {},
     "outputs": [],
     "prompt_number": 1
    },
    {
     "cell_type": "code",
     "collapsed": false,
     "input": [
      "files = shared_data(strawberry).glob('*.csv')\n",
      "fn = files[17]\n",
      "print fn\n"
     ],
     "language": "python",
     "metadata": {},
     "outputs": [
      {
       "output_type": "stream",
       "stream": "stdout",
       "text": [
        "z:\\g1\\marc-labadie\\python\\strawberry\\share\\data\\Garriguette_1_9.csv\n"
       ]
      }
     ],
     "prompt_number": 127
    },
    {
     "cell_type": "markdown",
     "metadata": {},
     "source": [
      "##Reading files and create MTG"
     ]
    },
    {
     "cell_type": "code",
     "collapsed": false,
     "input": [
      "gs=[strawberry2mtg(fn) for fn in files]\n",
      "g=gs[17]"
     ],
     "language": "python",
     "metadata": {},
     "outputs": [
      {
       "output_type": "stream",
       "stream": "stdout",
       "text": [
        "Axis_1\tAxis_2\tAxe_3\tAxis_4\tAxis_5\tleaf_area\tleaf_perimeter\tLobe_C_H\tLobe_C_L\tLobe_G_H\tLobe_G_L\tLeaf_area_algo\tCom.\tharvest_fruit\tfruit_aborded\tTotal_ruit\tcom.\t\t\t\t\t\n",
        "Axis_1\tAxis_2\tAxe_3\tAxis_4\tAxis_5\tleaf_area\tleaf_perimeter\tLobe_C_H\tLobe_C_L\tLobe_G_H\tLobe_G_L\tLeaf_area_algo\tCom.\tharvest_fruit\tfruit_aborded\tTotal_ruit\tcom.\n",
        "Axis_1\tAxis_2\tAxe_3\tAxis_4\tAxis_5\tAxis_6\tAxis_7\tAxis_8\tleaf_area\tleaf_perimeter\tLobe_C_H\tLobe_C_L\tLobe_G_H\tLobe_G_L\tLeaf_area_algo\tCom.\tharvest_fruit\tfruit_aborded\tTotal_ruit\tcom.\t\t\t\t\t\n",
        "Axis_1\tAxis_2\tAxe_3\tAxis_4\tAxis_5\tAxis_6\tleaf_area\tleaf_perimeter\tLobe_C_H\tLobe_C_L\tLobe_G_H\tLobe_G_L\tLeaf_area_algo\tCom.\tharvest_fruit\tfruit_aborded\tTotal_ruit\tcom.\t\t\t\t\t"
       ]
      },
      {
       "output_type": "stream",
       "stream": "stdout",
       "text": [
        "\n",
        "Axis_1\tAxis_2\tAxe_3\tAxis_4\tAxis_5\tAxis_6\tAxis_7\tAxis_8\tleaf_area\tleaf_perimeter\tLobe_C_H\tLobe_C_L\tLobe_G_H\tLobe_G_L\tLeaf_area_algo\tCom.\tharvest_fruit\tfruit_aborded\tTotal_ruit\tcom.\t\t\t\t\t\n",
        "Axis_1\tAxis_2\tAxe_3\tAxis_4\tAxis_5\tAxis_6\tAxis_7\tAxis_8\tleaf_area\tleaf_perimeter\tLobe_C_H\tLobe_C_L\tLobe_G_H\tLobe_G_L\tLeaf_area_algo\tCom.\tharvest_fruit\tfruit_aborded\tTotal_ruit\tcom.\t\t\t\t\t\n",
        "Axis_1\tAxis_2\tAxe_3\tAxis_4\tAxis_5\tAxis_6\tAxis_7\tAxis_8\tleaf_area\tleaf_perimeter\tLobe_C_H\tLobe_C_L\tLobe_G_H\tLobe_G_L\tLeaf_area_algo\tCom.\tharvest_fruit\tfruit_aborded\tTotal_ruit\tcom.\n",
        "Axis_1\tAxis_2\tAxe_3\tAxis_4\tAxis_5\tAxis_6\tleaf_area\tleaf_perimeter\tLobe_C_H\tLobe_C_L\tLobe_G_H\tLobe_G_L\tLeaf_area_algo\tCom.\tharvest_fruit\tfruit_aborded\tTotal_ruit\tcom."
       ]
      },
      {
       "output_type": "stream",
       "stream": "stdout",
       "text": [
        "\n",
        "Axis_1\tAxis_2\tAxe_3\tAxis_4\tAxis_5\tAxis_6\tleaf_area\tleaf_perimeter\tLobe_C_H\tLobe_C_L\tLobe_G_H\tLobe_G_L\tLeaf_area_algo\tCom.\tharvest_fruit\tfruit_aborded\tTotal_ruit\tcom.\n",
        "Axis_1\tAxis_2\tAxe_3\tAxis_4\tAxis_5\tAxis_6\tAxis_7\tAxis_8\tleaf_area\tleaf_perimeter\tLobe_C_H\tLobe_C_L\tLobe_G_H\tLobe_G_L\tLeaf_area_algo\tCom.\tharvest_fruit\tfruit_aborded\tTotal_ruit\tcom.\n",
        "Axis_1\tAxis_2\tAxe_3\tAxis_4\tAxis_5\tAxis_6\tAxis_7\tAxis_8\tleaf_area\tleaf_perimeter\tLobe_C_H\tLobe_C_L\tLobe_G_H\tLobe_G_L\tLeaf_area_algo\tCom.\tharvest_fruit\tfruit_aborded\tTotal_ruit\tcom."
       ]
      },
      {
       "output_type": "stream",
       "stream": "stdout",
       "text": [
        "\n",
        "Axis_1\tAxis_2\tAxe_3\tAxis_4\tAxis_5\tAxis_6\tAxis_7\tAxis_8\tleaf_area\tleaf_perimeter\tLobe_C_H\tLobe_C_L\tLobe_G_H\tLobe_G_L\tLeaf_area_algo\tCom.\tharvest_fruit\tfruit_aborded\tTotal_ruit\tcom.\n",
        "Axis_1\tAxis_2\tAxe_3\tAxis_4\tAxis_5\tAxis_6\tAxis_7\tleaf_area\tleaf_perimeter\tLobe_C_H\tLobe_C_L\tLobe_G_H\tLobe_G_L\tLeaf_area_algo\tCom.\tharvest_fruit\tfruit_aborded\tTotal_ruit\tcom.\t\t\n",
        "Axis_1\tAxis_2\tAxe_3\tAxis_4\tAxis_5\tleaf_area\tleaf_perimeter\tLobe_C_H\tLobe_C_L\tLobe_G_H\tLobe_G_L\tLeaf_area_algo\tCom.\tharvest_fruit\tfruit_aborded\tTotal_ruit\tcom.\n",
        "Axis_1\tAxis_2\tAxe_3\tAxis_4\tAxis_5\tleaf_area\tleaf_perimeter\tLobe_C_H\tLobe_C_L\tLobe_G_H\tLobe_G_L\tLeaf_area_algo\tCom.\tharvest_fruit\tfruit_aborded\tTotal_fruit\tcom."
       ]
      },
      {
       "output_type": "stream",
       "stream": "stdout",
       "text": [
        "\n",
        "Axis_1\tAxis_2\tAxe_3\tAxis_4\tAxis_5\tAxis_6\tAxis_7\tleaf_area\tleaf_perimeter\tLobe_C_H\tLobe_C_L\tLobe_G_H\tLobe_G_L\tLeaf_area_algo\tCom.\tharvest_fruit\tfruit_aborded\tTotal_ruit\tcom.\t\t\n",
        "Axis_1\tAxis_2\tAxe_3\tAxis_4\tAxis_5\tAxis_6\tAxis_7\tleaf_area\tleaf_perimeter\tLobe_C_H\tLobe_C_L\tLobe_G_H\tLobe_G_L\tLeaf_area_algo\tCom.\tharvest_fruit\tfruit_aborded\tTotal_ruit\tcom.\t\t\n",
        "Axis_1\tAxis_2\tAxe_3\tAxis_4\tAxis_5\tAxis_6\tleaf_area\tleaf_perimeter\tLobe_C_H\tLobe_C_L\tLobe_G_H\tLobe_G_L\tLeaf_area_algo\tCom.\tharvest_fruit\tfruit_aborded\tTotal_ruit\tcom.\t\t\n"
       ]
      }
     ],
     "prompt_number": 125
    },
    {
     "cell_type": "code",
     "collapsed": false,
     "input": [
      "# List labels\n",
      "labels = set(g.label(v) for v in g if g.label(v) != '')\n",
      "print labels\n",
      "\n",
      "# Select Phytomers\n",
      "def select_entities(g, name):\n",
      "    \"\"\" Returns entities like Phytomer or Inflorescence in MTG. \n",
      "    name can be abbreviated (Phyto or Phytomer).\n",
      "    \"\"\"\n",
      "    return [v for v in g if name in g.label(v)]\n",
      "\n",
      "phytomers = select_entities(g, 'Phyto')\n",
      "inflos = select_entities(g, 'Inflo')\n",
      "buds = select_entities(g, 'Bud')\n",
      "print len(phytomers), len(inflos), len(buds)\n",
      "print len(g)\n",
      "assert (len(g) - 1) == len(phytomers)+ len(inflos)+ len(buds)"
     ],
     "language": "python",
     "metadata": {},
     "outputs": [
      {
       "output_type": "stream",
       "stream": "stdout",
       "text": [
        "set(['TerminalBud', 'Phytomer', 'Inflorescence'])\n",
        "59 6 6\n",
        "72\n"
       ]
      }
     ],
     "prompt_number": 128
    },
    {
     "cell_type": "code",
     "collapsed": false,
     "input": [
      "g.display()\n"
     ],
     "language": "python",
     "metadata": {},
     "outputs": [
      {
       "output_type": "stream",
       "stream": "stdout",
       "text": [
        "MTG : nb_vertices=72, nb_scales=2\n",
        "/Phytomer\t\t\t(id=1)\t\t\t\t\t\t\t\t\t\t\t\n",
        "^<Phytomer\t\t\t(id=2)\t\t\t\t\t\t\t\t\t\t\t\n",
        "^<Phytomer\t\t\t(id=3)\t\t\t\t\t\t\t\t\t\t\t\n",
        "^<Phytomer\t\t\t(id=4)\t\t\t\t\t\t\t\t\t\t\t\n",
        "^<Phytomer\t\t\t(id=5)\t\t\t\t\t\t\t\t\t\t\t\n",
        "\t+Phytomer\t\t\t(id=6)\t\t\t\t\t\t\t\t\t\t\n",
        "\t^<Phytomer\t\t\t(id=7)\t\t\t\t\t\t\t\t\t\t\n",
        "\t^<Phytomer\t\t\t(id=8)\t\t\t\t\t\t\t\t\t\t\n",
        "\t^<Phytomer\t\t\t(id=9)\t\t\t\t\t\t\t\t\t\t\n",
        "\t^<Phytomer\t\t\t(id=10)\t\t\t\t\t\t\t\t\t\t\n",
        "\t^<Phytomer\t\t\t(id=11)\t\t\t\t\t\t\t\t\t\t\n",
        "\t^<Phytomer\t\t\t(id=12)\t\t\t\t\t\t\t\t\t\t\n",
        "\t^<Phytomer\t\t\t(id=13)\t\t\t\t\t\t\t\t\t\t\n",
        "\t^<Phytomer\t\t\t(id=14)\t\t\t\t\t\t\t\t\t\t\n",
        "\t^<Phytomer\t\t\t(id=15)\t\t\t\t\t\t\t\t\t\t\n",
        "\t^<TerminalBud\t\t\t(id=16)\t\t\t\t\t\t\t\t\t\t\n",
        "^<Phytomer\t\t\t(id=17)\t\t\t\t\t\t\t\t\t\t\t\n",
        "\t+Phytomer\t\t\t(id=18)\t\t\t\t\t\t\t\t\t\t\n",
        "\t^<Phytomer\t\t\t(id=19)\t\t\t\t\t\t\t\t\t\t\n",
        "\t\t+Phytomer\t\t\t(id=20)\t\t\t\t\t\t\t\t\t\n",
        "\t\t^<Phytomer\t\t\t(id=21)\t\t\t\t\t\t\t\t\t\n",
        "\t\t\t+Phytomer\t\t\t(id=22)\t\t\t\t\t\t\t\t\n",
        "\t\t\t\t+Phytomer\t\t\t(id=23)\t\t\t\t\t\t\t\n",
        "\t\t\t\t^<Phytomer\t\t\t(id=24)\t\t\t\t\t\t\t\n",
        "\t\t\t\t^<Phytomer\t\t\t(id=25)\t\t\t\t\t\t\t\n",
        "\t\t\t\t^<Phytomer\t\t\t(id=26)\t\t\t\t\t\t\t\n",
        "\t\t\t\t^<Phytomer\t\t\t(id=27)\t\t\t\t\t\t\t\n",
        "\t\t\t\t^<TerminalBud\t\t\t(id=28)\t\t\t\t\t\t\t\n",
        "\t\t\t^<Inflorescence\t\t\t(id=29)\t\t\t\t\t\t\t\t\n",
        "\t\t^<Phytomer\t\t\t(id=30)\t\t\t\t\t\t\t\t\t\n",
        "\t\t^<Phytomer\t\t\t(id=31)\t\t\t\t\t\t\t\t\t\n",
        "\t\t^<Phytomer\t\t\t(id=32)\t\t\t\t\t\t\t\t\t\n",
        "\t\t^<Phytomer\t\t\t(id=33)\t\t\t\t\t\t\t\t\t\n",
        "\t\t^<TerminalBud\t\t\t(id=34)\t\t\t\t\t\t\t\t\t\n",
        "\t^<Phytomer\t\t\t(id=35)\t\t\t\t\t\t\t\t\t\t\n",
        "\t\t+Phytomer\t\t\t(id=36)\t\t\t\t\t\t\t\t\t\n",
        "\t\t^<Phytomer\t\t\t(id=37)\t\t\t\t\t\t\t\t\t\n",
        "\t\t\t+Phytomer\t\t\t(id=38)\t\t\t\t\t\t\t\t\n",
        "\t\t\t^<Phytomer\t\t\t(id=39)\t\t\t\t\t\t\t\t\n",
        "\t\t\t^<Phytomer\t\t\t(id=40)\t\t\t\t\t\t\t\t\n",
        "\t\t\t^<Phytomer\t\t\t(id=41)\t\t\t\t\t\t\t\t\n",
        "\t\t\t^<Phytomer\t\t\t(id=42)\t\t\t\t\t\t\t\t\n",
        "\t\t\t^<TerminalBud\t\t\t(id=43)\t\t\t\t\t\t\t\t\n",
        "\t\t^<Inflorescence\t\t\t(id=44)\t\t\t\t\t\t\t\t\t\n",
        "\t^<Inflorescence\t\t\t(id=45)\t\t\t\t\t\t\t\t\t\t\n",
        "^<Phytomer\t\t\t(id=46)\t\t\t\t\t\t\t\t\t\t\t\n",
        "^<Phytomer\t\t\t(id=47)\t\t\t\t\t\t\t\t\t\t\t\n",
        "\t+Phytomer\t\t\t(id=48)\t\t\t\t\t\t\t\t\t\t\n",
        "\t^<Phytomer\t\t\t(id=49)\t\t\t\t\t\t\t\t\t\t\n",
        "\t^<Phytomer\t\t\t(id=50)\t\t\t\t\t\t\t\t\t\t\n",
        "\t^<Phytomer\t\t\t(id=51)\t\t\t\t\t\t\t\t\t\t\n",
        "\t^<Phytomer\t\t\t(id=52)\t\t\t\t\t\t\t\t\t\t\n",
        "\t^<TerminalBud\t\t\t(id=53)\t\t\t\t\t\t\t\t\t\t\n",
        "\t^<Phytomer\t\t\t(id=54)\t\t\t\t\t\t\t\t\t\t\n",
        "\t^<Phytomer\t\t\t(id=55)\t\t\t\t\t\t\t\t\t\t\n",
        "\t\t+Phytomer\t\t\t(id=56)\t\t\t\t\t\t\t\t\t\n",
        "\t\t^<Phytomer\t\t\t(id=57)\t\t\t\t\t\t\t\t\t\n",
        "\t\t^<Phytomer\t\t\t(id=58)\t\t\t\t\t\t\t\t\t\n",
        "\t\t^<Phytomer\t\t\t(id=59)\t\t\t\t\t\t\t\t\t\n",
        "\t\t^<Phytomer\t\t\t(id=60)\t\t\t\t\t\t\t\t\t\n",
        "\t\t\t+Phytomer\t\t\t(id=61)\t\t\t\t\t\t\t\t\n",
        "\t\t\t^<Phytomer\t\t\t(id=62)\t\t\t\t\t\t\t\t\n",
        "\t\t\t^<Phytomer\t\t\t(id=63)\t\t\t\t\t\t\t\t\n",
        "\t\t\t^<Phytomer\t\t\t(id=64)\t\t\t\t\t\t\t\t\n",
        "\t\t\t^<Phytomer\t\t\t(id=65)\t\t\t\t\t\t\t\t\n",
        "\t\t\t^<Phytomer\t\t\t(id=66)\t\t\t\t\t\t\t\t\n",
        "\t\t\t^<Phytomer\t\t\t(id=67)\t\t\t\t\t\t\t\t\n",
        "\t\t\t^<TerminalBud\t\t\t(id=68)\t\t\t\t\t\t\t\t\n",
        "\t\t^<Inflorescence\t\t\t(id=69)\t\t\t\t\t\t\t\t\t\n",
        "\t^<Inflorescence\t\t\t(id=70)\t\t\t\t\t\t\t\t\t\t\n",
        "^<Inflorescence\t\t\t(id=71)\t\t\t\t\t\t\t\t\t\t\t\n"
       ]
      }
     ],
     "prompt_number": 129
    },
    {
     "cell_type": "markdown",
     "metadata": {},
     "source": [
      "##Extraction and analysis of achitecture\n",
      "###Number of Phytomer by axis"
     ]
    },
    {
     "cell_type": "code",
     "collapsed": false,
     "input": [
      "#Def of vertex_axes\n",
      "vertex_axes=[v for v in g.vertices(scale=g.max_scale())if g.edge_type(v)!='<']\n",
      "vertex_axes\n",
      "\n",
      "#Def of axes\n",
      "axes= [g.Axis(v) for v in vertex_axes]\n",
      "axes\n",
      "\n",
      "#Def phyto_axes, identification of phytomer in axes\n",
      "phyto_axes = [[v for v in axis if 'Phyto' in g.label(v)] for axis in axes ]\n",
      "phyto_axes\n"
     ],
     "language": "python",
     "metadata": {},
     "outputs": [
      {
       "metadata": {},
       "output_type": "pyout",
       "prompt_number": 130,
       "text": [
        "[[1, 2, 3, 4, 5, 17, 46, 47],\n",
        " [6, 7, 8, 9, 10, 11, 12, 13, 14, 15],\n",
        " [18, 19, 35],\n",
        " [20, 21, 30, 31, 32, 33],\n",
        " [22],\n",
        " [23, 24, 25, 26, 27],\n",
        " [36, 37],\n",
        " [38, 39, 40, 41, 42],\n",
        " [48, 49, 50, 51, 52, 54, 55],\n",
        " [56, 57, 58, 59, 60],\n",
        " [61, 62, 63, 64, 65, 66, 67]]"
       ]
      }
     ],
     "prompt_number": 130
    },
    {
     "cell_type": "code",
     "collapsed": false,
     "input": [
      "orders=algo.orders(g)"
     ],
     "language": "python",
     "metadata": {},
     "outputs": [],
     "prompt_number": 131
    },
    {
     "cell_type": "code",
     "collapsed": false,
     "input": [
      "#number of phytomer by axes\n",
      "Nb_phyto_by_axes_and_order = {}\n",
      "for axis_no in range(len(phyto_axes)):\n",
      "    l = phyto_axes[axis_no]\n",
      "    Nb_phyto_by_axes_and_order.setdefault(orders[l[0]], []).append(len(l))\n",
      "print Nb_phyto_by_axes_and_order"
     ],
     "language": "python",
     "metadata": {},
     "outputs": [
      {
       "output_type": "stream",
       "stream": "stdout",
       "text": [
        "{0: [8], 1: [10, 3, 7], 2: [6, 2, 5], 3: [1, 5, 7], 4: [5]}\n"
       ]
      }
     ],
     "prompt_number": 132
    },
    {
     "cell_type": "code",
     "collapsed": false,
     "input": [
      "def cut_axis_between_ramifs(axis):\n",
      "    ramifs = [] # 1 or 0 ramifs\n",
      "    l = []\n",
      "    ramifs.append(l)\n",
      "    for i in range(len(axis)):\n",
      "        v = axis[i]\n",
      "        l.append(v)\n",
      "        for cid in g.children(v):\n",
      "            if g.edge_type(cid) == '+':\n",
      "                l = []\n",
      "                ramifs.append(l)\n",
      "                break\n",
      "    return ramifs\n",
      "\n",
      "#print phyto_axes\n",
      "cut_axis_between_ramifs(axes[0])\n",
      "for axis in axes:\n",
      "    cut_axes = cut_axis_between_ramifs(axis)\n",
      "    phyto_by_ramif=[sum(1 for v in sub_axes if 'Phy' in g.label(v))  for sub_axes in cut_axes]\n",
      "    print phyto_by_ramif"
     ],
     "language": "python",
     "metadata": {},
     "outputs": [
      {
       "output_type": "stream",
       "stream": "stdout",
       "text": [
        "[5, 1, 2, 0]\n",
        "[10]\n",
        "[2, 1, 0]\n",
        "[2, 4]\n",
        "[1, 0]\n",
        "[5]\n",
        "[2, 0]\n",
        "[5]\n",
        "[7, 0]\n",
        "[5, 0]\n",
        "[7]\n"
       ]
      }
     ],
     "prompt_number": 133
    },
    {
     "cell_type": "code",
     "collapsed": false,
     "input": [
      "#g.display()"
     ],
     "language": "python",
     "metadata": {},
     "outputs": [],
     "prompt_number": 82
    },
    {
     "cell_type": "code",
     "collapsed": false,
     "input": [],
     "language": "python",
     "metadata": {},
     "outputs": []
    }
   ],
   "metadata": {}
  }
 ]
}