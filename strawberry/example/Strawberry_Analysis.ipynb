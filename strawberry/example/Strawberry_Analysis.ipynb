{
 "metadata": {
  "name": "",
  "signature": "sha256:1497b562849b4b95a39410550145b3c725a9ad5f0b9d1948949886fd3e1d6c47"
 },
 "nbformat": 3,
 "nbformat_minor": 0,
 "worksheets": [
  {
   "cells": [
    {
     "cell_type": "markdown",
     "metadata": {},
     "source": [
      "# MTG Strawberry Extraction & Analysis"
     ]
    },
    {
     "cell_type": "markdown",
     "metadata": {},
     "source": [
      "**Authors** : Marc Labadie, Christophe Pradal"
     ]
    },
    {
     "cell_type": "code",
     "collapsed": false,
     "input": [
      "from openalea.deploy.shared_data import shared_data\n",
      "import strawberry\n",
      "from strawberry.reader import Reader, strawberry2mtg \n",
      "from openalea.mtg import MTG, fat_mtg\n",
      "from openalea.mtg import algo"
     ],
     "language": "python",
     "metadata": {},
     "outputs": [],
     "prompt_number": 21
    },
    {
     "cell_type": "code",
     "collapsed": false,
     "input": [
      "files = shared_data(strawberry).glob('*.csv')\n",
      "fn = files[0]\n",
      "print fn"
     ],
     "language": "python",
     "metadata": {},
     "outputs": [
      {
       "output_type": "stream",
       "stream": "stdout",
       "text": [
        "z:\\g1\\marc-labadie\\python\\strawberry\\share\\data\\Cir107_1_2.csv\n"
       ]
      }
     ],
     "prompt_number": 22
    },
    {
     "cell_type": "markdown",
     "metadata": {},
     "source": [
      "Reading the file and create an MTG"
     ]
    },
    {
     "cell_type": "code",
     "collapsed": false,
     "input": [
      "gs = [strawberry2mtg(fn) for fn in files]"
     ],
     "language": "python",
     "metadata": {},
     "outputs": [
      {
       "output_type": "stream",
       "stream": "stdout",
       "text": [
        "Axis_1\tAxis_2\tAxe_3\tAxis_4\tAxis_5\tAxis_6\tAxis_7\tAxis_8\tleaf_area\tleaf_perimeter\tLobe_C_H\tLobe_C_L\tLobe_G_H\tLobe_G_L\tLeaf_area_algo\tCom.\tHarvest_fruit\tFruit_aborded\tTotal_fruit\tcom.\n",
        "Axis_1\tAxis_2\tAxe_3\tAxis_4\tAxis_5\tAxis_6\tAxis_7\tAxis_8\tleaf_area\tleaf_perimeter\tLobe_C_H\tLobe_C_L\tLobe_G_H\tLobe_G_L\tLeaf_area_algo\tLobe_C_H\tLobe_C_L\tLobe_G_H\tLobe_G_L\tLeaf_area_algo\tCom.\tharvest_fruit\tfruit_aborded\tTotal_ruit\tcom.\n",
        "Axis_1\tAxis_2\tAxe_3\tAxis_4\tAxis_5\tAxis_6\tAxis_7\tleaf_area\tleaf_perimeter\tLobe_C_H\tLobe_C_L\tLobe_G_H\tLobe_G_L\tLeaf_area_algo\tCom.\tharvest_fruit\tfruit_aborded\tTotal_fruit\tcom.\n"
       ]
      }
     ],
     "prompt_number": 23
    },
    {
     "cell_type": "markdown",
     "metadata": {},
     "source": [
      "## Union of MTG\n",
      "\n",
      "*TODO* : Add scales to MTG"
     ]
    },
    {
     "cell_type": "code",
     "collapsed": false,
     "input": [
      "from openalea.mtg.algo import union"
     ],
     "language": "python",
     "metadata": {},
     "outputs": [],
     "prompt_number": 24
    },
    {
     "cell_type": "code",
     "collapsed": false,
     "input": [
      "print gs"
     ],
     "language": "python",
     "metadata": {},
     "outputs": [
      {
       "output_type": "stream",
       "stream": "stdout",
       "text": [
        "[<openalea.mtg.mtg.MTG object at 0x08C59F30>, <openalea.mtg.mtg.MTG object at 0x03772250>, <openalea.mtg.mtg.MTG object at 0x03772930>]\n"
       ]
      }
     ],
     "prompt_number": 25
    },
    {
     "cell_type": "code",
     "collapsed": false,
     "input": [
      "# g is the concatenation of the 3 MTG built from files\n",
      "g = reduce(union, gs)"
     ],
     "language": "python",
     "metadata": {},
     "outputs": [],
     "prompt_number": 26
    },
    {
     "cell_type": "code",
     "collapsed": false,
     "input": [
      "len(g)"
     ],
     "language": "python",
     "metadata": {},
     "outputs": [
      {
       "metadata": {},
       "output_type": "pyout",
       "prompt_number": 27,
       "text": [
        "287"
       ]
      }
     ],
     "prompt_number": 27
    },
    {
     "cell_type": "code",
     "collapsed": false,
     "input": [
      "#g.display()"
     ],
     "language": "python",
     "metadata": {},
     "outputs": [],
     "prompt_number": 28
    },
    {
     "cell_type": "markdown",
     "metadata": {},
     "source": [
      "## Extraction at plant level\n",
      "\n",
      "### Hypothesis: \n",
      "- Number of leaves = Number of Phytomer"
     ]
    },
    {
     "cell_type": "code",
     "collapsed": false,
     "input": [
      "g = gs[0]; print files[0]"
     ],
     "language": "python",
     "metadata": {},
     "outputs": [
      {
       "output_type": "stream",
       "stream": "stdout",
       "text": [
        "z:\\g1\\marc-labadie\\python\\strawberry\\share\\data\\Cir107_1_2.csv\n"
       ]
      }
     ],
     "prompt_number": 29
    },
    {
     "cell_type": "code",
     "collapsed": false,
     "input": [
      "len(g)"
     ],
     "language": "python",
     "metadata": {},
     "outputs": [
      {
       "metadata": {},
       "output_type": "pyout",
       "prompt_number": 30,
       "text": [
        "62"
       ]
      }
     ],
     "prompt_number": 30
    },
    {
     "cell_type": "code",
     "collapsed": false,
     "input": [
      "# List labels\n",
      "labels = set(g.label(v) for v in g if g.label(v) != '')\n",
      "print labels\n",
      "\n",
      "# Select Phytomers\n",
      "def select_entities(g, name):\n",
      "    \"\"\" Returns entities like Phytomer or Inflorescence in MTG. \n",
      "    name can be abbreviated (Phyto or Phytomer).\n",
      "    \"\"\"\n",
      "    return [v for v in g if name in g.label(v)]\n",
      "\n",
      "phytomers = select_entities(g, 'Phyto')\n",
      "inflos = select_entities(g, 'Inflo')\n",
      "buds = select_entities(g, 'Bud')\n",
      "print len(phytomers), len(inflos), len(buds)\n",
      "print len(g)\n",
      "assert (len(g) - 1) == len(phytomers)+ len(inflos)+ len(buds)"
     ],
     "language": "python",
     "metadata": {},
     "outputs": [
      {
       "output_type": "stream",
       "stream": "stdout",
       "text": [
        "set(['TerminalBud', 'Phytomer', 'Inflorescence'])\n",
        "52 6 3\n",
        "62\n"
       ]
      }
     ],
     "prompt_number": 31
    },
    {
     "cell_type": "code",
     "collapsed": false,
     "input": [
      "# Extract axes. This is equivalent to extract the first vertex of each axis\n",
      "# g.edge_type(v)!='<' : all ramifications and the first vertex of each plant (order 0)\n",
      "max_scale = g.max_scale()\n",
      "vertex_axes = [v for v in g.vertices(scale=max_scale) if g.edge_type(v)!='<']\n",
      "print vertex_axes\n",
      "# g.display()"
     ],
     "language": "python",
     "metadata": {},
     "outputs": [
      {
       "output_type": "stream",
       "stream": "stdout",
       "text": [
        "[1, 7, 13, 17, 29, 32, 44, 47, 53]\n"
       ]
      }
     ],
     "prompt_number": 32
    },
    {
     "cell_type": "code",
     "collapsed": false,
     "input": [
      "orders = algo.orders(g)"
     ],
     "language": "python",
     "metadata": {},
     "outputs": [],
     "prompt_number": 33
    },
    {
     "cell_type": "code",
     "collapsed": false,
     "input": [
      "order_axes = dict((v, orders[v]) for v in vertex_axes)"
     ],
     "language": "python",
     "metadata": {},
     "outputs": [],
     "prompt_number": 34
    },
    {
     "cell_type": "code",
     "collapsed": false,
     "input": [
      "order_axes"
     ],
     "language": "python",
     "metadata": {},
     "outputs": [
      {
       "metadata": {},
       "output_type": "pyout",
       "prompt_number": 35,
       "text": [
        "{1: 0, 7: 1, 13: 2, 17: 3, 29: 1, 32: 2, 44: 1, 47: 2, 53: 3}"
       ]
      }
     ],
     "prompt_number": 35
    },
    {
     "cell_type": "code",
     "collapsed": false,
     "input": [
      "axes = [g.Axis(v) for v in vertex_axes]\n",
      "print axes\n",
      "#nb = sum(len(axis) for axis in axes)\n",
      "#print nb\n",
      "#print len(g)-1"
     ],
     "language": "python",
     "metadata": {},
     "outputs": [
      {
       "output_type": "stream",
       "stream": "stdout",
       "text": [
        "[[1, 2, 3, 4, 5, 6, 23, 24, 25, 26, 27, 28, 42, 43, 58, 59, 60, 61], [7, 8, 9, 10, 11, 12, 22], [13, 14, 15, 16, 21], [17, 18, 19, 20], [29, 30, 31, 41], [32, 33, 34, 35, 36, 37, 38, 39, 40], [44, 45, 46, 57], [47, 48, 49, 50, 51, 52, 56], [53, 54, 55]]\n"
       ]
      }
     ],
     "prompt_number": 36
    },
    {
     "cell_type": "code",
     "collapsed": false,
     "input": [
      "phyto_axis = [[v for v in axis if 'Phyto' in g.label(v)] for axis in axes ]\n",
      "print phyto_axis\n",
      "\n",
      "axes_by_no = {}\n",
      "for axis_no in range(len(phyto_axis)):\n",
      "    axes_by_no[axis_no] = phyto_axis[axis_no]\n",
      "    print g.order(phyto_axis[axis_no][0]), len(phyto_axis[axis_no])\n",
      "\n",
      "print axes_by_order\n",
      "axes_by_order = {}\n",
      "for axis_no in range(len(phyto_axis)):\n",
      "    l = phyto_axis[axis_no]\n",
      "    axes_by_order.setdefault(orders[l[0]], []).append(len(l))\n",
      "print axes_by_order"
     ],
     "language": "python",
     "metadata": {},
     "outputs": [
      {
       "output_type": "stream",
       "stream": "stdout",
       "text": [
        "[[1, 2, 3, 4, 5, 6, 23, 24, 25, 26, 27, 28, 42, 43, 58, 59, 60], [7, 8, 9, 10, 11, 12], [13, 14, 15, 16], [17, 18, 19], [29, 30, 31], [32, 33, 34, 35, 36, 37, 38, 39], [44, 45, 46], [47, 48, 49, 50, 51, 52], [53, 54]]\n",
        "0 17\n",
        "1 6\n",
        "2 4\n",
        "3 3\n",
        "1 3\n",
        "2 8\n",
        "1 3\n",
        "2 6\n",
        "3 2\n"
       ]
      },
      {
       "ename": "NameError",
       "evalue": "name 'axes_by_order' is not defined",
       "output_type": "pyerr",
       "traceback": [
        "\u001b[1;31m---------------------------------------------------------------------------\u001b[0m\n\u001b[1;31mNameError\u001b[0m                                 Traceback (most recent call last)",
        "\u001b[1;32m<ipython-input-37-b532cdcf26f6>\u001b[0m in \u001b[0;36m<module>\u001b[1;34m()\u001b[0m\n\u001b[0;32m      7\u001b[0m     \u001b[1;32mprint\u001b[0m \u001b[0mg\u001b[0m\u001b[1;33m.\u001b[0m\u001b[0morder\u001b[0m\u001b[1;33m(\u001b[0m\u001b[0mphyto_axis\u001b[0m\u001b[1;33m[\u001b[0m\u001b[0maxis_no\u001b[0m\u001b[1;33m]\u001b[0m\u001b[1;33m[\u001b[0m\u001b[1;36m0\u001b[0m\u001b[1;33m]\u001b[0m\u001b[1;33m)\u001b[0m\u001b[1;33m,\u001b[0m \u001b[0mlen\u001b[0m\u001b[1;33m(\u001b[0m\u001b[0mphyto_axis\u001b[0m\u001b[1;33m[\u001b[0m\u001b[0maxis_no\u001b[0m\u001b[1;33m]\u001b[0m\u001b[1;33m)\u001b[0m\u001b[1;33m\u001b[0m\u001b[0m\n\u001b[0;32m      8\u001b[0m \u001b[1;33m\u001b[0m\u001b[0m\n\u001b[1;32m----> 9\u001b[1;33m \u001b[1;32mprint\u001b[0m \u001b[0maxes_by_order\u001b[0m\u001b[1;33m\u001b[0m\u001b[0m\n\u001b[0m\u001b[0;32m     10\u001b[0m \u001b[0maxes_by_order\u001b[0m \u001b[1;33m=\u001b[0m \u001b[1;33m{\u001b[0m\u001b[1;33m}\u001b[0m\u001b[1;33m\u001b[0m\u001b[0m\n\u001b[0;32m     11\u001b[0m \u001b[1;32mfor\u001b[0m \u001b[0maxis_no\u001b[0m \u001b[1;32min\u001b[0m \u001b[0mrange\u001b[0m\u001b[1;33m(\u001b[0m\u001b[0mlen\u001b[0m\u001b[1;33m(\u001b[0m\u001b[0mphyto_axis\u001b[0m\u001b[1;33m)\u001b[0m\u001b[1;33m)\u001b[0m\u001b[1;33m:\u001b[0m\u001b[1;33m\u001b[0m\u001b[0m\n",
        "\u001b[1;31mNameError\u001b[0m: name 'axes_by_order' is not defined"
       ]
      }
     ],
     "prompt_number": 37
    },
    {
     "cell_type": "code",
     "collapsed": false,
     "input": [
      "%matplotlib inline\n",
      "from pylab import plot, legend, scatter\n",
      "import numpy\n",
      "for order, axis in axes_by_order.items():\n",
      "    plot(axis,label='order = %d'%(order+1))\n",
      "    legend()\n",
      "#scatter(x=axes_by_order.keys(), y=axes_by_order.values())"
     ],
     "language": "python",
     "metadata": {},
     "outputs": [
      {
       "ename": "NameError",
       "evalue": "name 'axes_by_order' is not defined",
       "output_type": "pyerr",
       "traceback": [
        "\u001b[1;31m---------------------------------------------------------------------------\u001b[0m\n\u001b[1;31mNameError\u001b[0m                                 Traceback (most recent call last)",
        "\u001b[1;32m<ipython-input-38-1ef1e611fe6a>\u001b[0m in \u001b[0;36m<module>\u001b[1;34m()\u001b[0m\n\u001b[0;32m      2\u001b[0m \u001b[1;32mfrom\u001b[0m \u001b[0mpylab\u001b[0m \u001b[1;32mimport\u001b[0m \u001b[0mplot\u001b[0m\u001b[1;33m,\u001b[0m \u001b[0mlegend\u001b[0m\u001b[1;33m,\u001b[0m \u001b[0mscatter\u001b[0m\u001b[1;33m\u001b[0m\u001b[0m\n\u001b[0;32m      3\u001b[0m \u001b[1;32mimport\u001b[0m \u001b[0mnumpy\u001b[0m\u001b[1;33m\u001b[0m\u001b[0m\n\u001b[1;32m----> 4\u001b[1;33m \u001b[1;32mfor\u001b[0m \u001b[0morder\u001b[0m\u001b[1;33m,\u001b[0m \u001b[0maxis\u001b[0m \u001b[1;32min\u001b[0m \u001b[0maxes_by_order\u001b[0m\u001b[1;33m.\u001b[0m\u001b[0mitems\u001b[0m\u001b[1;33m(\u001b[0m\u001b[1;33m)\u001b[0m\u001b[1;33m:\u001b[0m\u001b[1;33m\u001b[0m\u001b[0m\n\u001b[0m\u001b[0;32m      5\u001b[0m     \u001b[0mplot\u001b[0m\u001b[1;33m(\u001b[0m\u001b[0maxis\u001b[0m\u001b[1;33m,\u001b[0m\u001b[0mlabel\u001b[0m\u001b[1;33m=\u001b[0m\u001b[1;34m'order = %d'\u001b[0m\u001b[1;33m%\u001b[0m\u001b[1;33m(\u001b[0m\u001b[0morder\u001b[0m\u001b[1;33m+\u001b[0m\u001b[1;36m1\u001b[0m\u001b[1;33m)\u001b[0m\u001b[1;33m)\u001b[0m\u001b[1;33m\u001b[0m\u001b[0m\n\u001b[0;32m      6\u001b[0m     \u001b[0mlegend\u001b[0m\u001b[1;33m(\u001b[0m\u001b[1;33m)\u001b[0m\u001b[1;33m\u001b[0m\u001b[0m\n",
        "\u001b[1;31mNameError\u001b[0m: name 'axes_by_order' is not defined"
       ]
      }
     ],
     "prompt_number": 38
    },
    {
     "cell_type": "code",
     "collapsed": false,
     "input": [
      "def cut_axis_between_ramifs(axis):\n",
      "    ramifs = [] # 1 or 0 ramifs\n",
      "    l = []\n",
      "    ramifs.append(l)\n",
      "    for i in range(len(axis)):\n",
      "        v = axis[i]\n",
      "        l.append(v)\n",
      "        for cid in g.children(v):\n",
      "            if g.edge_type(cid) == '+':\n",
      "                l = []\n",
      "                ramifs.append(l)\n",
      "                break\n",
      "    return ramifs\n",
      "#print axes\n",
      "cut_axis_between_ramifs(axes[0])\n",
      "for axis in axes:\n",
      "    cut_axes = cut_axis_between_ramifs(axis)\n",
      "    print [sum(1 for v in sub_axes if 'Phy' in g.label(v))  for sub_axes in cut_axes]"
     ],
     "language": "python",
     "metadata": {},
     "outputs": [
      {
       "output_type": "stream",
       "stream": "stdout",
       "text": [
        "[6, 6, 2, 3]\n",
        "[6, 0]\n",
        "[4, 0]\n",
        "[3]\n",
        "[3, 0]\n",
        "[8]\n",
        "[3, 0]\n",
        "[6, 0]\n",
        "[2]\n"
       ]
      }
     ],
     "prompt_number": 39
    },
    {
     "cell_type": "code",
     "collapsed": false,
     "input": [
      "g.display()"
     ],
     "language": "python",
     "metadata": {},
     "outputs": []
    },
    {
     "cell_type": "code",
     "collapsed": false,
     "input": [],
     "language": "python",
     "metadata": {},
     "outputs": []
    }
   ],
   "metadata": {}
  }
 ]
}