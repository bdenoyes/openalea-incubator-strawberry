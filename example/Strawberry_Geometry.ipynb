{
 "cells": [
  {
   "cell_type": "markdown",
   "metadata": {},
   "source": [
    "# Convert Strawberry Data to MTG"
   ]
  },
  {
   "cell_type": "markdown",
   "metadata": {},
   "source": [
    "**Authors** : Marc Labadie, Christophe Pradal"
   ]
  },
  {
   "cell_type": "code",
   "execution_count": 1,
   "metadata": {},
   "outputs": [
    {
     "ename": "ImportError",
     "evalue": "No module named strawberry",
     "output_type": "error",
     "traceback": [
      "\u001b[1;31m---------------------------------------------------------------------------\u001b[0m",
      "\u001b[1;31mImportError\u001b[0m                               Traceback (most recent call last)",
      "\u001b[1;32m<ipython-input-1-0c7991dbd6b9>\u001b[0m in \u001b[0;36m<module>\u001b[1;34m()\u001b[0m\n\u001b[0;32m      1\u001b[0m \u001b[1;32mfrom\u001b[0m \u001b[0mopenalea\u001b[0m\u001b[1;33m.\u001b[0m\u001b[0mdeploy\u001b[0m\u001b[1;33m.\u001b[0m\u001b[0mshared_data\u001b[0m \u001b[1;32mimport\u001b[0m \u001b[0mshared_data\u001b[0m\u001b[1;33m\u001b[0m\u001b[0m\n\u001b[1;32m----> 2\u001b[1;33m \u001b[1;32mimport\u001b[0m \u001b[0mstrawberry\u001b[0m\u001b[1;33m\u001b[0m\u001b[0m\n\u001b[0m\u001b[0;32m      3\u001b[0m \u001b[1;32mfrom\u001b[0m \u001b[0mstrawberry\u001b[0m\u001b[1;33m.\u001b[0m\u001b[0mreader\u001b[0m \u001b[1;32mimport\u001b[0m \u001b[0mReader\u001b[0m\u001b[1;33m,\u001b[0m \u001b[0mstrawberry2mtg\u001b[0m\u001b[1;33m\u001b[0m\u001b[0m\n\u001b[0;32m      4\u001b[0m \u001b[1;32mfrom\u001b[0m \u001b[0mopenalea\u001b[0m\u001b[1;33m.\u001b[0m\u001b[0mmtg\u001b[0m \u001b[1;32mimport\u001b[0m \u001b[0mMTG\u001b[0m\u001b[1;33m,\u001b[0m \u001b[0mfat_mtg\u001b[0m\u001b[1;33m\u001b[0m\u001b[0m\n\u001b[0;32m      5\u001b[0m \u001b[1;32mfrom\u001b[0m \u001b[0mopenalea\u001b[0m\u001b[1;33m.\u001b[0m\u001b[0mmtg\u001b[0m\u001b[1;33m.\u001b[0m\u001b[0mtraversal\u001b[0m \u001b[1;32mimport\u001b[0m \u001b[1;33m*\u001b[0m\u001b[1;33m\u001b[0m\u001b[0m\n",
      "\u001b[1;31mImportError\u001b[0m: No module named strawberry"
     ]
    }
   ],
   "source": [
    "from openalea.deploy.shared_data import shared_data\n",
    "import strawberry\n",
    "from strawberry.reader import Reader, strawberry2mtg \n",
    "from openalea.mtg import MTG, fat_mtg\n",
    "from openalea.mtg.traversal import *\n",
    "from math import radians"
   ]
  },
  {
   "cell_type": "code",
   "execution_count": 2,
   "metadata": {},
   "outputs": [
    {
     "ename": "ImportError",
     "evalue": "No module named strawberry",
     "output_type": "error",
     "traceback": [
      "\u001b[1;31m---------------------------------------------------------------------------\u001b[0m\n\u001b[1;31mImportError\u001b[0m                               Traceback (most recent call last)",
      "\u001b[1;32m<ipython-input-2-1b7b3490b5a3>\u001b[0m in \u001b[0;36m<module>\u001b[1;34m()\u001b[0m\n\u001b[0;32m      1\u001b[0m \u001b[1;32mfrom\u001b[0m \u001b[0mopenalea\u001b[0m\u001b[1;33m.\u001b[0m\u001b[0mdeploy\u001b[0m\u001b[1;33m.\u001b[0m\u001b[0mshared_data\u001b[0m \u001b[1;32mimport\u001b[0m \u001b[0mshared_data\u001b[0m\u001b[1;33m\u001b[0m\u001b[0m\n\u001b[1;32m----> 2\u001b[1;33m \u001b[1;32mimport\u001b[0m \u001b[0mstrawberry\u001b[0m\u001b[1;33m\u001b[0m\u001b[0m\n\u001b[0m",
      "\u001b[1;31mImportError\u001b[0m: No module named strawberry"
     ]
    }
   ],
   "source": [
    "from openalea.deploy.shared_data import shared_data\n",
    "import strawberry\n"
   ]
  },
  {
   "cell_type": "code",
   "execution_count": 6,
   "metadata": {},
   "outputs": [
    {
     "ename": "NameError",
     "evalue": "name 'strawberry' is not defined",
     "output_type": "error",
     "traceback": [
      "\u001b[1;31m---------------------------------------------------------------------------\u001b[0m\n\u001b[1;31mNameError\u001b[0m                                 Traceback (most recent call last)",
      "\u001b[1;32m<ipython-input-6-e45a9221d825>\u001b[0m in \u001b[0;36m<module>\u001b[1;34m()\u001b[0m\n\u001b[1;32m----> 1\u001b[1;33m \u001b[0mfiles\u001b[0m \u001b[1;33m=\u001b[0m \u001b[0mshared_data\u001b[0m\u001b[1;33m(\u001b[0m\u001b[0mstrawberry\u001b[0m\u001b[1;33m)\u001b[0m\u001b[1;33m.\u001b[0m\u001b[0mglob\u001b[0m\u001b[1;33m(\u001b[0m\u001b[1;34m'*.csv'\u001b[0m\u001b[1;33m)\u001b[0m\u001b[1;33m\u001b[0m\u001b[0m\n\u001b[0m\u001b[0;32m      2\u001b[0m \u001b[0mfn\u001b[0m \u001b[1;33m=\u001b[0m \u001b[0mfiles\u001b[0m\u001b[1;33m[\u001b[0m\u001b[1;36m13\u001b[0m\u001b[1;33m]\u001b[0m\u001b[1;33m\u001b[0m\u001b[0m\n\u001b[0;32m      3\u001b[0m \u001b[1;32mprint\u001b[0m \u001b[0mfn\u001b[0m\u001b[1;33m\u001b[0m\u001b[0m\n",
      "\u001b[1;31mNameError\u001b[0m: name 'strawberry' is not defined"
     ]
    }
   ],
   "source": [
    "files = shared_data(strawberry).glob('*.csv')\n",
    "fn = files[13]\n",
    "print fn"
   ]
  },
  {
   "cell_type": "markdown",
   "metadata": {},
   "source": [
    "Reading the file and create an MTG"
   ]
  },
  {
   "cell_type": "code",
   "execution_count": 7,
   "metadata": {},
   "outputs": [
    {
     "ename": "NameError",
     "evalue": "name 'files' is not defined",
     "output_type": "error",
     "traceback": [
      "\u001b[1;31m---------------------------------------------------------------------------\u001b[0m\n\u001b[1;31mNameError\u001b[0m                                 Traceback (most recent call last)",
      "\u001b[1;32m<ipython-input-7-b72f198d705f>\u001b[0m in \u001b[0;36m<module>\u001b[1;34m()\u001b[0m\n\u001b[1;32m----> 1\u001b[1;33m \u001b[0mgs\u001b[0m \u001b[1;33m=\u001b[0m \u001b[1;33m[\u001b[0m\u001b[0mstrawberry2mtg\u001b[0m\u001b[1;33m(\u001b[0m\u001b[0mfn\u001b[0m\u001b[1;33m)\u001b[0m \u001b[1;32mfor\u001b[0m \u001b[0mfn\u001b[0m \u001b[1;32min\u001b[0m \u001b[0mfiles\u001b[0m\u001b[1;33m]\u001b[0m\u001b[1;33m\u001b[0m\u001b[0m\n\u001b[0m\u001b[0;32m      2\u001b[0m \u001b[0mg\u001b[0m \u001b[1;33m=\u001b[0m \u001b[0mgs\u001b[0m\u001b[1;33m[\u001b[0m\u001b[1;36m13\u001b[0m\u001b[1;33m]\u001b[0m\u001b[1;33m\u001b[0m\u001b[0m\n",
      "\u001b[1;31mNameError\u001b[0m: name 'files' is not defined"
     ]
    }
   ],
   "source": [
    "gs = [strawberry2mtg(fn) for fn in files]\n",
    "g = gs[13]"
   ]
  },
  {
   "cell_type": "markdown",
   "metadata": {},
   "source": [
    "## Method that Computes the Phyllochron\n",
    "\n",
    "Parameters : MTG and the delay between the appartion of two successive organs on the same axis\n",
    "This delay can be express in degree day.\n",
    "The result is : a MTG property named age that is retrieve to show the development of the plant through time.\n",
    "The hypothesis is that the delay is constant and the time of apparition of a lateral organ is 10 times the delay."
   ]
  },
  {
   "cell_type": "code",
   "execution_count": 8,
   "metadata": {},
   "outputs": [],
   "source": [
    "def compute_pyllochrone(g, dt = 10.):\n",
    "    max_scale = g.max_scale()\n",
    "    age = {}\n",
    "    for v in pre_order(g, 1):\n",
    "        pid = g.parent(v)\n",
    "        if pid is None:\n",
    "            age[v] = 0.\n",
    "        else:\n",
    "            age[v] = age[pid]+dt\n",
    "            if g.edge_type(v) == '+':\n",
    "                age[v] += 10*dt\n",
    "    g.properties()['age'] = age\n",
    "    return g"
   ]
  },
  {
   "cell_type": "code",
   "execution_count": 9,
   "metadata": {},
   "outputs": [
    {
     "ename": "NameError",
     "evalue": "name 'gs' is not defined",
     "output_type": "error",
     "traceback": [
      "\u001b[1;31m---------------------------------------------------------------------------\u001b[0m\n\u001b[1;31mNameError\u001b[0m                                 Traceback (most recent call last)",
      "\u001b[1;32m<ipython-input-9-6902a539d00b>\u001b[0m in \u001b[0;36m<module>\u001b[1;34m()\u001b[0m\n\u001b[0;32m      4\u001b[0m \u001b[0mget_ipython\u001b[0m\u001b[1;33m(\u001b[0m\u001b[1;33m)\u001b[0m\u001b[1;33m.\u001b[0m\u001b[0mmagic\u001b[0m\u001b[1;33m(\u001b[0m\u001b[1;34mu'gui qt'\u001b[0m\u001b[1;33m)\u001b[0m\u001b[1;33m\u001b[0m\u001b[0m\n\u001b[0;32m      5\u001b[0m \u001b[1;33m\u001b[0m\u001b[0m\n\u001b[1;32m----> 6\u001b[1;33m \u001b[0mg\u001b[0m \u001b[1;33m=\u001b[0m \u001b[0mgs\u001b[0m\u001b[1;33m[\u001b[0m\u001b[1;36m8\u001b[0m\u001b[1;33m]\u001b[0m\u001b[1;33m\u001b[0m\u001b[0m\n\u001b[0m",
      "\u001b[1;31mNameError\u001b[0m: name 'gs' is not defined"
     ]
    }
   ],
   "source": [
    "from openalea.mtg import traversal\n",
    "from openalea.mtg.plantframe import turtle\n",
    "from openalea.plantgl.all import *\n",
    "%gui qt\n",
    "\n",
    "g = gs[8]"
   ]
  },
  {
   "cell_type": "code",
   "execution_count": 10,
   "metadata": {},
   "outputs": [
    {
     "ename": "NameError",
     "evalue": "name 'g' is not defined",
     "output_type": "error",
     "traceback": [
      "\u001b[1;31m---------------------------------------------------------------------------\u001b[0m\n\u001b[1;31mNameError\u001b[0m                                 Traceback (most recent call last)",
      "\u001b[1;32m<ipython-input-10-a6914fc40ffe>\u001b[0m in \u001b[0;36m<module>\u001b[1;34m()\u001b[0m\n\u001b[0;32m      3\u001b[0m \u001b[1;33m\u001b[0m\u001b[0m\n\u001b[0;32m      4\u001b[0m \u001b[1;31m#add a order property order\u001b[0m\u001b[1;33m\u001b[0m\u001b[1;33m\u001b[0m\u001b[0m\n\u001b[1;32m----> 5\u001b[1;33m \u001b[0mg\u001b[0m\u001b[1;33m.\u001b[0m\u001b[0mproperties\u001b[0m\u001b[1;33m(\u001b[0m\u001b[1;33m)\u001b[0m\u001b[1;33m[\u001b[0m\u001b[1;34m'order'\u001b[0m\u001b[1;33m]\u001b[0m \u001b[1;33m=\u001b[0m \u001b[0morders\u001b[0m\u001b[1;33m(\u001b[0m\u001b[0mg\u001b[0m\u001b[1;33m)\u001b[0m\u001b[1;33m\u001b[0m\u001b[0m\n\u001b[0m\u001b[0;32m      6\u001b[0m \u001b[1;33m\u001b[0m\u001b[0m\n\u001b[0;32m      7\u001b[0m \u001b[1;33m\u001b[0m\u001b[0m\n",
      "\u001b[1;31mNameError\u001b[0m: name 'g' is not defined"
     ]
    }
   ],
   "source": [
    "# compute orders\n",
    "from openalea.mtg.algo import orders\n",
    "\n",
    "#add a order property order\n",
    "g.properties()['order'] = orders(g)\n",
    "\n",
    "\n",
    "# phyllotaxis\n",
    "roll_angle = {}\n",
    "\n",
    "ramifs = [v for v in g.vertices(scale=g.max_scale()) if g.edge_type(v)!='<']\n",
    "for axis_id in ramifs:\n",
    "    for i, v in enumerate(g.Axis(axis_id)):\n",
    "        if i%2:\n",
    "            roll_angle[v] = 180.\n",
    "        elif i == 2:\n",
    "            roll_angle[v] = 90.\n",
    "        else:\n",
    "            roll_angle[v] = 45\n",
    "g.properties()['roll_angle'] = roll_angle"
   ]
  },
  {
   "cell_type": "code",
   "execution_count": 11,
   "metadata": {},
   "outputs": [],
   "source": [
    "def leaflet(length=1., width=1.):\n",
    "    disc = Translated((-0.5,0,0), Disc())\n",
    "    disc = Scaled((length, width,1), disc)\n",
    "    disc = AxisRotated(axis=(0,1,0), angle=radians(90.), geometry=disc)\n",
    "    \n",
    "    d1 = AxisRotated(axis=(1,0,0), angle=-radians(60.), geometry=disc)\n",
    "    d2 = AxisRotated(axis=(1,0,0), angle=-radians(-60.), geometry=disc)\n",
    "    d3 = AxisRotated(axis=(1,0,0), angle=0., geometry=disc)\n",
    "    \n",
    "    shape = Group([d1, d2, d3])\n",
    "    return shape\n",
    "\n",
    "# Compute Phyllotaxy\n",
    "def Phytomer(g, vid, turtle):\n",
    "    t = turtle\n",
    "    nid = g.node(vid)\n",
    "    order = nid.order\n",
    "    t.setColor(2+order)\n",
    "    t.setWidth(0.01)\n",
    "    # set color\n",
    "    \n",
    "    len_petiole = 0.7\n",
    "    len_internode = 0.1\n",
    "    leaflet_length = 0.7/2.\n",
    "    leaflet_wdth = 0.3/2.\n",
    "    \n",
    "    t.F(0.1)\n",
    "    #if order != 1:\n",
    "    #    return\n",
    "    t.push()\n",
    "    t.down(45.)\n",
    "    t.F(len_petiole)\n",
    "    t.customGeometry(leaflet(leaflet_length, leaflet_wdth))\n",
    "    t.pop()\n",
    "\n",
    "def TerminalBud(g, vid, turtle):\n",
    "    t = turtle\n",
    "    #turtle.setColor(1)\n",
    "    nid = g.node(vid)\n",
    "    order = nid.order\n",
    "    t.setColor(2+order)\n",
    "    turtle.F(0.2)\n",
    "    sphere = Sphere(radius=0.05)\n",
    "    turtle.customGeometry(sphere)    \n",
    "\n",
    "def Inflorescence(g, vid, turtle):\n",
    "    \"\"\"\n",
    "    \"\"\"\n",
    "    t = turtle\n",
    "    nid = g.node(vid)\n",
    "    order = nid.order\n",
    "    #turtle.setColor(3)\n",
    "    t.setColor(2+order)\n",
    "    turtle.F(0.2)\n",
    "    sphere = Box(0.05*Vector3(1,1,1))\n",
    "    turtle.customGeometry(sphere)"
   ]
  },
  {
   "cell_type": "code",
   "execution_count": 12,
   "metadata": {},
   "outputs": [
    {
     "ename": "NameError",
     "evalue": "name 'g' is not defined",
     "output_type": "error",
     "traceback": [
      "\u001b[1;31m---------------------------------------------------------------------------\u001b[0m\n\u001b[1;31mNameError\u001b[0m                                 Traceback (most recent call last)",
      "\u001b[1;32m<ipython-input-12-439ba3c58a4f>\u001b[0m in \u001b[0;36m<module>\u001b[1;34m()\u001b[0m\n\u001b[0;32m      1\u001b[0m \u001b[0mcount\u001b[0m \u001b[1;33m=\u001b[0m \u001b[1;36m0\u001b[0m\u001b[1;33m\u001b[0m\u001b[0m\n\u001b[1;32m----> 2\u001b[1;33m \u001b[0mroll_angle\u001b[0m \u001b[1;33m=\u001b[0m \u001b[0mg\u001b[0m\u001b[1;33m.\u001b[0m\u001b[0mproperty\u001b[0m\u001b[1;33m(\u001b[0m\u001b[1;34m'roll_angle'\u001b[0m\u001b[1;33m)\u001b[0m\u001b[1;33m\u001b[0m\u001b[0m\n\u001b[0m\u001b[0;32m      3\u001b[0m \u001b[1;32mdef\u001b[0m \u001b[0mstrawberry_visitor\u001b[0m\u001b[1;33m(\u001b[0m\u001b[0mg\u001b[0m\u001b[1;33m,\u001b[0m \u001b[0mv\u001b[0m\u001b[1;33m,\u001b[0m \u001b[0mturtle\u001b[0m\u001b[1;33m,\u001b[0m \u001b[0mtime\u001b[0m\u001b[1;33m=\u001b[0m\u001b[1;36m0\u001b[0m\u001b[1;33m)\u001b[0m\u001b[1;33m:\u001b[0m\u001b[1;33m\u001b[0m\u001b[0m\n\u001b[0;32m      4\u001b[0m     \u001b[1;34m\"\"\" Function that draw geometry for a given vertex. \"\"\"\u001b[0m\u001b[1;33m\u001b[0m\u001b[0m\n\u001b[0;32m      5\u001b[0m     \u001b[1;32mglobal\u001b[0m \u001b[0mcount\u001b[0m\u001b[1;33m\u001b[0m\u001b[0m\n",
      "\u001b[1;31mNameError\u001b[0m: name 'g' is not defined"
     ]
    }
   ],
   "source": [
    "count = 0\n",
    "roll_angle = g.property('roll_angle')\n",
    "def strawberry_visitor(g, v, turtle, time=0):\n",
    "    \"\"\" Function that draw geometry for a given vertex. \"\"\"\n",
    "    global count\n",
    "    count+=1\n",
    "    turtle.setWidth(0.01)\n",
    "    nid = g.node(v)\n",
    "\n",
    "    if v in roll_angle:\n",
    "        turtle.rollL(nid.roll_angle)\n",
    "    else:\n",
    "        turtle.rollL()\n",
    "   \n",
    "    #if nid.order != 1:\n",
    "    #    return\n",
    "    \n",
    "    if g.edge_type(v) == '+':\n",
    "        turtle.down(30)\n",
    "    label = g.label(v)\n",
    "    #print label\n",
    "    turtle.setId(v)\n",
    "    if label == 'Phytomer':\n",
    "        Phytomer(g, v, turtle)\n",
    "    elif label == 'TerminalBud':\n",
    "        TerminalBud(g, v, turtle)\n",
    "    elif label == 'Inflorescence':\n",
    "        Inflorescence(g, v, turtle)\n",
    "\n",
    "scene = turtle.traverse_with_turtle(g, 1, visitor=strawberry_visitor)\n",
    "Viewer.display(scene)\n",
    "print count"
   ]
  },
  {
   "cell_type": "code",
   "execution_count": 13,
   "metadata": {},
   "outputs": [
    {
     "ename": "NameError",
     "evalue": "name 'strawberry_visitor' is not defined",
     "output_type": "error",
     "traceback": [
      "\u001b[1;31m---------------------------------------------------------------------------\u001b[0m\n\u001b[1;31mNameError\u001b[0m                                 Traceback (most recent call last)",
      "\u001b[1;32m<ipython-input-13-5550a9581335>\u001b[0m in \u001b[0;36m<module>\u001b[1;34m()\u001b[0m\n\u001b[1;32m----> 1\u001b[1;33m \u001b[1;32mdef\u001b[0m \u001b[0mmtg_turtle_time\u001b[0m\u001b[1;33m(\u001b[0m\u001b[0mg\u001b[0m\u001b[1;33m,\u001b[0m \u001b[0mtime\u001b[0m\u001b[1;33m,\u001b[0m \u001b[0mvisitor\u001b[0m\u001b[1;33m=\u001b[0m\u001b[0mstrawberry_visitor\u001b[0m\u001b[1;33m,\u001b[0m \u001b[0mtime_property\u001b[0m\u001b[1;33m=\u001b[0m\u001b[1;34m'age'\u001b[0m \u001b[1;33m)\u001b[0m\u001b[1;33m:\u001b[0m\u001b[1;33m\u001b[0m\u001b[0m\n\u001b[0m\u001b[0;32m      2\u001b[0m     ''' Compute the geometry on each node of the MTG using Turtle geometry. \n\u001b[0;32m      3\u001b[0m \u001b[1;33m\u001b[0m\u001b[0m\n\u001b[0;32m      4\u001b[0m     \u001b[0mUpdate_visitor\u001b[0m \u001b[1;32mis\u001b[0m \u001b[0ma\u001b[0m \u001b[0mfunction\u001b[0m \u001b[0mcalled\u001b[0m \u001b[0mon\u001b[0m \u001b[0meach\u001b[0m \u001b[0mnode\u001b[0m \u001b[1;32min\u001b[0m \u001b[0ma\u001b[0m \u001b[0mpre\u001b[0m \u001b[0morder\u001b[0m \u001b[1;33m(\u001b[0m\u001b[0mparent\u001b[0m \u001b[0mbefore\u001b[0m \u001b[0mchildren\u001b[0m\u001b[1;33m)\u001b[0m\u001b[1;33m.\u001b[0m\u001b[1;33m\u001b[0m\u001b[0m\n\u001b[0;32m      5\u001b[0m     \u001b[0mThis\u001b[0m \u001b[0mfunction\u001b[0m \u001b[0mallow\u001b[0m \u001b[0mto\u001b[0m \u001b[0mupdate\u001b[0m \u001b[0mthe\u001b[0m \u001b[0mparameters\u001b[0m \u001b[1;32mand\u001b[0m \u001b[0mstate\u001b[0m \u001b[0mvariables\u001b[0m \u001b[0mof\u001b[0m \u001b[0mthe\u001b[0m \u001b[0mvertices\u001b[0m\u001b[1;33m.\u001b[0m\u001b[1;33m\u001b[0m\u001b[0m\n",
      "\u001b[1;31mNameError\u001b[0m: name 'strawberry_visitor' is not defined"
     ]
    }
   ],
   "source": [
    "def mtg_turtle_time(g, time, visitor=strawberry_visitor, time_property='age' ):\n",
    "    ''' Compute the geometry on each node of the MTG using Turtle geometry. \n",
    "    \n",
    "    Update_visitor is a function called on each node in a pre order (parent before children).\n",
    "    This function allow to update the parameters and state variables of the vertices.\n",
    "    \n",
    "    :Example:\n",
    "\n",
    "        >>> def grow(node, time):\n",
    "\n",
    "    '''\n",
    "\n",
    "    g.properties()['geometry'] = {}\n",
    "    orders = g.property('order')\n",
    "    max_scale = g.max_scale()\n",
    "\n",
    "    start_dates = g.property(time_property)\n",
    "    \n",
    "\n",
    "    def traverse_with_turtle_time(g, vid, time, visitor=visitor):\n",
    "        turtle = PglTurtle()\n",
    "        def push_turtle(v):\n",
    "            try:\n",
    "                start_tt = start_dates.get(v, time+1)\n",
    "                if start_tt > time:\n",
    "                    return False\n",
    "            except: \n",
    "                pass\n",
    "            if g.edge_type(v) == '+':\n",
    "                turtle.push()\n",
    "            return True\n",
    "\n",
    "        def pop_turtle(v):\n",
    "            try:\n",
    "                start_tt = start_dates.get(v, time+1)\n",
    "                if start_tt > time:\n",
    "                    return False\n",
    "            except: \n",
    "                pass\n",
    "            if g.edge_type(v) == '+':\n",
    "                turtle.pop()\n",
    "\n",
    "        if start_dates[vid] <= time:\n",
    "            visitor(g,vid,turtle,time)\n",
    "            #turtle.push()\n",
    "        \n",
    "        for v in pre_order2_with_filter(g, vid, None, push_turtle, pop_turtle):\n",
    "            if v == vid: \n",
    "                continue\n",
    "            # Done for the leaves\n",
    "            if start_dates.get(v,time+1) > time:\n",
    "                print 'Do not consider ', v, time\n",
    "                continue\n",
    "            visitor(g,v,turtle,time)\n",
    "\n",
    "        scene = turtle.getScene()\n",
    "        return scene, g\n",
    "\n",
    "    for plant_id in g.component_roots_at_scale_iter(g.root, scale=max_scale):\n",
    "        scene, g = traverse_with_turtle_time(g, plant_id, time)\n",
    "    return g, scene"
   ]
  },
  {
   "cell_type": "code",
   "execution_count": null,
   "metadata": {},
   "outputs": [],
   "source": [
    "compute_pyllochrone(g)"
   ]
  },
  {
   "cell_type": "code",
   "execution_count": null,
   "metadata": {},
   "outputs": [],
   "source": [
    "max(g.property('age').values())"
   ]
  },
  {
   "cell_type": "code",
   "execution_count": null,
   "metadata": {},
   "outputs": [],
   "source": [
    "for t in range(1,790):\n",
    "    g, scene = mtg_turtle_time(g, t)\n",
    "    Viewer.display(scene)"
   ]
  },
  {
   "cell_type": "code",
   "execution_count": 16,
   "metadata": {},
   "outputs": [],
   "source": []
  },
  {
   "cell_type": "code",
   "execution_count": null,
   "metadata": {},
   "outputs": [],
   "source": []
  }
 ],
 "metadata": {
  "kernelspec": {
   "display_name": "Python 2",
   "language": "python",
   "name": "python2"
  },
  "language_info": {
   "codemirror_mode": {
    "name": "ipython",
    "version": 2
   },
   "file_extension": ".py",
   "mimetype": "text/x-python",
   "name": "python",
   "nbconvert_exporter": "python",
   "pygments_lexer": "ipython2",
   "version": "2.7.14"
  }
 },
 "nbformat": 4,
 "nbformat_minor": 1
}
