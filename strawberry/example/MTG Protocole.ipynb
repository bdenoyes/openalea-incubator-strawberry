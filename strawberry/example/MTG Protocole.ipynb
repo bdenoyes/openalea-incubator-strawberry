{
 "metadata": {
  "name": "",
  "signature": "sha256:2cb4ffe87d02a2a421e6796e2f3389e9faaebe383b265514e79b0e5e1a4e6d24"
 },
 "nbformat": 3,
 "nbformat_minor": 0,
 "worksheets": [
  {
   "cells": [
    {
     "cell_type": "heading",
     "level": 1,
     "metadata": {},
     "source": [
      "1. Rules of writting MTG"
     ]
    },
    {
     "cell_type": "raw",
     "metadata": {},
     "source": [
      "Symbol    Scale     Definition                  Properties\n",
      "P         1         Plant                       Date, Genotype, Plante number, neck diameter(mm)\n",
      "T         2         Tronc(Principal Crown)\n",
      "A         2         Axis (Branch Crowns)\n",
      "F         3         Leaf                        Petiol length(cm), height central leaflet(cm), height left leaflet (cm)\n",
      "f         3         Leaf primordia\n",
      "bt        3         Bud                         Stage (17 to A)\n",
      "s         3         Runner\n",
      "HT        3         Inflorecence                Stage (I to 87), Total number of flower, number of open flower, number of flower aborted\n",
      "                                                from stage 55 rules were describ by Strawberry BBCH, number of open flower start to stage                                                 60\n",
      "ht        3         Primordia inflorescence     Stage (B to H), length of inflorecence(cm)\n"
     ]
    },
    {
     "cell_type": "markdown",
     "metadata": {},
     "source": [
      "Writting example of MTG "
     ]
    },
    {
     "cell_type": "raw",
     "metadata": {},
     "source": [
      "#\n",
      "#\n",
      "CODE:\tFORM-A\n",
      "\n",
      "CLASSES:\n",
      "SYMBOL\tSCALE\tDECOMPOSITION\tINDEXATION\tDEFINITION\n",
      "$ \t0\tFREE\tFREE\tIMPLICIT\n",
      "P \t1\tFREE\tFREE\tEXPLICIT\n",
      "T  \t2\tFREE\tFREE\tEXPLICIT\n",
      "A  \t2\tFREE\tFREE\tEXPLICIT\n",
      "F\t3\tFREE\tFREE\tEXPLICIT\n",
      "f\t3\tFREE\tFREE\tEXPLICIT\n",
      "s\t3\tFREE\tFREE\tEXPLICIT\n",
      "bt\t3\tFREE\tFREE\tEXPLICIT\n",
      "BT\t3\tFREE\tFREE\tEXPLICIT\n",
      "ht\t3\tFREE\tFREE\tEXPLICIT\n",
      "HT\t3\tFREE\tFREE\tEXPLICIT\n",
      "\n",
      "DESCRIPTION :\n",
      "LEFT\tRIGHT\tRELTYPE\tMAX\n",
      "A\tA\t+\t?\n",
      "A\tA\t<\t1\n",
      "T\tT\t+\t?\n",
      "T\tT\t<\t1\n",
      "\n",
      "FEATURES:\n",
      "NAME\tTYPE\n",
      "\n",
      "date\tDD/MM/YYYY\n",
      "Genotype\tSTRING\n",
      "Plante\tINT\n",
      "diam_mm\tREAL # mm\n",
      "Stade\tSTRING\n",
      "mesure_ht\tREAL\n",
      "Longeur_petiole_cm\tREAL\n",
      "Hauteur_Lobe_centrale_cm\tREAL\n",
      "Hauteur_Lobe_gauche_cm\tREAL\n",
      "Fleurs_total\tINT\n",
      "Fleurs_ouverte\tINT\n",
      "Fleurs_avort\u00e9\tINT\n",
      "\n",
      "MTG:\n",
      "ENTITY-CODE\t\t\t\t\tdate\tGenotype\tPlante\tdiam_mm\tStade\tmesure_ht\tLongeur_petiole_cm\tHauteur_Lobe_centrale_cm\tHauteur_Lobe_gauche_cm\tFleurs_total\tFleurs_ouverte\tFleurs_avort\u00e9\n",
      "\n",
      "/P\t\t\t\t\t04/12/2014\tCiflorette\t1\t15.37\t\t\t\t\t\t\t\t\n",
      "^/T\t\t\t\t\t\t\t\t\t\t\t\t\t\t\t\t\n",
      "^/F\t\t\t\t\t\t\t\t\t\t\t\t\t\t\t\t\n",
      "\t+A\t\t\t\t\t\t\t\t\t\t\t\t\t\t\t\n",
      "\t^/s\t\t\t\t\t\t\t\t\t\t\t\t\t\t\t\n",
      "^<F\t\t\t\t\t\t\t\t\t\t\t\t\t\t\t\t\n",
      "\t+A\t\t\t\t\t\t\t\t\t\t\t\t\t\t\t\n",
      "\t^/s\t\t\t\t\t\t\t\t\t\t\t\t\t\t\t\n",
      "^<F\t\t\t\t\t\t\t\t\t\t\t\t\t\t\t\t\n",
      "\t+A\t\t\t\t\t\t\t\t\t\t\t\t\t\t\t\n",
      "\t^/s\t\t\t\t\t\t\t\t\t\t\t\t\t\t\t\n",
      "^<F\t\t\t\t\t\t\t\t\t\t\t\t\t\t\t\t\n",
      "\t+A\t\t\t\t\t\t\t\t\t\t\t\t\t\t\t\n",
      "\t^/F\t\n",
      "\t\t+A\t\t\t\t\t\t\t\t\t\t\t\t\t\t\n",
      "\t\t^/f\t\t\t\t\t\t\t\t\t\t\t\t\t\t\n",
      "\t\t^<f\t\t\t\t\t\t\t\t\t\t\t\t\t\t\n",
      "\t\t^<f\t\t\t\t\t\t\t\t\t\t\t\t\t\t\n",
      "\t\t^<bt\t\t\t\t\t\t\t17\t\t\t\t\t\t\t\n",
      "\t^<F\t\n",
      "\t\t+A\t\t\t\t\t\t\t\t\t\t\t\t\t\t\n",
      "\t\t^/f\t\t\t\t\t\t\t\t\t\t\t\t\t\t\n",
      "\t\t^<f\t\t\t\t\t\t\t\t\t\t\t\t\t\t\n",
      "\t\t^<bt\t\t\t\t\t\t\t17\t\t\t\t\t\t\t\n",
      "\t^<F\t\n",
      "\t\t+A\t\t\t\t\t\t\t\t\t\t\t\t\t\t\n",
      "\t\t^/f\t\t\t\t\t\t\t\t\t\t\t\t\t\t\n",
      "\t\t^<f\t\t\t\t\t\t\t\t\t\t\t\t\t\t\n",
      "\t\t^<bt\t\t\t\t\t\t\tA\t\t\t\t\t\t\t\n",
      "\t^<f\t\t\t\t\t\t\t\t\t\t\t\t\t\t\t\n",
      "\t\t+A\t\t\t\t\t\t\t\t\t\t\t\t\t\t\n",
      "\t\t^/f\t\t\t\t\t\t\t\t\t\t\t\t\t\t\n",
      "\t\t^<f\t\t\t\t\t\t\t\t\t\t\t\t\t\t\n",
      "\t\t^<bt\t\t\t\t\t\t\t17\t\t\t\t\t\t\t\n",
      "\t^<f\t\n",
      "\t\t+A\t\t\t\t\t\t\t\t\t\t\t\t\t\t\n",
      "\t\t^/f\t\t\t\t\t\t\t\t\t\t\t\t\t\t\n",
      "\t\t^<f\t\t\t\t\t\t\t\t\t\t\t\t\t\t\n",
      "\t\t^<f\t\t\t\t\t\t\t\t\t\t\t\t\t\t\n",
      "\t\t^<ht\t\t\t\t\t\t\tC\t\t\t\t\t\t\t\n",
      "\t^<ht\t\t\t\t\t\t\t\tH\t0.7\t\t\t\t\t\t\n",
      "^<HT\t\t\t\t\t\t\t\t\tcoup\u00e9\t\t\t\t\t\t\t"
     ]
    },
    {
     "cell_type": "heading",
     "level": 1,
     "metadata": {},
     "source": [
      "2. Step to read the MTG"
     ]
    },
    {
     "cell_type": "heading",
     "level": 2,
     "metadata": {},
     "source": [
      ".. 2.1 Module import"
     ]
    },
    {
     "cell_type": "code",
     "collapsed": false,
     "input": [
      "from openalea.core import path\n",
      "from openalea.mtg import *\n",
      "import glob\n"
     ],
     "language": "python",
     "metadata": {},
     "outputs": [],
     "prompt_number": 1
    },
    {
     "cell_type": "heading",
     "level": 2,
     "metadata": {},
     "source": [
      ".. 2.2 Import files"
     ]
    },
    {
     "cell_type": "code",
     "collapsed": false,
     "input": [
      "from openalea.deploy.shared_data import shared_data\n",
      "import strawberry\n",
      "files = shared_data(strawberry).glob('*.mtg')"
     ],
     "language": "python",
     "metadata": {},
     "outputs": [],
     "prompt_number": 5
    },
    {
     "cell_type": "code",
     "collapsed": false,
     "input": [
      "#files= glob.glob(\"*.mtg\") # Registration of all files ending with .mtg in vector files\n",
      "files"
     ],
     "language": "python",
     "metadata": {},
     "outputs": [
      {
       "metadata": {},
       "output_type": "pyout",
       "prompt_number": 25,
       "text": [
        "[path(u'z:\\\\g1\\\\marc-labadie\\\\python\\\\strawberry\\\\share\\\\data\\\\Capriss.mtg'),\n",
        " path(u'z:\\\\g1\\\\marc-labadie\\\\python\\\\strawberry\\\\share\\\\data\\\\Ciflorette.mtg'),\n",
        " path(u'z:\\\\g1\\\\marc-labadie\\\\python\\\\strawberry\\\\share\\\\data\\\\Cir107.mtg'),\n",
        " path(u'z:\\\\g1\\\\marc-labadie\\\\python\\\\strawberry\\\\share\\\\data\\\\Clery.mtg'),\n",
        " path(u'z:\\\\g1\\\\marc-labadie\\\\python\\\\strawberry\\\\share\\\\data\\\\Darselect.mtg'),\n",
        " path(u'z:\\\\g1\\\\marc-labadie\\\\python\\\\strawberry\\\\share\\\\data\\\\Gariguette.mtg')]"
       ]
      }
     ],
     "prompt_number": 25
    },
    {
     "cell_type": "heading",
     "level": 2,
     "metadata": {},
     "source": [
      ".. 2.3 Read MTG in files"
     ]
    },
    {
     "cell_type": "heading",
     "level": 3,
     "metadata": {},
     "source": [
      ".... 2.3.1 First verification by simple read of MTG"
     ]
    },
    {
     "cell_type": "markdown",
     "metadata": {},
     "source": [
      "If MTG is correctly read,  if line code display: \"replace all date format by -\". \n",
      "In other case: \n",
      "- perhaps you have one or some errors in MTG writting. Line code display errors with vertex number. To help you for error identification some lines code was disponible (cf. $ Line code to identify somes writting errors) "
     ]
    },
    {
     "cell_type": "code",
     "collapsed": false,
     "input": [
      "g=MTG(files[0]) "
     ],
     "language": "python",
     "metadata": {},
     "outputs": [
      {
       "output_type": "stream",
       "stream": "stdout",
       "text": [
        "ERROR ^/bt(Stade=17,_line=6469)\n",
        "replace all the date format by -\n"
       ]
      },
      {
       "ename": "ValueError",
       "evalue": "need more than 1 value to unpack",
       "output_type": "pyerr",
       "traceback": [
        "\u001b[1;31m---------------------------------------------------------------------------\u001b[0m\n\u001b[1;31mValueError\u001b[0m                                Traceback (most recent call last)",
        "\u001b[1;32m<ipython-input-56-cd9fd446de7f>\u001b[0m in \u001b[0;36m<module>\u001b[1;34m()\u001b[0m\n\u001b[1;32m----> 1\u001b[1;33m \u001b[0mg\u001b[0m\u001b[1;33m=\u001b[0m\u001b[0mMTG\u001b[0m\u001b[1;33m(\u001b[0m\u001b[0mfiles\u001b[0m\u001b[1;33m[\u001b[0m\u001b[1;36m0\u001b[0m\u001b[1;33m]\u001b[0m\u001b[1;33m)\u001b[0m\u001b[1;33m\u001b[0m\u001b[0m\n\u001b[0m",
        "\u001b[1;32mc:\\python27\\lib\\site-packages\\openalea\\mtg\\mtg.pyc\u001b[0m in \u001b[0;36m__init__\u001b[1;34m(self, filename, has_date)\u001b[0m\n\u001b[0;32m     94\u001b[0m         \u001b[1;32mif\u001b[0m \u001b[0mfilename\u001b[0m\u001b[1;33m:\u001b[0m\u001b[1;33m\u001b[0m\u001b[0m\n\u001b[0;32m     95\u001b[0m             \u001b[1;32mfrom\u001b[0m \u001b[0mio\u001b[0m \u001b[1;32mimport\u001b[0m \u001b[0mread_mtg_file\u001b[0m\u001b[1;33m\u001b[0m\u001b[0m\n\u001b[1;32m---> 96\u001b[1;33m             \u001b[0mself\u001b[0m \u001b[1;33m=\u001b[0m \u001b[0mread_mtg_file\u001b[0m\u001b[1;33m(\u001b[0m\u001b[0mfilename\u001b[0m\u001b[1;33m,\u001b[0m \u001b[0mmtg\u001b[0m\u001b[1;33m=\u001b[0m\u001b[0mself\u001b[0m\u001b[1;33m,\u001b[0m \u001b[0mhas_date\u001b[0m\u001b[1;33m=\u001b[0m\u001b[0mhas_date\u001b[0m\u001b[1;33m)\u001b[0m\u001b[1;33m\u001b[0m\u001b[0m\n\u001b[0m\u001b[0;32m     97\u001b[0m \u001b[1;33m\u001b[0m\u001b[0m\n\u001b[0;32m     98\u001b[0m     \u001b[1;32mdef\u001b[0m \u001b[0m__getitem__\u001b[0m\u001b[1;33m(\u001b[0m\u001b[0mself\u001b[0m\u001b[1;33m,\u001b[0m \u001b[0mvtx_id\u001b[0m\u001b[1;33m)\u001b[0m\u001b[1;33m:\u001b[0m\u001b[1;33m\u001b[0m\u001b[0m\n",
        "\u001b[1;32mc:\\python27\\lib\\site-packages\\openalea\\mtg\\io.pyc\u001b[0m in \u001b[0;36mread_mtg_file\u001b[1;34m(fn, mtg, has_date)\u001b[0m\n\u001b[0;32m   1305\u001b[0m     \u001b[0mtxt\u001b[0m \u001b[1;33m=\u001b[0m \u001b[0mf\u001b[0m\u001b[1;33m.\u001b[0m\u001b[0mread\u001b[0m\u001b[1;33m(\u001b[0m\u001b[1;33m)\u001b[0m\u001b[1;33m\u001b[0m\u001b[0m\n\u001b[0;32m   1306\u001b[0m     \u001b[0mf\u001b[0m\u001b[1;33m.\u001b[0m\u001b[0mclose\u001b[0m\u001b[1;33m(\u001b[0m\u001b[1;33m)\u001b[0m\u001b[1;33m\u001b[0m\u001b[0m\n\u001b[1;32m-> 1307\u001b[1;33m     \u001b[1;32mreturn\u001b[0m \u001b[0mread_mtg\u001b[0m\u001b[1;33m(\u001b[0m\u001b[0mtxt\u001b[0m\u001b[1;33m,\u001b[0m \u001b[0mmtg\u001b[0m\u001b[1;33m=\u001b[0m\u001b[0mmtg\u001b[0m\u001b[1;33m,\u001b[0m \u001b[0mhas_date\u001b[0m\u001b[1;33m=\u001b[0m\u001b[0mhas_date\u001b[0m\u001b[1;33m)\u001b[0m\u001b[1;33m\u001b[0m\u001b[0m\n\u001b[0m\u001b[0;32m   1308\u001b[0m \u001b[1;33m\u001b[0m\u001b[0m\n\u001b[0;32m   1309\u001b[0m \u001b[1;33m\u001b[0m\u001b[0m\n",
        "\u001b[1;32mc:\\python27\\lib\\site-packages\\openalea\\mtg\\io.pyc\u001b[0m in \u001b[0;36mread_mtg\u001b[1;34m(s, mtg, has_date)\u001b[0m\n\u001b[0;32m   1290\u001b[0m     \"\"\"\n\u001b[0;32m   1291\u001b[0m     \u001b[0mreader\u001b[0m \u001b[1;33m=\u001b[0m \u001b[0mReader\u001b[0m\u001b[1;33m(\u001b[0m\u001b[0ms\u001b[0m\u001b[1;33m,\u001b[0m \u001b[0mmtg\u001b[0m\u001b[1;33m=\u001b[0m\u001b[0mmtg\u001b[0m\u001b[1;33m,\u001b[0m \u001b[0mhas_date\u001b[0m\u001b[1;33m=\u001b[0m\u001b[0mhas_date\u001b[0m\u001b[1;33m)\u001b[0m\u001b[1;33m\u001b[0m\u001b[0m\n\u001b[1;32m-> 1292\u001b[1;33m     \u001b[0mg\u001b[0m \u001b[1;33m=\u001b[0m \u001b[0mreader\u001b[0m\u001b[1;33m.\u001b[0m\u001b[0mparse\u001b[0m\u001b[1;33m(\u001b[0m\u001b[1;33m)\u001b[0m\u001b[1;33m\u001b[0m\u001b[0m\n\u001b[0m\u001b[0;32m   1293\u001b[0m     \u001b[1;32mreturn\u001b[0m \u001b[0mg\u001b[0m\u001b[1;33m\u001b[0m\u001b[0m\n\u001b[0;32m   1294\u001b[0m \u001b[1;33m\u001b[0m\u001b[0m\n",
        "\u001b[1;32mc:\\python27\\lib\\site-packages\\openalea\\mtg\\io.pyc\u001b[0m in \u001b[0;36mparse\u001b[1;34m(self)\u001b[0m\n\u001b[0;32m    918\u001b[0m         \"\"\"\n\u001b[0;32m    919\u001b[0m         \u001b[0mself\u001b[0m\u001b[1;33m.\u001b[0m\u001b[0mheader\u001b[0m\u001b[1;33m(\u001b[0m\u001b[1;33m)\u001b[0m\u001b[1;33m\u001b[0m\u001b[0m\n\u001b[1;32m--> 920\u001b[1;33m         \u001b[0mself\u001b[0m\u001b[1;33m.\u001b[0m\u001b[0mcode\u001b[0m\u001b[1;33m(\u001b[0m\u001b[1;33m)\u001b[0m\u001b[1;33m\u001b[0m\u001b[0m\n\u001b[0m\u001b[0;32m    921\u001b[0m \u001b[1;33m\u001b[0m\u001b[0m\n\u001b[0;32m    922\u001b[0m         \u001b[0mself\u001b[0m\u001b[1;33m.\u001b[0m\u001b[0merrors\u001b[0m\u001b[1;33m(\u001b[0m\u001b[1;33m)\u001b[0m\u001b[1;33m\u001b[0m\u001b[0m\n",
        "\u001b[1;32mc:\\python27\\lib\\site-packages\\openalea\\mtg\\io.pyc\u001b[0m in \u001b[0;36mcode\u001b[1;34m(self)\u001b[0m\n\u001b[0;32m   1152\u001b[0m \u001b[1;33m\u001b[0m\u001b[0m\n\u001b[0;32m   1153\u001b[0m         \u001b[0mself\u001b[0m\u001b[1;33m.\u001b[0m\u001b[0mpreprocess_code\u001b[0m\u001b[1;33m(\u001b[0m\u001b[1;33m)\u001b[0m\u001b[1;33m\u001b[0m\u001b[0m\n\u001b[1;32m-> 1154\u001b[1;33m         \u001b[0mself\u001b[0m\u001b[1;33m.\u001b[0m\u001b[0mbuild_mtg\u001b[0m\u001b[1;33m(\u001b[0m\u001b[1;33m)\u001b[0m\u001b[1;33m\u001b[0m\u001b[0m\n\u001b[0m\u001b[0;32m   1155\u001b[0m \u001b[1;33m\u001b[0m\u001b[0m\n\u001b[0;32m   1156\u001b[0m \u001b[1;33m\u001b[0m\u001b[0m\n",
        "\u001b[1;32mc:\\python27\\lib\\site-packages\\openalea\\mtg\\io.pyc\u001b[0m in \u001b[0;36mbuild_mtg\u001b[1;34m(self)\u001b[0m\n\u001b[0;32m   1266\u001b[0m         \"\"\"\n\u001b[0;32m   1267\u001b[0m         \"\"\"\n\u001b[1;32m-> 1268\u001b[1;33m         \u001b[0mself\u001b[0m\u001b[1;33m.\u001b[0m\u001b[0mmtg\u001b[0m \u001b[1;33m=\u001b[0m \u001b[0mmultiscale_edit\u001b[0m\u001b[1;33m(\u001b[0m\u001b[0mself\u001b[0m\u001b[1;33m.\u001b[0m\u001b[0m_new_code\u001b[0m\u001b[1;33m,\u001b[0m \u001b[0mself\u001b[0m\u001b[1;33m.\u001b[0m\u001b[0m_symbols\u001b[0m\u001b[1;33m,\u001b[0m \u001b[0mself\u001b[0m\u001b[1;33m.\u001b[0m\u001b[0m_features\u001b[0m\u001b[1;33m,\u001b[0m \u001b[0mself\u001b[0m\u001b[1;33m.\u001b[0m\u001b[0mhas_date\u001b[0m\u001b[1;33m,\u001b[0m \u001b[0mmtg\u001b[0m\u001b[1;33m=\u001b[0m\u001b[0mself\u001b[0m\u001b[1;33m.\u001b[0m\u001b[0mmtg\u001b[0m\u001b[1;33m)\u001b[0m\u001b[1;33m\u001b[0m\u001b[0m\n\u001b[0m\u001b[0;32m   1269\u001b[0m         \u001b[1;31m#self.mtg = multiscale_edit(self._new_code, {}, self._features)\u001b[0m\u001b[1;33m\u001b[0m\u001b[1;33m\u001b[0m\u001b[0m\n\u001b[0;32m   1270\u001b[0m \u001b[1;33m\u001b[0m\u001b[0m\n",
        "\u001b[1;32mc:\\python27\\lib\\site-packages\\openalea\\mtg\\io.pyc\u001b[0m in \u001b[0;36mmultiscale_edit\u001b[1;34m(s, symbol_at_scale, class_type, has_date, mtg)\u001b[0m\n\u001b[0;32m    240\u001b[0m         \u001b[1;32melse\u001b[0m\u001b[1;33m:\u001b[0m\u001b[1;33m\u001b[0m\u001b[0m\n\u001b[0;32m    241\u001b[0m             \u001b[1;32mif\u001b[0m \u001b[0mclass_type\u001b[0m\u001b[1;33m:\u001b[0m\u001b[1;33m\u001b[0m\u001b[0m\n\u001b[1;32m--> 242\u001b[1;33m                 \u001b[0margs\u001b[0m \u001b[1;33m=\u001b[0m \u001b[0mget_properties\u001b[0m\u001b[1;33m(\u001b[0m\u001b[0mname\u001b[0m\u001b[1;33m,\u001b[0m \u001b[0mvid\u001b[0m\u001b[1;33m=\u001b[0m\u001b[0mvid\u001b[0m\u001b[1;33m)\u001b[0m\u001b[1;33m\u001b[0m\u001b[0m\n\u001b[0m\u001b[0;32m    243\u001b[0m             \u001b[1;32melse\u001b[0m\u001b[1;33m:\u001b[0m\u001b[1;33m\u001b[0m\u001b[0m\n\u001b[0;32m    244\u001b[0m                 \u001b[0mlabel\u001b[0m \u001b[1;33m=\u001b[0m \u001b[0mget_label\u001b[0m\u001b[1;33m(\u001b[0m\u001b[0mname\u001b[0m\u001b[1;33m)\u001b[0m\u001b[1;33m\u001b[0m\u001b[0m\n",
        "\u001b[1;32mc:\\python27\\lib\\site-packages\\openalea\\mtg\\io.pyc\u001b[0m in \u001b[0;36mget_properties\u001b[1;34m(name, vid, time)\u001b[0m\n\u001b[0;32m    125\u001b[0m                 \u001b[0mln\u001b[0m \u001b[1;33m=\u001b[0m \u001b[0marg_string\u001b[0m\u001b[1;33m.\u001b[0m\u001b[0msplit\u001b[0m\u001b[1;33m(\u001b[0m\u001b[1;34m','\u001b[0m\u001b[1;33m)\u001b[0m\u001b[1;33m\u001b[0m\u001b[0m\n\u001b[0;32m    126\u001b[0m                 \u001b[1;32mfor\u001b[0m \u001b[0marg\u001b[0m \u001b[1;32min\u001b[0m \u001b[0mln\u001b[0m\u001b[1;33m:\u001b[0m\u001b[1;33m\u001b[0m\u001b[0m\n\u001b[1;32m--> 127\u001b[1;33m                     \u001b[0mk\u001b[0m\u001b[1;33m,\u001b[0m \u001b[0mv\u001b[0m \u001b[1;33m=\u001b[0m \u001b[0marg\u001b[0m\u001b[1;33m.\u001b[0m\u001b[0msplit\u001b[0m\u001b[1;33m(\u001b[0m\u001b[1;34m'='\u001b[0m\u001b[1;33m)\u001b[0m\u001b[1;33m\u001b[0m\u001b[0m\n\u001b[0m\u001b[0;32m    128\u001b[0m                     \u001b[0mklass\u001b[0m \u001b[1;33m=\u001b[0m \u001b[0m_type\u001b[0m\u001b[1;33m[\u001b[0m\u001b[0mclass_type\u001b[0m\u001b[1;33m[\u001b[0m\u001b[0mk\u001b[0m\u001b[1;33m]\u001b[0m\u001b[1;33m]\u001b[0m\u001b[1;33m\u001b[0m\u001b[0m\n\u001b[0;32m    129\u001b[0m                     \u001b[1;32mtry\u001b[0m\u001b[1;33m:\u001b[0m\u001b[1;33m\u001b[0m\u001b[0m\n",
        "\u001b[1;31mValueError\u001b[0m: need more than 1 value to unpack"
       ]
      }
     ],
     "prompt_number": 56
    },
    {
     "cell_type": "heading",
     "level": 3,
     "metadata": {},
     "source": [
      ".... 2.3.2 Lines code to identify some wrinting errors"
     ]
    },
    {
     "cell_type": "code",
     "collapsed": false,
     "input": [
      "#g[5258] #lets see full description of the vertex n \u00b0x (x=arguments)"
     ],
     "language": "python",
     "metadata": {},
     "outputs": [],
     "prompt_number": 6
    },
    {
     "cell_type": "code",
     "collapsed": false,
     "input": [
      "#g.node(1918)._line # lets identify the line associated with the error (argument)"
     ],
     "language": "python",
     "metadata": {},
     "outputs": [],
     "prompt_number": 7
    },
    {
     "cell_type": "code",
     "collapsed": false,
     "input": [
      "#g.node(1918).label # Lets identify the label associated with the error (argument)"
     ],
     "language": "python",
     "metadata": {},
     "outputs": [],
     "prompt_number": 8
    },
    {
     "cell_type": "heading",
     "level": 3,
     "metadata": {},
     "source": [
      ".... 2.3.3 Second Verification of MTG reading by display"
     ]
    },
    {
     "cell_type": "code",
     "collapsed": false,
     "input": [
      "#g.display(g) #Display MTG"
     ],
     "language": "python",
     "metadata": {},
     "outputs": [],
     "prompt_number": 9
    },
    {
     "cell_type": "heading",
     "level": 2,
     "metadata": {},
     "source": [
      ".. 2.4 Verification of production rules specific to strawberry"
     ]
    },
    {
     "cell_type": "heading",
     "level": 3,
     "metadata": {},
     "source": [
      ".... 2.4.1 Pr\u00e9-requis"
     ]
    },
    {
     "cell_type": "markdown",
     "metadata": {},
     "source": [
      "Afin de verifier les diff\u00e9rentes r\u00e8gle de production il est necessaire de d\u00e9finir les entit\u00e9s et les propri\u00e9t\u00e9s "
     ]
    },
    {
     "cell_type": "code",
     "collapsed": false,
     "input": [
      "def select_entities(g, name):\n",
      "    \"\"\" Returns entities like P, F, bt, s, HT, f or ht\n",
      "    \"\"\"\n",
      "    return [v for v in g if name in g.label(v)]"
     ],
     "language": "python",
     "metadata": {},
     "outputs": [],
     "prompt_number": 28
    },
    {
     "cell_type": "code",
     "collapsed": false,
     "input": [
      "Plante= select_entities(g, \"P\")\n",
      "Leaves= select_entities(g, \"F\")\n",
      "Terminal_buds=select_entities(g,\"bt\")\n",
      "Runners=select_entities(g,\"s\")\n",
      "Inflorescence=select_entities(g,\"HT\")\n",
      "Foliar_primordia=select_entities(g,\"f\")\n",
      "Inflorescence_primordia=select_entities(g,\"ht\")"
     ],
     "language": "python",
     "metadata": {},
     "outputs": [],
     "prompt_number": 29
    },
    {
     "cell_type": "code",
     "collapsed": false,
     "input": [
      "Stage = g.property('Stade')\n",
      "Total_Flower = g.property('Fleurs_total')\n",
      "Open_Flower = g.property('Fleurs_ouverte')\n",
      "Aborted_Flower = g.property(\"Fleurs_avort\u00e9\")"
     ],
     "language": "python",
     "metadata": {},
     "outputs": [],
     "prompt_number": 30
    },
    {
     "cell_type": "heading",
     "level": 3,
     "metadata": {},
     "source": [
      ".... 2.4.2 Rules specific to Strawberry MTG"
     ]
    },
    {
     "cell_type": "heading",
     "level": 4,
     "metadata": {},
     "source": [
      "...... 2.4.1 Specific to stage properties"
     ]
    },
    {
     "cell_type": "markdown",
     "metadata": {},
     "source": [
      "Remenber: in properties table we defined entities specific to properties:\n",
      "- Stage of Terminal bud (bt) is between 17 to A (line code to identify error writting for this rules see Terminal buds rules)\n",
      "- Stage of primordia inflorescence (ht) is between B to H (line code to identify error writting for this rules see Inflorescence_primordia rules)"
     ]
    },
    {
     "cell_type": "code",
     "collapsed": false,
     "input": [
      "\"Terminal_buds rules\"\n",
      "\"-------------------\"\n",
      "print set(Stage.get(v) for v in Terminal_buds)\n",
      "l = [v for v in Terminal_buds if Stage.get(v) in ('B', 'C')]\n",
      "print [g.node(v)._line for v in l]"
     ],
     "language": "python",
     "metadata": {},
     "outputs": [
      {
       "output_type": "stream",
       "stream": "stdout",
       "text": [
        "set(['A', None, 'sech\\xc3\\xa9', '17', '19', 'pourri', 'avort\\xc3\\xa9'])\n",
        "[]\n"
       ]
      }
     ],
     "prompt_number": 31
    },
    {
     "cell_type": "code",
     "collapsed": false,
     "input": [
      "\"Inflorescence_primordia rules\"\n",
      "\"------------------------\"\n",
      "print set(Stage.get(v) for v in Inflorescence_primordia)\n",
      "l=[v for v in Inflorescence_primordia if Stage.get(v) in ('17', '19', 'A', 'I')]\n",
      "print [g.node(v)._line for v in l]"
     ],
     "language": "python",
     "metadata": {},
     "outputs": [
      {
       "output_type": "stream",
       "stream": "stdout",
       "text": [
        "set(['A', 'C', 'B', 'E', 'D', 'G', 'F', 'I', 'H', 'avort\\xc3\\xa9', '65'])\n",
        "[1101, 1606, 3311]\n"
       ]
      }
     ],
     "prompt_number": 32
    },
    {
     "cell_type": "heading",
     "level": 4,
     "metadata": {},
     "source": [
      "......2.4.2 Specific to topologie"
     ]
    },
    {
     "cell_type": "code",
     "collapsed": false,
     "input": [
      "\"Inflorescence\"\n",
      "\"--------------\"\n",
      "print set(g.node(v).parent().label for v in Inflorescence)\n",
      "[g.node(v)._line for v in Inflorescence if g.node(v).Stade == 'I' and g.node(v).parent().label == 'f']"
     ],
     "language": "python",
     "metadata": {},
     "outputs": [
      {
       "output_type": "stream",
       "stream": "stdout",
       "text": [
        "set(['f', 'F'])\n"
       ]
      },
      {
       "metadata": {},
       "output_type": "pyout",
       "prompt_number": 33,
       "text": [
        "[3755, 3984, 4352, 4501, 4551]"
       ]
      }
     ],
     "prompt_number": 33
    },
    {
     "cell_type": "heading",
     "level": 1,
     "metadata": {},
     "source": [
      "3. MTG Analysis"
     ]
    },
    {
     "cell_type": "heading",
     "level": 2,
     "metadata": {},
     "source": [
      "3.1 Qu'est ce que je souhaite analyser?"
     ]
    },
    {
     "cell_type": "markdown",
     "metadata": {},
     "source": [
      "Par Date, Plante,par ordre, par axe et par g\u00e9notype\n",
      "- Nombre de feuilles totale\n",
      "- Nombre de feuilles totale sortie (F)\n",
      "- Nombre de feuilles qui vont sortir (f) \n",
      "- Nombre de de stolon (s)\n",
      "- Nombre de coeurs sortie (+A </F)\n",
      "- Nombre de coeurs a venir (+A </f)\n",
      "- Nombre de hampe sortie (HT)\n",
      "- Nombre de hampe qui vont sortir (ht)\n",
      "- Nombre de fleurs total, fleur ouverte, fleur avort\u00e9\n",
      "\n",
      "\n",
      "le stade de d\u00e9veloppement de chaque bt, ht ou HT ~ de leur positions sur  les diff\u00e9rents axes et plants\n"
     ]
    },
    {
     "cell_type": "heading",
     "level": 3,
     "metadata": {},
     "source": [
      "- Use MTG functions to extract info"
     ]
    },
    {
     "cell_type": "code",
     "collapsed": false,
     "input": [
      "Nb_Plante= len(Plante)\n",
      "Nb_Leaves= len(Leaves)\n",
      "Nb_Terminal_bud= len(Terminal_buds)\n",
      "Nb_Runners= len(Runners)\n",
      "Nb_Inflorescences= len(Inflorescence)\n",
      "Nb_Foliar_primordia= len(Foliar_primordia)\n",
      "Nb_Inflorescences_primordia= len(Inflorescence_primordia)\n",
      "\n",
      "print Nb_Plante\n",
      "print Nb_Leaves\n",
      "print Nb_Terminal_bud\n",
      "print Nb_Runners\n",
      "print Nb_Inflorescences\n",
      "print Nb_Foliar_primordia\n",
      "print Nb_Inflorescences_primordia"
     ],
     "language": "python",
     "metadata": {},
     "outputs": [
      {
       "output_type": "stream",
       "stream": "stdout",
       "text": [
        "54\n",
        "1063\n",
        "838\n",
        "132\n",
        "229\n",
        "1874\n",
        "458\n"
       ]
      }
     ],
     "prompt_number": 34
    },
    {
     "cell_type": "heading",
     "level": 3,
     "metadata": {},
     "source": [
      "- Create a dataframe (pandas)"
     ]
    },
    {
     "cell_type": "heading",
     "level": 1,
     "metadata": {},
     "source": [
      "4. MTG Representation"
     ]
    },
    {
     "cell_type": "markdown",
     "metadata": {},
     "source": [
      "#Qu'est ce que je souhaite repr\u00e9senter? \n",
      "    Tous les plants partie visible par date\n",
      " Tronc, axe, Feuille, bt, HT en trait plein et les partie non visible en trait pointille\n",
      " faire que les Ht soit plus au moins important en fonction de leur poid en fleurs total\n",
      " que les stade soit repr\u00e9senter par diff\u00e9rentes couleurs\n",
      " \n",
      "    De meme (par date) mais par g\u00e9notype"
     ]
    },
    {
     "cell_type": "code",
     "collapsed": false,
     "input": [
      "%gui qt\n",
      "from openalea.mtg.algo import orders\n",
      "from openalea.plantgl import all as pgl\n",
      "\n",
      "g.properties()['order'] = orders(g)\n",
      "\n",
      "# Phyllotaxie\n",
      "roll_angle = 360.*2./5."
     ],
     "language": "python",
     "metadata": {},
     "outputs": [],
     "prompt_number": 35
    },
    {
     "cell_type": "code",
     "collapsed": false,
     "input": [
      "cleaf = (0,125,0)\n",
      "cfleaf = (255, 0, 255) \n",
      "cstolon= (0,20,0)\n",
      "\n",
      "\n",
      "\n",
      "def color_code(g):\n",
      "    labels = g.property('label')\n",
      "    for v in g.vertices(scale=g.max_scale()):\n",
      "        nid = g.node(v)\n",
      "        if nid.label == 'F':\n",
      "            nid.color=cleaf\n",
      "            if nid.order == 1:\n",
      "                nid.color=(255,0,0)\n",
      "            elif nid.order == 2:\n",
      "                nid.color=(0,0,255)\n",
      "            elif nid.order == 3:\n",
      "                nid.color=(255,255,0)                \n",
      "            elif nid.order == 4:\n",
      "                nid.color=(255,0,255)\n",
      "            elif nid.order == 5:\n",
      "                nid.color=(0,255,255)\n",
      "            elif nid.order == 6:\n",
      "                nid.color=(255,255,255)\n",
      "            elif nid.order >6:\n",
      "                nid.color=(0, 0, 0)\n",
      "        elif nid.label =='f':\n",
      "            nid.color = cfleaf\n",
      "        elif nid.label == 's':\n",
      "            nid.color = cstolon\n",
      "        elif nid.label == 'bt':\n",
      "            stade = nid.Stade\n",
      "            if stade is None: \n",
      "                nid.color = (155, 155, 155)\n",
      "            elif stade in ('17', '18', '19'):\n",
      "                nid.color=(0, 255,0)\n",
      "            elif stade == 'A':\n",
      "                nid.color = (255,0,0)\n",
      "            elif stade in 'BCDEFGH':\n",
      "                d = dict(zip('BCDEFGH', range(1, len('BCDEFGH')+1)))\n",
      "                i = d[stade]\n",
      "                nid.color = (255, 127+127/7*(i-1),0)\n",
      "            else:\n",
      "                nid.color = (153, 102, 51)\n",
      "        elif nid.label == 'ht':\n",
      "            stade = nid.Stade\n",
      "            \n",
      "            if stade is None: \n",
      "                nid.color = (155, 155, 155)\n",
      "            elif stade in ('17', '18', '19'):\n",
      "                nid.color= (0, 255,0)\n",
      "            elif stade == 'A':\n",
      "                nid.color = (255,0,0)\n",
      "            elif stade in 'BCDEFGH':\n",
      "                d = dict(zip('BCDEFGH', range(1, len('BCDEFGH')+1)))\n",
      "                i = d[stade]\n",
      "                nid.color = (255, 127+127/7*(i-1),0)\n",
      "            else:\n",
      "                nid.color = (153, 102, 51)\n",
      "        elif nid.label == 'HT':\n",
      "            stade = nid.Stade\n",
      "            if stade is None: \n",
      "                nid.color = (155, 155, 155)\n",
      "            elif stade in ('17', '18', '19'):\n",
      "                nid.color=(0,0,255)\n",
      "            elif stade == 'I':\n",
      "                nid.color = (255,0,0)\n",
      "            else:\n",
      "                stades = map(str, range(55,88))\n",
      "                if stade in stades:\n",
      "                    d = dict(zip(stades, range(len(stades))))\n",
      "                    i = d[stade]\n",
      "                    nid.color = (0, 127+127/(len(stades)-1)*(i),255)\n",
      "                else:\n",
      "                    nid.color = (153, 102, 51)\n",
      "                \n",
      "            \n",
      "            \n",
      "        \n",
      "        "
     ],
     "language": "python",
     "metadata": {},
     "outputs": [],
     "prompt_number": 36
    },
    {
     "cell_type": "code",
     "collapsed": false,
     "input": [
      "# Geometric functions that draws organs\n",
      "# {'F', 'HT', 'bt', 'f', 'ht', 's'}\n",
      "VISIBLE = True\n",
      "WITHOUT_LEAF = False\n",
      "position = (0,0,0)\n",
      "def stolon_curve(scale=1.):\n",
      "    v2 = pgl.Vector3\n",
      "    ctrls = pgl.Point3Array([v2(x*scale, y*scale) for x,y in [(0,0), (1,3), (3,5), (4,2), (5,4)]])\n",
      "    crv = pgl.BezierCurve2D(ctrls)\n",
      "    return crv\n",
      "\n",
      "stolon = stolon_curve(scale=.25)\n",
      "\n",
      "from math import radians\n",
      "\n",
      "def leaflet(length=1., width=1.):\n",
      "    disc = pgl.Translated((-0.5,0,0), pgl.Disc())\n",
      "    disc = pgl.Scaled((length, width,1), disc)\n",
      "    disc = pgl.AxisRotated(axis=(0,1,0), angle=radians(90.), geometry=disc)\n",
      "    \n",
      "    d1 = pgl.AxisRotated(axis=(1,0,0), angle=-radians(60.), geometry=disc)\n",
      "    d2 = pgl.AxisRotated(axis=(1,0,0), angle=-radians(-60.), geometry=disc)\n",
      "    d3 = pgl.AxisRotated(axis=(1,0,0), angle=0., geometry=disc)\n",
      "    \n",
      "    shape = pgl.Group([d1, d2, d3])\n",
      "    return shape\n",
      "\n",
      "\n",
      "def Phytomer(g, vid, turtle):\n",
      "    \"\"\" F: Petiol + 3 lobes. \n",
      "    cylinder + 3 ellipse/surface\n",
      "    \"\"\"\n",
      "    t = turtle\n",
      "    nid = g.node(vid)\n",
      "    order = nid.order\n",
      "    t.setColor(2+order)\n",
      "    t.setWidth(0.01)\n",
      "    \n",
      "    len_petiole = 1.\n",
      "    len_internode = 0.1\n",
      "    leaflet_length = 0.7/2.\n",
      "    leaflet_wdth = 0.3/2.\n",
      "    \n",
      "    t.F(0.1)\n",
      "    #if order != 1:\n",
      "    #    return\n",
      "    t.push()\n",
      "    t.down(45.)\n",
      "    t.F(len_petiole)\n",
      "    if not WITHOUT_LEAF:\n",
      "        t.customGeometry(leaflet(leaflet_length, leaflet_wdth))\n",
      "    t.pop()\n",
      "\n",
      "def Inflorescence(g, vid, turtle):\n",
      "    \"\"\" HT: Inflorescence\n",
      "    Box (may change)\n",
      "    \"\"\"\n",
      "    t = turtle\n",
      "    nid = g.node(vid)\n",
      "    order = nid.order\n",
      "    #turtle.setColor(3)\n",
      "    nb_flower = nid.Fleurs_total\n",
      "    nb_flower_open = nid.Fleurs_ouverte\n",
      "    \n",
      "    t.setColor(2+order)\n",
      "    turtle.F(0.2)\n",
      "    if nb_flower is None:\n",
      "        nb_flower = 0.5\n",
      "    if nb_flower_open is None:\n",
      "        nb_flower_open = 0.1\n",
      "        \n",
      "    cube = pgl.Box(0.05*pgl.Vector3(1,1,nb_flower_open/4.))\n",
      "    tap = pgl.Tapered(3./20*nb_flower, 3./20*nb_flower_open, cube) \n",
      "    turtle.customGeometry(tap)\n",
      "\n",
      "def TerminalBud(g, vid, turtle):\n",
      "    \"\"\" bt: Terminal Bud. \"\"\"\n",
      "    t = turtle\n",
      "    #turtle.setColor(1)\n",
      "    nid = g.node(vid)\n",
      "    order = nid.order\n",
      "    t.setColor(2+order)\n",
      "    turtle.F(0.1)\n",
      "    sphere = pgl.Sphere(radius=0.02)\n",
      "    turtle.customGeometry(sphere)    \n",
      "\n",
      "\n",
      "def Phytomer_Primordia(g, vid, turtle):\n",
      "    \"\"\" F: Petiol + 3 lobes. \n",
      "    cylinder + 3 ellipse/surface\n",
      "    \"\"\"\n",
      "    scale = 1./5\n",
      "    t = turtle\n",
      "    nid = g.node(vid)\n",
      "    order = nid.order\n",
      "    t.setColor(6+order)\n",
      "    t.setWidth(0.01*scale)\n",
      "    # set color\n",
      "    \n",
      "    len_petiole = 1.\n",
      "    len_internode = 0.1\n",
      "    leaflet_length = 0.7/2.\n",
      "    leaflet_wdth = 0.3/2.\n",
      "    if VISIBLE:\n",
      "        t.F(0.1*scale)\n",
      "        t.push()\n",
      "        t.down(45.)\n",
      "        t.F(len_petiole*scale)\n",
      "        #t.customGeometry(leaflet(leaflet_length*scale, leaflet_wdth*scale))\n",
      "        t.pop()\n",
      "\n",
      "def Inflo_Primordia(g, vid, turtle):\n",
      "    \"\"\" bt \"\"\"\n",
      "    t = turtle\n",
      "    #turtle.setColor(1)\n",
      "    nid = g.node(vid)\n",
      "    order = nid.order\n",
      "    t.setColor(8+order)\n",
      "    turtle.F(0.1)\n",
      "    cube = pgl.Box(0.02*pgl.Vector3(1,1,1))\n",
      "    turtle.customGeometry(cube)    \n",
      "\n",
      "def Stolon(g, vid, turtle):\n",
      "    t = turtle\n",
      "    #t.setGuide(stolon, 1)\n",
      "    nid = g.node(vid)\n",
      "    order = nid.order\n",
      "    #turtle.setColor(3)\n",
      "    t.setColor(2+order)\n",
      "    turtle.customGeometry(stolon)\n",
      "\n",
      "geoms = dict(F=Phytomer, HT=Inflorescence, bt=TerminalBud, \n",
      "             f=Phytomer_Primordia, ht=Inflo_Primordia, s=Stolon)\n",
      "\n",
      "print geoms\n"
     ],
     "language": "python",
     "metadata": {},
     "outputs": [
      {
       "output_type": "stream",
       "stream": "stdout",
       "text": [
        "{'bt': <function TerminalBud at 0x03AB66F0>, 's': <function Stolon at 0x03AB68B0>, 'ht': <function Inflo_Primordia at 0x03AB63F0>, 'F': <function Phytomer at 0x06F0AFB0>, 'f': <function Phytomer_Primordia at 0x03AB6770>, 'HT': <function Inflorescence at 0x03AB6A30>}\n"
       ]
      }
     ],
     "prompt_number": 37
    },
    {
     "cell_type": "code",
     "collapsed": false,
     "input": [
      "count = 0\n",
      "color_code(g)\n",
      "\n",
      "\n",
      "def strawberry_visitor(g, v, turtle, time=0):\n",
      "    \"\"\" Function that draw geometry for a given vertex. \"\"\"\n",
      "    global count\n",
      "    count+=1\n",
      "    turtle.setWidth(0.01)\n",
      "    nid = g.node(v)\n",
      "\n",
      "    label = g.label(v)\n",
      "    #print label\n",
      "\n",
      "    if label in ('F', 'f'):\n",
      "        turtle.rollL(roll_angle)\n",
      "   \n",
      "    if g.edge_type(v) == '+':\n",
      "        turtle.down(30)\n",
      "\n",
      "    \n",
      "    turtle.setId(v)\n",
      "    \n",
      "    geoms.get(label)(g, v, turtle)\n",
      "\n",
      "scene = turtle.traverse_with_turtle(g, 4815, visitor=strawberry_visitor)\n",
      "pgl.Viewer.display(scene)\n",
      "print count"
     ],
     "language": "python",
     "metadata": {},
     "outputs": [
      {
       "output_type": "stream",
       "stream": "stdout",
       "text": [
        "1\n"
       ]
      }
     ],
     "prompt_number": 38
    },
    {
     "cell_type": "code",
     "collapsed": false,
     "input": [
      "#g.display(g)"
     ],
     "language": "python",
     "metadata": {},
     "outputs": [],
     "prompt_number": 39
    },
    {
     "cell_type": "code",
     "collapsed": false,
     "input": [
      "def visualise_plants(g):\n",
      "    t = pgl.PglTurtle()\n",
      "    vids = g.component_roots_at_scale(g.root, g.max_scale())\n",
      "    n= len(vids)\n",
      "    x=-9\n",
      "    y = -12\n",
      "    dx = 2.\n",
      "    dy = 4.\n",
      "    scenes = pgl.Scene()\n",
      "    count = 0\n",
      "    for vid in vids:\n",
      "        position = (x+(count%9)*dx,y+(count/9)*dy,0)\n",
      "        t = pgl.PglTurtle()\n",
      "        #t.move(position)\n",
      "        scene = turtle.traverse_with_turtle(g, vid, visitor=strawberry_visitor, turtle=t)\n",
      "        \n",
      "        ds = scene.todict()\n",
      "        \n",
      "        for shid in ds:\n",
      "            for sh in ds[shid]:\n",
      "                sh.geometry = pgl.Translated(position, sh.geometry)\n",
      "                scenes.add(sh)\n",
      "        count += 1\n",
      "    return scenes"
     ],
     "language": "python",
     "metadata": {},
     "outputs": [],
     "prompt_number": 40
    },
    {
     "cell_type": "code",
     "collapsed": false,
     "input": [
      "scene = visualise_plants(g)\n",
      "pgl.Viewer.display(scene)"
     ],
     "language": "python",
     "metadata": {},
     "outputs": [
      {
       "output_type": "stream",
       "stream": "stderr",
       "text": [
        "-c:129: Warning: Invalid Color value 8 in setColor (maximum is 6)\n",
        "-c:36: Warning: Invalid Color value 7 in setColor (maximum is 6)\n",
        "-c:96: Warning: Invalid Color value 12 in setColor (maximum is 6)\n"
       ]
      },
      {
       "output_type": "stream",
       "stream": "stderr",
       "text": [
        "-c:65: Warning: Invalid Color value 7 in setColor (maximum is 6)\n",
        "openalea.plantgl:76: Warning: <Box> Field 'Size' has a bad value : The three values of size must not be null\n"
       ]
      },
      {
       "output_type": "stream",
       "stream": "stderr",
       "text": [
        "openalea.plantgl:281: Warning: <Shape> Field 'Geometry' has a bad value : Must be valid.\n",
        "openalea.plantgl:418: Warning: <Scene> Field 'ShapeList' has a bad '653'th value : Must be a valid Shape.\n"
       ]
      }
     ],
     "prompt_number": 41
    },
    {
     "cell_type": "code",
     "collapsed": false,
     "input": [
      "g=MTG(files[0]) \n",
      "g.properties()['order'] = orders(g)\n",
      "color_code(g)\n",
      "scene = visualise_plants(g)\n",
      "pgl.Viewer.display(scene)"
     ],
     "language": "python",
     "metadata": {},
     "outputs": [
      {
       "output_type": "stream",
       "stream": "stdout",
       "text": [
        "ERROR ^/bt(Stade=17,_line=6469)\n",
        "replace all the date format by -\n"
       ]
      },
      {
       "ename": "ValueError",
       "evalue": "need more than 1 value to unpack",
       "output_type": "pyerr",
       "traceback": [
        "\u001b[1;31m---------------------------------------------------------------------------\u001b[0m\n\u001b[1;31mValueError\u001b[0m                                Traceback (most recent call last)",
        "\u001b[1;32m<ipython-input-55-b5e001b657b6>\u001b[0m in \u001b[0;36m<module>\u001b[1;34m()\u001b[0m\n\u001b[1;32m----> 1\u001b[1;33m \u001b[0mg\u001b[0m\u001b[1;33m=\u001b[0m\u001b[0mMTG\u001b[0m\u001b[1;33m(\u001b[0m\u001b[0mfiles\u001b[0m\u001b[1;33m[\u001b[0m\u001b[1;36m0\u001b[0m\u001b[1;33m]\u001b[0m\u001b[1;33m)\u001b[0m\u001b[1;33m\u001b[0m\u001b[0m\n\u001b[0m\u001b[0;32m      2\u001b[0m \u001b[0mg\u001b[0m\u001b[1;33m.\u001b[0m\u001b[0mproperties\u001b[0m\u001b[1;33m(\u001b[0m\u001b[1;33m)\u001b[0m\u001b[1;33m[\u001b[0m\u001b[1;34m'order'\u001b[0m\u001b[1;33m]\u001b[0m \u001b[1;33m=\u001b[0m \u001b[0morders\u001b[0m\u001b[1;33m(\u001b[0m\u001b[0mg\u001b[0m\u001b[1;33m)\u001b[0m\u001b[1;33m\u001b[0m\u001b[0m\n\u001b[0;32m      3\u001b[0m \u001b[0mcolor_code\u001b[0m\u001b[1;33m(\u001b[0m\u001b[0mg\u001b[0m\u001b[1;33m)\u001b[0m\u001b[1;33m\u001b[0m\u001b[0m\n\u001b[0;32m      4\u001b[0m \u001b[0mscene\u001b[0m \u001b[1;33m=\u001b[0m \u001b[0mvisualise_plants\u001b[0m\u001b[1;33m(\u001b[0m\u001b[0mg\u001b[0m\u001b[1;33m)\u001b[0m\u001b[1;33m\u001b[0m\u001b[0m\n\u001b[0;32m      5\u001b[0m \u001b[0mpgl\u001b[0m\u001b[1;33m.\u001b[0m\u001b[0mViewer\u001b[0m\u001b[1;33m.\u001b[0m\u001b[0mdisplay\u001b[0m\u001b[1;33m(\u001b[0m\u001b[0mscene\u001b[0m\u001b[1;33m)\u001b[0m\u001b[1;33m\u001b[0m\u001b[0m\n",
        "\u001b[1;32mc:\\python27\\lib\\site-packages\\openalea\\mtg\\mtg.pyc\u001b[0m in \u001b[0;36m__init__\u001b[1;34m(self, filename, has_date)\u001b[0m\n\u001b[0;32m     94\u001b[0m         \u001b[1;32mif\u001b[0m \u001b[0mfilename\u001b[0m\u001b[1;33m:\u001b[0m\u001b[1;33m\u001b[0m\u001b[0m\n\u001b[0;32m     95\u001b[0m             \u001b[1;32mfrom\u001b[0m \u001b[0mio\u001b[0m \u001b[1;32mimport\u001b[0m \u001b[0mread_mtg_file\u001b[0m\u001b[1;33m\u001b[0m\u001b[0m\n\u001b[1;32m---> 96\u001b[1;33m             \u001b[0mself\u001b[0m \u001b[1;33m=\u001b[0m \u001b[0mread_mtg_file\u001b[0m\u001b[1;33m(\u001b[0m\u001b[0mfilename\u001b[0m\u001b[1;33m,\u001b[0m \u001b[0mmtg\u001b[0m\u001b[1;33m=\u001b[0m\u001b[0mself\u001b[0m\u001b[1;33m,\u001b[0m \u001b[0mhas_date\u001b[0m\u001b[1;33m=\u001b[0m\u001b[0mhas_date\u001b[0m\u001b[1;33m)\u001b[0m\u001b[1;33m\u001b[0m\u001b[0m\n\u001b[0m\u001b[0;32m     97\u001b[0m \u001b[1;33m\u001b[0m\u001b[0m\n\u001b[0;32m     98\u001b[0m     \u001b[1;32mdef\u001b[0m \u001b[0m__getitem__\u001b[0m\u001b[1;33m(\u001b[0m\u001b[0mself\u001b[0m\u001b[1;33m,\u001b[0m \u001b[0mvtx_id\u001b[0m\u001b[1;33m)\u001b[0m\u001b[1;33m:\u001b[0m\u001b[1;33m\u001b[0m\u001b[0m\n",
        "\u001b[1;32mc:\\python27\\lib\\site-packages\\openalea\\mtg\\io.pyc\u001b[0m in \u001b[0;36mread_mtg_file\u001b[1;34m(fn, mtg, has_date)\u001b[0m\n\u001b[0;32m   1305\u001b[0m     \u001b[0mtxt\u001b[0m \u001b[1;33m=\u001b[0m \u001b[0mf\u001b[0m\u001b[1;33m.\u001b[0m\u001b[0mread\u001b[0m\u001b[1;33m(\u001b[0m\u001b[1;33m)\u001b[0m\u001b[1;33m\u001b[0m\u001b[0m\n\u001b[0;32m   1306\u001b[0m     \u001b[0mf\u001b[0m\u001b[1;33m.\u001b[0m\u001b[0mclose\u001b[0m\u001b[1;33m(\u001b[0m\u001b[1;33m)\u001b[0m\u001b[1;33m\u001b[0m\u001b[0m\n\u001b[1;32m-> 1307\u001b[1;33m     \u001b[1;32mreturn\u001b[0m \u001b[0mread_mtg\u001b[0m\u001b[1;33m(\u001b[0m\u001b[0mtxt\u001b[0m\u001b[1;33m,\u001b[0m \u001b[0mmtg\u001b[0m\u001b[1;33m=\u001b[0m\u001b[0mmtg\u001b[0m\u001b[1;33m,\u001b[0m \u001b[0mhas_date\u001b[0m\u001b[1;33m=\u001b[0m\u001b[0mhas_date\u001b[0m\u001b[1;33m)\u001b[0m\u001b[1;33m\u001b[0m\u001b[0m\n\u001b[0m\u001b[0;32m   1308\u001b[0m \u001b[1;33m\u001b[0m\u001b[0m\n\u001b[0;32m   1309\u001b[0m \u001b[1;33m\u001b[0m\u001b[0m\n",
        "\u001b[1;32mc:\\python27\\lib\\site-packages\\openalea\\mtg\\io.pyc\u001b[0m in \u001b[0;36mread_mtg\u001b[1;34m(s, mtg, has_date)\u001b[0m\n\u001b[0;32m   1290\u001b[0m     \"\"\"\n\u001b[0;32m   1291\u001b[0m     \u001b[0mreader\u001b[0m \u001b[1;33m=\u001b[0m \u001b[0mReader\u001b[0m\u001b[1;33m(\u001b[0m\u001b[0ms\u001b[0m\u001b[1;33m,\u001b[0m \u001b[0mmtg\u001b[0m\u001b[1;33m=\u001b[0m\u001b[0mmtg\u001b[0m\u001b[1;33m,\u001b[0m \u001b[0mhas_date\u001b[0m\u001b[1;33m=\u001b[0m\u001b[0mhas_date\u001b[0m\u001b[1;33m)\u001b[0m\u001b[1;33m\u001b[0m\u001b[0m\n\u001b[1;32m-> 1292\u001b[1;33m     \u001b[0mg\u001b[0m \u001b[1;33m=\u001b[0m \u001b[0mreader\u001b[0m\u001b[1;33m.\u001b[0m\u001b[0mparse\u001b[0m\u001b[1;33m(\u001b[0m\u001b[1;33m)\u001b[0m\u001b[1;33m\u001b[0m\u001b[0m\n\u001b[0m\u001b[0;32m   1293\u001b[0m     \u001b[1;32mreturn\u001b[0m \u001b[0mg\u001b[0m\u001b[1;33m\u001b[0m\u001b[0m\n\u001b[0;32m   1294\u001b[0m \u001b[1;33m\u001b[0m\u001b[0m\n",
        "\u001b[1;32mc:\\python27\\lib\\site-packages\\openalea\\mtg\\io.pyc\u001b[0m in \u001b[0;36mparse\u001b[1;34m(self)\u001b[0m\n\u001b[0;32m    918\u001b[0m         \"\"\"\n\u001b[0;32m    919\u001b[0m         \u001b[0mself\u001b[0m\u001b[1;33m.\u001b[0m\u001b[0mheader\u001b[0m\u001b[1;33m(\u001b[0m\u001b[1;33m)\u001b[0m\u001b[1;33m\u001b[0m\u001b[0m\n\u001b[1;32m--> 920\u001b[1;33m         \u001b[0mself\u001b[0m\u001b[1;33m.\u001b[0m\u001b[0mcode\u001b[0m\u001b[1;33m(\u001b[0m\u001b[1;33m)\u001b[0m\u001b[1;33m\u001b[0m\u001b[0m\n\u001b[0m\u001b[0;32m    921\u001b[0m \u001b[1;33m\u001b[0m\u001b[0m\n\u001b[0;32m    922\u001b[0m         \u001b[0mself\u001b[0m\u001b[1;33m.\u001b[0m\u001b[0merrors\u001b[0m\u001b[1;33m(\u001b[0m\u001b[1;33m)\u001b[0m\u001b[1;33m\u001b[0m\u001b[0m\n",
        "\u001b[1;32mc:\\python27\\lib\\site-packages\\openalea\\mtg\\io.pyc\u001b[0m in \u001b[0;36mcode\u001b[1;34m(self)\u001b[0m\n\u001b[0;32m   1152\u001b[0m \u001b[1;33m\u001b[0m\u001b[0m\n\u001b[0;32m   1153\u001b[0m         \u001b[0mself\u001b[0m\u001b[1;33m.\u001b[0m\u001b[0mpreprocess_code\u001b[0m\u001b[1;33m(\u001b[0m\u001b[1;33m)\u001b[0m\u001b[1;33m\u001b[0m\u001b[0m\n\u001b[1;32m-> 1154\u001b[1;33m         \u001b[0mself\u001b[0m\u001b[1;33m.\u001b[0m\u001b[0mbuild_mtg\u001b[0m\u001b[1;33m(\u001b[0m\u001b[1;33m)\u001b[0m\u001b[1;33m\u001b[0m\u001b[0m\n\u001b[0m\u001b[0;32m   1155\u001b[0m \u001b[1;33m\u001b[0m\u001b[0m\n\u001b[0;32m   1156\u001b[0m \u001b[1;33m\u001b[0m\u001b[0m\n",
        "\u001b[1;32mc:\\python27\\lib\\site-packages\\openalea\\mtg\\io.pyc\u001b[0m in \u001b[0;36mbuild_mtg\u001b[1;34m(self)\u001b[0m\n\u001b[0;32m   1266\u001b[0m         \"\"\"\n\u001b[0;32m   1267\u001b[0m         \"\"\"\n\u001b[1;32m-> 1268\u001b[1;33m         \u001b[0mself\u001b[0m\u001b[1;33m.\u001b[0m\u001b[0mmtg\u001b[0m \u001b[1;33m=\u001b[0m \u001b[0mmultiscale_edit\u001b[0m\u001b[1;33m(\u001b[0m\u001b[0mself\u001b[0m\u001b[1;33m.\u001b[0m\u001b[0m_new_code\u001b[0m\u001b[1;33m,\u001b[0m \u001b[0mself\u001b[0m\u001b[1;33m.\u001b[0m\u001b[0m_symbols\u001b[0m\u001b[1;33m,\u001b[0m \u001b[0mself\u001b[0m\u001b[1;33m.\u001b[0m\u001b[0m_features\u001b[0m\u001b[1;33m,\u001b[0m \u001b[0mself\u001b[0m\u001b[1;33m.\u001b[0m\u001b[0mhas_date\u001b[0m\u001b[1;33m,\u001b[0m \u001b[0mmtg\u001b[0m\u001b[1;33m=\u001b[0m\u001b[0mself\u001b[0m\u001b[1;33m.\u001b[0m\u001b[0mmtg\u001b[0m\u001b[1;33m)\u001b[0m\u001b[1;33m\u001b[0m\u001b[0m\n\u001b[0m\u001b[0;32m   1269\u001b[0m         \u001b[1;31m#self.mtg = multiscale_edit(self._new_code, {}, self._features)\u001b[0m\u001b[1;33m\u001b[0m\u001b[1;33m\u001b[0m\u001b[0m\n\u001b[0;32m   1270\u001b[0m \u001b[1;33m\u001b[0m\u001b[0m\n",
        "\u001b[1;32mc:\\python27\\lib\\site-packages\\openalea\\mtg\\io.pyc\u001b[0m in \u001b[0;36mmultiscale_edit\u001b[1;34m(s, symbol_at_scale, class_type, has_date, mtg)\u001b[0m\n\u001b[0;32m    240\u001b[0m         \u001b[1;32melse\u001b[0m\u001b[1;33m:\u001b[0m\u001b[1;33m\u001b[0m\u001b[0m\n\u001b[0;32m    241\u001b[0m             \u001b[1;32mif\u001b[0m \u001b[0mclass_type\u001b[0m\u001b[1;33m:\u001b[0m\u001b[1;33m\u001b[0m\u001b[0m\n\u001b[1;32m--> 242\u001b[1;33m                 \u001b[0margs\u001b[0m \u001b[1;33m=\u001b[0m \u001b[0mget_properties\u001b[0m\u001b[1;33m(\u001b[0m\u001b[0mname\u001b[0m\u001b[1;33m,\u001b[0m \u001b[0mvid\u001b[0m\u001b[1;33m=\u001b[0m\u001b[0mvid\u001b[0m\u001b[1;33m)\u001b[0m\u001b[1;33m\u001b[0m\u001b[0m\n\u001b[0m\u001b[0;32m    243\u001b[0m             \u001b[1;32melse\u001b[0m\u001b[1;33m:\u001b[0m\u001b[1;33m\u001b[0m\u001b[0m\n\u001b[0;32m    244\u001b[0m                 \u001b[0mlabel\u001b[0m \u001b[1;33m=\u001b[0m \u001b[0mget_label\u001b[0m\u001b[1;33m(\u001b[0m\u001b[0mname\u001b[0m\u001b[1;33m)\u001b[0m\u001b[1;33m\u001b[0m\u001b[0m\n",
        "\u001b[1;32mc:\\python27\\lib\\site-packages\\openalea\\mtg\\io.pyc\u001b[0m in \u001b[0;36mget_properties\u001b[1;34m(name, vid, time)\u001b[0m\n\u001b[0;32m    125\u001b[0m                 \u001b[0mln\u001b[0m \u001b[1;33m=\u001b[0m \u001b[0marg_string\u001b[0m\u001b[1;33m.\u001b[0m\u001b[0msplit\u001b[0m\u001b[1;33m(\u001b[0m\u001b[1;34m','\u001b[0m\u001b[1;33m)\u001b[0m\u001b[1;33m\u001b[0m\u001b[0m\n\u001b[0;32m    126\u001b[0m                 \u001b[1;32mfor\u001b[0m \u001b[0marg\u001b[0m \u001b[1;32min\u001b[0m \u001b[0mln\u001b[0m\u001b[1;33m:\u001b[0m\u001b[1;33m\u001b[0m\u001b[0m\n\u001b[1;32m--> 127\u001b[1;33m                     \u001b[0mk\u001b[0m\u001b[1;33m,\u001b[0m \u001b[0mv\u001b[0m \u001b[1;33m=\u001b[0m \u001b[0marg\u001b[0m\u001b[1;33m.\u001b[0m\u001b[0msplit\u001b[0m\u001b[1;33m(\u001b[0m\u001b[1;34m'='\u001b[0m\u001b[1;33m)\u001b[0m\u001b[1;33m\u001b[0m\u001b[0m\n\u001b[0m\u001b[0;32m    128\u001b[0m                     \u001b[0mklass\u001b[0m \u001b[1;33m=\u001b[0m \u001b[0m_type\u001b[0m\u001b[1;33m[\u001b[0m\u001b[0mclass_type\u001b[0m\u001b[1;33m[\u001b[0m\u001b[0mk\u001b[0m\u001b[1;33m]\u001b[0m\u001b[1;33m]\u001b[0m\u001b[1;33m\u001b[0m\u001b[0m\n\u001b[0;32m    129\u001b[0m                     \u001b[1;32mtry\u001b[0m\u001b[1;33m:\u001b[0m\u001b[1;33m\u001b[0m\u001b[0m\n",
        "\u001b[1;31mValueError\u001b[0m: need more than 1 value to unpack"
       ]
      }
     ],
     "prompt_number": 55
    },
    {
     "cell_type": "code",
     "collapsed": false,
     "input": [
      "max_scale = g.max_scale()\n",
      "labels = g.property('label')\n",
      "{labels[v] for v in labels if g.scale(v) == max_scale}"
     ],
     "language": "python",
     "metadata": {},
     "outputs": [
      {
       "metadata": {},
       "output_type": "pyout",
       "prompt_number": 25,
       "text": [
        "{'F', 'HT', 'bt', 'f', 'ht', 's'}"
       ]
      }
     ],
     "prompt_number": 25
    },
    {
     "cell_type": "markdown",
     "metadata": {},
     "source": [
      "##Essai Marc"
     ]
    },
    {
     "cell_type": "markdown",
     "metadata": {},
     "source": [
      "###Fonctions"
     ]
    },
    {
     "cell_type": "code",
     "collapsed": false,
     "input": [
      "labels= set(g.label(v) for v in g if g.label(v)!='')\n",
      "print labels"
     ],
     "language": "python",
     "metadata": {},
     "outputs": [
      {
       "output_type": "stream",
       "stream": "stdout",
       "text": [
        "set(['A', 'f', 'F', 'ht', 'bt', 'P', 's', 'T', 'HT'])\n"
       ]
      }
     ],
     "prompt_number": 16
    },
    {
     "cell_type": "code",
     "collapsed": false,
     "input": [
      "from openalea.mtg import algo\n",
      "gs = algo.split(gg)"
     ],
     "language": "python",
     "metadata": {},
     "outputs": [
      {
       "ename": "NameError",
       "evalue": "name 'gg' is not defined",
       "output_type": "pyerr",
       "traceback": [
        "\u001b[0;31m---------------------------------------------------------------------------\u001b[0m\n\u001b[0;31mNameError\u001b[0m                                 Traceback (most recent call last)",
        "\u001b[0;32m<ipython-input-17-7cda10274c0f>\u001b[0m in \u001b[0;36m<module>\u001b[0;34m()\u001b[0m\n\u001b[1;32m      1\u001b[0m \u001b[0;32mfrom\u001b[0m \u001b[0mopenalea\u001b[0m\u001b[0;34m.\u001b[0m\u001b[0mmtg\u001b[0m \u001b[0;32mimport\u001b[0m \u001b[0malgo\u001b[0m\u001b[0;34m\u001b[0m\u001b[0m\n\u001b[0;32m----> 2\u001b[0;31m \u001b[0mgs\u001b[0m \u001b[0;34m=\u001b[0m \u001b[0malgo\u001b[0m\u001b[0;34m.\u001b[0m\u001b[0msplit\u001b[0m\u001b[0;34m(\u001b[0m\u001b[0mgg\u001b[0m\u001b[0;34m)\u001b[0m\u001b[0;34m\u001b[0m\u001b[0m\n\u001b[0m",
        "\u001b[0;31mNameError\u001b[0m: name 'gg' is not defined"
       ]
      }
     ],
     "prompt_number": 17
    },
    {
     "cell_type": "code",
     "collapsed": false,
     "input": [
      "gs = algo.split(g)"
     ],
     "language": "python",
     "metadata": {},
     "outputs": [],
     "prompt_number": 37
    },
    {
     "cell_type": "code",
     "collapsed": false,
     "input": [
      "gs\n",
      "len(gs)"
     ],
     "language": "python",
     "metadata": {},
     "outputs": [
      {
       "metadata": {},
       "output_type": "pyout",
       "prompt_number": 39,
       "text": [
        "54"
       ]
      }
     ],
     "prompt_number": 39
    },
    {
     "cell_type": "code",
     "collapsed": false,
     "input": [
      "gg= MTG()"
     ],
     "language": "python",
     "metadata": {},
     "outputs": [],
     "prompt_number": 40
    },
    {
     "cell_type": "code",
     "collapsed": false,
     "input": [
      "gs = algo.split(gg)"
     ],
     "language": "python",
     "metadata": {},
     "outputs": [],
     "prompt_number": 42
    },
    {
     "cell_type": "code",
     "collapsed": false,
     "input": [],
     "language": "python",
     "metadata": {},
     "outputs": [],
     "prompt_number": 44
    },
    {
     "cell_type": "code",
     "collapsed": false,
     "input": [
      "2/5.*360"
     ],
     "language": "python",
     "metadata": {},
     "outputs": [
      {
       "metadata": {},
       "output_type": "pyout",
       "prompt_number": 28,
       "text": [
        "144.0"
       ]
      }
     ],
     "prompt_number": 28
    },
    {
     "cell_type": "code",
     "collapsed": false,
     "input": [
      "square=pgl.Polyline2D([(-0.5,-0.5), (-0.5, 0.5), (0.5, 0.5), (0.5, -0.5), (-0.5,-0.5)])\n",
      "axis = pgl.Polyline2D([(0,0), (1,3), (3,5), (4,2), (5,4)])\n",
      "stolon_obj = pgl.Extrusion(axis, square)"
     ],
     "language": "python",
     "metadata": {},
     "outputs": [
      {
       "ename": "ArgumentError",
       "evalue": "Python argument types in\n    Extrusion.__init__(Extrusion, Polyline2D, Polyline2D)\ndid not match C++ signature:\n    __init__(_object*, TOOLS::RefCountPtr<PGL::LineicModel> axis, TOOLS::RefCountPtr<PGL::Curve2D> crossSection)\n    __init__(_object*, TOOLS::RefCountPtr<PGL::LineicModel> axis, TOOLS::RefCountPtr<PGL::Curve2D> crossSection, TOOLS::RefCountPtr<PGL::Point2Array> scaleList=None)\n    __init__(_object*, TOOLS::RefCountPtr<PGL::LineicModel> axis, TOOLS::RefCountPtr<PGL::Curve2D> crossSection, TOOLS::RefCountPtr<PGL::Point2Array> scaleList=None, TOOLS::RefCountPtr<TOOLS::RealArray> orientationList=None)\n    __init__(_object*, TOOLS::RefCountPtr<PGL::LineicModel> axis, TOOLS::RefCountPtr<PGL::Curve2D> crossSection, TOOLS::RefCountPtr<PGL::Point2Array> scaleList=None, TOOLS::RefCountPtr<TOOLS::RealArray> orientationList=None, TOOLS::RefCountPtr<TOOLS::RealArray> knotList=None)\n    __init__(_object*, TOOLS::RefCountPtr<PGL::LineicModel> axis, TOOLS::RefCountPtr<PGL::Curve2D> crossSection, TOOLS::RefCountPtr<PGL::Point2Array> scaleList=None, TOOLS::RefCountPtr<TOOLS::RealArray> orientationList=None, TOOLS::RefCountPtr<TOOLS::RealArray> knotList=None, bool solid=False)\n    __init__(_object*, TOOLS::RefCountPtr<PGL::LineicModel> axis, TOOLS::RefCountPtr<PGL::Curve2D> crossSection, TOOLS::RefCountPtr<PGL::Point2Array> scaleList=None, TOOLS::RefCountPtr<TOOLS::RealArray> orientationList=None, TOOLS::RefCountPtr<TOOLS::RealArray> knotList=None, bool solid=False, bool ccw=True)\n    __init__(_object*, TOOLS::RefCountPtr<PGL::LineicModel> axis, TOOLS::RefCountPtr<PGL::Curve2D> crossSection, TOOLS::RefCountPtr<PGL::Point2Array> scaleList=None, TOOLS::RefCountPtr<TOOLS::RealArray> orientationList=None, TOOLS::RefCountPtr<TOOLS::RealArray> knotList=None, bool solid=False, bool ccw=True, TOOLS::Vector3 initialNormal=Vector3(0,0,0))",
       "output_type": "pyerr",
       "traceback": [
        "\u001b[0;31m---------------------------------------------------------------------------\u001b[0m\n\u001b[0;31mArgumentError\u001b[0m                             Traceback (most recent call last)",
        "\u001b[0;32m<ipython-input-31-799c34a26170>\u001b[0m in \u001b[0;36m<module>\u001b[0;34m()\u001b[0m\n\u001b[1;32m      1\u001b[0m \u001b[0msquare\u001b[0m\u001b[0;34m=\u001b[0m\u001b[0mpgl\u001b[0m\u001b[0;34m.\u001b[0m\u001b[0mPolyline2D\u001b[0m\u001b[0;34m(\u001b[0m\u001b[0;34m[\u001b[0m\u001b[0;34m(\u001b[0m\u001b[0;34m-\u001b[0m\u001b[0;36m0.5\u001b[0m\u001b[0;34m,\u001b[0m\u001b[0;34m-\u001b[0m\u001b[0;36m0.5\u001b[0m\u001b[0;34m)\u001b[0m\u001b[0;34m,\u001b[0m \u001b[0;34m(\u001b[0m\u001b[0;34m-\u001b[0m\u001b[0;36m0.5\u001b[0m\u001b[0;34m,\u001b[0m \u001b[0;36m0.5\u001b[0m\u001b[0;34m)\u001b[0m\u001b[0;34m,\u001b[0m \u001b[0;34m(\u001b[0m\u001b[0;36m0.5\u001b[0m\u001b[0;34m,\u001b[0m \u001b[0;36m0.5\u001b[0m\u001b[0;34m)\u001b[0m\u001b[0;34m,\u001b[0m \u001b[0;34m(\u001b[0m\u001b[0;36m0.5\u001b[0m\u001b[0;34m,\u001b[0m \u001b[0;34m-\u001b[0m\u001b[0;36m0.5\u001b[0m\u001b[0;34m)\u001b[0m\u001b[0;34m,\u001b[0m \u001b[0;34m(\u001b[0m\u001b[0;34m-\u001b[0m\u001b[0;36m0.5\u001b[0m\u001b[0;34m,\u001b[0m\u001b[0;34m-\u001b[0m\u001b[0;36m0.5\u001b[0m\u001b[0;34m)\u001b[0m\u001b[0;34m]\u001b[0m\u001b[0;34m)\u001b[0m\u001b[0;34m\u001b[0m\u001b[0m\n\u001b[1;32m      2\u001b[0m \u001b[0maxis\u001b[0m \u001b[0;34m=\u001b[0m \u001b[0mpgl\u001b[0m\u001b[0;34m.\u001b[0m\u001b[0mPolyline2D\u001b[0m\u001b[0;34m(\u001b[0m\u001b[0;34m[\u001b[0m\u001b[0;34m(\u001b[0m\u001b[0;36m0\u001b[0m\u001b[0;34m,\u001b[0m\u001b[0;36m0\u001b[0m\u001b[0;34m)\u001b[0m\u001b[0;34m,\u001b[0m \u001b[0;34m(\u001b[0m\u001b[0;36m1\u001b[0m\u001b[0;34m,\u001b[0m\u001b[0;36m3\u001b[0m\u001b[0;34m)\u001b[0m\u001b[0;34m,\u001b[0m \u001b[0;34m(\u001b[0m\u001b[0;36m3\u001b[0m\u001b[0;34m,\u001b[0m\u001b[0;36m5\u001b[0m\u001b[0;34m)\u001b[0m\u001b[0;34m,\u001b[0m \u001b[0;34m(\u001b[0m\u001b[0;36m4\u001b[0m\u001b[0;34m,\u001b[0m\u001b[0;36m2\u001b[0m\u001b[0;34m)\u001b[0m\u001b[0;34m,\u001b[0m \u001b[0;34m(\u001b[0m\u001b[0;36m5\u001b[0m\u001b[0;34m,\u001b[0m\u001b[0;36m4\u001b[0m\u001b[0;34m)\u001b[0m\u001b[0;34m]\u001b[0m\u001b[0;34m)\u001b[0m\u001b[0;34m\u001b[0m\u001b[0m\n\u001b[0;32m----> 3\u001b[0;31m \u001b[0mstolon_obj\u001b[0m \u001b[0;34m=\u001b[0m \u001b[0mpgl\u001b[0m\u001b[0;34m.\u001b[0m\u001b[0mExtrusion\u001b[0m\u001b[0;34m(\u001b[0m\u001b[0maxis\u001b[0m\u001b[0;34m,\u001b[0m \u001b[0msquare\u001b[0m\u001b[0;34m)\u001b[0m\u001b[0;34m\u001b[0m\u001b[0m\n\u001b[0m",
        "\u001b[0;31mArgumentError\u001b[0m: Python argument types in\n    Extrusion.__init__(Extrusion, Polyline2D, Polyline2D)\ndid not match C++ signature:\n    __init__(_object*, TOOLS::RefCountPtr<PGL::LineicModel> axis, TOOLS::RefCountPtr<PGL::Curve2D> crossSection)\n    __init__(_object*, TOOLS::RefCountPtr<PGL::LineicModel> axis, TOOLS::RefCountPtr<PGL::Curve2D> crossSection, TOOLS::RefCountPtr<PGL::Point2Array> scaleList=None)\n    __init__(_object*, TOOLS::RefCountPtr<PGL::LineicModel> axis, TOOLS::RefCountPtr<PGL::Curve2D> crossSection, TOOLS::RefCountPtr<PGL::Point2Array> scaleList=None, TOOLS::RefCountPtr<TOOLS::RealArray> orientationList=None)\n    __init__(_object*, TOOLS::RefCountPtr<PGL::LineicModel> axis, TOOLS::RefCountPtr<PGL::Curve2D> crossSection, TOOLS::RefCountPtr<PGL::Point2Array> scaleList=None, TOOLS::RefCountPtr<TOOLS::RealArray> orientationList=None, TOOLS::RefCountPtr<TOOLS::RealArray> knotList=None)\n    __init__(_object*, TOOLS::RefCountPtr<PGL::LineicModel> axis, TOOLS::RefCountPtr<PGL::Curve2D> crossSection, TOOLS::RefCountPtr<PGL::Point2Array> scaleList=None, TOOLS::RefCountPtr<TOOLS::RealArray> orientationList=None, TOOLS::RefCountPtr<TOOLS::RealArray> knotList=None, bool solid=False)\n    __init__(_object*, TOOLS::RefCountPtr<PGL::LineicModel> axis, TOOLS::RefCountPtr<PGL::Curve2D> crossSection, TOOLS::RefCountPtr<PGL::Point2Array> scaleList=None, TOOLS::RefCountPtr<TOOLS::RealArray> orientationList=None, TOOLS::RefCountPtr<TOOLS::RealArray> knotList=None, bool solid=False, bool ccw=True)\n    __init__(_object*, TOOLS::RefCountPtr<PGL::LineicModel> axis, TOOLS::RefCountPtr<PGL::Curve2D> crossSection, TOOLS::RefCountPtr<PGL::Point2Array> scaleList=None, TOOLS::RefCountPtr<TOOLS::RealArray> orientationList=None, TOOLS::RefCountPtr<TOOLS::RealArray> knotList=None, bool solid=False, bool ccw=True, TOOLS::Vector3 initialNormal=Vector3(0,0,0))"
       ]
      }
     ],
     "prompt_number": 31
    },
    {
     "cell_type": "code",
     "collapsed": false,
     "input": [
      "stolon_obj = turtle.Extrusion"
     ],
     "language": "python",
     "metadata": {},
     "outputs": []
    },
    {
     "cell_type": "code",
     "collapsed": false,
     "input": [
      "pgl.Viewer.display(stolon)"
     ],
     "language": "python",
     "metadata": {},
     "outputs": [],
     "prompt_number": 25
    },
    {
     "cell_type": "code",
     "collapsed": false,
     "input": [
      "t = pgl.PglTurtle()\n",
      "t.oLineTo?"
     ],
     "language": "python",
     "metadata": {},
     "outputs": [],
     "prompt_number": 52
    },
    {
     "cell_type": "code",
     "collapsed": false,
     "input": [
      "crv = stolon_curve()\n",
      "isinstance(crv, pgl.LineicModel)"
     ],
     "language": "python",
     "metadata": {},
     "outputs": [
      {
       "metadata": {},
       "output_type": "pyout",
       "prompt_number": 37,
       "text": [
        "False"
       ]
      }
     ],
     "prompt_number": 37
    },
    {
     "cell_type": "code",
     "collapsed": false,
     "input": [
      "ctrls = pgl.Point3Array([v2(x*0.1, y*0.1) for x,y in [(0,0), (1,3), (3,5), (4,2), (5,4)]])\n",
      "ctrls"
     ],
     "language": "python",
     "metadata": {},
     "outputs": [
      {
       "metadata": {},
       "output_type": "pyout",
       "prompt_number": 57,
       "text": [
        "Point3Array([Vector3(0,0,0),Vector3(0.1,0.3,0),Vector3(0.3,0.5,0),Vector3(0.4,0.2,0),Vector3(0.5,0.4,0)])"
       ]
      }
     ],
     "prompt_number": 57
    },
    {
     "cell_type": "code",
     "collapsed": false,
     "input": [
      "pgl.Viewer.start()"
     ],
     "language": "python",
     "metadata": {},
     "outputs": [],
     "prompt_number": 21
    },
    {
     "cell_type": "code",
     "collapsed": false,
     "input": [
      "set(g.node(v).Stade for v in g if g.label(v) =='HT')"
     ],
     "language": "python",
     "metadata": {},
     "outputs": [
      {
       "metadata": {},
       "output_type": "pyout",
       "prompt_number": 44,
       "text": [
        "{'55',\n",
        " '57',\n",
        " '58',\n",
        " '60',\n",
        " '63',\n",
        " '65',\n",
        " '67',\n",
        " '71',\n",
        " '73',\n",
        " '77',\n",
        " '81',\n",
        " '81 demicoup\\xc3\\xa9',\n",
        " '82',\n",
        " '83',\n",
        " '87',\n",
        " '87 morte',\n",
        " 'Coup\\xc3\\xa9',\n",
        " 'H',\n",
        " 'I',\n",
        " 'avort\\xc3\\xa9',\n",
        " 'coup\\xc3\\xa9',\n",
        " 'coup\\xc3\\xa9 \\xc3\\xa0 moiti\\xc3\\xa9'}"
       ]
      }
     ],
     "prompt_number": 44
    },
    {
     "cell_type": "code",
     "collapsed": false,
     "input": [
      "dict(zip('BCDEFGHI', range(1, len('BCDEFGHI')+1)))"
     ],
     "language": "python",
     "metadata": {},
     "outputs": [
      {
       "metadata": {},
       "output_type": "pyout",
       "prompt_number": 27,
       "text": [
        "{'B': 1, 'C': 2, 'D': 3, 'E': 4, 'F': 5, 'G': 6, 'H': 7, 'I': 8}"
       ]
      }
     ],
     "prompt_number": 27
    },
    {
     "cell_type": "code",
     "collapsed": false,
     "input": [
      "255/2."
     ],
     "language": "python",
     "metadata": {},
     "outputs": [
      {
       "metadata": {},
       "output_type": "pyout",
       "prompt_number": 28,
       "text": [
        "127.5"
       ]
      }
     ],
     "prompt_number": 28
    },
    {
     "cell_type": "code",
     "collapsed": false,
     "input": [
      "127 +127/8*(8)"
     ],
     "language": "python",
     "metadata": {},
     "outputs": [
      {
       "metadata": {},
       "output_type": "pyout",
       "prompt_number": 34,
       "text": [
        "271"
       ]
      }
     ],
     "prompt_number": 34
    },
    {
     "cell_type": "code",
     "collapsed": false,
     "input": [
      "color_code(g)"
     ],
     "language": "python",
     "metadata": {},
     "outputs": [],
     "prompt_number": 51
    },
    {
     "cell_type": "code",
     "collapsed": false,
     "input": [
      "g.property('Fleurs_total')"
     ],
     "language": "python",
     "metadata": {},
     "outputs": [
      {
       "metadata": {},
       "output_type": "pyout",
       "prompt_number": 98,
       "text": [
        "{1196: 14,\n",
        " 1331: 17,\n",
        " 1483: 16,\n",
        " 1671: 7,\n",
        " 1826: 12,\n",
        " 1957: 11,\n",
        " 1996: 7,\n",
        " 1997: 11,\n",
        " 2062: 14,\n",
        " 2103: 9,\n",
        " 2204: 16,\n",
        " 2233: 9,\n",
        " 2301: 8,\n",
        " 2302: 19,\n",
        " 2445: 10,\n",
        " 2446: 18,\n",
        " 2494: 10,\n",
        " 2542: 14,\n",
        " 2604: 17,\n",
        " 2638: 6,\n",
        " 2750: 9,\n",
        " 2751: 17,\n",
        " 2812: 7,\n",
        " 2813: 16,\n",
        " 2843: 7,\n",
        " 2844: 10,\n",
        " 2925: 13,\n",
        " 3026: 5,\n",
        " 3027: 13,\n",
        " 3074: 7,\n",
        " 3075: 14,\n",
        " 3144: 9,\n",
        " 3145: 19,\n",
        " 3192: 6,\n",
        " 3193: 8,\n",
        " 3222: 8,\n",
        " 3265: 5,\n",
        " 3289: 5,\n",
        " 3290: 9,\n",
        " 3347: 7,\n",
        " 3348: 18,\n",
        " 3401: 6,\n",
        " 3402: 14,\n",
        " 3478: 8,\n",
        " 3479: 19,\n",
        " 3534: 5,\n",
        " 3556: 7,\n",
        " 3612: 6,\n",
        " 3613: 10,\n",
        " 3644: 6,\n",
        " 3670: 3,\n",
        " 3725: 6,\n",
        " 3726: 16,\n",
        " 3786: 6,\n",
        " 3814: 4,\n",
        " 3815: 16,\n",
        " 3873: 8,\n",
        " 3908: 8,\n",
        " 3909: 21,\n",
        " 3937: 7,\n",
        " 4012: 10,\n",
        " 4016: 28,\n",
        " 4052: 4,\n",
        " 4053: 9,\n",
        " 4131: 5,\n",
        " 4132: 13,\n",
        " 4160: 4,\n",
        " 4161: 4,\n",
        " 4225: 5,\n",
        " 4319: 7,\n",
        " 4320: 18,\n",
        " 4395: 4,\n",
        " 4396: 10,\n",
        " 4483: 9,\n",
        " 4484: 17,\n",
        " 4539: 8,\n",
        " 4540: 17,\n",
        " 4590: 7,\n",
        " 4591: 11,\n",
        " 4629: 5,\n",
        " 4630: 6,\n",
        " 4631: 11,\n",
        " 4702: 4,\n",
        " 4703: 7,\n",
        " 4707: 22,\n",
        " 4762: 7,\n",
        " 4797: 6,\n",
        " 4798: 7,\n",
        " 4799: 18,\n",
        " 4839: 5,\n",
        " 4840: 8,\n",
        " 4876: 7,\n",
        " 4936: 6,\n",
        " 4937: 6,\n",
        " 4938: 15,\n",
        " 5018: 6,\n",
        " 5019: 8,\n",
        " 5020: 11,\n",
        " 5089: 8,\n",
        " 5090: 18,\n",
        " 5163: 7,\n",
        " 5164: 8,\n",
        " 5207: 6,\n",
        " 5208: 6,\n",
        " 5209: 13,\n",
        " 5210: 12,\n",
        " 5243: 6,\n",
        " 5293: 9,\n",
        " 5327: 8,\n",
        " 5363: 0,\n",
        " 5364: 6,\n",
        " 5416: 8,\n",
        " 5448: 12,\n",
        " 5449: 23,\n",
        " 5474: 10,\n",
        " 5513: 10,\n",
        " 5514: 15,\n",
        " 5575: 5,\n",
        " 5576: 7,\n",
        " 5611: 5,\n",
        " 5664: 8,\n",
        " 5665: 5,\n",
        " 5666: 15,\n",
        " 5772: 12,\n",
        " 5799: 9,\n",
        " 5800: 9,\n",
        " 5801: 11,\n",
        " 5854: 7,\n",
        " 5898: 4,\n",
        " 5899: 6,\n",
        " 5900: 14,\n",
        " 5944: 7,\n",
        " 5945: 6,\n",
        " 5970: 10,\n",
        " 5971: 9,\n",
        " 6020: 8,\n",
        " 6073: 5,\n",
        " 6074: 15,\n",
        " 6075: 8,\n",
        " 6076: 20,\n",
        " 6156: 6,\n",
        " 6157: 8,\n",
        " 6158: 8,\n",
        " 6196: 6,\n",
        " 6197: 8,\n",
        " 6238: 6,\n",
        " 6239: 8,\n",
        " 6269: 6,\n",
        " 6270: 7,\n",
        " 6271: 8,\n",
        " 6272: 13}"
       ]
      }
     ],
     "prompt_number": 98
    },
    {
     "cell_type": "code",
     "collapsed": false,
     "input": [
      "g[441]"
     ],
     "language": "python",
     "metadata": {},
     "outputs": [
      {
       "metadata": {},
       "output_type": "pyout",
       "prompt_number": 65,
       "text": [
        "{'Stade': '19',\n",
        " '_line': 494,\n",
        " 'color': (0, 20, 0),\n",
        " 'complex': 438,\n",
        " 'edge_type': '<',\n",
        " 'index': 441,\n",
        " 'label': 'bt',\n",
        " 'order': 2,\n",
        " 'parent': 440,\n",
        " 'scale': 3,\n",
        " 'vid': 441}"
       ]
      }
     ],
     "prompt_number": 65
    },
    {
     "cell_type": "code",
     "collapsed": false,
     "input": [],
     "language": "python",
     "metadata": {},
     "outputs": [],
     "prompt_number": 24
    },
    {
     "cell_type": "code",
     "collapsed": false,
     "input": [
      "turtle.traverse_with_turtle??"
     ],
     "language": "python",
     "metadata": {},
     "outputs": [],
     "prompt_number": 24
    },
    {
     "cell_type": "code",
     "collapsed": false,
     "input": [
      "g[3818]"
     ],
     "language": "python",
     "metadata": {},
     "outputs": [
      {
       "metadata": {},
       "output_type": "pyout",
       "prompt_number": 54,
       "text": [
        "{'_line': 3904,\n",
        " 'color': (0, 125, 0),\n",
        " 'complex': 3817,\n",
        " 'index': 3818,\n",
        " 'label': 'F',\n",
        " 'order': 0,\n",
        " 'parent': None,\n",
        " 'scale': 3,\n",
        " 'vid': 3818}"
       ]
      }
     ],
     "prompt_number": 54
    },
    {
     "cell_type": "code",
     "collapsed": false,
     "input": [],
     "language": "python",
     "metadata": {},
     "outputs": []
    }
   ],
   "metadata": {}
  }
 ]
}