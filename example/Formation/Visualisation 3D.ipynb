{
 "cells": [
  {
   "cell_type": "code",
   "execution_count": 2,
   "metadata": {},
   "outputs": [],
   "source": [
    "from collections import OrderedDict, defaultdict\n",
    "import pandas as pd\n",
    "from openalea.deploy.shared_data import shared_data\n",
    "from openalea.mtg import *\n",
    "from openalea.mtg.algo import orders\n",
    "from openalea.mtg import stat\n",
    "import openalea.plantgl.all as pgl\n",
    "from openalea.core import path\n",
    "from openalea.mtg import *\n",
    "from openalea.deploy.shared_data import shared_data\n",
    "import glob\n",
    "import openalea.strawberry\n",
    "from openalea.strawberry import Rules_production\n",
    "from openalea.strawberry import Visualization, visualisation2d\n",
    "from openalea.strawberry import analysis, variables"
   ]
  },
  {
   "cell_type": "markdown",
   "metadata": {},
   "source": []
  },
  {
   "cell_type": "code",
   "execution_count": 3,
   "metadata": {},
   "outputs": [
    {
     "name": "stdout",
     "output_type": "stream",
     "text": [
      "{u'friendlyfruit': Path(u'c:\\\\users\\\\mlabadie\\\\miniconda2\\\\envs\\\\openalea\\\\lib\\\\site-packages\\\\openalea.strawberry-1.0.0-py2.7.egg\\\\share\\\\data\\\\friendlyfruit.mtg'), u'friendlyfruit_varieties': Path(u'c:\\\\users\\\\mlabadie\\\\miniconda2\\\\envs\\\\openalea\\\\lib\\\\site-packages\\\\openalea.strawberry-1.0.0-py2.7.egg\\\\share\\\\data\\\\friendlyfruit_varieties.mtg'), u'Ciflorette': Path(u'c:\\\\users\\\\mlabadie\\\\miniconda2\\\\envs\\\\openalea\\\\lib\\\\site-packages\\\\openalea.strawberry-1.0.0-py2.7.egg\\\\share\\\\data\\\\Ciflorette.mtg'), u'Darselect': Path(u'c:\\\\users\\\\mlabadie\\\\miniconda2\\\\envs\\\\openalea\\\\lib\\\\site-packages\\\\openalea.strawberry-1.0.0-py2.7.egg\\\\share\\\\data\\\\Darselect.mtg'), u'Gariguette': Path(u'c:\\\\users\\\\mlabadie\\\\miniconda2\\\\envs\\\\openalea\\\\lib\\\\site-packages\\\\openalea.strawberry-1.0.0-py2.7.egg\\\\share\\\\data\\\\Gariguette.mtg'), u'Capriss': Path(u'c:\\\\users\\\\mlabadie\\\\miniconda2\\\\envs\\\\openalea\\\\lib\\\\site-packages\\\\openalea.strawberry-1.0.0-py2.7.egg\\\\share\\\\data\\\\Capriss.mtg'), u'Clery': Path(u'c:\\\\users\\\\mlabadie\\\\miniconda2\\\\envs\\\\openalea\\\\lib\\\\site-packages\\\\openalea.strawberry-1.0.0-py2.7.egg\\\\share\\\\data\\\\Clery.mtg'), u'Cir107': Path(u'c:\\\\users\\\\mlabadie\\\\miniconda2\\\\envs\\\\openalea\\\\lib\\\\site-packages\\\\openalea.strawberry-1.0.0-py2.7.egg\\\\share\\\\data\\\\Cir107.mtg')}\n"
     ]
    }
   ],
   "source": [
    "%gui qt4\n",
    "\n",
    "files = shared_data(openalea.strawberry).glob('*.mtg')\n",
    "# print files\n",
    "\n",
    "genotypes = dict((f.namebase, f) for f in files)\n",
    "#print(genotypes.keys())\n",
    "\n",
    "DIPLOIDS = ['Sicile','Nils']\n",
    "OCTOPLOIDS = ['Gariguette','Darselect','Clery','Capriss','Cir107','Ciflorette','friendlyfruit', 'friendlyfruit_varieties']\n",
    "\n",
    "diploids = dict((k,f) for k,f in genotypes.items() if k in DIPLOIDS)\n",
    "# print(diploids)\n",
    "\n",
    "octoploids = dict((k,f) for k,f in genotypes.items() if k in OCTOPLOIDS)\n",
    "print(octoploids)"
   ]
  },
  {
   "cell_type": "markdown",
   "metadata": {},
   "source": [
    "# Premiere représentation, projet friendly fruit\n",
    "visualisé l'ensemble des plants architecturé en fonction de la modalité (Genotype)"
   ]
  },
  {
   "cell_type": "code",
   "execution_count": 4,
   "metadata": {},
   "outputs": [
    {
     "name": "stdout",
     "output_type": "stream",
     "text": [
      "('Octoploid  : ', 'MTG : nb_vertices=5318, nb_scales=4')\n"
     ]
    }
   ],
   "source": [
    "#OCTOPLOIDS = ['Gariguette_NEW','Darselect_New','Clery_New','Capriss_New''Cir107_NEW','Ciflorette_New']\n",
    "#DIPLOIDS = ['Sicile_New','Nils_New.mtg']\n",
    "\n",
    "di_genotype = 'Sicile'\n",
    "oct_genotype = 'friendlyfruit_varieties'\n",
    "\n",
    "# gdi = MTG(diploids[di_genotype])\n",
    "# print('Diploid  : ', str(gdi))\n",
    "\n",
    "goct = MTG(octoploids[oct_genotype])\n",
    "print('Octoploid  : ', str(goct))"
   ]
  },
  {
   "cell_type": "code",
   "execution_count": 5,
   "metadata": {},
   "outputs": [],
   "source": [
    "g=goct"
   ]
  },
  {
   "cell_type": "code",
   "execution_count": null,
   "metadata": {},
   "outputs": [],
   "source": [
    "g.properties()['order'] = orders(g)\n",
    "Rules_production.color_code(g)\n",
    "scene = Visualization.visualise_plants(g,no_plant=6)\n",
    "\n",
    "pgl.Viewer.display(scene)"
   ]
  },
  {
   "cell_type": "markdown",
   "metadata": {},
   "source": [
    "- **Attention j'ai rajouter no_plant (nombre de plant par modalité) pour faire a peu près ce que je voulais cependant cela implique q'il faut le meme nombre de plant par modalité\n",
    "- dans cette fonction j'aimerai rajouter un argument qui me permet directement en relancant la fonction de faire apparaitre ou disparaitre les feuilles"
   ]
  },
  {
   "cell_type": "markdown",
   "metadata": {},
   "source": [
    "# Projet fraflo\n",
    "dans ce cas ci j'aimerai visualisé l'ensemble des plant architecture en fonction de la date"
   ]
  },
  {
   "cell_type": "code",
   "execution_count": 7,
   "metadata": {},
   "outputs": [
    {
     "name": "stdout",
     "output_type": "stream",
     "text": [
      "('Octoploid  : ', 'MTG : nb_vertices=6519, nb_scales=4')\n"
     ]
    }
   ],
   "source": [
    "#OCTOPLOIDS = ['Gariguette_NEW','Darselect_New','Clery_New','Capriss_New''Cir107_NEW','Ciflorette_New']\n",
    "#DIPLOIDS = ['Sicile_New','Nils_New.mtg']\n",
    "\n",
    "di_genotype = 'Sicile'\n",
    "oct_genotype = 'Gariguette'\n",
    "\n",
    "# gdi = MTG(diploids[di_genotype])\n",
    "# print('Diploid  : ', str(gdi))\n",
    "\n",
    "goct = MTG(octoploids[oct_genotype])\n",
    "print('Octoploid  : ', str(goct))"
   ]
  },
  {
   "cell_type": "code",
   "execution_count": 8,
   "metadata": {},
   "outputs": [],
   "source": [
    "g=goct"
   ]
  },
  {
   "cell_type": "code",
   "execution_count": 10,
   "metadata": {},
   "outputs": [],
   "source": [
    "g.properties()['order'] = orders(g)\n",
    "Rules_production.color_code(g)\n",
    "scene = Visualization.visualise_plants(g,no_plant=9)\n",
    "\n",
    "pgl.Viewer.display(scene)"
   ]
  },
  {
   "cell_type": "markdown",
   "metadata": {},
   "source": [
    "**Idem que précedement**: cependant ici je voudrais que les plants la modalité corresponde au date"
   ]
  },
  {
   "cell_type": "markdown",
   "metadata": {},
   "source": [
    "## Combinaison de deux modalités\n",
    "Modalité 1 = Genotype\n",
    "Modalité 2 = Date\n",
    "Dans ce cas ci j'aimerai qu'il y ai un ecart entre chaque modalité 1"
   ]
  },
  {
   "cell_type": "code",
   "execution_count": 14,
   "metadata": {},
   "outputs": [
    {
     "name": "stdout",
     "output_type": "stream",
     "text": [
      "set(['Ciflorette', 'Darselect', 'Gariguette', 'AH502', 'BH514', 'Capriss', 'BH516', 'Clery', 'BH518', 'Cir107'])\n"
     ]
    }
   ],
   "source": [
    "big_mtg = MTG()\n",
    "for fn in OCTOPLOIDS:\n",
    "    big_mtg = algo.union(big_mtg,MTG(octoploids[fn]))\n",
    "\n",
    "g_octo = big_mtg\n",
    "    \n",
    "genotypes = set(g_octo.property(\"Genotype\").values())\n",
    "print genotypes"
   ]
  },
  {
   "cell_type": "code",
   "execution_count": 16,
   "metadata": {},
   "outputs": [],
   "source": [
    "g=g_octo"
   ]
  },
  {
   "cell_type": "code",
   "execution_count": 17,
   "metadata": {},
   "outputs": [
    {
     "name": "stderr",
     "output_type": "stream",
     "text": [
      "c:\\users\\mlabadie\\miniconda2\\envs\\openalea\\lib\\site-packages\\openalea.strawberry-1.0.0-py2.7.egg\\openalea\\strawberry\\Rules_production.py:112: Warning: Invalid Color value 13 in setColor (maximum is 6)\n",
      "  t.setColor(8+order)\n",
      "c:\\users\\mlabadie\\miniconda2\\envs\\openalea\\lib\\site-packages\\openalea.strawberry-1.0.0-py2.7.egg\\openalea\\strawberry\\Rules_production.py:112: Warning: Invalid Color value 14 in setColor (maximum is 6)\n",
      "  t.setColor(8+order)\n",
      "c:\\users\\mlabadie\\miniconda2\\envs\\openalea\\lib\\site-packages\\openalea.strawberry-1.0.0-py2.7.egg\\openalea\\strawberry\\Rules_production.py:64: Warning: Invalid Color value 13 in setColor (maximum is 6)\n",
      "  t.setColor(6+order)\n",
      "c:\\users\\mlabadie\\miniconda2\\envs\\openalea\\lib\\site-packages\\openalea.strawberry-1.0.0-py2.7.egg\\openalea\\strawberry\\Rules_production.py:112: Warning: Invalid Color value 15 in setColor (maximum is 6)\n",
      "  t.setColor(8+order)\n",
      "c:\\users\\mlabadie\\miniconda2\\envs\\openalea\\lib\\site-packages\\openalea.strawberry-1.0.0-py2.7.egg\\openalea\\strawberry\\Rules_production.py:127: Warning: Invalid Color value 9 in setColor (maximum is 6)\n",
      "  t.setColor(2+order)\n"
     ]
    }
   ],
   "source": [
    "g.properties()['order'] = orders(g)\n",
    "Rules_production.color_code(g)\n",
    "scene = Visualization.visualise_plants(g,no_plant=9)\n",
    "\n",
    "pgl.Viewer.display(scene)"
   ]
  },
  {
   "cell_type": "code",
   "execution_count": null,
   "metadata": {},
   "outputs": [],
   "source": []
  }
 ],
 "metadata": {
  "kernelspec": {
   "display_name": "Python 2",
   "language": "python",
   "name": "python2"
  },
  "language_info": {
   "codemirror_mode": {
    "name": "ipython",
    "version": 2
   },
   "file_extension": ".py",
   "mimetype": "text/x-python",
   "name": "python",
   "nbconvert_exporter": "python",
   "pygments_lexer": "ipython2",
   "version": "2.7.15"
  }
 },
 "nbformat": 4,
 "nbformat_minor": 2
}
